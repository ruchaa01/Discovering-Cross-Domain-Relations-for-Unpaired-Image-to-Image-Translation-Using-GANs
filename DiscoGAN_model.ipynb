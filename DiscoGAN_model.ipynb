{
 "cells": [
  {
   "cell_type": "code",
   "execution_count": 1,
   "metadata": {
    "colab": {
     "base_uri": "https://localhost:8080/",
     "height": 67
    },
    "colab_type": "code",
    "collapsed": false,
    "id": "glfxqTuXw-SS",
    "outputId": "c623e002-89d9-4b0e-993e-cf8d8ca00f35"
   },
   "outputs": [
    {
     "name": "stdout",
     "output_type": "stream",
     "text": [
      "PyTorch Version:  1.4.0\n",
      "Torchvision Version:  0.5.0\n",
      "Using the GPU!\n"
     ]
    }
   ],
   "source": [
    "import pickle\n",
    "import numpy as np\n",
    "import matplotlib.pyplot as plt\n",
    "import os\n",
    "import copy\n",
    "from tqdm import tqdm_notebook as tqdm\n",
    "\n",
    "import torch\n",
    "import torchvision\n",
    "from torchvision import datasets, models, transforms\n",
    "import torch.nn as nn\n",
    "import torch.optim as optim\n",
    "\n",
    "\n",
    "import argparse\n",
    "from itertools import chain\n",
    "import torch.nn.functional as F\n",
    "from torch.autograd import Variable\n",
    "\n",
    "import imageio\n",
    "import scipy\n",
    "from progressbar import ETA, Bar, Percentage, ProgressBar\n",
    "\n",
    "import cv2\n",
    "import numpy as np\n",
    "import pandas as pd\n",
    "# from scipy.misc import imresize\n",
    "import scipy.io\n",
    "\n",
    "print(\"PyTorch Version: \",torch.__version__)\n",
    "print(\"Torchvision Version: \",torchvision.__version__)\n",
    "# Detect if we have a GPU available\n",
    "device = torch.device(\"cuda:0\" if torch.cuda.is_available() else \"cpu\")\n",
    "if torch.cuda.is_available():\n",
    "    print(\"Using the GPU!\")\n",
    "else:\n",
    "    print(\"WARNING: Could not find GPU! Using CPU only. If you want to enable GPU, please to go Edit > Notebook Settings > Hardware Accelerator and select GPU.\")"
   ]
  },
  {
   "cell_type": "code",
   "execution_count": 2,
   "metadata": {
    "colab": {},
    "colab_type": "code",
    "collapsed": false,
    "id": "XXHYZf-dxPrH"
   },
   "outputs": [
    {
     "ename": "ModuleNotFoundError",
     "evalue": "No module named 'google'",
     "output_type": "error",
     "traceback": [
      "\u001b[1;31m---------------------------------------------------------------------------\u001b[0m",
      "\u001b[1;31mModuleNotFoundError\u001b[0m                       Traceback (most recent call last)",
      "\u001b[1;32m<ipython-input-2-46bfc6cf1da1>\u001b[0m in \u001b[0;36m<module>\u001b[1;34m\u001b[0m\n\u001b[1;32m----> 1\u001b[1;33m \u001b[1;32mfrom\u001b[0m \u001b[0mgoogle\u001b[0m\u001b[1;33m.\u001b[0m\u001b[0mcolab\u001b[0m \u001b[1;32mimport\u001b[0m \u001b[0mdrive\u001b[0m\u001b[1;33m\u001b[0m\u001b[1;33m\u001b[0m\u001b[0m\n\u001b[0m\u001b[0;32m      2\u001b[0m \u001b[0mdrive\u001b[0m\u001b[1;33m.\u001b[0m\u001b[0mmount\u001b[0m\u001b[1;33m(\u001b[0m\u001b[1;34m'/content/gdrive'\u001b[0m\u001b[1;33m)\u001b[0m\u001b[1;33m\u001b[0m\u001b[1;33m\u001b[0m\u001b[0m\n\u001b[0;32m      3\u001b[0m \u001b[1;33m\u001b[0m\u001b[0m\n\u001b[0;32m      4\u001b[0m \u001b[1;31m# !ls /content/gdrive/Shared\\ drives/CV\\ Project\\ Datasets/\u001b[0m\u001b[1;33m\u001b[0m\u001b[1;33m\u001b[0m\u001b[1;33m\u001b[0m\u001b[0m\n\u001b[0;32m      5\u001b[0m \u001b[0mget_ipython\u001b[0m\u001b[1;33m(\u001b[0m\u001b[1;33m)\u001b[0m\u001b[1;33m.\u001b[0m\u001b[0msystem\u001b[0m\u001b[1;33m(\u001b[0m\u001b[1;34m'unzip -j /content/gdrive/Shared\\\\ drives/CV\\\\ Project\\\\ Datasets/img_align_celeba.zip -d /content/DiscoGAN/datasets/celebA'\u001b[0m\u001b[1;33m)\u001b[0m\u001b[1;33m\u001b[0m\u001b[1;33m\u001b[0m\u001b[0m\n",
      "\u001b[1;31mModuleNotFoundError\u001b[0m: No module named 'google'"
     ]
    }
   ],
   "source": [
    "from google.colab import drive \n",
    "drive.mount('/content/gdrive')\n",
    "\n",
    "# !ls /content/gdrive/Shared\\ drives/CV\\ Project\\ Datasets/\n",
    "!unzip -j /content/gdrive/Shared\\ drives/CV\\ Project\\ Datasets/img_align_celeba.zip -d /content/DiscoGAN/datasets/celebA\n",
    "!wget https://raw.githubusercontent.com/andrewliao11/CoGAN-tensorflow/master/list_attr_celeba.txt -P \"/content/DiscoGAN/datasets/celebA\"\n",
    "\n",
    "%cd /content/DiscoGAN/"
   ]
  },
  {
   "cell_type": "code",
   "execution_count": 17,
   "metadata": {
    "colab": {},
    "colab_type": "code",
    "collapsed": false,
    "id": "phBE-Mqcxf4a",
    "outputId": "653e9bdf-3e0d-4074-ac32-8fa227a221d8"
   },
   "outputs": [
    {
     "name": "stdout",
     "output_type": "stream",
     "text": [
      "datasets/celebA\n"
     ]
    }
   ],
   "source": [
    "#dataset_path = './datasets/'\n",
    "dataset_path = 'datasets/'\n",
    "celebA_path = os.path.join(dataset_path, 'celebA')\n",
    "print(celebA_path)\n",
    "\n",
    "def read_attr_file( attr_path, image_dir ):\n",
    "    f = open( attr_path )\n",
    "    lines = f.readlines()\n",
    "    lines = list(map(lambda line: line.strip(), lines))\n",
    "    columns = ['image_path'] + lines[1].split()\n",
    "    lines = lines[2:]\n",
    "\n",
    "    items = map(lambda line: line.split(), lines)\n",
    "    df = pd.DataFrame( items, columns=columns )\n",
    "    df['image_path'] = df['image_path'].map( lambda x: os.path.join( image_dir, x ) )\n",
    "\n",
    "    return df"
   ]
  },
  {
   "cell_type": "code",
   "execution_count": 3,
   "metadata": {
    "colab": {},
    "colab_type": "code",
    "collapsed": true,
    "id": "PJR5MOXeyr26"
   },
   "outputs": [],
   "source": [
    "def read_images( filenames, domain=None, image_size=64):\n",
    "\n",
    "    images = []\n",
    "    for fn in filenames:\n",
    "        image = cv2.imread(fn)\n",
    "        if image is None:\n",
    "            continue\n",
    "        image = cv2.resize(image, (image_size,image_size))\n",
    "        # image = image.astype(np.float16) / 255.\n",
    "        image = image.astype(np.float32) / 255.\n",
    "        image = image.transpose(2,0,1)\n",
    "        images.append( image )\n",
    "\n",
    "    images = np.stack( images )\n",
    "    return images"
   ]
  },
  {
   "cell_type": "code",
   "execution_count": 4,
   "metadata": {
    "colab": {},
    "colab_type": "code",
    "collapsed": true,
    "id": "5-Q6aF_oyuQ6"
   },
   "outputs": [],
   "source": [
    "def shuffle_data(da, db):\n",
    "    a_idx = range(len(da))\n",
    "    np.random.shuffle(list(a_idx))\n",
    "\n",
    "    b_idx = range(len(db))\n",
    "    np.random.shuffle(list(b_idx))\n",
    "\n",
    "    shuffled_da = np.array(da)[ np.array(a_idx) ]\n",
    "    shuffled_db = np.array(db)[ np.array(b_idx) ]\n",
    "\n",
    "    return shuffled_da, shuffled_db\n"
   ]
  },
  {
   "cell_type": "code",
   "execution_count": 5,
   "metadata": {
    "colab": {},
    "colab_type": "code",
    "collapsed": true,
    "id": "QpqcV6nmywgs"
   },
   "outputs": [],
   "source": [
    "def as_np(data):\n",
    "    return data.cpu().data.numpy()"
   ]
  },
  {
   "cell_type": "code",
   "execution_count": 6,
   "metadata": {
    "colab": {},
    "colab_type": "code",
    "collapsed": true,
    "id": "Bc18fsA9yyvn"
   },
   "outputs": [],
   "source": [
    "def read_attr_file( attr_path, image_dir ):\n",
    "    print(attr_path)\n",
    "    print(image_dir)\n",
    "    f = open( attr_path )\n",
    "    lines = f.readlines()\n",
    "    lines = list(map(lambda line: line.strip(), lines))\n",
    "    columns = ['image_path'] + lines[1].split()\n",
    "    lines = lines[2:]\n",
    "\n",
    "    items = map(lambda line: line.split(), lines)\n",
    "    df = pd.DataFrame( items, columns=columns )\n",
    "    df['image_path'] = df['image_path'].map( lambda x: os.path.join( image_dir, x ) )\n",
    "\n",
    "    return df"
   ]
  },
  {
   "cell_type": "code",
   "execution_count": 7,
   "metadata": {
    "colab": {},
    "colab_type": "code",
    "collapsed": true,
    "id": "vZbOkO9oy02u"
   },
   "outputs": [],
   "source": [
    "def get_celebA_files(style_A, style_B, constraint, constraint_type, test=False, n_test=200):\n",
    "    attr_file = os.path.join( celebA_path, 'list_attr_celeba.txt' )\n",
    "    image_dir = os.path.join( celebA_path, '' )\n",
    "    image_data = read_attr_file( attr_file, image_dir )\n",
    "\n",
    "    if constraint:\n",
    "        image_data = image_data[ image_data[constraint] == constraint_type]\n",
    "\n",
    "    style_A_data = image_data[ image_data[style_A] == '1']['image_path'].values\n",
    "    if style_B:\n",
    "        style_B_data = image_data[ image_data[style_B] == '1']['image_path'].values\n",
    "    else:\n",
    "        style_B_data = image_data[ image_data[style_A] == '-1']['image_path'].values\n",
    "\n",
    "    if test == False:\n",
    "        return style_A_data[:-n_test], style_B_data[:-n_test]\n",
    "    if test == True:\n",
    "        return style_A_data[-n_test:], style_B_data[-n_test:]"
   ]
  },
  {
   "cell_type": "code",
   "execution_count": 8,
   "metadata": {
    "colab": {},
    "colab_type": "code",
    "collapsed": true,
    "id": "EM2FxQCk0Pdj"
   },
   "outputs": [],
   "source": [
    "kernel_sizes = [4,3,3]\n",
    "strides = [2,2,1]\n",
    "paddings=[0,0,1]\n",
    "latent_dim = 300"
   ]
  },
  {
   "cell_type": "code",
   "execution_count": 9,
   "metadata": {
    "colab": {},
    "colab_type": "code",
    "collapsed": true,
    "id": "g3P2dIU60R5F"
   },
   "outputs": [],
   "source": [
    "class Discriminator(nn.Module):\n",
    "    def __init__(\n",
    "            self,\n",
    "            ):\n",
    "\n",
    "        super(Discriminator, self).__init__()\n",
    "        self.conv1 = nn.Conv2d(3, 64, 4, 2, 1, bias=False)\n",
    "        self.relu1 = nn.LeakyReLU(0.2, inplace=True)\n",
    "\n",
    "        self.conv2 = nn.Conv2d(64, 64 * 2, 4, 2, 1, bias=False)\n",
    "        self.bn2 = nn.BatchNorm2d(64 * 2)\n",
    "        self.relu2 = nn.LeakyReLU(0.2, inplace=True)\n",
    "\n",
    "        self.conv3 = nn.Conv2d(64 * 2, 64 * 4, 4, 2, 1, bias=False)\n",
    "        self.bn3 = nn.BatchNorm2d(64 * 4)\n",
    "        self.relu3 = nn.LeakyReLU(0.2, inplace=True)\n",
    "\n",
    "        self.conv4 = nn.Conv2d(64 * 4, 64 * 8, 4, 2, 1, bias=False)\n",
    "        self.bn4 = nn.BatchNorm2d(64 * 8)\n",
    "        self.relu4 = nn.LeakyReLU(0.2, inplace=True)\n",
    "\n",
    "        self.conv5 = nn.Conv2d(64 * 8, 1, 4, 1, 0, bias=False)\n",
    "\n",
    "    def forward(self, input):\n",
    "        conv1 = self.conv1( input )\n",
    "        relu1 = self.relu1( conv1 )\n",
    "\n",
    "        conv2 = self.conv2( relu1 )\n",
    "        bn2 = self.bn2( conv2 )\n",
    "        relu2 = self.relu2( bn2 )\n",
    "\n",
    "        conv3 = self.conv3( relu2 )\n",
    "        bn3 = self.bn3( conv3 )\n",
    "        relu3 = self.relu3( bn3 )\n",
    "\n",
    "        conv4 = self.conv4( relu3 )\n",
    "        bn4 = self.bn4( conv4 )\n",
    "        relu4 = self.relu4( bn4 )\n",
    "\n",
    "        conv5 = self.conv5( relu4 )\n",
    "\n",
    "        return torch.sigmoid( conv5 ), [relu2, relu3, relu4]"
   ]
  },
  {
   "cell_type": "code",
   "execution_count": 10,
   "metadata": {
    "colab": {},
    "colab_type": "code",
    "collapsed": true,
    "id": "dtV2ae-E0UE6"
   },
   "outputs": [],
   "source": [
    "class Generator(nn.Module):\n",
    "    def __init__(\n",
    "            self,\n",
    "            extra_layers=False\n",
    "            ):\n",
    "\n",
    "        super(Generator, self).__init__()\n",
    "\n",
    "        if extra_layers == True:\n",
    "            self.main = nn.Sequential(\n",
    "                nn.Conv2d(3, 64, 4, 2, 1, bias=False),\n",
    "                nn.LeakyReLU(0.2, inplace=True),\n",
    "                nn.Conv2d(64, 64 * 2, 4, 2, 1, bias=False),\n",
    "                nn.BatchNorm2d(64 * 2),\n",
    "                nn.LeakyReLU(0.2, inplace=True),\n",
    "                nn.Conv2d(64 * 2, 64 * 4, 4, 2, 1, bias=False),\n",
    "                nn.BatchNorm2d(64 * 4),\n",
    "                nn.LeakyReLU(0.2, inplace=True),\n",
    "                nn.Conv2d(64 * 4, 64 * 8, 4, 2, 1, bias=False),\n",
    "                nn.BatchNorm2d(64 * 8),\n",
    "                nn.LeakyReLU(0.2, inplace=True),\n",
    "                nn.Conv2d(64 * 8, 100, 4, 1, 0, bias=False),\n",
    "                nn.BatchNorm2d(100),\n",
    "                nn.LeakyReLU(0.2, inplace=True),\n",
    "\n",
    "                nn.ConvTranspose2d(100, 64 * 8, 4, 1, 0, bias=False),\n",
    "                nn.BatchNorm2d(64 * 8),\n",
    "                nn.ReLU(True),\n",
    "                nn.ConvTranspose2d(64 * 8, 64 * 4, 4, 2, 1, bias=False),\n",
    "                nn.BatchNorm2d(64 * 4),\n",
    "                nn.ReLU(True),\n",
    "                nn.ConvTranspose2d(64 * 4, 64 * 2, 4, 2, 1, bias=False),\n",
    "                nn.BatchNorm2d(64 * 2),\n",
    "                nn.ReLU(True),\n",
    "                nn.ConvTranspose2d(64 * 2,     64, 4, 2, 1, bias=False),\n",
    "                nn.BatchNorm2d(64),\n",
    "                nn.ReLU(True),\n",
    "                nn.ConvTranspose2d(    64,      3, 4, 2, 1, bias=False),\n",
    "                nn.Sigmoid()\n",
    "            )\n",
    "\n",
    "\n",
    "        if extra_layers == False:\n",
    "            self.main = nn.Sequential(\n",
    "                nn.Conv2d(3, 64, 4, 2, 1, bias=False),\n",
    "                nn.LeakyReLU(0.2, inplace=True),\n",
    "                nn.Conv2d(64, 64 * 2, 4, 2, 1, bias=False),\n",
    "                nn.BatchNorm2d(64 * 2),\n",
    "                nn.LeakyReLU(0.2, inplace=True),\n",
    "                nn.Conv2d(64 * 2, 64 * 4, 4, 2, 1, bias=False),\n",
    "                nn.BatchNorm2d(64 * 4),\n",
    "                nn.LeakyReLU(0.2, inplace=True),\n",
    "                nn.Conv2d(64 * 4, 64 * 8, 4, 2, 1, bias=False),\n",
    "                nn.BatchNorm2d(64 * 8),\n",
    "                nn.LeakyReLU(0.2, inplace=True),\n",
    "\n",
    "                nn.ConvTranspose2d(64 * 8, 64 * 4, 4, 2, 1, bias=False),\n",
    "                nn.BatchNorm2d(64 * 4),\n",
    "                nn.ReLU(True),\n",
    "                nn.ConvTranspose2d(64 * 4, 64 * 2, 4, 2, 1, bias=False),\n",
    "                nn.BatchNorm2d(64 * 2),\n",
    "                nn.ReLU(True),\n",
    "                nn.ConvTranspose2d(64 * 2,     64, 4, 2, 1, bias=False),\n",
    "                nn.BatchNorm2d(64),\n",
    "                nn.ReLU(True),\n",
    "                nn.ConvTranspose2d(    64,      3, 4, 2, 1, bias=False),\n",
    "                nn.Sigmoid()\n",
    "            )\n",
    "\n",
    "    def forward(self, input):\n",
    "        return self.main( input )"
   ]
  },
  {
   "cell_type": "code",
   "execution_count": 11,
   "metadata": {
    "colab": {},
    "colab_type": "code",
    "collapsed": true,
    "id": "YRLvwdbv0WCe"
   },
   "outputs": [],
   "source": [
    "def get_fm_loss(real_feats, fake_feats, criterion):\n",
    "    losses = 0\n",
    "    for real_feat, fake_feat in zip(real_feats, fake_feats):\n",
    "        l2 = (real_feat.mean(0) - fake_feat.mean(0)) * (real_feat.mean(0) - fake_feat.mean(0))\n",
    "        loss = criterion( l2, Variable( torch.ones( l2.size() ) ).cuda() )\n",
    "        losses += loss\n",
    "\n",
    "    return losses"
   ]
  },
  {
   "cell_type": "code",
   "execution_count": 12,
   "metadata": {
    "colab": {},
    "colab_type": "code",
    "collapsed": true,
    "id": "pZCYtLIN0YLL"
   },
   "outputs": [],
   "source": [
    "def get_gan_loss(dis_real, dis_fake, criterion, cuda):\n",
    "    labels_dis_real = Variable(torch.ones( [dis_real.size()[0], 1] ))\n",
    "    labels_dis_fake = Variable(torch.zeros([dis_fake.size()[0], 1] ))\n",
    "    labels_gen = Variable(torch.ones([dis_fake.size()[0], 1]))\n",
    "    \n",
    "    #labels_dis_real = labels_dis_real.half()\n",
    "    #labels_dis_fake = labels_dis_fake.half()\n",
    "    #labels_gen = labels_gen.half()\n",
    "\n",
    "    # if cuda:\n",
    "    labels_dis_real = labels_dis_real.cuda()\n",
    "    labels_dis_fake = labels_dis_fake.cuda()\n",
    "    labels_gen = labels_gen.cuda()\n",
    "\n",
    "    dis_loss = criterion( dis_real, labels_dis_real ) * 0.5 + criterion( dis_fake, labels_dis_fake ) * 0.5\n",
    "    gen_loss = criterion( dis_fake, labels_gen )\n",
    "\n",
    "    return dis_loss, gen_loss"
   ]
  },
  {
   "cell_type": "code",
   "execution_count": 13,
   "metadata": {
    "colab": {},
    "colab_type": "code",
    "collapsed": true,
    "id": "U_-aNvrARgZa"
   },
   "outputs": [],
   "source": [
    "def write_losses_to_file(loss_data):\n",
    "\n",
    "  import csv\n",
    "  import time\n",
    "\n",
    "  timestr = time.strftime(\"%Y%m%d-%H%M%S\")\n",
    "\n",
    "  with open('loss_data_' + timestr + \".csv\", 'w', newline='') as file:\n",
    "    writer = csv.writer(file)\n",
    "    writer.writerow([\"epoch #\", \"GEN Loss A\", \"GEN Loss B\", \"FM Loss A\", \"FM Loss B\", \"RECON Loss A\" , \"RECON Loss B\", \"DIS Loss A\", \"DIS Loss B\"])\n",
    "\n",
    "    writer.writerows(loss_data)\n",
    "    "
   ]
  },
  {
   "cell_type": "code",
   "execution_count": 26,
   "metadata": {
    "colab": {},
    "colab_type": "code",
    "collapsed": false,
    "id": "TpkovGTN0al4"
   },
   "outputs": [],
   "source": [
    "# Default ARGS\n",
    "imagesNum = 202599\n",
    "args = type('', (), {})()\n",
    "\n",
    "args.cuda = True\n",
    "args.batch_size = 128\n",
    "args.learning_rate = 0.0002\n",
    "args.result_path = './results/'\n",
    "args.model_path = './models/'\n",
    "args.model_arch = 'discogan'\n",
    "args.image_size = 64\n",
    "\n",
    "args.gan_curriculum = 10000\n",
    "args.starting_rate = 0.01\n",
    "args.default_rate = 0.5\n",
    "\n",
    "args.constraint = None\n",
    "args.constraint_type = None\n",
    "args.n_test = 200\n",
    "\n",
    "args.update_interval = 3\n",
    "args.log_interval = 234 / 2\n",
    "args.image_save_interval = 10000\n",
    "args.model_save_interval = 10000\n",
    "\n",
    "\n",
    "# IMPORTANT ARGS\n",
    "args.task_name = 'celebA'\n",
    "args.style_A ='Male'\n",
    "args.style_B =None\n",
    "args.epoch_size = 1000   # originally 5000\n",
    "\n",
    "args.write_losses_to_file = True\n",
    "\n"
   ]
  },
  {
   "cell_type": "code",
   "execution_count": 27,
   "metadata": {
    "colab": {},
    "colab_type": "code",
    "collapsed": true,
    "id": "NY-y4r030eqS"
   },
   "outputs": [],
   "source": [
    "def image_translation(args):\n",
    "\n",
    "  # cuda = args.cuda\n",
    "  if args.cuda == True:\n",
    "    cuda = True\n",
    "  else:\n",
    "    cuda = False\n",
    "   \n",
    "  task_name = args.task_name\n",
    "\n",
    "  epoch_size = args.epoch_size    # 5000\n",
    "  batch_size = args.batch_size    #  64\n",
    "\n",
    "  result_path =  './results/celebA/Male'\n",
    "\n",
    "  model_path = './models/celebA/Male'  \n",
    "\n",
    "  data_style_A, data_style_B = get_celebA_files('Male', None, constraint=None, constraint_type=None, test=False, n_test=200)\n",
    "  test_style_A, test_style_B = get_celebA_files('Male', None, constraint=None, constraint_type=None, test=True, n_test=200)\n",
    "\n",
    "  ##_________________________Reduce training data_______________________\n",
    "  data_style_A = data_style_A[:15000]\n",
    "  data_style_B = data_style_B[:15000]\n",
    "\n",
    "  # else:\n",
    "  test_A = read_images( test_style_A, None, args.image_size )\n",
    "  test_B = read_images( test_style_B, None, args.image_size )\n",
    "  \n",
    "  with torch.no_grad():\n",
    "    #test_A = Variable( torch.HalfTensor( test_A ), volatile=True ).cuda()\n",
    "    #test_B = Variable( torch.HalfTensor( test_B ), volatile=True ).cuda()\n",
    "    test_A = Variable( torch.FloatTensor( test_A ), volatile=True ).cuda()\n",
    "    test_B = Variable( torch.FloatTensor( test_B ), volatile=True ).cuda()\n",
    "  # test_A = test_A.cuda()\n",
    "  # test_B = test_B.cuda()\n",
    "\n",
    "\n",
    "  if not os.path.exists(result_path):\n",
    "    os.makedirs(result_path)\n",
    "  if not os.path.exists(model_path):\n",
    "    os.makedirs(model_path)\n",
    "\n",
    "  generator_A = Generator()\n",
    "  #generator_A = generator_A.half()\n",
    "  generator_B = Generator()\n",
    "  #generator_B = generator_B.half()\n",
    "  generator_A = generator_A.cuda()\n",
    "  generator_B = generator_B.cuda()\n",
    "\n",
    "  discriminator_A = Discriminator()\n",
    "  #discriminator_A = discriminator_A.half()\n",
    "  discriminator_B = Discriminator()\n",
    "  #discriminator_B = discriminator_B.half()\n",
    "  discriminator_A = discriminator_A.cuda()\n",
    "  discriminator_B = discriminator_B.cuda()\n",
    "  '''\n",
    "  for layer in generator_A.modules():\n",
    "    if isinstance(layer, nn.BatchNorm2d):\n",
    "        layer.float()\n",
    "        \n",
    "  for layer in generator_B.modules():\n",
    "    if isinstance(layer, nn.BatchNorm2d):\n",
    "        layer.float()\n",
    "        \n",
    "  for layer in discriminator_A.modules():\n",
    "    if isinstance(layer, nn.BatchNorm2d):\n",
    "        layer.float()\n",
    "        \n",
    "  for layer in discriminator_B.modules():\n",
    "    if isinstance(layer, nn.BatchNorm2d):\n",
    "        layer.float()\n",
    "  '''\n",
    "  data_size = min( len(data_style_A), len(data_style_B) )\n",
    "  n_batches = ( data_size // batch_size )\n",
    "\n",
    "  recon_criterion = nn.MSELoss()\n",
    "  gan_criterion = nn.BCELoss()\n",
    "  feat_criterion = nn.HingeEmbeddingLoss()\n",
    "\n",
    "  gen_params = chain(generator_A.parameters(), generator_B.parameters())\n",
    "  dis_params = chain(discriminator_A.parameters(), discriminator_B.parameters())\n",
    "\n",
    "  optim_gen = optim.Adam( gen_params, lr=args.learning_rate, betas=(0.5,0.999), weight_decay=0.00001)\n",
    "  optim_dis = optim.Adam( dis_params, lr=args.learning_rate, betas=(0.5,0.999), weight_decay=0.00001)\n",
    "\n",
    "  iters = 0\n",
    "\n",
    "  gen_loss_total = []\n",
    "  dis_loss_total = []\n",
    "\n",
    "  save_loss_data = []\n",
    "\n",
    "  for epoch in range(epoch_size):\n",
    "    data_style_A, data_style_B = shuffle_data( data_style_A, data_style_B)\n",
    "\n",
    "    widgets = ['epoch #%d|' % epoch, Percentage(), Bar(), ETA()]\n",
    "    pbar = ProgressBar(maxval=n_batches, widgets=widgets)\n",
    "    pbar.start()\n",
    "\n",
    "    for i in range(n_batches):\n",
    "\n",
    "      pbar.update(i)\n",
    "\n",
    "      generator_A.zero_grad()\n",
    "      generator_B.zero_grad()\n",
    "      discriminator_A.zero_grad()\n",
    "      discriminator_B.zero_grad()\n",
    "\n",
    "      A_path = data_style_A[ i * batch_size: (i+1) * batch_size ]\n",
    "      B_path = data_style_B[ i * batch_size: (i+1) * batch_size ]\n",
    "\n",
    "      A = read_images( A_path, None, args.image_size )\n",
    "      B = read_images( B_path, None, args.image_size )\n",
    "\n",
    "      #A = Variable( torch.HalfTensor( A ) )\n",
    "      #B = Variable( torch.HalfTensor( B ) )\n",
    "      A = Variable( torch.FloatTensor( A ) )\n",
    "      B = Variable( torch.FloatTensor( B ) )\n",
    "\n",
    "      A = A.cuda()\n",
    "      B = B.cuda()\n",
    "\n",
    "      AB = generator_B(A)\n",
    "      BA = generator_A(B)\n",
    "\n",
    "      ABA = generator_A(AB)\n",
    "      BAB = generator_B(BA)\n",
    "\n",
    "      # Reconstruction Loss\n",
    "      recon_loss_A = recon_criterion( ABA, A )\n",
    "      recon_loss_B = recon_criterion( BAB, B )\n",
    "\n",
    "      # Real/Fake GAN Loss (A)\n",
    "      A_dis_real, A_feats_real = discriminator_A( A )\n",
    "      A_dis_fake, A_feats_fake = discriminator_A( BA )\n",
    "\n",
    "      dis_loss_A, gen_loss_A = get_gan_loss( A_dis_real, A_dis_fake, gan_criterion, cuda )\n",
    "      fm_loss_A = get_fm_loss(A_feats_real, A_feats_fake, feat_criterion)\n",
    "\n",
    "      # Real/Fake GAN Loss (B)\n",
    "      B_dis_real, B_feats_real = discriminator_B( B )\n",
    "      B_dis_fake, B_feats_fake = discriminator_B( AB )\n",
    "\n",
    "      dis_loss_B, gen_loss_B = get_gan_loss( B_dis_real, B_dis_fake, gan_criterion, cuda )\n",
    "      fm_loss_B = get_fm_loss( B_feats_real, B_feats_fake, feat_criterion )\n",
    "\n",
    "      # Total Loss\n",
    "\n",
    "      if iters < args.gan_curriculum:\n",
    "        rate = args.starting_rate\n",
    "      else:\n",
    "        rate = args.default_rate\n",
    "\n",
    "      gen_loss_A_total = (gen_loss_B*0.1 + fm_loss_B*0.9) * (1.-rate) + recon_loss_A * rate\n",
    "      gen_loss_B_total = (gen_loss_A*0.1 + fm_loss_A*0.9) * (1.-rate) + recon_loss_B * rate\n",
    "      \n",
    "      #generative_loss= []\n",
    "      #discriminative_loss=[]\n",
    "\n",
    "      gen_loss = gen_loss_A_total + gen_loss_B_total\n",
    "      dis_loss = dis_loss_A + dis_loss_B\n",
    "\n",
    "      #generative_loss.append(gen_loss)\n",
    "      #discriminative_loss.append(dis_loss)\n",
    "\n",
    "      if iters % args.update_interval == 0:    \n",
    "        dis_loss.backward()\n",
    "        optim_dis.step()\n",
    "      else:\n",
    "        gen_loss.backward()\n",
    "        optim_gen.step()\n",
    "\n",
    "      if iters % args.log_interval == 0:\n",
    "        print(\"---------------------\")\n",
    "        print(\"GEN Loss:\", as_np(gen_loss_A.mean()), as_np(gen_loss_B.mean()))\n",
    "        print(\"Feature Matching Loss:\", as_np(fm_loss_A.mean()), as_np(fm_loss_B.mean()))\n",
    "        print(\"RECON Loss:\", as_np(recon_loss_A.mean()), as_np(recon_loss_B.mean()))\n",
    "        print(\"DIS Loss:\", as_np(dis_loss_A.mean()), as_np(dis_loss_B.mean()))\n",
    "\n",
    "        if args.write_losses_to_file == True:\n",
    "          loss_list = [str(epoch) , as_np(gen_loss_A.mean()) , as_np(gen_loss_B.mean()) \\\n",
    "                        , as_np(fm_loss_A.mean()) , as_np(fm_loss_B.mean()) \\\n",
    "                        , as_np(recon_loss_A.mean()) , as_np(recon_loss_B.mean()) \\\n",
    "                        , as_np(dis_loss_A.mean()) , as_np(dis_loss_B.mean())]\n",
    "\n",
    "          save_loss_data.append(loss_list)\n",
    "\n",
    "      if iters % args.image_save_interval == 0:\n",
    "        AB = generator_B( test_A )\n",
    "        BA = generator_A( test_B )\n",
    "        ABA = generator_A( AB )\n",
    "        BAB = generator_B( BA )\n",
    "\n",
    "        n_testset = 5                                                             #min( test_A.size()[0], test_B.size()[0] )\n",
    "\n",
    "        subdir_path = os.path.join( result_path, str(iters / args.image_save_interval) )\n",
    "\n",
    "        if os.path.exists( subdir_path ):\n",
    "          pass\n",
    "        else:\n",
    "          os.makedirs( subdir_path )\n",
    "\n",
    "        for im_idx in range( n_testset ):\n",
    "          A_val = test_A[im_idx].cpu().data.numpy().transpose(1,2,0) * 255.\n",
    "          B_val = test_B[im_idx].cpu().data.numpy().transpose(1,2,0) * 255.\n",
    "          BA_val = BA[im_idx].cpu().data.numpy().transpose(1,2,0)* 255.\n",
    "          ABA_val = ABA[im_idx].cpu().data.numpy().transpose(1,2,0)* 255.\n",
    "          AB_val = AB[im_idx].cpu().data.numpy().transpose(1,2,0)* 255.\n",
    "          BAB_val = BAB[im_idx].cpu().data.numpy().transpose(1,2,0)* 255.\n",
    "\n",
    "          filename_prefix = os.path.join (subdir_path, str(im_idx))\n",
    "          imageio.imwrite( filename_prefix + '.A.jpg', A_val.astype(np.uint8)[:,:,::-1])\n",
    "          imageio.imwrite( filename_prefix + '.B.jpg', B_val.astype(np.uint8)[:,:,::-1])\n",
    "          imageio.imwrite( filename_prefix + '.BA.jpg', BA_val.astype(np.uint8)[:,:,::-1])\n",
    "          imageio.imwrite( filename_prefix + '.AB.jpg', AB_val.astype(np.uint8)[:,:,::-1])\n",
    "          imageio.imwrite( filename_prefix + '.ABA.jpg', ABA_val.astype(np.uint8)[:,:,::-1])\n",
    "          imageio.imwrite( filename_prefix + '.BAB.jpg', BAB_val.astype(np.uint8)[:,:,::-1])\n",
    "\n",
    "      if iters % args.model_save_interval == 0:\n",
    "        torch.save( generator_A, os.path.join(model_path, 'model_gen_A-' + str( iters / args.model_save_interval )))\n",
    "        torch.save( generator_B, os.path.join(model_path, 'model_gen_B-' + str( iters / args.model_save_interval )))\n",
    "        torch.save( discriminator_A, os.path.join(model_path, 'model_dis_A-' + str( iters / args.model_save_interval )))\n",
    "        torch.save( discriminator_B, os.path.join(model_path, 'model_dis_B-' + str( iters / args.model_save_interval )))\n",
    "\n",
    "      iters += 1\n",
    "\n",
    "  if args.write_losses_to_file == True:\n",
    "    write_losses_to_file(save_loss_data)"
   ]
  },
  {
   "cell_type": "code",
   "execution_count": 28,
   "metadata": {
    "colab": {
     "base_uri": "https://localhost:8080/",
     "height": 1000
    },
    "colab_type": "code",
    "collapsed": false,
    "id": "nQAle8b60h95",
    "outputId": "bcbff6ad-f7f0-4e66-8939-bb47ce81b105"
   },
   "outputs": [
    {
     "name": "stderr",
     "output_type": "stream",
     "text": [
      "C:\\Users\\tamim\\AppData\\Local\\Continuum\\Anaconda3\\envs\\pytorch\\lib\\site-packages\\ipykernel_launcher.py:32: UserWarning: volatile was removed and now has no effect. Use `with torch.no_grad():` instead.\n",
      "C:\\Users\\tamim\\AppData\\Local\\Continuum\\Anaconda3\\envs\\pytorch\\lib\\site-packages\\ipykernel_launcher.py:33: UserWarning: volatile was removed and now has no effect. Use `with torch.no_grad():` instead.\n",
      "epoch #0|N/A%|                                                  |ETA:  --:--:--"
     ]
    },
    {
     "name": "stdout",
     "output_type": "stream",
     "text": [
      "---------------------\n",
      "GEN Loss: 0.6317123 0.8984958\n",
      "Feature Matching Loss: 0.34615022 0.375065\n",
      "RECON Loss: 0.14104351 0.11759075\n",
      "DIS Loss: 0.6810744 0.7383685\n"
     ]
    },
    {
     "name": "stderr",
     "output_type": "stream",
     "text": [
      "epoch #1|  0%|                                                  |ETA:   0:00:54"
     ]
    },
    {
     "name": "stdout",
     "output_type": "stream",
     "text": [
      "---------------------\n",
      "GEN Loss: 0.56296057 0.81385565\n",
      "Feature Matching Loss: 0.044256095 0.03207411\n",
      "RECON Loss: 0.04635529 0.04452808\n",
      "DIS Loss: 0.69313604 0.70670927\n"
     ]
    },
    {
     "name": "stderr",
     "output_type": "stream",
     "text": [
      "epoch #2|N/A%|                                                  |ETA:  --:--:--"
     ]
    },
    {
     "name": "stdout",
     "output_type": "stream",
     "text": [
      "---------------------\n"
     ]
    },
    {
     "name": "stderr",
     "output_type": "stream",
     "text": [
      "\r",
      "                                                                               \r",
      "\r",
      "epoch #2|  0%|                                                  |ETA:   0:02:41"
     ]
    },
    {
     "name": "stdout",
     "output_type": "stream",
     "text": [
      "GEN Loss: 0.75612855 0.73409665\n",
      "Feature Matching Loss: 0.031094749 0.029058415\n",
      "RECON Loss: 0.046605088 0.04654675\n",
      "DIS Loss: 0.71971595 0.7021705\n"
     ]
    },
    {
     "name": "stderr",
     "output_type": "stream",
     "text": [
      "epoch #3|  0%|                                                  |ETA:   0:00:56"
     ]
    },
    {
     "name": "stdout",
     "output_type": "stream",
     "text": [
      "---------------------\n",
      "GEN Loss: 0.7393684 0.7280185\n",
      "Feature Matching Loss: 0.02942644 0.029722242\n",
      "RECON Loss: 0.048989873 0.04897236\n",
      "DIS Loss: 0.72127557 0.68960786\n"
     ]
    },
    {
     "name": "stderr",
     "output_type": "stream",
     "text": [
      "epoch #4|  0%|                                                  |ETA:   0:01:00"
     ]
    },
    {
     "name": "stdout",
     "output_type": "stream",
     "text": [
      "---------------------\n",
      "GEN Loss: 0.7191713 0.69518554\n",
      "Feature Matching Loss: 0.02558443 0.025943816\n",
      "RECON Loss: 0.043110427 0.043946676\n",
      "DIS Loss: 0.7142031 0.68090546\n"
     ]
    },
    {
     "name": "stderr",
     "output_type": "stream",
     "text": [
      "epoch #5|  0%|                                                  |ETA:   0:00:55"
     ]
    },
    {
     "name": "stdout",
     "output_type": "stream",
     "text": [
      "---------------------\n",
      "GEN Loss: 0.7135283 0.6925223\n",
      "Feature Matching Loss: 0.025747808 0.025302902\n",
      "RECON Loss: 0.039285287 0.04037392\n",
      "DIS Loss: 0.6927996 0.6803279\n"
     ]
    },
    {
     "name": "stderr",
     "output_type": "stream",
     "text": [
      "epoch #6|  0%|                                                  |ETA:   0:01:14"
     ]
    },
    {
     "name": "stdout",
     "output_type": "stream",
     "text": [
      "---------------------\n",
      "GEN Loss: 0.7339901 0.6986437\n",
      "Feature Matching Loss: 0.023069505 0.023970407\n",
      "RECON Loss: 0.038208082 0.039748095\n",
      "DIS Loss: 0.6847914 0.67643887\n"
     ]
    },
    {
     "name": "stderr",
     "output_type": "stream",
     "text": [
      "epoch #7|  0%|                                                  |ETA:   0:00:55"
     ]
    },
    {
     "name": "stdout",
     "output_type": "stream",
     "text": [
      "---------------------\n",
      "GEN Loss: 0.72166824 0.73571604\n",
      "Feature Matching Loss: 0.021917203 0.023136053\n",
      "RECON Loss: 0.03713309 0.037716053\n",
      "DIS Loss: 0.6849097 0.6728761\n"
     ]
    },
    {
     "name": "stderr",
     "output_type": "stream",
     "text": [
      "epoch #8|N/A%|                                                  |ETA:  --:--:--"
     ]
    },
    {
     "name": "stdout",
     "output_type": "stream",
     "text": [
      "---------------------\n"
     ]
    },
    {
     "name": "stderr",
     "output_type": "stream",
     "text": [
      "\r",
      "                                                                               \r",
      "\r",
      "epoch #8|  0%|                                                  |ETA:   0:01:53"
     ]
    },
    {
     "name": "stdout",
     "output_type": "stream",
     "text": [
      "GEN Loss: 0.7335175 0.814286\n",
      "Feature Matching Loss: 0.021695558 0.023521546\n",
      "RECON Loss: 0.03498003 0.034792863\n",
      "DIS Loss: 0.6871437 0.67649686\n"
     ]
    },
    {
     "name": "stderr",
     "output_type": "stream",
     "text": [
      "epoch #9|  0%|                                                  |ETA:   0:01:00"
     ]
    },
    {
     "name": "stdout",
     "output_type": "stream",
     "text": [
      "---------------------\n",
      "GEN Loss: 0.7253097 0.86637664\n",
      "Feature Matching Loss: 0.021044087 0.02454431\n",
      "RECON Loss: 0.03220906 0.032725785\n",
      "DIS Loss: 0.67825884 0.68611574\n"
     ]
    },
    {
     "name": "stderr",
     "output_type": "stream",
     "text": [
      "epoch #10|  0%|                                                 |ETA:   0:00:56"
     ]
    },
    {
     "name": "stdout",
     "output_type": "stream",
     "text": [
      "---------------------\n",
      "GEN Loss: 0.78048164 0.8750272\n",
      "Feature Matching Loss: 0.022342194 0.0242385\n",
      "RECON Loss: 0.03377621 0.032913852\n",
      "DIS Loss: 0.6642207 0.6902528\n"
     ]
    },
    {
     "name": "stderr",
     "output_type": "stream",
     "text": [
      "epoch #11|  0%|                                                 |ETA:   0:00:59"
     ]
    },
    {
     "name": "stdout",
     "output_type": "stream",
     "text": [
      "---------------------\n",
      "GEN Loss: 0.67967457 0.7294347\n",
      "Feature Matching Loss: 0.02459316 0.02263254\n",
      "RECON Loss: 0.033437338 0.033670887\n",
      "DIS Loss: 0.67827255 0.6736991\n"
     ]
    },
    {
     "name": "stderr",
     "output_type": "stream",
     "text": [
      "epoch #12|  0%|                                                 |ETA:   0:01:00"
     ]
    },
    {
     "name": "stdout",
     "output_type": "stream",
     "text": [
      "---------------------\n",
      "GEN Loss: 0.7441277 0.76142\n",
      "Feature Matching Loss: 0.022643643 0.022541147\n",
      "RECON Loss: 0.03209958 0.032435417\n",
      "DIS Loss: 0.6650225 0.6777556\n"
     ]
    },
    {
     "name": "stderr",
     "output_type": "stream",
     "text": [
      "epoch #13|  0%|                                                 |ETA:   0:00:56"
     ]
    },
    {
     "name": "stdout",
     "output_type": "stream",
     "text": [
      "---------------------\n",
      "GEN Loss: 0.68290484 0.7424482\n",
      "Feature Matching Loss: 0.025013153 0.023266645\n",
      "RECON Loss: 0.03486342 0.034999266\n",
      "DIS Loss: 0.6761264 0.6747353\n"
     ]
    },
    {
     "name": "stderr",
     "output_type": "stream",
     "text": [
      "epoch #14|  0%|                                                 |ETA:   0:00:58"
     ]
    },
    {
     "name": "stdout",
     "output_type": "stream",
     "text": [
      "---------------------\n",
      "GEN Loss: 0.78188205 0.90193164\n",
      "Feature Matching Loss: 0.022722736 0.02381223\n",
      "RECON Loss: 0.032738917 0.033105128\n",
      "DIS Loss: 0.6727953 0.6922874\n"
     ]
    },
    {
     "name": "stderr",
     "output_type": "stream",
     "text": [
      "epoch #15|  0%|                                                 |ETA:   0:01:01"
     ]
    },
    {
     "name": "stdout",
     "output_type": "stream",
     "text": [
      "---------------------\n",
      "GEN Loss: 0.7642509 0.84289074\n",
      "Feature Matching Loss: 0.02345252 0.024224967\n",
      "RECON Loss: 0.03354679 0.03401473\n",
      "DIS Loss: 0.6642526 0.6874899\n"
     ]
    },
    {
     "name": "stderr",
     "output_type": "stream",
     "text": [
      "epoch #16|  0%|                                                 |ETA:   0:00:56"
     ]
    },
    {
     "name": "stdout",
     "output_type": "stream",
     "text": [
      "---------------------\n",
      "GEN Loss: 0.69395983 0.7440852\n",
      "Feature Matching Loss: 0.02350312 0.023343861\n",
      "RECON Loss: 0.03604571 0.035748444\n",
      "DIS Loss: 0.6759733 0.6716067\n"
     ]
    },
    {
     "name": "stderr",
     "output_type": "stream",
     "text": [
      "epoch #17|  0%|                                                 |ETA:   0:00:56"
     ]
    },
    {
     "name": "stdout",
     "output_type": "stream",
     "text": [
      "---------------------\n",
      "GEN Loss: 0.73985046 0.78095067\n",
      "Feature Matching Loss: 0.02359987 0.023299957\n",
      "RECON Loss: 0.035957992 0.035873678\n",
      "DIS Loss: 0.66218513 0.66752887\n"
     ]
    },
    {
     "name": "stderr",
     "output_type": "stream",
     "text": [
      "epoch #18|  0%|                                                 |ETA:   0:00:57"
     ]
    },
    {
     "name": "stdout",
     "output_type": "stream",
     "text": [
      "---------------------\n",
      "GEN Loss: 0.73288137 0.8567365\n",
      "Feature Matching Loss: 0.023801025 0.023463015\n",
      "RECON Loss: 0.036687374 0.035521865\n",
      "DIS Loss: 0.6702603 0.6732451\n"
     ]
    },
    {
     "name": "stderr",
     "output_type": "stream",
     "text": [
      "epoch #19|  0%|                                                 |ETA:   0:00:58"
     ]
    },
    {
     "name": "stdout",
     "output_type": "stream",
     "text": [
      "---------------------\n",
      "GEN Loss: 0.82831603 0.8217476\n",
      "Feature Matching Loss: 0.022465281 0.021943424\n",
      "RECON Loss: 0.036609262 0.03531629\n",
      "DIS Loss: 0.6671547 0.66168356\n"
     ]
    },
    {
     "name": "stderr",
     "output_type": "stream",
     "text": [
      "epoch #20|  0%|                                                 |ETA:   0:00:58"
     ]
    },
    {
     "name": "stdout",
     "output_type": "stream",
     "text": [
      "---------------------\n",
      "GEN Loss: 0.68407196 0.85807824\n",
      "Feature Matching Loss: 0.023176417 0.022145225\n",
      "RECON Loss: 0.03517987 0.0338558\n",
      "DIS Loss: 0.652403 0.66710943\n"
     ]
    },
    {
     "name": "stderr",
     "output_type": "stream",
     "text": [
      "epoch #21|  0%|                                                 |ETA:   0:00:55"
     ]
    },
    {
     "name": "stdout",
     "output_type": "stream",
     "text": [
      "---------------------\n",
      "GEN Loss: 1.0094306 0.7796352\n",
      "Feature Matching Loss: 0.024445489 0.023765476\n",
      "RECON Loss: 0.037909873 0.03561239\n",
      "DIS Loss: 0.6737431 0.6591404\n"
     ]
    },
    {
     "name": "stderr",
     "output_type": "stream",
     "text": [
      "epoch #22|  0%|                                                 |ETA:   0:00:56"
     ]
    },
    {
     "name": "stdout",
     "output_type": "stream",
     "text": [
      "---------------------\n",
      "GEN Loss: 0.77978027 1.0528245\n",
      "Feature Matching Loss: 0.025078595 0.02517699\n",
      "RECON Loss: 0.038382098 0.035579696\n",
      "DIS Loss: 0.63884985 0.6882936\n"
     ]
    },
    {
     "name": "stderr",
     "output_type": "stream",
     "text": [
      "epoch #23|  0%|                                                 |ETA:   0:01:01"
     ]
    },
    {
     "name": "stdout",
     "output_type": "stream",
     "text": [
      "---------------------\n",
      "GEN Loss: 0.9431175 0.88746965\n",
      "Feature Matching Loss: 0.025867874 0.025465505\n",
      "RECON Loss: 0.03773623 0.035668116\n",
      "DIS Loss: 0.6464472 0.65880626\n"
     ]
    },
    {
     "name": "stderr",
     "output_type": "stream",
     "text": [
      "epoch #24|  0%|                                                 |ETA:   0:00:56"
     ]
    },
    {
     "name": "stdout",
     "output_type": "stream",
     "text": [
      "---------------------\n",
      "GEN Loss: 0.6438961 0.90327233\n",
      "Feature Matching Loss: 0.024248553 0.025608135\n",
      "RECON Loss: 0.037579186 0.035173137\n",
      "DIS Loss: 0.65291864 0.65425545\n"
     ]
    },
    {
     "name": "stderr",
     "output_type": "stream",
     "text": [
      "epoch #25|  0%|                                                 |ETA:   0:00:57"
     ]
    },
    {
     "name": "stdout",
     "output_type": "stream",
     "text": [
      "---------------------\n",
      "GEN Loss: 0.7165308 0.8453592\n",
      "Feature Matching Loss: 0.024423875 0.026913993\n",
      "RECON Loss: 0.038493216 0.036080576\n",
      "DIS Loss: 0.638096 0.64964193\n"
     ]
    },
    {
     "name": "stderr",
     "output_type": "stream",
     "text": [
      "epoch #26|  0%|                                                 |ETA:   0:00:56"
     ]
    },
    {
     "name": "stdout",
     "output_type": "stream",
     "text": [
      "---------------------\n",
      "GEN Loss: 0.64843464 1.01851\n",
      "Feature Matching Loss: 0.025679499 0.030559182\n",
      "RECON Loss: 0.0378342 0.03480148\n",
      "DIS Loss: 0.63059753 0.6866552\n"
     ]
    },
    {
     "name": "stderr",
     "output_type": "stream",
     "text": [
      "epoch #27|  0%|                                                 |ETA:   0:00:56"
     ]
    },
    {
     "name": "stdout",
     "output_type": "stream",
     "text": [
      "---------------------\n",
      "GEN Loss: 0.45925778 0.6679305\n",
      "Feature Matching Loss: 0.024472862 0.025318978\n",
      "RECON Loss: 0.037330896 0.03501612\n",
      "DIS Loss: 0.6806418 0.63393635\n"
     ]
    },
    {
     "name": "stderr",
     "output_type": "stream",
     "text": [
      "epoch #28|  0%|                                                 |ETA:   0:00:55"
     ]
    },
    {
     "name": "stdout",
     "output_type": "stream",
     "text": [
      "---------------------\n",
      "GEN Loss: 0.4574501 1.0149947\n",
      "Feature Matching Loss: 0.024049442 0.031187303\n",
      "RECON Loss: 0.036956802 0.036165357\n",
      "DIS Loss: 0.6758647 0.692876\n"
     ]
    },
    {
     "name": "stderr",
     "output_type": "stream",
     "text": [
      "epoch #29|  0%|                                                 |ETA:   0:00:55"
     ]
    },
    {
     "name": "stdout",
     "output_type": "stream",
     "text": [
      "---------------------\n",
      "GEN Loss: 0.6567776 0.69548625\n",
      "Feature Matching Loss: 0.024680642 0.027248181\n",
      "RECON Loss: 0.03891194 0.036949925\n",
      "DIS Loss: 0.6140958 0.6362533\n"
     ]
    },
    {
     "name": "stderr",
     "output_type": "stream",
     "text": [
      "epoch #30|  0%|                                                 |ETA:   0:00:57"
     ]
    },
    {
     "name": "stdout",
     "output_type": "stream",
     "text": [
      "---------------------\n",
      "GEN Loss: 1.0770518 1.1515392\n",
      "Feature Matching Loss: 0.029741382 0.031092556\n",
      "RECON Loss: 0.03767592 0.037338473\n",
      "DIS Loss: 0.6289396 0.68734145\n"
     ]
    },
    {
     "name": "stderr",
     "output_type": "stream",
     "text": [
      "epoch #31|  0%|                                                 |ETA:   0:00:57"
     ]
    },
    {
     "name": "stdout",
     "output_type": "stream",
     "text": [
      "---------------------\n",
      "GEN Loss: 0.88691306 0.8248036\n",
      "Feature Matching Loss: 0.027465353 0.025888313\n",
      "RECON Loss: 0.037495874 0.036487777\n",
      "DIS Loss: 0.601427 0.61056495\n"
     ]
    },
    {
     "name": "stderr",
     "output_type": "stream",
     "text": [
      "epoch #32|  0%|                                                 |ETA:   0:00:55"
     ]
    },
    {
     "name": "stdout",
     "output_type": "stream",
     "text": [
      "---------------------\n",
      "GEN Loss: 1.1072528 0.7444345\n",
      "Feature Matching Loss: 0.02748391 0.025653642\n",
      "RECON Loss: 0.039837357 0.03772582\n",
      "DIS Loss: 0.59583884 0.5973999\n"
     ]
    },
    {
     "name": "stderr",
     "output_type": "stream",
     "text": [
      "epoch #33|  0%|                                                 |ETA:   0:01:11"
     ]
    },
    {
     "name": "stdout",
     "output_type": "stream",
     "text": [
      "---------------------\n",
      "GEN Loss: 0.80704033 1.082612\n",
      "Feature Matching Loss: 0.025788285 0.029111601\n",
      "RECON Loss: 0.03825997 0.036995187\n",
      "DIS Loss: 0.5887189 0.6358386\n"
     ]
    },
    {
     "name": "stderr",
     "output_type": "stream",
     "text": [
      "epoch #34|  0%|                                                 |ETA:   0:00:57"
     ]
    },
    {
     "name": "stdout",
     "output_type": "stream",
     "text": [
      "---------------------\n",
      "GEN Loss: 0.8526336 0.70031345\n",
      "Feature Matching Loss: 0.025663007 0.02457345\n",
      "RECON Loss: 0.039323922 0.037008777\n",
      "DIS Loss: 0.56606185 0.60755396\n"
     ]
    },
    {
     "name": "stderr",
     "output_type": "stream",
     "text": [
      "epoch #35|  0%|                                                 |ETA:   0:00:56"
     ]
    },
    {
     "name": "stdout",
     "output_type": "stream",
     "text": [
      "---------------------\n",
      "GEN Loss: 1.0655068 0.66842914\n",
      "Feature Matching Loss: 0.027925216 0.023533469\n",
      "RECON Loss: 0.039849624 0.037632532\n",
      "DIS Loss: 0.56372637 0.6014521\n"
     ]
    },
    {
     "name": "stderr",
     "output_type": "stream",
     "text": [
      "epoch #36|  0%|                                                 |ETA:   0:00:59"
     ]
    },
    {
     "name": "stdout",
     "output_type": "stream",
     "text": [
      "---------------------\n",
      "GEN Loss: 0.6852653 0.74640226\n",
      "Feature Matching Loss: 0.025462732 0.02514077\n",
      "RECON Loss: 0.038872376 0.036910295\n",
      "DIS Loss: 0.5463829 0.57654357\n"
     ]
    },
    {
     "name": "stderr",
     "output_type": "stream",
     "text": [
      "epoch #37|  0%|                                                 |ETA:   0:00:56"
     ]
    },
    {
     "name": "stdout",
     "output_type": "stream",
     "text": [
      "---------------------\n",
      "GEN Loss: 0.8055777 0.7938097\n",
      "Feature Matching Loss: 0.025540425 0.025639439\n",
      "RECON Loss: 0.038498614 0.03633467\n",
      "DIS Loss: 0.51652914 0.5581996\n"
     ]
    },
    {
     "name": "stderr",
     "output_type": "stream",
     "text": [
      "epoch #38|  0%|                                                 |ETA:   0:00:57"
     ]
    },
    {
     "name": "stdout",
     "output_type": "stream",
     "text": [
      "---------------------\n",
      "GEN Loss: 1.1565616 0.9815462\n",
      "Feature Matching Loss: 0.028337335 0.026635684\n",
      "RECON Loss: 0.038455226 0.03636327\n",
      "DIS Loss: 0.5405834 0.5527615\n"
     ]
    },
    {
     "name": "stderr",
     "output_type": "stream",
     "text": [
      "epoch #39|  0%|                                                 |ETA:   0:00:55"
     ]
    },
    {
     "name": "stdout",
     "output_type": "stream",
     "text": [
      "---------------------\n",
      "GEN Loss: 1.066015 0.90255404\n",
      "Feature Matching Loss: 0.0276718 0.02751518\n",
      "RECON Loss: 0.03905238 0.035790488\n",
      "DIS Loss: 0.49241713 0.5323583\n"
     ]
    },
    {
     "name": "stderr",
     "output_type": "stream",
     "text": [
      "epoch #40|  0%|                                                 |ETA:   0:01:02"
     ]
    },
    {
     "name": "stdout",
     "output_type": "stream",
     "text": [
      "---------------------\n",
      "GEN Loss: 2.3808823 1.211057\n",
      "Feature Matching Loss: 0.04052404 0.029229775\n",
      "RECON Loss: 0.04433475 0.04076858\n",
      "DIS Loss: 0.89506793 0.5506181\n"
     ]
    },
    {
     "name": "stderr",
     "output_type": "stream",
     "text": [
      "epoch #41|  0%|                                                 |ETA:   0:00:57"
     ]
    },
    {
     "name": "stdout",
     "output_type": "stream",
     "text": [
      "---------------------\n",
      "GEN Loss: 0.9941662 0.72263104\n",
      "Feature Matching Loss: 0.026822094 0.022162732\n",
      "RECON Loss: 0.036986236 0.034791388\n",
      "DIS Loss: 0.42008826 0.5130019\n"
     ]
    },
    {
     "name": "stderr",
     "output_type": "stream",
     "text": [
      "epoch #42|  0%|                                                 |ETA:   0:00:57"
     ]
    },
    {
     "name": "stdout",
     "output_type": "stream",
     "text": [
      "---------------------\n",
      "GEN Loss: 0.91366136 0.35807642\n",
      "Feature Matching Loss: 0.026997512 0.022994295\n",
      "RECON Loss: 0.039288305 0.036574744\n",
      "DIS Loss: 0.415477 0.69934374\n"
     ]
    },
    {
     "name": "stderr",
     "output_type": "stream",
     "text": [
      "epoch #43|  0%|                                                 |ETA:   0:01:00"
     ]
    },
    {
     "name": "stdout",
     "output_type": "stream",
     "text": [
      "---------------------\n",
      "GEN Loss: 1.3094769 0.76896536\n",
      "Feature Matching Loss: 0.026749223 0.0242124\n",
      "RECON Loss: 0.039876472 0.03590312\n",
      "DIS Loss: 0.42773604 0.5054608\n"
     ]
    },
    {
     "name": "stderr",
     "output_type": "stream",
     "text": [
      "epoch #44|  0%|                                                 |ETA:   0:00:55"
     ]
    },
    {
     "name": "stdout",
     "output_type": "stream",
     "text": [
      "---------------------\n",
      "GEN Loss: 1.2949309 1.5485659\n",
      "Feature Matching Loss: 0.026585978 0.032204073\n",
      "RECON Loss: 0.04206927 0.039006766\n",
      "DIS Loss: 0.38483396 0.60719097\n"
     ]
    },
    {
     "name": "stderr",
     "output_type": "stream",
     "text": [
      "epoch #45|  0%|                                                 |ETA:   0:00:56"
     ]
    },
    {
     "name": "stdout",
     "output_type": "stream",
     "text": [
      "---------------------\n",
      "GEN Loss: 1.4507382 1.3739139\n",
      "Feature Matching Loss: 0.024500767 0.027276076\n",
      "RECON Loss: 0.040622305 0.03794742\n",
      "DIS Loss: 0.34441018 0.48660144\n"
     ]
    },
    {
     "name": "stderr",
     "output_type": "stream",
     "text": [
      "epoch #46|  0%|                                                 |ETA:   0:00:54"
     ]
    },
    {
     "name": "stdout",
     "output_type": "stream",
     "text": [
      "---------------------\n",
      "GEN Loss: 1.4155517 1.5198063\n",
      "Feature Matching Loss: 0.024625517 0.030439656\n",
      "RECON Loss: 0.03882779 0.037577715\n",
      "DIS Loss: 0.32330325 0.5417797\n"
     ]
    },
    {
     "name": "stderr",
     "output_type": "stream",
     "text": [
      "epoch #47|  0%|                                                 |ETA:   0:00:55"
     ]
    },
    {
     "name": "stdout",
     "output_type": "stream",
     "text": [
      "---------------------\n",
      "GEN Loss: 1.2990065 0.9083998\n",
      "Feature Matching Loss: 0.025517125 0.02697555\n",
      "RECON Loss: 0.03879388 0.037072\n",
      "DIS Loss: 0.3492479 0.46795002\n"
     ]
    },
    {
     "name": "stderr",
     "output_type": "stream",
     "text": [
      "epoch #48|  0%|                                                 |ETA:   0:00:55"
     ]
    },
    {
     "name": "stdout",
     "output_type": "stream",
     "text": [
      "---------------------\n",
      "GEN Loss: 1.3617511 1.6877491\n",
      "Feature Matching Loss: 0.02456405 0.031222738\n",
      "RECON Loss: 0.04004992 0.03942805\n",
      "DIS Loss: 0.3074386 0.49735814\n"
     ]
    },
    {
     "name": "stderr",
     "output_type": "stream",
     "text": [
      "epoch #49|  0%|                                                 |ETA:   0:00:55"
     ]
    },
    {
     "name": "stdout",
     "output_type": "stream",
     "text": [
      "---------------------\n",
      "GEN Loss: 0.9607777 1.4844544\n",
      "Feature Matching Loss: 0.027887676 0.027814075\n",
      "RECON Loss: 0.040187813 0.03924501\n",
      "DIS Loss: 0.36395657 0.375089\n"
     ]
    },
    {
     "name": "stderr",
     "output_type": "stream",
     "text": [
      "epoch #50|  0%|                                                 |ETA:   0:00:57"
     ]
    },
    {
     "name": "stdout",
     "output_type": "stream",
     "text": [
      "---------------------\n",
      "GEN Loss: 1.5443406 1.8107277\n",
      "Feature Matching Loss: 0.0286135 0.034220573\n",
      "RECON Loss: 0.041941907 0.040654488\n",
      "DIS Loss: 0.31964332 0.46084976\n"
     ]
    },
    {
     "name": "stderr",
     "output_type": "stream",
     "text": [
      "epoch #51|  0%|                                                 |ETA:   0:00:56"
     ]
    },
    {
     "name": "stdout",
     "output_type": "stream",
     "text": [
      "---------------------\n",
      "GEN Loss: 1.6890258 1.125874\n",
      "Feature Matching Loss: 0.03171534 0.023526412\n",
      "RECON Loss: 0.040223718 0.038478546\n",
      "DIS Loss: 0.35432163 0.34681967\n"
     ]
    },
    {
     "name": "stderr",
     "output_type": "stream",
     "text": [
      "epoch #52|  0%|                                                 |ETA:   0:00:58"
     ]
    },
    {
     "name": "stdout",
     "output_type": "stream",
     "text": [
      "---------------------\n",
      "GEN Loss: 2.6419473 1.398673\n",
      "Feature Matching Loss: 0.030491412 0.025037084\n",
      "RECON Loss: 0.03997487 0.03795839\n",
      "DIS Loss: 0.34598127 0.34019756\n"
     ]
    },
    {
     "name": "stderr",
     "output_type": "stream",
     "text": [
      "epoch #53|  0%|                                                 |ETA:   0:00:54"
     ]
    },
    {
     "name": "stdout",
     "output_type": "stream",
     "text": [
      "---------------------\n",
      "GEN Loss: 1.8260098 1.8378091\n",
      "Feature Matching Loss: 0.026395816 0.028290167\n",
      "RECON Loss: 0.038608566 0.03747631\n",
      "DIS Loss: 0.23840939 0.3733461\n"
     ]
    },
    {
     "name": "stderr",
     "output_type": "stream",
     "text": [
      "epoch #54|  0%|                                                 |ETA:   0:00:55"
     ]
    },
    {
     "name": "stdout",
     "output_type": "stream",
     "text": [
      "---------------------\n",
      "GEN Loss: 2.2562299 0.44551012\n",
      "Feature Matching Loss: 0.035449415 0.023685334\n",
      "RECON Loss: 0.040452592 0.038569666\n",
      "DIS Loss: 0.28262216 0.6125949\n"
     ]
    },
    {
     "name": "stderr",
     "output_type": "stream",
     "text": [
      "epoch #55|  0%|                                                 |ETA:   0:00:55"
     ]
    },
    {
     "name": "stdout",
     "output_type": "stream",
     "text": [
      "---------------------\n",
      "GEN Loss: 0.9242646 1.7744186\n",
      "Feature Matching Loss: 0.023881465 0.026070274\n",
      "RECON Loss: 0.03651265 0.037089687\n",
      "DIS Loss: 0.3309411 0.3088618\n"
     ]
    },
    {
     "name": "stderr",
     "output_type": "stream",
     "text": [
      "epoch #56|  0%|                                                 |ETA:   0:00:55"
     ]
    },
    {
     "name": "stdout",
     "output_type": "stream",
     "text": [
      "---------------------\n",
      "GEN Loss: 1.4765965 0.9118463\n",
      "Feature Matching Loss: 0.022063315 0.024811542\n",
      "RECON Loss: 0.036194608 0.037181027\n",
      "DIS Loss: 0.19332448 0.35221553\n"
     ]
    },
    {
     "name": "stderr",
     "output_type": "stream",
     "text": [
      "epoch #57|  0%|                                                 |ETA:   0:00:59"
     ]
    },
    {
     "name": "stdout",
     "output_type": "stream",
     "text": [
      "---------------------\n",
      "GEN Loss: 1.7360566 1.5958687\n",
      "Feature Matching Loss: 0.022807613 0.024105478\n",
      "RECON Loss: 0.036025222 0.036263984\n",
      "DIS Loss: 0.20001341 0.2399818\n"
     ]
    },
    {
     "name": "stderr",
     "output_type": "stream",
     "text": [
      "epoch #58|  0%|                                                 |ETA:   0:01:04"
     ]
    },
    {
     "name": "stdout",
     "output_type": "stream",
     "text": [
      "---------------------\n",
      "GEN Loss: 2.1774826 2.0067456\n",
      "Feature Matching Loss: 0.020081671 0.024971943\n",
      "RECON Loss: 0.036275517 0.0369514\n",
      "DIS Loss: 0.13845319 0.23721668\n"
     ]
    },
    {
     "name": "stderr",
     "output_type": "stream",
     "text": [
      "epoch #59|  0%|                                                 |ETA:   0:00:54"
     ]
    },
    {
     "name": "stdout",
     "output_type": "stream",
     "text": [
      "---------------------\n",
      "GEN Loss: 2.6494904 2.1521826\n",
      "Feature Matching Loss: 0.019303815 0.02364567\n",
      "RECON Loss: 0.036399998 0.036975667\n",
      "DIS Loss: 0.1021387 0.21947548\n"
     ]
    },
    {
     "name": "stderr",
     "output_type": "stream",
     "text": [
      "epoch #60|  0%|                                                 |ETA:   0:01:01"
     ]
    },
    {
     "name": "stdout",
     "output_type": "stream",
     "text": [
      "---------------------\n",
      "GEN Loss: 2.923442 2.4451063\n",
      "Feature Matching Loss: 0.018828347 0.023263521\n",
      "RECON Loss: 0.035989605 0.036595408\n",
      "DIS Loss: 0.084823355 0.20810936\n"
     ]
    },
    {
     "name": "stderr",
     "output_type": "stream",
     "text": [
      "epoch #61|  0%|                                                 |ETA:   0:00:55"
     ]
    },
    {
     "name": "stdout",
     "output_type": "stream",
     "text": [
      "---------------------\n",
      "GEN Loss: 2.5637212 2.203176\n",
      "Feature Matching Loss: 0.018925462 0.022158185\n",
      "RECON Loss: 0.035455067 0.03559377\n",
      "DIS Loss: 0.078424215 0.16778448\n"
     ]
    },
    {
     "name": "stderr",
     "output_type": "stream",
     "text": [
      "epoch #62|  0%|                                                 |ETA:   0:01:01"
     ]
    },
    {
     "name": "stdout",
     "output_type": "stream",
     "text": [
      "---------------------\n",
      "GEN Loss: 2.4708347 2.9136121\n",
      "Feature Matching Loss: 0.019229949 0.028855648\n",
      "RECON Loss: 0.036315456 0.036785252\n",
      "DIS Loss: 0.08397681 0.24481528\n"
     ]
    },
    {
     "name": "stderr",
     "output_type": "stream",
     "text": [
      "epoch #63|  0%|                                                 |ETA:   0:00:55"
     ]
    },
    {
     "name": "stdout",
     "output_type": "stream",
     "text": [
      "---------------------\n",
      "GEN Loss: 0.5895901 2.1065397\n",
      "Feature Matching Loss: 0.04691709 0.02372219\n",
      "RECON Loss: 0.04090514 0.036816582\n",
      "DIS Loss: 0.67565167 0.16610232\n"
     ]
    },
    {
     "name": "stderr",
     "output_type": "stream",
     "text": [
      "epoch #64|  0%|                                                 |ETA:   0:00:56"
     ]
    },
    {
     "name": "stdout",
     "output_type": "stream",
     "text": [
      "---------------------\n",
      "GEN Loss: 1.8327694 1.5322869\n",
      "Feature Matching Loss: 0.026901342 0.022703258\n",
      "RECON Loss: 0.03617169 0.035607733\n",
      "DIS Loss: 0.22795762 0.17588012\n"
     ]
    },
    {
     "name": "stderr",
     "output_type": "stream",
     "text": [
      "epoch #65|  0%|                                                 |ETA:   0:01:30"
     ]
    },
    {
     "name": "stdout",
     "output_type": "stream",
     "text": [
      "---------------------\n",
      "GEN Loss: 1.7959543 2.1043506\n",
      "Feature Matching Loss: 0.020489672 0.022706516\n",
      "RECON Loss: 0.035540245 0.03550186\n",
      "DIS Loss: 0.14493334 0.13292497\n"
     ]
    },
    {
     "name": "stderr",
     "output_type": "stream",
     "text": [
      "epoch #66|  0%|                                                 |ETA:   0:00:54"
     ]
    },
    {
     "name": "stdout",
     "output_type": "stream",
     "text": [
      "---------------------\n",
      "GEN Loss: 2.5981297 0.8816087\n",
      "Feature Matching Loss: 0.01954556 0.02851377\n",
      "RECON Loss: 0.035912484 0.037773933\n",
      "DIS Loss: 0.09825005 0.34518728\n"
     ]
    },
    {
     "name": "stderr",
     "output_type": "stream",
     "text": [
      "epoch #67|  0%|                                                 |ETA:   0:00:57"
     ]
    },
    {
     "name": "stdout",
     "output_type": "stream",
     "text": [
      "---------------------\n",
      "GEN Loss: 3.544026 2.8148263\n",
      "Feature Matching Loss: 0.018921427 0.022904908\n",
      "RECON Loss: 0.036378004 0.036182094\n",
      "DIS Loss: 0.095329456 0.08249224\n"
     ]
    },
    {
     "name": "stderr",
     "output_type": "stream",
     "text": [
      "epoch #68|  0%|                                                 |ETA:   0:00:57"
     ]
    },
    {
     "name": "stdout",
     "output_type": "stream",
     "text": [
      "---------------------\n",
      "GEN Loss: 3.6184578 1.3075337\n",
      "Feature Matching Loss: 0.018692993 0.032079622\n",
      "RECON Loss: 0.034943547 0.03494823\n",
      "DIS Loss: 0.06428035 0.32391995\n"
     ]
    },
    {
     "name": "stderr",
     "output_type": "stream",
     "text": [
      "epoch #69|  0%|                                                 |ETA:   0:00:56"
     ]
    },
    {
     "name": "stdout",
     "output_type": "stream",
     "text": [
      "---------------------\n",
      "GEN Loss: 3.3818307 2.4597812\n",
      "Feature Matching Loss: 0.01894799 0.02323018\n",
      "RECON Loss: 0.036608566 0.035574134\n",
      "DIS Loss: 0.045703977 0.15726778\n"
     ]
    },
    {
     "name": "stderr",
     "output_type": "stream",
     "text": [
      "epoch #70|  0%|                                                 |ETA:   0:00:56"
     ]
    },
    {
     "name": "stdout",
     "output_type": "stream",
     "text": [
      "---------------------\n",
      "GEN Loss: 3.5563421 3.2707074\n",
      "Feature Matching Loss: 0.01909446 0.021008123\n",
      "RECON Loss: 0.036124244 0.035130303\n",
      "DIS Loss: 0.03992859 0.1174843\n"
     ]
    },
    {
     "name": "stderr",
     "output_type": "stream",
     "text": [
      "epoch #71|  0%|                                                 |ETA:   0:01:03"
     ]
    },
    {
     "name": "stdout",
     "output_type": "stream",
     "text": [
      "---------------------\n",
      "GEN Loss: 1.6833256 3.3380554\n",
      "Feature Matching Loss: 0.044264026 0.018827584\n",
      "RECON Loss: 0.040714227 0.035248414\n",
      "DIS Loss: 0.6459897 0.07835753\n"
     ]
    },
    {
     "name": "stderr",
     "output_type": "stream",
     "text": [
      "epoch #72|  0%|                                                 |ETA:   0:00:56"
     ]
    },
    {
     "name": "stdout",
     "output_type": "stream",
     "text": [
      "---------------------\n",
      "GEN Loss: 1.1400604 3.225545\n",
      "Feature Matching Loss: 0.029024228 0.018518947\n",
      "RECON Loss: 0.03677946 0.0362513\n",
      "DIS Loss: 0.31206048 0.05973204\n"
     ]
    },
    {
     "name": "stderr",
     "output_type": "stream",
     "text": [
      "epoch #73|  0%|                                                 |ETA:   0:00:55"
     ]
    },
    {
     "name": "stdout",
     "output_type": "stream",
     "text": [
      "---------------------\n",
      "GEN Loss: 3.2081697 3.9703817\n",
      "Feature Matching Loss: 0.020359104 0.018814245\n",
      "RECON Loss: 0.03666621 0.035683163\n",
      "DIS Loss: 0.13605313 0.053518374\n"
     ]
    },
    {
     "name": "stderr",
     "output_type": "stream",
     "text": [
      "epoch #74|  0%|                                                 |ETA:   0:01:03"
     ]
    },
    {
     "name": "stdout",
     "output_type": "stream",
     "text": [
      "---------------------\n",
      "GEN Loss: 2.8986685 4.821297\n",
      "Feature Matching Loss: 0.018369969 0.020053998\n",
      "RECON Loss: 0.0357054 0.035310507\n",
      "DIS Loss: 0.07137892 0.08020318\n"
     ]
    },
    {
     "name": "stderr",
     "output_type": "stream",
     "text": [
      "epoch #75|  0%|                                                 |ETA:   0:00:57"
     ]
    },
    {
     "name": "stdout",
     "output_type": "stream",
     "text": [
      "---------------------\n",
      "GEN Loss: 3.0532992 4.421141\n",
      "Feature Matching Loss: 0.018209 0.018443994\n",
      "RECON Loss: 0.033954896 0.033659033\n",
      "DIS Loss: 0.055369742 0.03132571\n"
     ]
    },
    {
     "name": "stderr",
     "output_type": "stream",
     "text": [
      "epoch #76|  0%|                                                 |ETA:   0:01:02"
     ]
    },
    {
     "name": "stdout",
     "output_type": "stream",
     "text": [
      "---------------------\n",
      "GEN Loss: 3.1915443 4.1296325\n",
      "Feature Matching Loss: 0.01852655 0.018719867\n",
      "RECON Loss: 0.033788554 0.033460468\n",
      "DIS Loss: 0.045176737 0.02431614\n"
     ]
    },
    {
     "name": "stderr",
     "output_type": "stream",
     "text": [
      "epoch #77|  0%|                                                 |ETA:   0:00:56"
     ]
    },
    {
     "name": "stdout",
     "output_type": "stream",
     "text": [
      "---------------------\n",
      "GEN Loss: 3.5854452 3.9227924\n",
      "Feature Matching Loss: 0.018772157 0.018912323\n",
      "RECON Loss: 0.033944555 0.033476423\n",
      "DIS Loss: 0.03677068 0.021303913\n"
     ]
    },
    {
     "name": "stderr",
     "output_type": "stream",
     "text": [
      "epoch #78|  0%|                                                 |ETA:   0:00:54"
     ]
    },
    {
     "name": "stdout",
     "output_type": "stream",
     "text": [
      "---------------------\n",
      "GEN Loss: 3.864744 3.8907201\n",
      "Feature Matching Loss: 0.01908763 0.019110743\n",
      "RECON Loss: 0.03393259 0.03352032\n",
      "DIS Loss: 0.030958194 0.019215222\n"
     ]
    },
    {
     "name": "stderr",
     "output_type": "stream",
     "text": [
      "epoch #79|  0%|                                                 |ETA:   0:00:56"
     ]
    },
    {
     "name": "stdout",
     "output_type": "stream",
     "text": [
      "---------------------\n",
      "GEN Loss: 3.9536967 4.0699253\n",
      "Feature Matching Loss: 0.019479942 0.019288963\n",
      "RECON Loss: 0.033853196 0.033468686\n",
      "DIS Loss: 0.025604896 0.016264059\n"
     ]
    },
    {
     "name": "stderr",
     "output_type": "stream",
     "text": [
      "epoch #80|  0%|                                                 |ETA:   0:00:54"
     ]
    },
    {
     "name": "stdout",
     "output_type": "stream",
     "text": [
      "---------------------\n",
      "GEN Loss: 3.9702115 4.285347\n",
      "Feature Matching Loss: 0.019840537 0.019459907\n",
      "RECON Loss: 0.03381292 0.033398718\n",
      "DIS Loss: 0.02160595 0.013782722\n"
     ]
    },
    {
     "name": "stderr",
     "output_type": "stream",
     "text": [
      "epoch #81|  0%|                                                 |ETA:   0:00:55"
     ]
    },
    {
     "name": "stdout",
     "output_type": "stream",
     "text": [
      "---------------------\n",
      "GEN Loss: 4.0383177 4.5007534\n",
      "Feature Matching Loss: 0.020112276 0.01964764\n",
      "RECON Loss: 0.033839248 0.033360865\n",
      "DIS Loss: 0.01862387 0.011815861\n"
     ]
    },
    {
     "name": "stderr",
     "output_type": "stream",
     "text": [
      "epoch #82|  0%|                                                 |ETA:   0:00:59"
     ]
    },
    {
     "name": "stdout",
     "output_type": "stream",
     "text": [
      "---------------------\n",
      "GEN Loss: 4.165275 4.686741\n",
      "Feature Matching Loss: 0.020327337 0.019840732\n",
      "RECON Loss: 0.03392262 0.03335288\n",
      "DIS Loss: 0.01603828 0.010256813\n"
     ]
    },
    {
     "name": "stderr",
     "output_type": "stream",
     "text": [
      "epoch #83|  0%|                                                 |ETA:   0:00:58"
     ]
    },
    {
     "name": "stdout",
     "output_type": "stream",
     "text": [
      "---------------------\n",
      "GEN Loss: 4.312345 4.8548055\n",
      "Feature Matching Loss: 0.020547647 0.020031858\n",
      "RECON Loss: 0.033961885 0.03332516\n",
      "DIS Loss: 0.01384544 0.008979179\n"
     ]
    },
    {
     "name": "stderr",
     "output_type": "stream",
     "text": [
      "epoch #84|  0%|                                                 |ETA:   0:00:56"
     ]
    },
    {
     "name": "stdout",
     "output_type": "stream",
     "text": [
      "---------------------\n",
      "GEN Loss: 4.483689 5.0134044\n",
      "Feature Matching Loss: 0.020752817 0.020215446\n",
      "RECON Loss: 0.03401966 0.033288177\n",
      "DIS Loss: 0.011997726 0.0078888275\n"
     ]
    },
    {
     "name": "stderr",
     "output_type": "stream",
     "text": [
      "epoch #85|  0%|                                                 |ETA:   0:00:58"
     ]
    },
    {
     "name": "stdout",
     "output_type": "stream",
     "text": [
      "---------------------\n",
      "GEN Loss: 4.657093 5.1661334\n",
      "Feature Matching Loss: 0.020965965 0.020424124\n",
      "RECON Loss: 0.034093045 0.03325303\n",
      "DIS Loss: 0.010564245 0.006959574\n"
     ]
    },
    {
     "name": "stderr",
     "output_type": "stream",
     "text": [
      "epoch #86|  0%|                                                 |ETA:   0:00:56"
     ]
    },
    {
     "name": "stdout",
     "output_type": "stream",
     "text": [
      "---------------------\n",
      "GEN Loss: 4.5099306 4.9945674\n",
      "Feature Matching Loss: 0.01972802 0.019167412\n",
      "RECON Loss: 0.021048203 0.02177681\n",
      "DIS Loss: 0.013883308 0.01192717\n"
     ]
    },
    {
     "name": "stderr",
     "output_type": "stream",
     "text": [
      "epoch #87|  0%|                                                 |ETA:   0:00:55"
     ]
    },
    {
     "name": "stdout",
     "output_type": "stream",
     "text": [
      "---------------------\n",
      "GEN Loss: 4.709097 5.158475\n",
      "Feature Matching Loss: 0.019291326 0.019032279\n",
      "RECON Loss: 0.019005544 0.019777827\n",
      "DIS Loss: 0.013528373 0.010751291\n"
     ]
    },
    {
     "name": "stderr",
     "output_type": "stream",
     "text": [
      "epoch #88|  0%|                                                 |ETA:   0:00:59"
     ]
    },
    {
     "name": "stdout",
     "output_type": "stream",
     "text": [
      "---------------------\n",
      "GEN Loss: 4.761222 5.254405\n",
      "Feature Matching Loss: 0.019464465 0.019086193\n",
      "RECON Loss: 0.017928 0.018365396\n",
      "DIS Loss: 0.01190665 0.009172218\n"
     ]
    },
    {
     "name": "stderr",
     "output_type": "stream",
     "text": [
      "epoch #89|  0%|                                                 |ETA:   0:00:56"
     ]
    },
    {
     "name": "stdout",
     "output_type": "stream",
     "text": [
      "---------------------\n",
      "GEN Loss: 4.8473306 5.2671947\n",
      "Feature Matching Loss: 0.019621165 0.01910735\n",
      "RECON Loss: 0.017118093 0.017253103\n",
      "DIS Loss: 0.010570258 0.008246705\n"
     ]
    },
    {
     "name": "stderr",
     "output_type": "stream",
     "text": [
      "epoch #90|  0%|                                                 |ETA:   0:00:55"
     ]
    },
    {
     "name": "stdout",
     "output_type": "stream",
     "text": [
      "---------------------\n",
      "GEN Loss: 4.929384 5.3029246\n",
      "Feature Matching Loss: 0.019715428 0.01918555\n",
      "RECON Loss: 0.016444035 0.016606297\n",
      "DIS Loss: 0.009610897 0.007601654\n"
     ]
    },
    {
     "name": "stderr",
     "output_type": "stream",
     "text": [
      "epoch #91|  0%|                                                 |ETA:   0:01:01"
     ]
    },
    {
     "name": "stdout",
     "output_type": "stream",
     "text": [
      "---------------------\n",
      "GEN Loss: 5.06814 5.315826\n",
      "Feature Matching Loss: 0.019890532 0.019314036\n",
      "RECON Loss: 0.015847562 0.016128723\n",
      "DIS Loss: 0.008687516 0.006852001\n"
     ]
    },
    {
     "name": "stderr",
     "output_type": "stream",
     "text": [
      "epoch #92|  0%|                                                 |ETA:   0:00:56"
     ]
    },
    {
     "name": "stdout",
     "output_type": "stream",
     "text": [
      "---------------------\n",
      "GEN Loss: 5.2918386 5.398758\n",
      "Feature Matching Loss: 0.020094793 0.019398835\n",
      "RECON Loss: 0.015343599 0.015820809\n",
      "DIS Loss: 0.0079587195 0.0064220307\n"
     ]
    },
    {
     "name": "stderr",
     "output_type": "stream",
     "text": [
      "epoch #93|  0%|                                                 |ETA:   0:00:57"
     ]
    },
    {
     "name": "stdout",
     "output_type": "stream",
     "text": [
      "---------------------\n",
      "GEN Loss: 5.462942 5.365282\n",
      "Feature Matching Loss: 0.02040489 0.0196083\n",
      "RECON Loss: 0.0149020655 0.015546608\n",
      "DIS Loss: 0.007233241 0.0056700874\n"
     ]
    },
    {
     "name": "stderr",
     "output_type": "stream",
     "text": [
      "epoch #94|  0%|                                                 |ETA:   0:00:55"
     ]
    },
    {
     "name": "stdout",
     "output_type": "stream",
     "text": [
      "---------------------\n",
      "GEN Loss: 5.546218 5.439751\n",
      "Feature Matching Loss: 0.020779384 0.019756338\n",
      "RECON Loss: 0.014540141 0.015276372\n",
      "DIS Loss: 0.006405725 0.0051628225\n"
     ]
    },
    {
     "name": "stderr",
     "output_type": "stream",
     "text": [
      "epoch #95|  0%|                                                 |ETA:   0:00:57"
     ]
    },
    {
     "name": "stdout",
     "output_type": "stream",
     "text": [
      "---------------------\n",
      "GEN Loss: 5.568736 5.5491076\n",
      "Feature Matching Loss: 0.020983417 0.019772729\n",
      "RECON Loss: 0.014283458 0.015116466\n",
      "DIS Loss: 0.005880066 0.0049170847\n"
     ]
    },
    {
     "name": "stderr",
     "output_type": "stream",
     "text": [
      "epoch #96|  0%|                                                 |ETA:   0:00:59"
     ]
    },
    {
     "name": "stdout",
     "output_type": "stream",
     "text": [
      "---------------------\n",
      "GEN Loss: 5.732835 5.563689\n",
      "Feature Matching Loss: 0.020865675 0.019838914\n",
      "RECON Loss: 0.0140837245 0.014922088\n",
      "DIS Loss: 0.0058718575 0.004607612\n"
     ]
    },
    {
     "name": "stderr",
     "output_type": "stream",
     "text": [
      "epoch #97|  0%|                                                 |ETA:   0:00:56"
     ]
    },
    {
     "name": "stdout",
     "output_type": "stream",
     "text": [
      "---------------------\n",
      "GEN Loss: 5.875494 5.6044407\n",
      "Feature Matching Loss: 0.021156993 0.019983293\n",
      "RECON Loss: 0.013870573 0.014642599\n",
      "DIS Loss: 0.0055902014 0.004201049\n"
     ]
    },
    {
     "name": "stderr",
     "output_type": "stream",
     "text": [
      "epoch #98|  0%|                                                 |ETA:   0:00:59"
     ]
    },
    {
     "name": "stdout",
     "output_type": "stream",
     "text": [
      "---------------------\n",
      "GEN Loss: 6.039173 5.6722317\n",
      "Feature Matching Loss: 0.021609683 0.020132694\n",
      "RECON Loss: 0.01366018 0.014334741\n",
      "DIS Loss: 0.005242877 0.0038429855\n"
     ]
    },
    {
     "name": "stderr",
     "output_type": "stream",
     "text": [
      "epoch #99|  0%|                                                 |ETA:   0:01:03"
     ]
    },
    {
     "name": "stdout",
     "output_type": "stream",
     "text": [
      "---------------------\n",
      "GEN Loss: 6.27349 5.7427373\n",
      "Feature Matching Loss: 0.021991428 0.020271014\n",
      "RECON Loss: 0.013477325 0.014018845\n",
      "DIS Loss: 0.00502373 0.0035312958\n"
     ]
    },
    {
     "name": "stderr",
     "output_type": "stream",
     "text": [
      "epoch #100|  0%|                                                |ETA:   0:00:55"
     ]
    },
    {
     "name": "stdout",
     "output_type": "stream",
     "text": [
      "---------------------\n",
      "GEN Loss: 6.683194 5.8525133\n",
      "Feature Matching Loss: 0.022483286 0.020445416\n",
      "RECON Loss: 0.013302196 0.013742073\n",
      "DIS Loss: 0.004925561 0.0032042684\n"
     ]
    },
    {
     "name": "stderr",
     "output_type": "stream",
     "text": [
      "epoch #101|  0%|                                                |ETA:   0:00:56"
     ]
    },
    {
     "name": "stdout",
     "output_type": "stream",
     "text": [
      "---------------------\n",
      "GEN Loss: 6.290515 6.0220103\n",
      "Feature Matching Loss: 0.027173325 0.02054666\n",
      "RECON Loss: 0.013145979 0.013377289\n",
      "DIS Loss: 0.002450222 0.0029503398\n"
     ]
    },
    {
     "name": "stderr",
     "output_type": "stream",
     "text": [
      "epoch #102|  0%|                                                |ETA:   0:01:00"
     ]
    },
    {
     "name": "stdout",
     "output_type": "stream",
     "text": [
      "---------------------\n",
      "GEN Loss: 0.6274374 0.6145211\n",
      "Feature Matching Loss: 0.022072177 0.02111448\n",
      "RECON Loss: 0.028940037 0.027466467\n",
      "DIS Loss: 0.7792944 0.769359\n"
     ]
    },
    {
     "name": "stderr",
     "output_type": "stream",
     "text": [
      "epoch #103|  0%|                                                |ETA:   0:00:55"
     ]
    },
    {
     "name": "stdout",
     "output_type": "stream",
     "text": [
      "---------------------\n",
      "GEN Loss: 0.61459154 0.6062884\n",
      "Feature Matching Loss: 0.019379178 0.01507644\n",
      "RECON Loss: 0.021592438 0.020660756\n",
      "DIS Loss: 0.7669101 0.7349951\n"
     ]
    },
    {
     "name": "stderr",
     "output_type": "stream",
     "text": [
      "epoch #104|  0%|                                                |ETA:   0:00:56"
     ]
    },
    {
     "name": "stdout",
     "output_type": "stream",
     "text": [
      "---------------------\n",
      "GEN Loss: 0.66889787 0.6199794\n",
      "Feature Matching Loss: 0.015174647 0.014055175\n",
      "RECON Loss: 0.01714972 0.01777372\n",
      "DIS Loss: 0.7241106 0.7264334\n"
     ]
    },
    {
     "name": "stderr",
     "output_type": "stream",
     "text": [
      "epoch #105|  0%|                                                |ETA:   0:00:57"
     ]
    },
    {
     "name": "stdout",
     "output_type": "stream",
     "text": [
      "---------------------\n",
      "GEN Loss: 0.67472774 0.60844916\n",
      "Feature Matching Loss: 0.013440268 0.013082927\n",
      "RECON Loss: 0.015060885 0.016100341\n",
      "DIS Loss: 0.7172286 0.72005457\n"
     ]
    },
    {
     "name": "stderr",
     "output_type": "stream",
     "text": [
      "epoch #106|  0%|                                                |ETA:   0:00:58"
     ]
    },
    {
     "name": "stdout",
     "output_type": "stream",
     "text": [
      "---------------------\n",
      "GEN Loss: 0.6820694 0.6132704\n",
      "Feature Matching Loss: 0.01292804 0.0123480465\n",
      "RECON Loss: 0.013770409 0.014583355\n",
      "DIS Loss: 0.7083884 0.71419036\n"
     ]
    },
    {
     "name": "stderr",
     "output_type": "stream",
     "text": [
      "epoch #107|  0%|                                                |ETA:   0:00:55"
     ]
    },
    {
     "name": "stdout",
     "output_type": "stream",
     "text": [
      "---------------------\n",
      "GEN Loss: 0.6817226 0.60707873\n",
      "Feature Matching Loss: 0.01309509 0.012030457\n",
      "RECON Loss: 0.013029421 0.013560699\n",
      "DIS Loss: 0.7048931 0.71471524\n"
     ]
    },
    {
     "name": "stderr",
     "output_type": "stream",
     "text": [
      "epoch #108|  0%|                                                |ETA:   0:00:58"
     ]
    },
    {
     "name": "stdout",
     "output_type": "stream",
     "text": [
      "---------------------\n",
      "GEN Loss: 0.6794722 0.61121595\n",
      "Feature Matching Loss: 0.013201685 0.011631593\n",
      "RECON Loss: 0.012542772 0.012875884\n",
      "DIS Loss: 0.7019453 0.7107317\n"
     ]
    },
    {
     "name": "stderr",
     "output_type": "stream",
     "text": [
      "epoch #109|  0%|                                                |ETA:   0:00:56"
     ]
    },
    {
     "name": "stdout",
     "output_type": "stream",
     "text": [
      "---------------------\n",
      "GEN Loss: 0.68126833 0.61416644\n",
      "Feature Matching Loss: 0.013151157 0.011543977\n",
      "RECON Loss: 0.012157893 0.012473125\n",
      "DIS Loss: 0.69880295 0.70688933\n"
     ]
    },
    {
     "name": "stderr",
     "output_type": "stream",
     "text": [
      "epoch #110|  0%|                                                |ETA:   0:01:05"
     ]
    },
    {
     "name": "stdout",
     "output_type": "stream",
     "text": [
      "---------------------\n",
      "GEN Loss: 0.685074 0.61747247\n",
      "Feature Matching Loss: 0.0131548485 0.011533409\n",
      "RECON Loss: 0.011855556 0.012195373\n",
      "DIS Loss: 0.69542235 0.7042735\n"
     ]
    },
    {
     "name": "stderr",
     "output_type": "stream",
     "text": [
      "epoch #111|  0%|                                                |ETA:   0:01:04"
     ]
    },
    {
     "name": "stdout",
     "output_type": "stream",
     "text": [
      "---------------------\n",
      "GEN Loss: 0.6872861 0.61963475\n",
      "Feature Matching Loss: 0.013318431 0.011629028\n",
      "RECON Loss: 0.011620745 0.011972887\n",
      "DIS Loss: 0.6931592 0.70241654\n"
     ]
    },
    {
     "name": "stderr",
     "output_type": "stream",
     "text": [
      "epoch #112|  0%|                                                |ETA:   0:00:58"
     ]
    },
    {
     "name": "stdout",
     "output_type": "stream",
     "text": [
      "---------------------\n",
      "GEN Loss: 0.6912267 0.6218258\n",
      "Feature Matching Loss: 0.013584353 0.011811101\n",
      "RECON Loss: 0.011399883 0.01178897\n",
      "DIS Loss: 0.6912419 0.70156324\n"
     ]
    },
    {
     "name": "stderr",
     "output_type": "stream",
     "text": [
      "epoch #113|  0%|                                                |ETA:   0:00:56"
     ]
    },
    {
     "name": "stdout",
     "output_type": "stream",
     "text": [
      "---------------------\n",
      "GEN Loss: 0.69392884 0.6249386\n",
      "Feature Matching Loss: 0.013518302 0.012079336\n",
      "RECON Loss: 0.011206317 0.011677171\n",
      "DIS Loss: 0.6901086 0.7006094\n"
     ]
    },
    {
     "name": "stderr",
     "output_type": "stream",
     "text": [
      "epoch #114|  0%|                                                |ETA:   0:00:55"
     ]
    },
    {
     "name": "stdout",
     "output_type": "stream",
     "text": [
      "---------------------\n",
      "GEN Loss: 0.69430286 0.62722516\n",
      "Feature Matching Loss: 0.013246387 0.012321021\n",
      "RECON Loss: 0.011034563 0.011576257\n",
      "DIS Loss: 0.6887281 0.699659\n"
     ]
    },
    {
     "name": "stderr",
     "output_type": "stream",
     "text": [
      "epoch #115|  0%|                                                |ETA:   0:00:57"
     ]
    },
    {
     "name": "stdout",
     "output_type": "stream",
     "text": [
      "---------------------\n",
      "GEN Loss: 0.6985332 0.6273818\n",
      "Feature Matching Loss: 0.013686128 0.012739598\n",
      "RECON Loss: 0.010899122 0.011494233\n",
      "DIS Loss: 0.6869452 0.7003454\n"
     ]
    },
    {
     "name": "stderr",
     "output_type": "stream",
     "text": [
      "epoch #116|  0%|                                                |ETA:   0:00:55"
     ]
    },
    {
     "name": "stdout",
     "output_type": "stream",
     "text": [
      "---------------------\n",
      "GEN Loss: 0.69986945 0.6299652\n",
      "Feature Matching Loss: 0.013657995 0.013200887\n",
      "RECON Loss: 0.010773642 0.0113962395\n",
      "DIS Loss: 0.6871172 0.7009493\n"
     ]
    },
    {
     "name": "stderr",
     "output_type": "stream",
     "text": [
      "epoch #117|  0%|                                                |ETA:   0:01:00"
     ]
    },
    {
     "name": "stdout",
     "output_type": "stream",
     "text": [
      "---------------------\n",
      "GEN Loss: 0.7011589 0.6302694\n",
      "Feature Matching Loss: 0.014499461 0.013661625\n",
      "RECON Loss: 0.010718031 0.011354963\n",
      "DIS Loss: 0.68404585 0.70192945\n"
     ]
    },
    {
     "name": "stderr",
     "output_type": "stream",
     "text": [
      "epoch #118|  0%|                                                |ETA:   0:00:54"
     ]
    },
    {
     "name": "stdout",
     "output_type": "stream",
     "text": [
      "---------------------\n",
      "GEN Loss: 0.7087333 0.6292323\n",
      "Feature Matching Loss: 0.018606406 0.013943683\n",
      "RECON Loss: 0.010576 0.011269133\n",
      "DIS Loss: 0.6813905 0.70303106\n"
     ]
    },
    {
     "name": "stderr",
     "output_type": "stream",
     "text": [
      "epoch #119|  0%|                                                |ETA:   0:01:02"
     ]
    },
    {
     "name": "stdout",
     "output_type": "stream",
     "text": [
      "---------------------\n",
      "GEN Loss: 0.7003203 0.6352822\n",
      "Feature Matching Loss: 0.012725543 0.012617343\n",
      "RECON Loss: 0.010429687 0.011252707\n",
      "DIS Loss: 0.6878706 0.70186156\n"
     ]
    },
    {
     "name": "stderr",
     "output_type": "stream",
     "text": [
      "epoch #120|  0%|                                                |ETA:   0:00:56"
     ]
    },
    {
     "name": "stdout",
     "output_type": "stream",
     "text": [
      "---------------------\n",
      "GEN Loss: 0.69382685 0.64237964\n",
      "Feature Matching Loss: 0.013538395 0.01284019\n",
      "RECON Loss: 0.0103419125 0.011169963\n",
      "DIS Loss: 0.6909052 0.6975718\n"
     ]
    },
    {
     "name": "stderr",
     "output_type": "stream",
     "text": [
      "epoch #121|  0%|                                                |ETA:   0:00:59"
     ]
    },
    {
     "name": "stdout",
     "output_type": "stream",
     "text": [
      "---------------------\n",
      "GEN Loss: 0.70147765 0.66147494\n",
      "Feature Matching Loss: 0.013546353 0.014516338\n",
      "RECON Loss: 0.010283089 0.01120767\n",
      "DIS Loss: 0.68734956 0.69647574\n"
     ]
    },
    {
     "name": "stderr",
     "output_type": "stream",
     "text": [
      "epoch #122|  0%|                                                |ETA:   0:01:00"
     ]
    },
    {
     "name": "stdout",
     "output_type": "stream",
     "text": [
      "---------------------\n",
      "GEN Loss: 0.6963314 0.6843465\n",
      "Feature Matching Loss: 0.014269598 0.015162833\n",
      "RECON Loss: 0.010558827 0.011379144\n",
      "DIS Loss: 0.69087195 0.69798034\n"
     ]
    },
    {
     "name": "stderr",
     "output_type": "stream",
     "text": [
      "epoch #123|  0%|                                                |ETA:   0:00:55"
     ]
    },
    {
     "name": "stdout",
     "output_type": "stream",
     "text": [
      "---------------------\n",
      "GEN Loss: 0.6868701 0.6651884\n",
      "Feature Matching Loss: 0.0147698745 0.01576943\n",
      "RECON Loss: 0.01050648 0.011382535\n",
      "DIS Loss: 0.69277203 0.6987237\n"
     ]
    },
    {
     "name": "stderr",
     "output_type": "stream",
     "text": [
      "epoch #124|  0%|                                                |ETA:   0:01:36"
     ]
    },
    {
     "name": "stdout",
     "output_type": "stream",
     "text": [
      "---------------------\n",
      "GEN Loss: 0.6747977 0.67094487\n",
      "Feature Matching Loss: 0.01888645 0.013497753\n",
      "RECON Loss: 0.010254873 0.011115685\n",
      "DIS Loss: 0.6978833 0.6957954\n"
     ]
    },
    {
     "name": "stderr",
     "output_type": "stream",
     "text": [
      "epoch #125|  0%|                                                |ETA:   0:00:54"
     ]
    },
    {
     "name": "stdout",
     "output_type": "stream",
     "text": [
      "---------------------\n",
      "GEN Loss: 0.6612452 0.68776536\n",
      "Feature Matching Loss: 0.019050071 0.012380362\n",
      "RECON Loss: 0.01015356 0.01112297\n",
      "DIS Loss: 0.7035478 0.6986991\n"
     ]
    },
    {
     "name": "stderr",
     "output_type": "stream",
     "text": [
      "epoch #126|  0%|                                                |ETA:   0:00:55"
     ]
    },
    {
     "name": "stdout",
     "output_type": "stream",
     "text": [
      "---------------------\n",
      "GEN Loss: 0.6484905 0.70868295\n",
      "Feature Matching Loss: 0.023175552 0.011058485\n",
      "RECON Loss: 0.010047924 0.011105884\n",
      "DIS Loss: 0.70667565 0.6982179\n"
     ]
    },
    {
     "name": "stderr",
     "output_type": "stream",
     "text": [
      "epoch #127|  0%|                                                |ETA:   0:01:00"
     ]
    },
    {
     "name": "stdout",
     "output_type": "stream",
     "text": [
      "---------------------\n",
      "GEN Loss: 0.65053505 0.7072054\n",
      "Feature Matching Loss: 0.020964412 0.0087986905\n",
      "RECON Loss: 0.009970434 0.010883059\n",
      "DIS Loss: 0.70442975 0.6915298\n"
     ]
    },
    {
     "name": "stderr",
     "output_type": "stream",
     "text": [
      "epoch #128|  0%|                                                |ETA:   0:01:02"
     ]
    },
    {
     "name": "stdout",
     "output_type": "stream",
     "text": [
      "---------------------\n",
      "GEN Loss: 0.6598102 0.6810811\n",
      "Feature Matching Loss: 0.015040975 0.0087119825\n",
      "RECON Loss: 0.009980941 0.010639797\n",
      "DIS Loss: 0.70133114 0.68858695\n"
     ]
    },
    {
     "name": "stderr",
     "output_type": "stream",
     "text": [
      "epoch #129|  0%|                                                |ETA:   0:00:58"
     ]
    },
    {
     "name": "stdout",
     "output_type": "stream",
     "text": [
      "---------------------\n",
      "GEN Loss: 0.68688273 0.6455162\n",
      "Feature Matching Loss: 0.012783726 0.011577983\n",
      "RECON Loss: 0.0098138405 0.010488501\n",
      "DIS Loss: 0.6867455 0.6886283\n"
     ]
    },
    {
     "name": "stderr",
     "output_type": "stream",
     "text": [
      "epoch #130|  0%|                                                |ETA:   0:00:54"
     ]
    },
    {
     "name": "stdout",
     "output_type": "stream",
     "text": [
      "---------------------\n",
      "GEN Loss: 0.67793703 0.6349553\n",
      "Feature Matching Loss: 0.023040153 0.012895257\n",
      "RECON Loss: 0.009700319 0.010477209\n",
      "DIS Loss: 0.6860272 0.6888577\n"
     ]
    },
    {
     "name": "stderr",
     "output_type": "stream",
     "text": [
      "epoch #131|  0%|                                                |ETA:   0:00:58"
     ]
    },
    {
     "name": "stdout",
     "output_type": "stream",
     "text": [
      "---------------------\n",
      "GEN Loss: 0.6491598 0.6936945\n",
      "Feature Matching Loss: 0.021278786 0.012861682\n",
      "RECON Loss: 0.009686089 0.010624163\n",
      "DIS Loss: 0.6979606 0.6851964\n"
     ]
    },
    {
     "name": "stderr",
     "output_type": "stream",
     "text": [
      "epoch #132|N/A%|                                                |ETA:  --:--:--"
     ]
    },
    {
     "name": "stdout",
     "output_type": "stream",
     "text": [
      "---------------------\n"
     ]
    },
    {
     "name": "stderr",
     "output_type": "stream",
     "text": [
      "\r",
      "                                                                               \r",
      "\r",
      "epoch #132|  0%|                                                |ETA:   0:01:46"
     ]
    },
    {
     "name": "stdout",
     "output_type": "stream",
     "text": [
      "GEN Loss: 0.6542833 0.73103344\n",
      "Feature Matching Loss: 0.014025511 0.013075348\n",
      "RECON Loss: 0.009519781 0.010642352\n",
      "DIS Loss: 0.69821167 0.6886674\n"
     ]
    },
    {
     "name": "stderr",
     "output_type": "stream",
     "text": [
      "epoch #133|  0%|                                                |ETA:   0:01:00"
     ]
    },
    {
     "name": "stdout",
     "output_type": "stream",
     "text": [
      "---------------------\n",
      "GEN Loss: 0.64112294 0.704435\n",
      "Feature Matching Loss: 0.012816554 0.0134877665\n",
      "RECON Loss: 0.009484336 0.010502679\n",
      "DIS Loss: 0.6983638 0.698199\n"
     ]
    },
    {
     "name": "stderr",
     "output_type": "stream",
     "text": [
      "epoch #134|  0%|                                                |ETA:   0:00:55"
     ]
    },
    {
     "name": "stdout",
     "output_type": "stream",
     "text": [
      "---------------------\n",
      "GEN Loss: 0.6526315 0.6682771\n",
      "Feature Matching Loss: 0.01725696 0.012870768\n",
      "RECON Loss: 0.009521117 0.010370746\n",
      "DIS Loss: 0.6928916 0.699751\n"
     ]
    },
    {
     "name": "stderr",
     "output_type": "stream",
     "text": [
      "epoch #135|  0%|                                                |ETA:   0:00:58"
     ]
    },
    {
     "name": "stdout",
     "output_type": "stream",
     "text": [
      "---------------------\n",
      "GEN Loss: 0.6509351 0.6534898\n",
      "Feature Matching Loss: 0.012506805 0.011773512\n",
      "RECON Loss: 0.009541109 0.0100359125\n",
      "DIS Loss: 0.6887981 0.6895335\n"
     ]
    },
    {
     "name": "stderr",
     "output_type": "stream",
     "text": [
      "epoch #136|  0%|                                                |ETA:   0:00:57"
     ]
    },
    {
     "name": "stdout",
     "output_type": "stream",
     "text": [
      "---------------------\n",
      "GEN Loss: 0.67041665 0.66732466\n",
      "Feature Matching Loss: 0.010267581 0.011563157\n",
      "RECON Loss: 0.009687837 0.010088998\n",
      "DIS Loss: 0.6865387 0.6813092\n"
     ]
    },
    {
     "name": "stderr",
     "output_type": "stream",
     "text": [
      "epoch #137|  0%|                                                |ETA:   0:00:59"
     ]
    },
    {
     "name": "stdout",
     "output_type": "stream",
     "text": [
      "---------------------\n",
      "GEN Loss: 0.66905946 0.67087877\n",
      "Feature Matching Loss: 0.011363823 0.011754435\n",
      "RECON Loss: 0.009466769 0.009958092\n",
      "DIS Loss: 0.68146586 0.680573\n"
     ]
    },
    {
     "name": "stderr",
     "output_type": "stream",
     "text": [
      "epoch #138|  0%|                                                |ETA:   0:01:06"
     ]
    },
    {
     "name": "stdout",
     "output_type": "stream",
     "text": [
      "---------------------\n",
      "GEN Loss: 0.66715646 0.6384445\n",
      "Feature Matching Loss: 0.016299749 0.014420001\n",
      "RECON Loss: 0.009540922 0.009938537\n",
      "DIS Loss: 0.68332803 0.6883673\n"
     ]
    },
    {
     "name": "stderr",
     "output_type": "stream",
     "text": [
      "epoch #139|  0%|                                                |ETA:   0:00:59"
     ]
    },
    {
     "name": "stdout",
     "output_type": "stream",
     "text": [
      "---------------------\n",
      "GEN Loss: 0.6472988 0.6622817\n",
      "Feature Matching Loss: 0.0144519145 0.012728192\n",
      "RECON Loss: 0.009350103 0.010084414\n",
      "DIS Loss: 0.6888155 0.6856126\n"
     ]
    },
    {
     "name": "stderr",
     "output_type": "stream",
     "text": [
      "epoch #140|  0%|                                                |ETA:   0:01:00"
     ]
    },
    {
     "name": "stdout",
     "output_type": "stream",
     "text": [
      "---------------------\n",
      "GEN Loss: 0.64522076 0.68544805\n",
      "Feature Matching Loss: 0.012093289 0.0104123745\n",
      "RECON Loss: 0.009373644 0.009954436\n",
      "DIS Loss: 0.6928205 0.6830118\n"
     ]
    },
    {
     "name": "stderr",
     "output_type": "stream",
     "text": [
      "epoch #141|  0%|                                                |ETA:   0:00:58"
     ]
    },
    {
     "name": "stdout",
     "output_type": "stream",
     "text": [
      "---------------------\n",
      "GEN Loss: 0.65837806 0.65773\n",
      "Feature Matching Loss: 0.009924277 0.010140488\n",
      "RECON Loss: 0.009118865 0.009836338\n",
      "DIS Loss: 0.68297374 0.6827488\n"
     ]
    },
    {
     "name": "stderr",
     "output_type": "stream",
     "text": [
      "epoch #142|  0%|                                                |ETA:   0:00:55"
     ]
    },
    {
     "name": "stdout",
     "output_type": "stream",
     "text": [
      "---------------------\n",
      "GEN Loss: 0.682825 0.6602871\n",
      "Feature Matching Loss: 0.010944164 0.011692522\n",
      "RECON Loss: 0.009264893 0.009860327\n",
      "DIS Loss: 0.67715466 0.6839458\n"
     ]
    },
    {
     "name": "stderr",
     "output_type": "stream",
     "text": [
      "epoch #143|  0%|                                                |ETA:   0:00:59"
     ]
    },
    {
     "name": "stdout",
     "output_type": "stream",
     "text": [
      "---------------------\n",
      "GEN Loss: 0.6675127 0.6760225\n",
      "Feature Matching Loss: 0.014496049 0.011488162\n",
      "RECON Loss: 0.009368964 0.009800661\n",
      "DIS Loss: 0.68122685 0.68982893\n"
     ]
    },
    {
     "name": "stderr",
     "output_type": "stream",
     "text": [
      "epoch #144|  0%|                                                |ETA:   0:00:56"
     ]
    },
    {
     "name": "stdout",
     "output_type": "stream",
     "text": [
      "---------------------\n",
      "GEN Loss: 0.6628827 0.64601415\n",
      "Feature Matching Loss: 0.0114245415 0.013480443\n",
      "RECON Loss: 0.009352647 0.0098798275\n",
      "DIS Loss: 0.6846918 0.6953447\n"
     ]
    },
    {
     "name": "stderr",
     "output_type": "stream",
     "text": [
      "epoch #145|  0%|                                                |ETA:   0:01:02"
     ]
    },
    {
     "name": "stdout",
     "output_type": "stream",
     "text": [
      "---------------------\n",
      "GEN Loss: 0.6488202 0.64768744\n",
      "Feature Matching Loss: 0.013419063 0.014235943\n",
      "RECON Loss: 0.0092499 0.00987739\n",
      "DIS Loss: 0.6891162 0.691895\n"
     ]
    },
    {
     "name": "stderr",
     "output_type": "stream",
     "text": [
      "epoch #146|  0%|                                                |ETA:   0:00:58"
     ]
    },
    {
     "name": "stdout",
     "output_type": "stream",
     "text": [
      "---------------------\n",
      "GEN Loss: 0.6459247 0.66576225\n",
      "Feature Matching Loss: 0.014766741 0.012471573\n",
      "RECON Loss: 0.009054076 0.009768905\n",
      "DIS Loss: 0.68828344 0.68840945\n"
     ]
    },
    {
     "name": "stderr",
     "output_type": "stream",
     "text": [
      "epoch #147|  0%|                                                |ETA:   0:01:03"
     ]
    },
    {
     "name": "stdout",
     "output_type": "stream",
     "text": [
      "---------------------\n",
      "GEN Loss: 0.6770683 0.68592143\n",
      "Feature Matching Loss: 0.014031503 0.012900185\n",
      "RECON Loss: 0.009344766 0.01003851\n",
      "DIS Loss: 0.6803258 0.6902909\n"
     ]
    },
    {
     "name": "stderr",
     "output_type": "stream",
     "text": [
      "epoch #148|  0%|                                                |ETA:   0:01:02"
     ]
    },
    {
     "name": "stdout",
     "output_type": "stream",
     "text": [
      "---------------------\n",
      "GEN Loss: 0.6681137 0.6547149\n",
      "Feature Matching Loss: 0.01092331 0.011688801\n",
      "RECON Loss: 0.009205363 0.009789354\n",
      "DIS Loss: 0.68355525 0.69151795\n"
     ]
    },
    {
     "name": "stderr",
     "output_type": "stream",
     "text": [
      "epoch #149|  0%|                                                |ETA:   0:00:56"
     ]
    },
    {
     "name": "stdout",
     "output_type": "stream",
     "text": [
      "---------------------\n",
      "GEN Loss: 0.69900936 0.63146126\n",
      "Feature Matching Loss: 0.013138019 0.012256553\n",
      "RECON Loss: 0.008993026 0.009544412\n",
      "DIS Loss: 0.6760279 0.68655974\n"
     ]
    },
    {
     "name": "stderr",
     "output_type": "stream",
     "text": [
      "epoch #150|  0%|                                                |ETA:   0:00:58"
     ]
    },
    {
     "name": "stdout",
     "output_type": "stream",
     "text": [
      "---------------------\n",
      "GEN Loss: 0.69102216 0.65866494\n",
      "Feature Matching Loss: 0.01303748 0.014538262\n",
      "RECON Loss: 0.009097712 0.009961827\n",
      "DIS Loss: 0.6726191 0.68281245\n"
     ]
    },
    {
     "name": "stderr",
     "output_type": "stream",
     "text": [
      "epoch #151|  0%|                                                |ETA:   0:00:57"
     ]
    },
    {
     "name": "stdout",
     "output_type": "stream",
     "text": [
      "---------------------\n",
      "GEN Loss: 0.6525464 0.6581497\n",
      "Feature Matching Loss: 0.015323089 0.013622822\n",
      "RECON Loss: 0.009085989 0.009737395\n",
      "DIS Loss: 0.6936152 0.6857551\n"
     ]
    },
    {
     "name": "stderr",
     "output_type": "stream",
     "text": [
      "epoch #152|  0%|                                                |ETA:   0:00:54"
     ]
    },
    {
     "name": "stdout",
     "output_type": "stream",
     "text": [
      "---------------------\n",
      "GEN Loss: 0.69069415 0.6550612\n",
      "Feature Matching Loss: 0.011855132 0.01388734\n",
      "RECON Loss: 0.008973513 0.009766653\n",
      "DIS Loss: 0.6759207 0.68392706\n"
     ]
    },
    {
     "name": "stderr",
     "output_type": "stream",
     "text": [
      "epoch #153|  0%|                                                |ETA:   0:01:00"
     ]
    },
    {
     "name": "stdout",
     "output_type": "stream",
     "text": [
      "---------------------\n",
      "GEN Loss: 0.6850082 0.68793875\n",
      "Feature Matching Loss: 0.014542016 0.012417648\n",
      "RECON Loss: 0.009002516 0.009993828\n",
      "DIS Loss: 0.6797453 0.6819069\n"
     ]
    },
    {
     "name": "stderr",
     "output_type": "stream",
     "text": [
      "epoch #154|N/A%|                                                |ETA:  --:--:--"
     ]
    },
    {
     "name": "stdout",
     "output_type": "stream",
     "text": [
      "---------------------\n"
     ]
    },
    {
     "name": "stderr",
     "output_type": "stream",
     "text": [
      "\r",
      "                                                                               \r",
      "\r",
      "epoch #154|  0%|                                                |ETA:   0:01:58"
     ]
    },
    {
     "name": "stdout",
     "output_type": "stream",
     "text": [
      "GEN Loss: 0.68476415 0.66328096\n",
      "Feature Matching Loss: 0.012406501 0.014156098\n",
      "RECON Loss: 0.009043364 0.009750247\n",
      "DIS Loss: 0.67464596 0.69095033\n"
     ]
    },
    {
     "name": "stderr",
     "output_type": "stream",
     "text": [
      "epoch #155|  0%|                                                |ETA:   0:00:56"
     ]
    },
    {
     "name": "stdout",
     "output_type": "stream",
     "text": [
      "---------------------\n",
      "GEN Loss: 0.69289917 0.6431823\n",
      "Feature Matching Loss: 0.0131767 0.010509501\n",
      "RECON Loss: 0.009237771 0.009736862\n",
      "DIS Loss: 0.6778618 0.6917109\n"
     ]
    },
    {
     "name": "stderr",
     "output_type": "stream",
     "text": [
      "epoch #156|  0%|                                                |ETA:   0:00:58"
     ]
    },
    {
     "name": "stdout",
     "output_type": "stream",
     "text": [
      "---------------------\n",
      "GEN Loss: 0.7238691 0.66001976\n",
      "Feature Matching Loss: 0.013352865 0.0139060775\n",
      "RECON Loss: 0.009398593 0.010029256\n",
      "DIS Loss: 0.66721374 0.67737365\n"
     ]
    },
    {
     "name": "stderr",
     "output_type": "stream",
     "text": [
      "epoch #157|  0%|                                                |ETA:   0:00:57"
     ]
    },
    {
     "name": "stdout",
     "output_type": "stream",
     "text": [
      "---------------------\n",
      "GEN Loss: 0.68612695 0.6963247\n",
      "Feature Matching Loss: 0.015136626 0.013255496\n",
      "RECON Loss: 0.009246876 0.010154204\n",
      "DIS Loss: 0.6781188 0.68416977\n"
     ]
    },
    {
     "name": "stderr",
     "output_type": "stream",
     "text": [
      "epoch #158|  0%|                                                |ETA:   0:00:54"
     ]
    },
    {
     "name": "stdout",
     "output_type": "stream",
     "text": [
      "---------------------\n",
      "GEN Loss: 0.66451 0.67778224\n",
      "Feature Matching Loss: 0.011649884 0.009534855\n",
      "RECON Loss: 0.009337233 0.010063812\n",
      "DIS Loss: 0.6900219 0.68905276\n"
     ]
    },
    {
     "name": "stderr",
     "output_type": "stream",
     "text": [
      "epoch #159|  0%|                                                |ETA:   0:01:00"
     ]
    },
    {
     "name": "stdout",
     "output_type": "stream",
     "text": [
      "---------------------\n",
      "GEN Loss: 0.7148794 0.6525243\n",
      "Feature Matching Loss: 0.011459117 0.013297384\n",
      "RECON Loss: 0.009081789 0.009787384\n",
      "DIS Loss: 0.6667328 0.6788556\n"
     ]
    },
    {
     "name": "stderr",
     "output_type": "stream",
     "text": [
      "epoch #160|  0%|                                                |ETA:   0:00:58"
     ]
    },
    {
     "name": "stdout",
     "output_type": "stream",
     "text": [
      "---------------------\n",
      "GEN Loss: 0.738968 0.6693433\n",
      "Feature Matching Loss: 0.01236674 0.01260782\n",
      "RECON Loss: 0.009229684 0.010124493\n",
      "DIS Loss: 0.666739 0.6810069\n"
     ]
    },
    {
     "name": "stderr",
     "output_type": "stream",
     "text": [
      "epoch #161|  0%|                                                |ETA:   0:01:06"
     ]
    },
    {
     "name": "stdout",
     "output_type": "stream",
     "text": [
      "---------------------\n",
      "GEN Loss: 0.6830579 0.66594607\n",
      "Feature Matching Loss: 0.012931867 0.012860848\n",
      "RECON Loss: 0.00972764 0.010157683\n",
      "DIS Loss: 0.68614924 0.69223297\n"
     ]
    },
    {
     "name": "stderr",
     "output_type": "stream",
     "text": [
      "epoch #162|  0%|                                                |ETA:   0:01:03"
     ]
    },
    {
     "name": "stdout",
     "output_type": "stream",
     "text": [
      "---------------------\n",
      "GEN Loss: 0.67884594 0.69353056\n",
      "Feature Matching Loss: 0.010873847 0.011662932\n",
      "RECON Loss: 0.009552318 0.010306701\n",
      "DIS Loss: 0.685284 0.6840061\n"
     ]
    },
    {
     "name": "stderr",
     "output_type": "stream",
     "text": [
      "epoch #163|  0%|                                                |ETA:   0:01:04"
     ]
    },
    {
     "name": "stdout",
     "output_type": "stream",
     "text": [
      "---------------------\n",
      "GEN Loss: 0.7140845 0.66956484\n",
      "Feature Matching Loss: 0.0102675175 0.010551574\n",
      "RECON Loss: 0.009520398 0.010152611\n",
      "DIS Loss: 0.66452855 0.6770937\n"
     ]
    },
    {
     "name": "stderr",
     "output_type": "stream",
     "text": [
      "epoch #164|  0%|                                                |ETA:   0:00:55"
     ]
    },
    {
     "name": "stdout",
     "output_type": "stream",
     "text": [
      "---------------------\n",
      "GEN Loss: 0.70490754 0.6574391\n",
      "Feature Matching Loss: 0.01106726 0.013325626\n",
      "RECON Loss: 0.009324278 0.010101153\n",
      "DIS Loss: 0.66977215 0.67894816\n"
     ]
    },
    {
     "name": "stderr",
     "output_type": "stream",
     "text": [
      "epoch #165|  0%|                                                |ETA:   0:00:54"
     ]
    },
    {
     "name": "stdout",
     "output_type": "stream",
     "text": [
      "---------------------\n",
      "GEN Loss: 0.7204486 0.6183769\n",
      "Feature Matching Loss: 0.016424619 0.016295236\n",
      "RECON Loss: 0.009565929 0.010291706\n",
      "DIS Loss: 0.67700815 0.6918845\n"
     ]
    },
    {
     "name": "stderr",
     "output_type": "stream",
     "text": [
      "epoch #166|  0%|                                                |ETA:   0:00:58"
     ]
    },
    {
     "name": "stdout",
     "output_type": "stream",
     "text": [
      "---------------------\n",
      "GEN Loss: 0.7176034 0.63290036\n",
      "Feature Matching Loss: 0.012818961 0.014895201\n",
      "RECON Loss: 0.009500964 0.010424938\n",
      "DIS Loss: 0.6796954 0.69480884\n"
     ]
    },
    {
     "name": "stderr",
     "output_type": "stream",
     "text": [
      "epoch #167|N/A%|                                                |ETA:  --:--:--"
     ]
    },
    {
     "name": "stdout",
     "output_type": "stream",
     "text": [
      "---------------------\n"
     ]
    },
    {
     "name": "stderr",
     "output_type": "stream",
     "text": [
      "\r",
      "                                                                               \r",
      "\r",
      "epoch #167|  0%|                                                |ETA:   0:01:30"
     ]
    },
    {
     "name": "stdout",
     "output_type": "stream",
     "text": [
      "GEN Loss: 0.7325535 0.67179805\n",
      "Feature Matching Loss: 0.013329281 0.013432126\n",
      "RECON Loss: 0.009659132 0.010215096\n",
      "DIS Loss: 0.66360384 0.68179953\n"
     ]
    },
    {
     "name": "stderr",
     "output_type": "stream",
     "text": [
      "epoch #168|  0%|                                                |ETA:   0:00:56"
     ]
    },
    {
     "name": "stdout",
     "output_type": "stream",
     "text": [
      "---------------------\n",
      "GEN Loss: 0.736228 0.7092395\n",
      "Feature Matching Loss: 0.010484094 0.0103864055\n",
      "RECON Loss: 0.009848345 0.010163214\n",
      "DIS Loss: 0.6594898 0.68320644\n"
     ]
    },
    {
     "name": "stderr",
     "output_type": "stream",
     "text": [
      "epoch #169|  0%|                                                |ETA:   0:00:55"
     ]
    },
    {
     "name": "stdout",
     "output_type": "stream",
     "text": [
      "---------------------\n",
      "GEN Loss: 0.6721339 0.66160524\n",
      "Feature Matching Loss: 0.010306614 0.010701054\n",
      "RECON Loss: 0.009647238 0.010366617\n",
      "DIS Loss: 0.67247206 0.6813016\n"
     ]
    },
    {
     "name": "stderr",
     "output_type": "stream",
     "text": [
      "epoch #170|  0%|                                                |ETA:   0:00:57"
     ]
    },
    {
     "name": "stdout",
     "output_type": "stream",
     "text": [
      "---------------------\n",
      "GEN Loss: 0.7189444 0.6049659\n",
      "Feature Matching Loss: 0.014453391 0.014572972\n",
      "RECON Loss: 0.009709499 0.010352298\n",
      "DIS Loss: 0.6735567 0.67950547\n"
     ]
    },
    {
     "name": "stderr",
     "output_type": "stream",
     "text": [
      "epoch #171|  0%|                                                |ETA:   0:01:01"
     ]
    },
    {
     "name": "stdout",
     "output_type": "stream",
     "text": [
      "---------------------\n",
      "GEN Loss: 0.7519158 0.6851689\n",
      "Feature Matching Loss: 0.010465456 0.013812224\n",
      "RECON Loss: 0.009942762 0.010595761\n",
      "DIS Loss: 0.65781224 0.6847048\n"
     ]
    },
    {
     "name": "stderr",
     "output_type": "stream",
     "text": [
      "epoch #172|  0%|                                                |ETA:   0:00:55"
     ]
    },
    {
     "name": "stdout",
     "output_type": "stream",
     "text": [
      "---------------------\n",
      "GEN Loss: 0.6952117 0.67339694\n",
      "Feature Matching Loss: 0.01455859 0.010993922\n",
      "RECON Loss: 0.010281946 0.010673392\n",
      "DIS Loss: 0.66750014 0.6863785\n"
     ]
    },
    {
     "name": "stderr",
     "output_type": "stream",
     "text": [
      "epoch #173|  0%|                                                |ETA:   0:00:58"
     ]
    },
    {
     "name": "stdout",
     "output_type": "stream",
     "text": [
      "---------------------\n",
      "GEN Loss: 0.7704172 0.6748353\n",
      "Feature Matching Loss: 0.0132173905 0.0126246605\n",
      "RECON Loss: 0.010107908 0.010629099\n",
      "DIS Loss: 0.66533744 0.6743299\n"
     ]
    },
    {
     "name": "stderr",
     "output_type": "stream",
     "text": [
      "epoch #174|  0%|                                                |ETA:   0:00:59"
     ]
    },
    {
     "name": "stdout",
     "output_type": "stream",
     "text": [
      "---------------------\n",
      "GEN Loss: 0.7273026 0.7095188\n",
      "Feature Matching Loss: 0.01060776 0.012084701\n",
      "RECON Loss: 0.010291957 0.010867524\n",
      "DIS Loss: 0.65786815 0.6791597\n"
     ]
    },
    {
     "name": "stderr",
     "output_type": "stream",
     "text": [
      "epoch #175|  0%|                                                |ETA:   0:00:54"
     ]
    },
    {
     "name": "stdout",
     "output_type": "stream",
     "text": [
      "---------------------\n",
      "GEN Loss: 0.70815814 0.6121998\n",
      "Feature Matching Loss: 0.009680444 0.012906962\n",
      "RECON Loss: 0.010007206 0.010733338\n",
      "DIS Loss: 0.6566593 0.6826972\n"
     ]
    },
    {
     "name": "stderr",
     "output_type": "stream",
     "text": [
      "epoch #176|  0%|                                                |ETA:   0:00:56"
     ]
    },
    {
     "name": "stdout",
     "output_type": "stream",
     "text": [
      "---------------------\n",
      "GEN Loss: 0.81424886 0.6458132\n",
      "Feature Matching Loss: 0.014398994 0.014093608\n",
      "RECON Loss: 0.009824949 0.010932144\n",
      "DIS Loss: 0.6451974 0.6706542\n"
     ]
    },
    {
     "name": "stderr",
     "output_type": "stream",
     "text": [
      "epoch #177|  0%|                                                |ETA:   0:00:55"
     ]
    },
    {
     "name": "stdout",
     "output_type": "stream",
     "text": [
      "---------------------\n",
      "GEN Loss: 0.7157885 0.73606515\n",
      "Feature Matching Loss: 0.012738518 0.013013763\n",
      "RECON Loss: 0.010376877 0.011273213\n",
      "DIS Loss: 0.65034556 0.6890094\n"
     ]
    },
    {
     "name": "stderr",
     "output_type": "stream",
     "text": [
      "epoch #178|  0%|                                                |ETA:   0:00:58"
     ]
    },
    {
     "name": "stdout",
     "output_type": "stream",
     "text": [
      "---------------------\n",
      "GEN Loss: 0.747964 0.72872233\n",
      "Feature Matching Loss: 0.012258773 0.010919848\n",
      "RECON Loss: 0.010651502 0.011380738\n",
      "DIS Loss: 0.6552243 0.67570704\n"
     ]
    },
    {
     "name": "stderr",
     "output_type": "stream",
     "text": [
      "epoch #179|  0%|                                                |ETA:   0:00:55"
     ]
    },
    {
     "name": "stdout",
     "output_type": "stream",
     "text": [
      "---------------------\n",
      "GEN Loss: 0.7842897 0.6390653\n",
      "Feature Matching Loss: 0.0151341045 0.012325812\n",
      "RECON Loss: 0.010876527 0.010794158\n",
      "DIS Loss: 0.6362748 0.666633\n"
     ]
    },
    {
     "name": "stderr",
     "output_type": "stream",
     "text": [
      "epoch #180|  0%|                                                |ETA:   0:01:00"
     ]
    },
    {
     "name": "stdout",
     "output_type": "stream",
     "text": [
      "---------------------\n",
      "GEN Loss: 0.8096715 0.67290175\n",
      "Feature Matching Loss: 0.014479192 0.012485454\n",
      "RECON Loss: 0.012029472 0.012174876\n",
      "DIS Loss: 0.64078546 0.6667882\n"
     ]
    },
    {
     "name": "stderr",
     "output_type": "stream",
     "text": [
      "epoch #181|  0%|                                                |ETA:   0:00:55"
     ]
    },
    {
     "name": "stdout",
     "output_type": "stream",
     "text": [
      "---------------------\n",
      "GEN Loss: 0.6287132 0.78978765\n",
      "Feature Matching Loss: 0.01367607 0.0120555675\n",
      "RECON Loss: 0.010544777 0.011840298\n",
      "DIS Loss: 0.6506875 0.6623035\n"
     ]
    },
    {
     "name": "stderr",
     "output_type": "stream",
     "text": [
      "epoch #182|  0%|                                                |ETA:   0:00:57"
     ]
    },
    {
     "name": "stdout",
     "output_type": "stream",
     "text": [
      "---------------------\n",
      "GEN Loss: 0.74551785 0.7435813\n",
      "Feature Matching Loss: 0.01592169 0.014043756\n",
      "RECON Loss: 0.010979539 0.011947196\n",
      "DIS Loss: 0.6354621 0.655928\n"
     ]
    },
    {
     "name": "stderr",
     "output_type": "stream",
     "text": [
      "epoch #183|  0%|                                                |ETA:   0:01:00"
     ]
    },
    {
     "name": "stdout",
     "output_type": "stream",
     "text": [
      "---------------------\n",
      "GEN Loss: 0.6455872 0.7499088\n",
      "Feature Matching Loss: 0.014003813 0.013540788\n",
      "RECON Loss: 0.011054225 0.01170678\n",
      "DIS Loss: 0.6312343 0.6617504\n"
     ]
    },
    {
     "name": "stderr",
     "output_type": "stream",
     "text": [
      "epoch #184|  0%|                                                |ETA:   0:00:57"
     ]
    },
    {
     "name": "stdout",
     "output_type": "stream",
     "text": [
      "---------------------\n",
      "GEN Loss: 0.55457896 0.6658813\n",
      "Feature Matching Loss: 0.0152030615 0.01346178\n",
      "RECON Loss: 0.011766184 0.01162032\n",
      "DIS Loss: 0.64021605 0.65937537\n"
     ]
    },
    {
     "name": "stderr",
     "output_type": "stream",
     "text": [
      "epoch #185|  0%|                                                |ETA:   0:01:00"
     ]
    },
    {
     "name": "stdout",
     "output_type": "stream",
     "text": [
      "---------------------\n",
      "GEN Loss: 0.9316164 0.8165401\n",
      "Feature Matching Loss: 0.015187726 0.013916029\n",
      "RECON Loss: 0.011937462 0.012286149\n",
      "DIS Loss: 0.59932876 0.6561227\n"
     ]
    },
    {
     "name": "stderr",
     "output_type": "stream",
     "text": [
      "epoch #186|  0%|                                                |ETA:   0:00:57"
     ]
    },
    {
     "name": "stdout",
     "output_type": "stream",
     "text": [
      "---------------------\n",
      "GEN Loss: 1.3642951 0.80708736\n",
      "Feature Matching Loss: 0.029268527 0.012626395\n",
      "RECON Loss: 0.017743409 0.014234103\n",
      "DIS Loss: 0.81869555 0.64260626\n"
     ]
    },
    {
     "name": "stderr",
     "output_type": "stream",
     "text": [
      "epoch #187|  0%|                                                |ETA:   0:00:55"
     ]
    },
    {
     "name": "stdout",
     "output_type": "stream",
     "text": [
      "---------------------\n",
      "GEN Loss: 1.9574882 0.51773876\n",
      "Feature Matching Loss: 0.027245263 0.013449157\n",
      "RECON Loss: 0.013979315 0.015142038\n",
      "DIS Loss: 1.1168408 0.6707298\n"
     ]
    },
    {
     "name": "stderr",
     "output_type": "stream",
     "text": [
      "epoch #188|  0%|                                                |ETA:   0:00:55"
     ]
    },
    {
     "name": "stdout",
     "output_type": "stream",
     "text": [
      "---------------------\n",
      "GEN Loss: 0.9575107 1.1701896\n",
      "Feature Matching Loss: 0.018560408 0.01635506\n",
      "RECON Loss: 0.014797751 0.012800487\n",
      "DIS Loss: 0.6605538 0.729201\n"
     ]
    },
    {
     "name": "stderr",
     "output_type": "stream",
     "text": [
      "epoch #189|  0%|                                                |ETA:   0:00:55"
     ]
    },
    {
     "name": "stdout",
     "output_type": "stream",
     "text": [
      "---------------------\n",
      "GEN Loss: 0.30139723 0.6552036\n",
      "Feature Matching Loss: 0.019832732 0.01390241\n",
      "RECON Loss: 0.01286349 0.012293801\n",
      "DIS Loss: 0.80182666 0.6276769\n"
     ]
    },
    {
     "name": "stderr",
     "output_type": "stream",
     "text": [
      "epoch #190|  0%|                                                |ETA:   0:00:56"
     ]
    },
    {
     "name": "stdout",
     "output_type": "stream",
     "text": [
      "---------------------\n",
      "GEN Loss: 1.0471075 1.0882516\n",
      "Feature Matching Loss: 0.027913416 0.017685654\n",
      "RECON Loss: 0.014703046 0.014342973\n",
      "DIS Loss: 0.7610819 0.7008881\n"
     ]
    },
    {
     "name": "stderr",
     "output_type": "stream",
     "text": [
      "epoch #191|  0%|                                                |ETA:   0:00:58"
     ]
    },
    {
     "name": "stdout",
     "output_type": "stream",
     "text": [
      "---------------------\n",
      "GEN Loss: 0.6706464 0.73703796\n",
      "Feature Matching Loss: 0.020603355 0.015263814\n",
      "RECON Loss: 0.012501717 0.012938946\n",
      "DIS Loss: 0.56344616 0.61264026\n"
     ]
    },
    {
     "name": "stderr",
     "output_type": "stream",
     "text": [
      "epoch #192|  0%|                                                |ETA:   0:00:58"
     ]
    },
    {
     "name": "stdout",
     "output_type": "stream",
     "text": [
      "---------------------\n",
      "GEN Loss: 0.18611623 0.9372769\n",
      "Feature Matching Loss: 0.023202773 0.014921837\n",
      "RECON Loss: 0.013330966 0.01369985\n",
      "DIS Loss: 1.0433935 0.609378\n"
     ]
    },
    {
     "name": "stderr",
     "output_type": "stream",
     "text": [
      "epoch #193|  0%|                                                |ETA:   0:01:03"
     ]
    },
    {
     "name": "stdout",
     "output_type": "stream",
     "text": [
      "---------------------\n",
      "GEN Loss: 0.7428629 1.0796365\n",
      "Feature Matching Loss: 0.019790538 0.01633446\n",
      "RECON Loss: 0.0140162 0.0135169625\n",
      "DIS Loss: 0.5765451 0.61140287\n"
     ]
    },
    {
     "name": "stderr",
     "output_type": "stream",
     "text": [
      "epoch #194|  0%|                                                |ETA:   0:01:04"
     ]
    },
    {
     "name": "stdout",
     "output_type": "stream",
     "text": [
      "---------------------\n",
      "GEN Loss: 1.0403802 1.0586941\n",
      "Feature Matching Loss: 0.017197598 0.015932204\n",
      "RECON Loss: 0.013861909 0.01281853\n",
      "DIS Loss: 0.39498293 0.5943444\n"
     ]
    },
    {
     "name": "stderr",
     "output_type": "stream",
     "text": [
      "epoch #195|  0%|                                                |ETA:   0:00:54"
     ]
    },
    {
     "name": "stdout",
     "output_type": "stream",
     "text": [
      "---------------------\n",
      "GEN Loss: 1.4776229 0.8983797\n",
      "Feature Matching Loss: 0.021169517 0.016790833\n",
      "RECON Loss: 0.0147067895 0.01376573\n",
      "DIS Loss: 0.5549983 0.5961741\n"
     ]
    },
    {
     "name": "stderr",
     "output_type": "stream",
     "text": [
      "epoch #196|  0%|                                                |ETA:   0:00:56"
     ]
    },
    {
     "name": "stdout",
     "output_type": "stream",
     "text": [
      "---------------------\n",
      "GEN Loss: 1.4106413 0.6781193\n",
      "Feature Matching Loss: 0.020195585 0.018369747\n",
      "RECON Loss: 0.012876245 0.013991829\n",
      "DIS Loss: 0.40831694 0.61607397\n"
     ]
    },
    {
     "name": "stderr",
     "output_type": "stream",
     "text": [
      "epoch #197|  0%|                                                |ETA:   0:00:55"
     ]
    },
    {
     "name": "stdout",
     "output_type": "stream",
     "text": [
      "---------------------\n",
      "GEN Loss: 2.2834103 0.7153037\n",
      "Feature Matching Loss: 0.019825509 0.017628469\n",
      "RECON Loss: 0.014136599 0.014448283\n",
      "DIS Loss: 0.47713482 0.6010803\n"
     ]
    },
    {
     "name": "stderr",
     "output_type": "stream",
     "text": [
      "epoch #198|  0%|                                                |ETA:   0:00:54"
     ]
    },
    {
     "name": "stdout",
     "output_type": "stream",
     "text": [
      "---------------------\n",
      "GEN Loss: 1.7505608 0.84504116\n",
      "Feature Matching Loss: 0.01865461 0.016664436\n",
      "RECON Loss: 0.013288739 0.013235116\n",
      "DIS Loss: 0.2987231 0.58379805\n"
     ]
    },
    {
     "name": "stderr",
     "output_type": "stream",
     "text": [
      "epoch #199|  0%|                                                |ETA:   0:00:58"
     ]
    },
    {
     "name": "stdout",
     "output_type": "stream",
     "text": [
      "---------------------\n",
      "GEN Loss: 1.6289029 0.4996714\n",
      "Feature Matching Loss: 0.019908514 0.01937278\n",
      "RECON Loss: 0.014056005 0.013872042\n",
      "DIS Loss: 0.30775356 0.65501994\n"
     ]
    },
    {
     "name": "stderr",
     "output_type": "stream",
     "text": [
      "epoch #200|  0%|                                                |ETA:   0:01:05"
     ]
    },
    {
     "name": "stdout",
     "output_type": "stream",
     "text": [
      "---------------------\n",
      "GEN Loss: 1.1248248 0.79143196\n",
      "Feature Matching Loss: 0.01987127 0.019972984\n",
      "RECON Loss: 0.014005208 0.013181227\n",
      "DIS Loss: 0.3137182 0.60600376\n"
     ]
    },
    {
     "name": "stderr",
     "output_type": "stream",
     "text": [
      "epoch #201|  0%|                                                |ETA:   0:01:06"
     ]
    },
    {
     "name": "stdout",
     "output_type": "stream",
     "text": [
      "---------------------\n",
      "GEN Loss: 1.4605168 0.52249914\n",
      "Feature Matching Loss: 0.018767731 0.022120258\n",
      "RECON Loss: 0.014242202 0.014163023\n",
      "DIS Loss: 0.25066838 0.73770416\n"
     ]
    },
    {
     "name": "stderr",
     "output_type": "stream",
     "text": [
      "epoch #202|  0%|                                                |ETA:   0:00:55"
     ]
    },
    {
     "name": "stdout",
     "output_type": "stream",
     "text": [
      "---------------------\n",
      "GEN Loss: 1.3141657 2.2486436\n",
      "Feature Matching Loss: 0.01800936 0.050803743\n",
      "RECON Loss: 0.018062636 0.017178614\n",
      "DIS Loss: 0.27095503 1.753506\n"
     ]
    },
    {
     "name": "stderr",
     "output_type": "stream",
     "text": [
      "epoch #203|  0%|                                                |ETA:   0:00:55"
     ]
    },
    {
     "name": "stdout",
     "output_type": "stream",
     "text": [
      "---------------------\n",
      "GEN Loss: 2.340796 0.7947268\n",
      "Feature Matching Loss: 0.016847048 0.019404612\n",
      "RECON Loss: 0.013883395 0.01308801\n",
      "DIS Loss: 0.14167555 0.46307725\n"
     ]
    },
    {
     "name": "stderr",
     "output_type": "stream",
     "text": [
      "epoch #204|  0%|                                                |ETA:   0:01:01"
     ]
    },
    {
     "name": "stdout",
     "output_type": "stream",
     "text": [
      "---------------------\n",
      "GEN Loss: 2.600471 0.91456395\n",
      "Feature Matching Loss: 0.017706063 0.02532487\n",
      "RECON Loss: 0.015307214 0.014657824\n",
      "DIS Loss: 0.13278225 0.55722654\n"
     ]
    },
    {
     "name": "stderr",
     "output_type": "stream",
     "text": [
      "epoch #205|  0%|                                                |ETA:   0:00:54"
     ]
    },
    {
     "name": "stdout",
     "output_type": "stream",
     "text": [
      "---------------------\n",
      "GEN Loss: 1.8489162 3.0680213\n",
      "Feature Matching Loss: 0.019194156 0.054944452\n",
      "RECON Loss: 0.018064173 0.01823144\n",
      "DIS Loss: 0.20735867 2.1858213\n"
     ]
    },
    {
     "name": "stderr",
     "output_type": "stream",
     "text": [
      "epoch #206|  0%|                                                |ETA:   0:00:54"
     ]
    },
    {
     "name": "stdout",
     "output_type": "stream",
     "text": [
      "---------------------\n",
      "GEN Loss: 1.8494539 0.37373757\n",
      "Feature Matching Loss: 0.023027202 0.034368128\n",
      "RECON Loss: 0.021863675 0.015388159\n",
      "DIS Loss: 0.38302884 0.70828515\n"
     ]
    },
    {
     "name": "stderr",
     "output_type": "stream",
     "text": [
      "epoch #207|  0%|                                                |ETA:   0:00:58"
     ]
    },
    {
     "name": "stdout",
     "output_type": "stream",
     "text": [
      "---------------------\n",
      "GEN Loss: 2.1822653 1.189219\n",
      "Feature Matching Loss: 0.022552796 0.032402445\n",
      "RECON Loss: 0.021786932 0.014406073\n",
      "DIS Loss: 0.23856974 0.6737397\n"
     ]
    },
    {
     "name": "stderr",
     "output_type": "stream",
     "text": [
      "epoch #208|  0%|                                                |ETA:   0:00:59"
     ]
    },
    {
     "name": "stdout",
     "output_type": "stream",
     "text": [
      "---------------------\n",
      "GEN Loss: 4.02433 1.4055111\n",
      "Feature Matching Loss: 0.018908402 0.023677383\n",
      "RECON Loss: 0.017821882 0.013805319\n",
      "DIS Loss: 0.08352603 0.42965767\n"
     ]
    },
    {
     "name": "stderr",
     "output_type": "stream",
     "text": [
      "epoch #209|  0%|                                                |ETA:   0:00:54"
     ]
    },
    {
     "name": "stdout",
     "output_type": "stream",
     "text": [
      "---------------------\n",
      "GEN Loss: 4.2854033 2.132421\n",
      "Feature Matching Loss: 0.01999608 0.01941042\n",
      "RECON Loss: 0.014309257 0.012690748\n",
      "DIS Loss: 0.041131034 0.32046276\n"
     ]
    },
    {
     "name": "stderr",
     "output_type": "stream",
     "text": [
      "epoch #210|  0%|                                                |ETA:   0:00:54"
     ]
    },
    {
     "name": "stdout",
     "output_type": "stream",
     "text": [
      "---------------------\n",
      "GEN Loss: 4.586897 1.1243933\n",
      "Feature Matching Loss: 0.021562291 0.021962551\n",
      "RECON Loss: 0.017319445 0.012331553\n",
      "DIS Loss: 0.022589946 0.34389132\n"
     ]
    },
    {
     "name": "stderr",
     "output_type": "stream",
     "text": [
      "epoch #211|  0%|                                                |ETA:   0:01:01"
     ]
    },
    {
     "name": "stdout",
     "output_type": "stream",
     "text": [
      "---------------------\n",
      "GEN Loss: 4.530282 0.9603869\n",
      "Feature Matching Loss: 0.022219814 0.01939292\n",
      "RECON Loss: 0.015974244 0.012141084\n",
      "DIS Loss: 0.017758928 0.37376007\n"
     ]
    },
    {
     "name": "stderr",
     "output_type": "stream",
     "text": [
      "epoch #212|  0%|                                                |ETA:   0:00:57"
     ]
    },
    {
     "name": "stdout",
     "output_type": "stream",
     "text": [
      "---------------------\n",
      "GEN Loss: 4.7829204 1.9090073\n",
      "Feature Matching Loss: 0.022212792 0.019607972\n",
      "RECON Loss: 0.012971523 0.012038475\n",
      "DIS Loss: 0.012273328 0.19031882\n"
     ]
    },
    {
     "name": "stderr",
     "output_type": "stream",
     "text": [
      "epoch #213|  0%|                                                |ETA:   0:00:57"
     ]
    },
    {
     "name": "stdout",
     "output_type": "stream",
     "text": [
      "---------------------\n",
      "GEN Loss: 5.260215 2.342113\n",
      "Feature Matching Loss: 0.021908252 0.020067368\n",
      "RECON Loss: 0.012437816 0.01187733\n",
      "DIS Loss: 0.009196004 0.19451752\n"
     ]
    },
    {
     "name": "stderr",
     "output_type": "stream",
     "text": [
      "epoch #214|  0%|                                                |ETA:   0:00:57"
     ]
    },
    {
     "name": "stdout",
     "output_type": "stream",
     "text": [
      "---------------------\n",
      "GEN Loss: 5.5958214 3.0016582\n",
      "Feature Matching Loss: 0.022763446 0.018679282\n",
      "RECON Loss: 0.012256769 0.011761045\n",
      "DIS Loss: 0.00684278 0.18935922\n"
     ]
    },
    {
     "name": "stderr",
     "output_type": "stream",
     "text": [
      "epoch #215|  0%|                                                |ETA:   0:00:57"
     ]
    },
    {
     "name": "stdout",
     "output_type": "stream",
     "text": [
      "---------------------\n",
      "GEN Loss: 5.858563 2.9608276\n",
      "Feature Matching Loss: 0.023404822 0.01973183\n",
      "RECON Loss: 0.013527319 0.011829209\n",
      "DIS Loss: 0.005720704 0.20555808\n"
     ]
    },
    {
     "name": "stderr",
     "output_type": "stream",
     "text": [
      "epoch #216|  0%|                                                |ETA:   0:00:57"
     ]
    },
    {
     "name": "stdout",
     "output_type": "stream",
     "text": [
      "---------------------\n",
      "GEN Loss: 6.076145 1.679059\n",
      "Feature Matching Loss: 0.023714058 0.019282442\n",
      "RECON Loss: 0.013030611 0.011609495\n",
      "DIS Loss: 0.0048015313 0.17541637\n"
     ]
    },
    {
     "name": "stderr",
     "output_type": "stream",
     "text": [
      "epoch #217|  0%|                                                |ETA:   0:01:00"
     ]
    },
    {
     "name": "stdout",
     "output_type": "stream",
     "text": [
      "---------------------\n",
      "GEN Loss: 6.176698 2.4470036\n",
      "Feature Matching Loss: 0.023713088 0.017763935\n",
      "RECON Loss: 0.013888752 0.011421373\n",
      "DIS Loss: 0.0043806564 0.104668096\n"
     ]
    },
    {
     "name": "stderr",
     "output_type": "stream",
     "text": [
      "epoch #218|  0%|                                                |ETA:   0:00:56"
     ]
    },
    {
     "name": "stdout",
     "output_type": "stream",
     "text": [
      "---------------------\n",
      "GEN Loss: 6.302596 3.0780509\n",
      "Feature Matching Loss: 0.023898304 0.018380973\n",
      "RECON Loss: 0.013569349 0.0114145335\n",
      "DIS Loss: 0.0038780274 0.12156481\n"
     ]
    },
    {
     "name": "stderr",
     "output_type": "stream",
     "text": [
      "epoch #219|  0%|                                                |ETA:   0:00:58"
     ]
    },
    {
     "name": "stdout",
     "output_type": "stream",
     "text": [
      "---------------------\n",
      "GEN Loss: 6.321219 3.0185754\n",
      "Feature Matching Loss: 0.023767192 0.018254291\n",
      "RECON Loss: 0.0130205 0.011431776\n",
      "DIS Loss: 0.004019032 0.1252676\n"
     ]
    },
    {
     "name": "stderr",
     "output_type": "stream",
     "text": [
      "epoch #220|  0%|                                                |ETA:   0:00:57"
     ]
    },
    {
     "name": "stdout",
     "output_type": "stream",
     "text": [
      "---------------------\n",
      "GEN Loss: 6.368439 3.4899464\n",
      "Feature Matching Loss: 0.02397633 0.017272776\n",
      "RECON Loss: 0.013806269 0.011346951\n",
      "DIS Loss: 0.0035545127 0.095685065\n"
     ]
    },
    {
     "name": "stderr",
     "output_type": "stream",
     "text": [
      "epoch #221|  0%|                                                |ETA:   0:00:57"
     ]
    },
    {
     "name": "stdout",
     "output_type": "stream",
     "text": [
      "---------------------\n",
      "GEN Loss: 6.3303823 4.378587\n",
      "Feature Matching Loss: 0.024048 0.019175842\n",
      "RECON Loss: 0.012977637 0.011346566\n",
      "DIS Loss: 0.003365005 0.17784843\n"
     ]
    },
    {
     "name": "stderr",
     "output_type": "stream",
     "text": [
      "epoch #222|  0%|                                                |ETA:   0:01:03"
     ]
    },
    {
     "name": "stdout",
     "output_type": "stream",
     "text": [
      "---------------------\n",
      "GEN Loss: 6.437754 4.186712\n",
      "Feature Matching Loss: 0.02426454 0.017824084\n",
      "RECON Loss: 0.01466769 0.011297191\n",
      "DIS Loss: 0.0030714562 0.08869594\n"
     ]
    },
    {
     "name": "stderr",
     "output_type": "stream",
     "text": [
      "epoch #223|  0%|                                                |ETA:   0:00:58"
     ]
    },
    {
     "name": "stdout",
     "output_type": "stream",
     "text": [
      "---------------------\n",
      "GEN Loss: 6.446824 2.7102008\n",
      "Feature Matching Loss: 0.02429446 0.017524872\n",
      "RECON Loss: 0.013505384 0.011245835\n",
      "DIS Loss: 0.002999777 0.07334383\n"
     ]
    },
    {
     "name": "stderr",
     "output_type": "stream",
     "text": [
      "epoch #224|  0%|                                                |ETA:   0:00:56"
     ]
    },
    {
     "name": "stdout",
     "output_type": "stream",
     "text": [
      "---------------------\n",
      "GEN Loss: 6.5432787 2.0763729\n",
      "Feature Matching Loss: 0.024401095 0.017203297\n",
      "RECON Loss: 0.012678169 0.011211372\n",
      "DIS Loss: 0.00286899 0.13005678\n"
     ]
    },
    {
     "name": "stderr",
     "output_type": "stream",
     "text": [
      "epoch #225|  0%|                                                |ETA:   0:00:56"
     ]
    },
    {
     "name": "stdout",
     "output_type": "stream",
     "text": [
      "---------------------\n",
      "GEN Loss: 6.716689 1.9634562\n",
      "Feature Matching Loss: 0.02479215 0.017050311\n",
      "RECON Loss: 0.014059246 0.011328986\n",
      "DIS Loss: 0.002746448 0.13185486\n"
     ]
    },
    {
     "name": "stderr",
     "output_type": "stream",
     "text": [
      "epoch #226|  0%|                                                |ETA:   0:01:03"
     ]
    },
    {
     "name": "stdout",
     "output_type": "stream",
     "text": [
      "---------------------\n",
      "GEN Loss: 6.6857166 2.3017807\n",
      "Feature Matching Loss: 0.02463086 0.016957201\n",
      "RECON Loss: 0.013614897 0.011187827\n",
      "DIS Loss: 0.0027702604 0.107172325\n"
     ]
    },
    {
     "name": "stderr",
     "output_type": "stream",
     "text": [
      "epoch #227|  0%|                                                |ETA:   0:00:58"
     ]
    },
    {
     "name": "stdout",
     "output_type": "stream",
     "text": [
      "---------------------\n",
      "GEN Loss: 6.852952 4.2562494\n",
      "Feature Matching Loss: 0.025059666 0.016351445\n",
      "RECON Loss: 0.01343371 0.010992577\n",
      "DIS Loss: 0.0025024328 0.04985228\n"
     ]
    },
    {
     "name": "stderr",
     "output_type": "stream",
     "text": [
      "epoch #228|  0%|                                                |ETA:   0:01:02"
     ]
    },
    {
     "name": "stdout",
     "output_type": "stream",
     "text": [
      "---------------------\n",
      "GEN Loss: 7.0110598 5.2855306\n",
      "Feature Matching Loss: 0.025764363 0.016025808\n",
      "RECON Loss: 0.012039672 0.0107969595\n",
      "DIS Loss: 0.0022054205 0.028912205\n"
     ]
    },
    {
     "name": "stderr",
     "output_type": "stream",
     "text": [
      "epoch #229|  0%|                                                |ETA:   0:00:56"
     ]
    },
    {
     "name": "stdout",
     "output_type": "stream",
     "text": [
      "---------------------\n",
      "GEN Loss: 6.624652 4.8115673\n",
      "Feature Matching Loss: 0.024044562 0.016699841\n",
      "RECON Loss: 0.012370557 0.01070379\n",
      "DIS Loss: 0.0025372924 0.014951479\n"
     ]
    },
    {
     "name": "stderr",
     "output_type": "stream",
     "text": [
      "epoch #230|  0%|                                                |ETA:   0:01:33"
     ]
    },
    {
     "name": "stdout",
     "output_type": "stream",
     "text": [
      "---------------------\n",
      "GEN Loss: 6.8334618 5.10413\n",
      "Feature Matching Loss: 0.024062376 0.016979516\n",
      "RECON Loss: 0.012731878 0.010683741\n",
      "DIS Loss: 0.004142084 0.010618843\n"
     ]
    },
    {
     "name": "stderr",
     "output_type": "stream",
     "text": [
      "epoch #231|  0%|                                                |ETA:   0:00:58"
     ]
    },
    {
     "name": "stdout",
     "output_type": "stream",
     "text": [
      "---------------------\n",
      "GEN Loss: 0.48964033 4.8833585\n",
      "Feature Matching Loss: 0.07565641 0.016277315\n",
      "RECON Loss: 0.047870234 0.03347336\n",
      "DIS Loss: 0.9607234 0.01915915\n"
     ]
    },
    {
     "name": "stderr",
     "output_type": "stream",
     "text": [
      "epoch #232|  0%|                                                |ETA:   0:00:56"
     ]
    },
    {
     "name": "stdout",
     "output_type": "stream",
     "text": [
      "---------------------\n",
      "GEN Loss: 0.60838866 5.1068225\n",
      "Feature Matching Loss: 0.031041393 0.016358834\n",
      "RECON Loss: 0.024209324 0.016331308\n",
      "DIS Loss: 0.8252295 0.015458032\n"
     ]
    },
    {
     "name": "stderr",
     "output_type": "stream",
     "text": [
      "epoch #233|  0%|                                                |ETA:   0:01:18"
     ]
    },
    {
     "name": "stdout",
     "output_type": "stream",
     "text": [
      "---------------------\n",
      "GEN Loss: 0.703899 5.480919\n",
      "Feature Matching Loss: 0.019566778 0.016940631\n",
      "RECON Loss: 0.018685808 0.013327833\n",
      "DIS Loss: 0.7134715 0.009597973\n"
     ]
    },
    {
     "name": "stderr",
     "output_type": "stream",
     "text": [
      "epoch #234|  0%|                                                |ETA:   0:01:04"
     ]
    },
    {
     "name": "stdout",
     "output_type": "stream",
     "text": [
      "---------------------\n",
      "GEN Loss: 0.7270915 5.782464\n",
      "Feature Matching Loss: 0.016328316 0.017319841\n",
      "RECON Loss: 0.01615907 0.012247268\n",
      "DIS Loss: 0.6840167 0.0076120887\n"
     ]
    },
    {
     "name": "stderr",
     "output_type": "stream",
     "text": [
      "epoch #235|  0%|                                                |ETA:   0:00:56"
     ]
    },
    {
     "name": "stdout",
     "output_type": "stream",
     "text": [
      "---------------------\n",
      "GEN Loss: 0.74202204 5.9646716\n",
      "Feature Matching Loss: 0.015329873 0.017674625\n",
      "RECON Loss: 0.014315966 0.011812239\n",
      "DIS Loss: 0.6667756 0.0059397835\n"
     ]
    },
    {
     "name": "stderr",
     "output_type": "stream",
     "text": [
      "epoch #236|  0%|                                                |ETA:   0:00:57"
     ]
    },
    {
     "name": "stdout",
     "output_type": "stream",
     "text": [
      "---------------------\n",
      "GEN Loss: 0.7181876 6.01496\n",
      "Feature Matching Loss: 0.015990185 0.017586872\n",
      "RECON Loss: 0.013266946 0.011730377\n",
      "DIS Loss: 0.6618136 0.0054049473\n"
     ]
    },
    {
     "name": "stderr",
     "output_type": "stream",
     "text": [
      "epoch #237|  0%|                                                |ETA:   0:00:56"
     ]
    },
    {
     "name": "stdout",
     "output_type": "stream",
     "text": [
      "---------------------\n",
      "GEN Loss: 0.7474519 6.0937805\n",
      "Feature Matching Loss: 0.01764047 0.017610468\n",
      "RECON Loss: 0.012563035 0.011717511\n",
      "DIS Loss: 0.63337183 0.005002599\n"
     ]
    },
    {
     "name": "stderr",
     "output_type": "stream",
     "text": [
      "epoch #238|  0%|                                                |ETA:   0:01:32"
     ]
    },
    {
     "name": "stdout",
     "output_type": "stream",
     "text": [
      "---------------------\n",
      "GEN Loss: 0.5844823 6.22295\n",
      "Feature Matching Loss: 0.027137596 0.017746195\n",
      "RECON Loss: 0.012920432 0.012749287\n",
      "DIS Loss: 0.6922878 0.0048179333\n"
     ]
    },
    {
     "name": "stderr",
     "output_type": "stream",
     "text": [
      "epoch #239|  0%|                                                |ETA:   0:00:54"
     ]
    },
    {
     "name": "stdout",
     "output_type": "stream",
     "text": [
      "---------------------\n",
      "GEN Loss: 0.88420945 6.247326\n",
      "Feature Matching Loss: 0.038367685 0.018205032\n",
      "RECON Loss: 0.013207342 0.01320035\n",
      "DIS Loss: 0.68323535 0.004176986\n"
     ]
    },
    {
     "name": "stderr",
     "output_type": "stream",
     "text": [
      "epoch #240|  0%|                                                |ETA:   0:00:59"
     ]
    },
    {
     "name": "stdout",
     "output_type": "stream",
     "text": [
      "---------------------\n",
      "GEN Loss: 0.93680966 6.3931603\n",
      "Feature Matching Loss: 0.03654212 0.018372094\n",
      "RECON Loss: 0.012935547 0.01363261\n",
      "DIS Loss: 0.5966234 0.003814748\n"
     ]
    },
    {
     "name": "stderr",
     "output_type": "stream",
     "text": [
      "epoch #241|  0%|                                                |ETA:   0:00:54"
     ]
    },
    {
     "name": "stdout",
     "output_type": "stream",
     "text": [
      "---------------------\n",
      "GEN Loss: 0.5720786 6.491539\n",
      "Feature Matching Loss: 0.03199 0.018591192\n",
      "RECON Loss: 0.012965559 0.013575593\n",
      "DIS Loss: 0.6393952 0.0031977445\n"
     ]
    },
    {
     "name": "stderr",
     "output_type": "stream",
     "text": [
      "epoch #242|  0%|                                                |ETA:   0:00:55"
     ]
    },
    {
     "name": "stdout",
     "output_type": "stream",
     "text": [
      "---------------------\n",
      "GEN Loss: 1.2588392 6.5224285\n",
      "Feature Matching Loss: 0.032499257 0.018888108\n",
      "RECON Loss: 0.012812494 0.013828678\n",
      "DIS Loss: 0.49610406 0.002923484\n"
     ]
    },
    {
     "name": "stderr",
     "output_type": "stream",
     "text": [
      "epoch #243|  0%|                                                |ETA:   0:00:56"
     ]
    },
    {
     "name": "stdout",
     "output_type": "stream",
     "text": [
      "---------------------\n",
      "GEN Loss: 1.697165 6.613576\n",
      "Feature Matching Loss: 0.026621502 0.019106956\n",
      "RECON Loss: 0.012598003 0.0133110015\n",
      "DIS Loss: 0.39008754 0.0029237133\n"
     ]
    },
    {
     "name": "stderr",
     "output_type": "stream",
     "text": [
      "epoch #244|  0%|                                                |ETA:   0:01:01"
     ]
    },
    {
     "name": "stdout",
     "output_type": "stream",
     "text": [
      "---------------------\n",
      "GEN Loss: 1.6869739 6.6603737\n",
      "Feature Matching Loss: 0.024669565 0.01938102\n",
      "RECON Loss: 0.012142146 0.012918498\n",
      "DIS Loss: 0.25425622 0.0024914262\n"
     ]
    },
    {
     "name": "stderr",
     "output_type": "stream",
     "text": [
      "epoch #245|  0%|                                                |ETA:   0:00:56"
     ]
    },
    {
     "name": "stdout",
     "output_type": "stream",
     "text": [
      "---------------------\n",
      "GEN Loss: 2.358552 6.7383375\n",
      "Feature Matching Loss: 0.022783082 0.019331472\n",
      "RECON Loss: 0.012054577 0.012944217\n",
      "DIS Loss: 0.31222588 0.0023961186\n"
     ]
    },
    {
     "name": "stderr",
     "output_type": "stream",
     "text": [
      "epoch #246|  0%|                                                |ETA:   0:01:37"
     ]
    },
    {
     "name": "stdout",
     "output_type": "stream",
     "text": [
      "---------------------\n",
      "GEN Loss: 2.214296 6.773321\n",
      "Feature Matching Loss: 0.021581532 0.019453691\n",
      "RECON Loss: 0.011773601 0.012695021\n",
      "DIS Loss: 0.18780263 0.0023932843\n"
     ]
    },
    {
     "name": "stderr",
     "output_type": "stream",
     "text": [
      "epoch #247|  0%|                                                |ETA:   0:01:53"
     ]
    },
    {
     "name": "stdout",
     "output_type": "stream",
     "text": [
      "---------------------\n",
      "GEN Loss: 2.1312122 7.0578203\n",
      "Feature Matching Loss: 0.021060884 0.019475762\n",
      "RECON Loss: 0.011603428 0.012455258\n",
      "DIS Loss: 0.16213505 0.0022560337\n"
     ]
    },
    {
     "name": "stderr",
     "output_type": "stream",
     "text": [
      "epoch #248|  0%|                                                |ETA:   0:00:56"
     ]
    },
    {
     "name": "stdout",
     "output_type": "stream",
     "text": [
      "---------------------\n",
      "GEN Loss: 1.8063362 6.442639\n",
      "Feature Matching Loss: 0.019014327 0.01874313\n",
      "RECON Loss: 0.01147835 0.012260678\n",
      "DIS Loss: 0.16603181 0.0029962286\n"
     ]
    },
    {
     "name": "stderr",
     "output_type": "stream",
     "text": [
      "epoch #249|N/A%|                                                |ETA:  --:--:--"
     ]
    },
    {
     "name": "stdout",
     "output_type": "stream",
     "text": [
      "---------------------\n"
     ]
    },
    {
     "name": "stderr",
     "output_type": "stream",
     "text": [
      "\r",
      "                                                                               \r",
      "\r",
      "epoch #249|  0%|                                                |ETA:   0:01:36"
     ]
    },
    {
     "name": "stdout",
     "output_type": "stream",
     "text": [
      "GEN Loss: 3.264603 6.948956\n",
      "Feature Matching Loss: 0.017419469 0.019398082\n",
      "RECON Loss: 0.011295736 0.012204382\n",
      "DIS Loss: 0.107060336 0.002408377\n"
     ]
    },
    {
     "name": "stderr",
     "output_type": "stream",
     "text": [
      "epoch #250|  0%|                                                |ETA:   0:00:55"
     ]
    },
    {
     "name": "stdout",
     "output_type": "stream",
     "text": [
      "---------------------\n",
      "GEN Loss: 3.9428089 6.666437\n",
      "Feature Matching Loss: 0.017827926 0.018915134\n",
      "RECON Loss: 0.0113058835 0.011969447\n",
      "DIS Loss: 0.10042382 0.0036471891\n"
     ]
    },
    {
     "name": "stderr",
     "output_type": "stream",
     "text": [
      "epoch #251|  0%|                                                |ETA:   0:00:54"
     ]
    },
    {
     "name": "stdout",
     "output_type": "stream",
     "text": [
      "---------------------\n",
      "GEN Loss: 3.5461936 0.5407102\n",
      "Feature Matching Loss: 0.018428214 0.04218338\n",
      "RECON Loss: 0.021595879 0.028062206\n",
      "DIS Loss: 0.059628267 1.1113317\n"
     ]
    },
    {
     "name": "stderr",
     "output_type": "stream",
     "text": [
      "epoch #252|  0%|                                                |ETA:   0:01:01"
     ]
    },
    {
     "name": "stdout",
     "output_type": "stream",
     "text": [
      "---------------------\n",
      "GEN Loss: 3.4956634 0.6917382\n",
      "Feature Matching Loss: 0.017396921 0.02022588\n",
      "RECON Loss: 0.014061347 0.01648933\n",
      "DIS Loss: 0.046190456 0.75250286\n"
     ]
    },
    {
     "name": "stderr",
     "output_type": "stream",
     "text": [
      "epoch #253|  0%|                                                |ETA:   0:00:55"
     ]
    },
    {
     "name": "stdout",
     "output_type": "stream",
     "text": [
      "---------------------\n",
      "GEN Loss: 3.8500137 0.6702335\n",
      "Feature Matching Loss: 0.017276544 0.017437965\n",
      "RECON Loss: 0.012565967 0.0145332515\n",
      "DIS Loss: 0.031909786 0.72931826\n"
     ]
    },
    {
     "name": "stderr",
     "output_type": "stream",
     "text": [
      "epoch #254|  0%|                                                |ETA:   0:00:59"
     ]
    },
    {
     "name": "stdout",
     "output_type": "stream",
     "text": [
      "---------------------\n",
      "GEN Loss: 4.379348 0.6670372\n",
      "Feature Matching Loss: 0.017748345 0.015358737\n",
      "RECON Loss: 0.011797406 0.013491124\n",
      "DIS Loss: 0.024853392 0.7209472\n"
     ]
    },
    {
     "name": "stderr",
     "output_type": "stream",
     "text": [
      "epoch #255|  0%|                                                |ETA:   0:01:03"
     ]
    },
    {
     "name": "stdout",
     "output_type": "stream",
     "text": [
      "---------------------\n",
      "GEN Loss: 4.4987197 0.6610245\n",
      "Feature Matching Loss: 0.01814298 0.013669137\n",
      "RECON Loss: 0.011328938 0.012838776\n",
      "DIS Loss: 0.018411584 0.71883905\n"
     ]
    },
    {
     "name": "stderr",
     "output_type": "stream",
     "text": [
      "epoch #256|  0%|                                                |ETA:   0:00:54"
     ]
    },
    {
     "name": "stdout",
     "output_type": "stream",
     "text": [
      "---------------------\n",
      "GEN Loss: 4.7849865 0.6671927\n",
      "Feature Matching Loss: 0.018343441 0.013347757\n",
      "RECON Loss: 0.010981533 0.012382189\n",
      "DIS Loss: 0.0151503645 0.7145811\n"
     ]
    },
    {
     "name": "stderr",
     "output_type": "stream",
     "text": [
      "epoch #257|  0%|                                                |ETA:   0:00:58"
     ]
    },
    {
     "name": "stdout",
     "output_type": "stream",
     "text": [
      "---------------------\n",
      "GEN Loss: 5.1528387 0.6672412\n",
      "Feature Matching Loss: 0.01861732 0.015438179\n",
      "RECON Loss: 0.010833602 0.012086431\n",
      "DIS Loss: 0.012821146 0.71021473\n"
     ]
    },
    {
     "name": "stderr",
     "output_type": "stream",
     "text": [
      "epoch #258|  0%|                                                |ETA:   0:00:56"
     ]
    },
    {
     "name": "stdout",
     "output_type": "stream",
     "text": [
      "---------------------\n",
      "GEN Loss: 5.383206 0.6820008\n",
      "Feature Matching Loss: 0.018916558 0.016125545\n",
      "RECON Loss: 0.010647456 0.011905609\n",
      "DIS Loss: 0.010679392 0.7041309\n"
     ]
    },
    {
     "name": "stderr",
     "output_type": "stream",
     "text": [
      "epoch #259|  0%|                                                |ETA:   0:00:55"
     ]
    },
    {
     "name": "stdout",
     "output_type": "stream",
     "text": [
      "---------------------\n",
      "GEN Loss: 5.526298 0.6693207\n",
      "Feature Matching Loss: 0.019244902 0.016032504\n",
      "RECON Loss: 0.010352941 0.011657057\n",
      "DIS Loss: 0.008800754 0.7116437\n"
     ]
    },
    {
     "name": "stderr",
     "output_type": "stream",
     "text": [
      "epoch #260|  0%|                                                |ETA:   0:01:07"
     ]
    },
    {
     "name": "stdout",
     "output_type": "stream",
     "text": [
      "---------------------\n",
      "GEN Loss: 5.6255803 0.67365646\n",
      "Feature Matching Loss: 0.01951736 0.014475657\n",
      "RECON Loss: 0.010299759 0.011596213\n",
      "DIS Loss: 0.007404818 0.7154709\n"
     ]
    },
    {
     "name": "stderr",
     "output_type": "stream",
     "text": [
      "epoch #261|  0%|                                                |ETA:   0:01:00"
     ]
    },
    {
     "name": "stdout",
     "output_type": "stream",
     "text": [
      "---------------------\n",
      "GEN Loss: 5.6853256 0.6881162\n",
      "Feature Matching Loss: 0.019736396 0.011310221\n",
      "RECON Loss: 0.010190081 0.011391419\n",
      "DIS Loss: 0.0063991174 0.7103371\n"
     ]
    },
    {
     "name": "stderr",
     "output_type": "stream",
     "text": [
      "epoch #262|  0%|                                                |ETA:   0:00:55"
     ]
    },
    {
     "name": "stdout",
     "output_type": "stream",
     "text": [
      "---------------------\n",
      "GEN Loss: 5.7429733 0.70856243\n",
      "Feature Matching Loss: 0.019895736 0.01068485\n",
      "RECON Loss: 0.010122514 0.0112648755\n",
      "DIS Loss: 0.00564765 0.70430994\n"
     ]
    },
    {
     "name": "stderr",
     "output_type": "stream",
     "text": [
      "epoch #263|  0%|                                                |ETA:   0:01:01"
     ]
    },
    {
     "name": "stdout",
     "output_type": "stream",
     "text": [
      "---------------------\n",
      "GEN Loss: 5.819312 0.7284211\n",
      "Feature Matching Loss: 0.020186514 0.011732171\n",
      "RECON Loss: 0.010080196 0.011251117\n",
      "DIS Loss: 0.0050253114 0.6999885\n"
     ]
    },
    {
     "name": "stderr",
     "output_type": "stream",
     "text": [
      "epoch #264|  0%|                                                |ETA:   0:00:56"
     ]
    },
    {
     "name": "stdout",
     "output_type": "stream",
     "text": [
      "---------------------\n",
      "GEN Loss: 5.9200215 0.7252073\n",
      "Feature Matching Loss: 0.020408329 0.011745399\n",
      "RECON Loss: 0.009945784 0.011047761\n",
      "DIS Loss: 0.0045182463 0.69619775\n"
     ]
    },
    {
     "name": "stderr",
     "output_type": "stream",
     "text": [
      "epoch #265|  0%|                                                |ETA:   0:01:00"
     ]
    },
    {
     "name": "stdout",
     "output_type": "stream",
     "text": [
      "---------------------\n",
      "GEN Loss: 6.022729 0.71692085\n",
      "Feature Matching Loss: 0.020539466 0.009885866\n",
      "RECON Loss: 0.009786133 0.010833418\n",
      "DIS Loss: 0.0041009365 0.69315255\n"
     ]
    },
    {
     "name": "stderr",
     "output_type": "stream",
     "text": [
      "epoch #266|  0%|                                                |ETA:   0:00:55"
     ]
    },
    {
     "name": "stdout",
     "output_type": "stream",
     "text": [
      "---------------------\n",
      "GEN Loss: 6.1141443 0.7002389\n",
      "Feature Matching Loss: 0.020708218 0.009826809\n",
      "RECON Loss: 0.009690257 0.010825871\n",
      "DIS Loss: 0.0038011891 0.69298524\n"
     ]
    },
    {
     "name": "stderr",
     "output_type": "stream",
     "text": [
      "epoch #267|  0%|                                                |ETA:   0:01:29"
     ]
    },
    {
     "name": "stdout",
     "output_type": "stream",
     "text": [
      "---------------------\n",
      "GEN Loss: 6.2038813 0.7043606\n",
      "Feature Matching Loss: 0.020988077 0.010196108\n",
      "RECON Loss: 0.009588884 0.010773195\n",
      "DIS Loss: 0.0035100994 0.69184804\n"
     ]
    },
    {
     "name": "stderr",
     "output_type": "stream",
     "text": [
      "epoch #268|  0%|                                                |ETA:   0:01:00"
     ]
    },
    {
     "name": "stdout",
     "output_type": "stream",
     "text": [
      "---------------------\n",
      "GEN Loss: 6.265238 0.7272651\n",
      "Feature Matching Loss: 0.021077573 0.011674749\n",
      "RECON Loss: 0.009466143 0.010554182\n",
      "DIS Loss: 0.0032904742 0.69004273\n"
     ]
    },
    {
     "name": "stderr",
     "output_type": "stream",
     "text": [
      "epoch #269|  0%|                                                |ETA:   0:00:55"
     ]
    },
    {
     "name": "stdout",
     "output_type": "stream",
     "text": [
      "---------------------\n",
      "GEN Loss: 6.3571534 0.7158324\n",
      "Feature Matching Loss: 0.021250384 0.012437782\n",
      "RECON Loss: 0.009439873 0.010623517\n",
      "DIS Loss: 0.0030411095 0.69005275\n"
     ]
    },
    {
     "name": "stderr",
     "output_type": "stream",
     "text": [
      "epoch #270|  0%|                                                |ETA:   0:00:59"
     ]
    },
    {
     "name": "stdout",
     "output_type": "stream",
     "text": [
      "---------------------\n",
      "GEN Loss: 6.493684 0.71684325\n",
      "Feature Matching Loss: 0.021802735 0.010461389\n",
      "RECON Loss: 0.009512691 0.010694782\n",
      "DIS Loss: 0.0027760975 0.682508\n"
     ]
    },
    {
     "name": "stderr",
     "output_type": "stream",
     "text": [
      "epoch #271|  0%|                                                |ETA:   0:00:59"
     ]
    },
    {
     "name": "stdout",
     "output_type": "stream",
     "text": [
      "---------------------\n",
      "GEN Loss: 6.599289 0.71681386\n",
      "Feature Matching Loss: 0.021987487 0.01062603\n",
      "RECON Loss: 0.009334952 0.010421624\n",
      "DIS Loss: 0.0025702724 0.6842229\n"
     ]
    },
    {
     "name": "stderr",
     "output_type": "stream",
     "text": [
      "epoch #272|  0%|                                                |ETA:   0:01:03"
     ]
    },
    {
     "name": "stdout",
     "output_type": "stream",
     "text": [
      "---------------------\n",
      "GEN Loss: 6.6136765 0.69974554\n",
      "Feature Matching Loss: 0.021591425 0.013405509\n",
      "RECON Loss: 0.0092921965 0.010291865\n",
      "DIS Loss: 0.0024633165 0.68707037\n"
     ]
    },
    {
     "name": "stderr",
     "output_type": "stream",
     "text": [
      "epoch #273|  0%|                                                |ETA:   0:00:56"
     ]
    },
    {
     "name": "stdout",
     "output_type": "stream",
     "text": [
      "---------------------\n",
      "GEN Loss: 6.6498013 0.69604146\n",
      "Feature Matching Loss: 0.021352567 0.014146393\n",
      "RECON Loss: 0.009303791 0.010377071\n",
      "DIS Loss: 0.00234567 0.68824124\n"
     ]
    },
    {
     "name": "stderr",
     "output_type": "stream",
     "text": [
      "epoch #274|  0%|                                                |ETA:   0:00:55"
     ]
    },
    {
     "name": "stdout",
     "output_type": "stream",
     "text": [
      "---------------------\n",
      "GEN Loss: 6.790256 0.7019574\n",
      "Feature Matching Loss: 0.021690102 0.01343551\n",
      "RECON Loss: 0.009294341 0.010440756\n",
      "DIS Loss: 0.0021637734 0.69833934\n"
     ]
    },
    {
     "name": "stderr",
     "output_type": "stream",
     "text": [
      "epoch #275|  0%|                                                |ETA:   0:00:56"
     ]
    },
    {
     "name": "stdout",
     "output_type": "stream",
     "text": [
      "---------------------\n",
      "GEN Loss: 6.944193 0.7010814\n",
      "Feature Matching Loss: 0.022102945 0.011963084\n",
      "RECON Loss: 0.009220033 0.01045648\n",
      "DIS Loss: 0.0020141522 0.6930061\n"
     ]
    },
    {
     "name": "stderr",
     "output_type": "stream",
     "text": [
      "epoch #276|  0%|                                                |ETA:   0:01:04"
     ]
    },
    {
     "name": "stdout",
     "output_type": "stream",
     "text": [
      "---------------------\n",
      "GEN Loss: 6.831892 0.73502934\n",
      "Feature Matching Loss: 0.021346826 0.013488026\n",
      "RECON Loss: 0.009207553 0.010301003\n",
      "DIS Loss: 0.0020100106 0.682116\n"
     ]
    },
    {
     "name": "stderr",
     "output_type": "stream",
     "text": [
      "epoch #277|  0%|                                                |ETA:   0:01:47"
     ]
    },
    {
     "name": "stdout",
     "output_type": "stream",
     "text": [
      "---------------------\n",
      "GEN Loss: 6.6899343 0.76929253\n",
      "Feature Matching Loss: 0.021249998 0.014916783\n",
      "RECON Loss: 0.009213764 0.010349585\n",
      "DIS Loss: 0.002010285 0.68827605\n"
     ]
    },
    {
     "name": "stderr",
     "output_type": "stream",
     "text": [
      "epoch #278|  0%|                                                |ETA:   0:00:56"
     ]
    },
    {
     "name": "stdout",
     "output_type": "stream",
     "text": [
      "---------------------\n",
      "GEN Loss: 7.172727 0.71328497\n",
      "Feature Matching Loss: 0.022975285 0.009872219\n",
      "RECON Loss: 0.009295154 0.010486316\n",
      "DIS Loss: 0.0016549658 0.6917514\n"
     ]
    },
    {
     "name": "stderr",
     "output_type": "stream",
     "text": [
      "epoch #279|  0%|                                                |ETA:   0:01:00"
     ]
    },
    {
     "name": "stdout",
     "output_type": "stream",
     "text": [
      "---------------------\n",
      "GEN Loss: 7.024861 0.69437134\n",
      "Feature Matching Loss: 0.021908026 0.009493994\n",
      "RECON Loss: 0.009001618 0.010100331\n",
      "DIS Loss: 0.0017931479 0.6783353\n"
     ]
    },
    {
     "name": "stderr",
     "output_type": "stream",
     "text": [
      "epoch #280|  0%|                                                |ETA:   0:00:59"
     ]
    },
    {
     "name": "stdout",
     "output_type": "stream",
     "text": [
      "---------------------\n",
      "GEN Loss: 6.538042 0.6918929\n",
      "Feature Matching Loss: 0.02075064 0.0105544\n",
      "RECON Loss: 0.008987447 0.010203883\n",
      "DIS Loss: 0.002891577 0.67565024\n"
     ]
    },
    {
     "name": "stderr",
     "output_type": "stream",
     "text": [
      "epoch #281|  0%|                                                |ETA:   0:00:56"
     ]
    },
    {
     "name": "stdout",
     "output_type": "stream",
     "text": [
      "---------------------\n",
      "GEN Loss: 7.1517262 0.72218615\n",
      "Feature Matching Loss: 0.019368276 0.014590497\n",
      "RECON Loss: 0.009234611 0.010575466\n",
      "DIS Loss: 0.01099621 0.6807451\n"
     ]
    },
    {
     "name": "stderr",
     "output_type": "stream",
     "text": [
      "epoch #282|N/A%|                                                |ETA:  --:--:--"
     ]
    },
    {
     "name": "stdout",
     "output_type": "stream",
     "text": [
      "---------------------\n"
     ]
    },
    {
     "name": "stderr",
     "output_type": "stream",
     "text": [
      "\r",
      "                                                                               \r",
      "\r",
      "epoch #282|  0%|                                                |ETA:   0:02:38"
     ]
    },
    {
     "name": "stdout",
     "output_type": "stream",
     "text": [
      "GEN Loss: 0.6249337 0.74063337\n",
      "Feature Matching Loss: 0.025709234 0.012791901\n",
      "RECON Loss: 0.013628986 0.013435304\n",
      "DIS Loss: 0.8182695 0.68200564\n"
     ]
    },
    {
     "name": "stderr",
     "output_type": "stream",
     "text": [
      "epoch #283|  0%|                                                |ETA:   0:01:01"
     ]
    },
    {
     "name": "stdout",
     "output_type": "stream",
     "text": [
      "---------------------\n",
      "GEN Loss: 0.70710695 0.7040452\n",
      "Feature Matching Loss: 0.019304076 0.010473779\n",
      "RECON Loss: 0.011668973 0.012107072\n",
      "DIS Loss: 0.6976259 0.67487687\n"
     ]
    },
    {
     "name": "stderr",
     "output_type": "stream",
     "text": [
      "epoch #284|  0%|                                                |ETA:   0:00:54"
     ]
    },
    {
     "name": "stdout",
     "output_type": "stream",
     "text": [
      "---------------------\n",
      "GEN Loss: 1.9087362 0.68718386\n",
      "Feature Matching Loss: 0.03122715 0.013349373\n",
      "RECON Loss: 0.012028622 0.013363781\n",
      "DIS Loss: 0.9479958 0.6744827\n"
     ]
    },
    {
     "name": "stderr",
     "output_type": "stream",
     "text": [
      "epoch #285|  0%|                                                |ETA:   0:01:01"
     ]
    },
    {
     "name": "stdout",
     "output_type": "stream",
     "text": [
      "---------------------\n",
      "GEN Loss: 0.6248538 0.7123437\n",
      "Feature Matching Loss: 0.04707452 0.013874133\n",
      "RECON Loss: 0.012152225 0.013744002\n",
      "DIS Loss: 0.67600954 0.6801094\n"
     ]
    },
    {
     "name": "stderr",
     "output_type": "stream",
     "text": [
      "epoch #286|  0%|                                                |ETA:   0:00:56"
     ]
    },
    {
     "name": "stdout",
     "output_type": "stream",
     "text": [
      "---------------------\n",
      "GEN Loss: 0.75209224 0.6847823\n",
      "Feature Matching Loss: 0.036242433 0.012963636\n",
      "RECON Loss: 0.012339498 0.014553039\n",
      "DIS Loss: 0.5680864 0.6826031\n"
     ]
    },
    {
     "name": "stderr",
     "output_type": "stream",
     "text": [
      "epoch #287|  0%|                                                |ETA:   0:00:58"
     ]
    },
    {
     "name": "stdout",
     "output_type": "stream",
     "text": [
      "---------------------\n",
      "GEN Loss: 2.2574825 0.6832602\n",
      "Feature Matching Loss: 0.03471833 0.013014263\n",
      "RECON Loss: 0.0129446 0.014543581\n",
      "DIS Loss: 0.47942138 0.67617786\n"
     ]
    },
    {
     "name": "stderr",
     "output_type": "stream",
     "text": [
      "epoch #288|  0%|                                                |ETA:   0:00:56"
     ]
    },
    {
     "name": "stdout",
     "output_type": "stream",
     "text": [
      "---------------------\n",
      "GEN Loss: 0.9658401 0.69549614\n",
      "Feature Matching Loss: 0.03398857 0.010509421\n",
      "RECON Loss: 0.012635323 0.014114763\n",
      "DIS Loss: 0.42247564 0.6753974\n"
     ]
    },
    {
     "name": "stderr",
     "output_type": "stream",
     "text": [
      "epoch #289|  0%|                                                |ETA:   0:00:59"
     ]
    },
    {
     "name": "stdout",
     "output_type": "stream",
     "text": [
      "---------------------\n",
      "GEN Loss: 2.6287625 0.7110109\n",
      "Feature Matching Loss: 0.030006705 0.01108963\n",
      "RECON Loss: 0.012313871 0.014136694\n",
      "DIS Loss: 0.2862084 0.6694603\n"
     ]
    },
    {
     "name": "stderr",
     "output_type": "stream",
     "text": [
      "epoch #290|  0%|                                                |ETA:   0:00:55"
     ]
    },
    {
     "name": "stdout",
     "output_type": "stream",
     "text": [
      "---------------------\n",
      "GEN Loss: 2.592231 0.7096371\n",
      "Feature Matching Loss: 0.024470171 0.012629769\n",
      "RECON Loss: 0.011905827 0.013579334\n",
      "DIS Loss: 0.1611315 0.6691577\n"
     ]
    },
    {
     "name": "stderr",
     "output_type": "stream",
     "text": [
      "epoch #291|  0%|                                                |ETA:   0:00:56"
     ]
    },
    {
     "name": "stdout",
     "output_type": "stream",
     "text": [
      "---------------------\n",
      "GEN Loss: 1.7407613 0.7004453\n",
      "Feature Matching Loss: 0.024114376 0.011684837\n",
      "RECON Loss: 0.012062361 0.013460975\n",
      "DIS Loss: 0.20766714 0.6638492\n"
     ]
    },
    {
     "name": "stderr",
     "output_type": "stream",
     "text": [
      "epoch #292|  0%|                                                |ETA:   0:01:02"
     ]
    },
    {
     "name": "stdout",
     "output_type": "stream",
     "text": [
      "---------------------\n",
      "GEN Loss: 3.0102265 0.6760889\n",
      "Feature Matching Loss: 0.019695112 0.012885429\n",
      "RECON Loss: 0.01203253 0.013290013\n",
      "DIS Loss: 0.11540951 0.6674732\n"
     ]
    },
    {
     "name": "stderr",
     "output_type": "stream",
     "text": [
      "epoch #293|  0%|                                                |ETA:   0:00:55"
     ]
    },
    {
     "name": "stdout",
     "output_type": "stream",
     "text": [
      "---------------------\n",
      "GEN Loss: 4.6022077 0.63934606\n",
      "Feature Matching Loss: 0.016450722 0.012899957\n",
      "RECON Loss: 0.011999799 0.013110521\n",
      "DIS Loss: 0.094647795 0.66616535\n"
     ]
    },
    {
     "name": "stderr",
     "output_type": "stream",
     "text": [
      "epoch #294|  0%|                                                |ETA:   0:00:55"
     ]
    },
    {
     "name": "stdout",
     "output_type": "stream",
     "text": [
      "---------------------\n",
      "GEN Loss: 4.860974 0.72381526\n",
      "Feature Matching Loss: 0.016922712 0.0122371875\n",
      "RECON Loss: 0.011615108 0.012844682\n",
      "DIS Loss: 0.04859061 0.65135384\n"
     ]
    },
    {
     "name": "stderr",
     "output_type": "stream",
     "text": [
      "epoch #295|  0%|                                                |ETA:   0:00:55"
     ]
    },
    {
     "name": "stdout",
     "output_type": "stream",
     "text": [
      "---------------------\n",
      "GEN Loss: 3.77918 0.8318078\n",
      "Feature Matching Loss: 0.017858762 0.011722062\n",
      "RECON Loss: 0.011515928 0.0126372315\n",
      "DIS Loss: 0.029131357 0.6477674\n"
     ]
    },
    {
     "name": "stderr",
     "output_type": "stream",
     "text": [
      "epoch #296|  0%|                                                |ETA:   0:01:16"
     ]
    },
    {
     "name": "stdout",
     "output_type": "stream",
     "text": [
      "---------------------\n",
      "GEN Loss: 4.3232064 0.67392135\n",
      "Feature Matching Loss: 0.017972432 0.010704765\n",
      "RECON Loss: 0.011526667 0.012489198\n",
      "DIS Loss: 0.018165179 0.6360469\n"
     ]
    },
    {
     "name": "stderr",
     "output_type": "stream",
     "text": [
      "epoch #297|  0%|                                                |ETA:   0:00:57"
     ]
    },
    {
     "name": "stdout",
     "output_type": "stream",
     "text": [
      "---------------------\n",
      "GEN Loss: 4.7959785 0.48794657\n",
      "Feature Matching Loss: 0.018150754 0.013913783\n",
      "RECON Loss: 0.011912655 0.012552502\n",
      "DIS Loss: 0.013812629 0.67268455\n"
     ]
    },
    {
     "name": "stderr",
     "output_type": "stream",
     "text": [
      "epoch #298|  0%|                                                |ETA:   0:00:55"
     ]
    },
    {
     "name": "stdout",
     "output_type": "stream",
     "text": [
      "---------------------\n",
      "GEN Loss: 4.9614024 0.6212069\n",
      "Feature Matching Loss: 0.018614028 0.019014293\n",
      "RECON Loss: 0.012593938 0.012965567\n",
      "DIS Loss: 0.011127459 0.66691816\n"
     ]
    },
    {
     "name": "stderr",
     "output_type": "stream",
     "text": [
      "epoch #299|  0%|                                                |ETA:   0:00:56"
     ]
    },
    {
     "name": "stdout",
     "output_type": "stream",
     "text": [
      "---------------------\n",
      "GEN Loss: 5.059304 2.2033465\n",
      "Feature Matching Loss: 0.018737858 0.028190304\n",
      "RECON Loss: 0.014249939 0.014588267\n",
      "DIS Loss: 0.0093470905 1.097792\n"
     ]
    },
    {
     "name": "stderr",
     "output_type": "stream",
     "text": [
      "epoch #300|  0%|                                                |ETA:   0:00:55"
     ]
    },
    {
     "name": "stdout",
     "output_type": "stream",
     "text": [
      "---------------------\n",
      "GEN Loss: 5.1706963 0.951911\n",
      "Feature Matching Loss: 0.018791009 0.027929813\n",
      "RECON Loss: 0.014052002 0.01406437\n",
      "DIS Loss: 0.007978449 0.61591226\n"
     ]
    },
    {
     "name": "stderr",
     "output_type": "stream",
     "text": [
      "epoch #301|  0%|                                                |ETA:   0:00:54"
     ]
    },
    {
     "name": "stdout",
     "output_type": "stream",
     "text": [
      "---------------------\n",
      "GEN Loss: 5.253495 0.58314437\n",
      "Feature Matching Loss: 0.01903947 0.026400208\n",
      "RECON Loss: 0.01410764 0.013762152\n",
      "DIS Loss: 0.007108281 0.6138811\n"
     ]
    },
    {
     "name": "stderr",
     "output_type": "stream",
     "text": [
      "epoch #302|  0%|                                                |ETA:   0:00:55"
     ]
    },
    {
     "name": "stdout",
     "output_type": "stream",
     "text": [
      "---------------------\n",
      "GEN Loss: 5.345274 2.0954206\n",
      "Feature Matching Loss: 0.01902419 0.02650798\n",
      "RECON Loss: 0.0142226815 0.014108679\n",
      "DIS Loss: 0.0064210906 0.6474079\n"
     ]
    },
    {
     "name": "stderr",
     "output_type": "stream",
     "text": [
      "epoch #303|  0%|                                                |ETA:   0:00:56"
     ]
    },
    {
     "name": "stdout",
     "output_type": "stream",
     "text": [
      "---------------------\n",
      "GEN Loss: 5.4904785 1.353489\n",
      "Feature Matching Loss: 0.019265916 0.026547916\n",
      "RECON Loss: 0.013992398 0.013731058\n",
      "DIS Loss: 0.005636015 0.40419903\n"
     ]
    },
    {
     "name": "stderr",
     "output_type": "stream",
     "text": [
      "epoch #304|  0%|                                                |ETA:   0:00:54"
     ]
    },
    {
     "name": "stdout",
     "output_type": "stream",
     "text": [
      "---------------------\n",
      "GEN Loss: 5.5818615 2.2653198\n",
      "Feature Matching Loss: 0.019489046 0.023841158\n",
      "RECON Loss: 0.013982068 0.0135448\n",
      "DIS Loss: 0.005092027 0.43077487\n"
     ]
    },
    {
     "name": "stderr",
     "output_type": "stream",
     "text": [
      "epoch #305|  0%|                                                |ETA:   0:00:54"
     ]
    },
    {
     "name": "stdout",
     "output_type": "stream",
     "text": [
      "---------------------\n",
      "GEN Loss: 5.6924686 1.2714417\n",
      "Feature Matching Loss: 0.019722698 0.026234016\n",
      "RECON Loss: 0.013886467 0.013390133\n",
      "DIS Loss: 0.0045837304 0.2975436\n"
     ]
    },
    {
     "name": "stderr",
     "output_type": "stream",
     "text": [
      "epoch #306|  0%|                                                |ETA:   0:00:56"
     ]
    },
    {
     "name": "stdout",
     "output_type": "stream",
     "text": [
      "---------------------\n",
      "GEN Loss: 5.79433 1.4229754\n",
      "Feature Matching Loss: 0.019922122 0.026154814\n",
      "RECON Loss: 0.013876843 0.013249284\n",
      "DIS Loss: 0.004173159 0.29405758\n"
     ]
    },
    {
     "name": "stderr",
     "output_type": "stream",
     "text": [
      "epoch #307|  0%|                                                |ETA:   0:00:54"
     ]
    },
    {
     "name": "stdout",
     "output_type": "stream",
     "text": [
      "---------------------\n",
      "GEN Loss: 5.903215 1.528987\n",
      "Feature Matching Loss: 0.020125367 0.025821146\n",
      "RECON Loss: 0.01392715 0.013123166\n",
      "DIS Loss: 0.003797249 0.28236127\n"
     ]
    },
    {
     "name": "stderr",
     "output_type": "stream",
     "text": [
      "epoch #308|  0%|                                                |ETA:   0:00:56"
     ]
    },
    {
     "name": "stdout",
     "output_type": "stream",
     "text": [
      "---------------------\n",
      "GEN Loss: 6.0152206 2.2525883\n",
      "Feature Matching Loss: 0.02038509 0.023029406\n",
      "RECON Loss: 0.013512762 0.0128348945\n",
      "DIS Loss: 0.0034903046 0.17649555\n"
     ]
    },
    {
     "name": "stderr",
     "output_type": "stream",
     "text": [
      "epoch #309|  0%|                                                |ETA:   0:01:00"
     ]
    },
    {
     "name": "stdout",
     "output_type": "stream",
     "text": [
      "---------------------\n",
      "GEN Loss: 6.1079636 2.4985957\n",
      "Feature Matching Loss: 0.0204801 0.01995399\n",
      "RECON Loss: 0.013384042 0.012837678\n",
      "DIS Loss: 0.0032369085 0.16011578\n"
     ]
    },
    {
     "name": "stderr",
     "output_type": "stream",
     "text": [
      "epoch #310|  0%|                                                |ETA:   0:00:59"
     ]
    },
    {
     "name": "stdout",
     "output_type": "stream",
     "text": [
      "---------------------\n",
      "GEN Loss: 6.1913137 2.18059\n",
      "Feature Matching Loss: 0.020575967 0.020006912\n",
      "RECON Loss: 0.013189337 0.012546711\n",
      "DIS Loss: 0.0030259555 0.14147277\n"
     ]
    },
    {
     "name": "stderr",
     "output_type": "stream",
     "text": [
      "epoch #311|  0%|                                                |ETA:   0:00:58"
     ]
    },
    {
     "name": "stdout",
     "output_type": "stream",
     "text": [
      "---------------------\n",
      "GEN Loss: 6.320136 2.7411828\n",
      "Feature Matching Loss: 0.020990876 0.01796259\n",
      "RECON Loss: 0.01296404 0.012375526\n",
      "DIS Loss: 0.0027543586 0.113349155\n"
     ]
    },
    {
     "name": "stderr",
     "output_type": "stream",
     "text": [
      "epoch #312|  0%|                                                |ETA:   0:00:55"
     ]
    },
    {
     "name": "stdout",
     "output_type": "stream",
     "text": [
      "---------------------\n",
      "GEN Loss: 6.4094095 3.8846383\n",
      "Feature Matching Loss: 0.02111214 0.016734365\n",
      "RECON Loss: 0.012822839 0.012261227\n",
      "DIS Loss: 0.0025656251 0.12377392\n"
     ]
    },
    {
     "name": "stderr",
     "output_type": "stream",
     "text": [
      "epoch #313|  0%|                                                |ETA:   0:01:00"
     ]
    },
    {
     "name": "stdout",
     "output_type": "stream",
     "text": [
      "---------------------\n",
      "GEN Loss: 6.4534645 4.237254\n",
      "Feature Matching Loss: 0.02121773 0.014943582\n",
      "RECON Loss: 0.012380085 0.01195095\n",
      "DIS Loss: 0.0024252469 0.07187216\n"
     ]
    },
    {
     "name": "stderr",
     "output_type": "stream",
     "text": [
      "epoch #314|  0%|                                                |ETA:   0:01:00"
     ]
    },
    {
     "name": "stdout",
     "output_type": "stream",
     "text": [
      "---------------------\n",
      "GEN Loss: 6.5207977 3.1545672\n",
      "Feature Matching Loss: 0.02145542 0.01498574\n",
      "RECON Loss: 0.012071077 0.011763474\n",
      "DIS Loss: 0.0022824246 0.05247422\n"
     ]
    },
    {
     "name": "stderr",
     "output_type": "stream",
     "text": [
      "epoch #315|  0%|                                                |ETA:   0:01:04"
     ]
    },
    {
     "name": "stdout",
     "output_type": "stream",
     "text": [
      "---------------------\n",
      "GEN Loss: 6.597466 3.9274666\n",
      "Feature Matching Loss: 0.021607941 0.014596761\n",
      "RECON Loss: 0.011768002 0.01161099\n",
      "DIS Loss: 0.0021424685 0.03400974\n"
     ]
    },
    {
     "name": "stderr",
     "output_type": "stream",
     "text": [
      "epoch #316|  0%|                                                |ETA:   0:01:05"
     ]
    },
    {
     "name": "stdout",
     "output_type": "stream",
     "text": [
      "---------------------\n",
      "GEN Loss: 6.674697 4.348065\n",
      "Feature Matching Loss: 0.021820035 0.014838134\n",
      "RECON Loss: 0.011566676 0.011506631\n",
      "DIS Loss: 0.0020168242 0.033445068\n"
     ]
    },
    {
     "name": "stderr",
     "output_type": "stream",
     "text": [
      "epoch #317|N/A%|                                                |ETA:  --:--:--"
     ]
    },
    {
     "name": "stdout",
     "output_type": "stream",
     "text": [
      "---------------------\n",
      "GEN Loss:"
     ]
    },
    {
     "name": "stderr",
     "output_type": "stream",
     "text": [
      "\r",
      "                                                                               \r",
      "\r",
      "epoch #317|  0%|                                                |ETA:   0:01:22"
     ]
    },
    {
     "name": "stdout",
     "output_type": "stream",
     "text": [
      " 6.734715 4.397454\n",
      "Feature Matching Loss: 0.02188305 0.015177468\n",
      "RECON Loss: 0.011298935 0.011333807\n",
      "DIS Loss: 0.0019117476 0.019617166\n"
     ]
    },
    {
     "name": "stderr",
     "output_type": "stream",
     "text": [
      "epoch #318|  0%|                                                |ETA:   0:00:55"
     ]
    },
    {
     "name": "stdout",
     "output_type": "stream",
     "text": [
      "---------------------\n",
      "GEN Loss: 6.8176823 4.5532217\n",
      "Feature Matching Loss: 0.02207547 0.015439234\n",
      "RECON Loss: 0.011052867 0.011185537\n",
      "DIS Loss: 0.001792713 0.014572531\n"
     ]
    },
    {
     "name": "stderr",
     "output_type": "stream",
     "text": [
      "epoch #319|  0%|                                                |ETA:   0:00:56"
     ]
    },
    {
     "name": "stdout",
     "output_type": "stream",
     "text": [
      "---------------------\n",
      "GEN Loss: 6.886789 4.858773\n",
      "Feature Matching Loss: 0.022239607 0.015688378\n",
      "RECON Loss: 0.010858163 0.01105129\n",
      "DIS Loss: 0.001687476 0.011351688\n"
     ]
    },
    {
     "name": "stderr",
     "output_type": "stream",
     "text": [
      "epoch #320|  0%|                                                |ETA:   0:00:58"
     ]
    },
    {
     "name": "stdout",
     "output_type": "stream",
     "text": [
      "---------------------\n",
      "GEN Loss: 6.944232 5.0747213\n",
      "Feature Matching Loss: 0.02235933 0.01596979\n",
      "RECON Loss: 0.010701328 0.010947861\n",
      "DIS Loss: 0.0015984545 0.009271723\n"
     ]
    },
    {
     "name": "stderr",
     "output_type": "stream",
     "text": [
      "epoch #321|  0%|                                                |ETA:   0:00:56"
     ]
    },
    {
     "name": "stdout",
     "output_type": "stream",
     "text": [
      "---------------------\n",
      "GEN Loss: 7.0090046 5.2539415\n",
      "Feature Matching Loss: 0.02251754 0.01625149\n",
      "RECON Loss: 0.010569564 0.0108545255\n",
      "DIS Loss: 0.0015020373 0.0077326717\n"
     ]
    },
    {
     "name": "stderr",
     "output_type": "stream",
     "text": [
      "epoch #322|  0%|                                                |ETA:   0:01:33"
     ]
    },
    {
     "name": "stdout",
     "output_type": "stream",
     "text": [
      "---------------------\n",
      "GEN Loss: 7.0735474 5.4033976\n",
      "Feature Matching Loss: 0.022625156 0.016475376\n",
      "RECON Loss: 0.010454008 0.010778813\n",
      "DIS Loss: 0.0014201787 0.0065847524\n"
     ]
    },
    {
     "name": "stderr",
     "output_type": "stream",
     "text": [
      "epoch #323|  0%|                                                |ETA:   0:00:57"
     ]
    },
    {
     "name": "stdout",
     "output_type": "stream",
     "text": [
      "---------------------\n",
      "GEN Loss: 7.1185217 5.543931\n",
      "Feature Matching Loss: 0.022751393 0.016682513\n",
      "RECON Loss: 0.010343637 0.010696925\n",
      "DIS Loss: 0.0013508438 0.005700658\n"
     ]
    },
    {
     "name": "stderr",
     "output_type": "stream",
     "text": [
      "epoch #324|N/A%|                                                |ETA:  --:--:--"
     ]
    },
    {
     "name": "stdout",
     "output_type": "stream",
     "text": [
      "---------------------\n"
     ]
    },
    {
     "name": "stderr",
     "output_type": "stream",
     "text": [
      "\r",
      "                                                                               \r",
      "\r",
      "epoch #324|  0%|                                                |ETA:   0:02:30"
     ]
    },
    {
     "name": "stdout",
     "output_type": "stream",
     "text": [
      "GEN Loss: 7.228027 5.679711\n",
      "Feature Matching Loss: 0.023010638 0.0168791\n",
      "RECON Loss: 0.010256625 0.010623984\n",
      "DIS Loss: 0.0012554798 0.004997252\n"
     ]
    },
    {
     "name": "stderr",
     "output_type": "stream",
     "text": [
      "epoch #325|  0%|                                                |ETA:   0:00:56"
     ]
    },
    {
     "name": "stdout",
     "output_type": "stream",
     "text": [
      "---------------------\n",
      "GEN Loss: 7.1919155 5.81608\n",
      "Feature Matching Loss: 0.022823133 0.01705945\n",
      "RECON Loss: 0.010185493 0.010589726\n",
      "DIS Loss: 0.0012379619 0.004433932\n"
     ]
    },
    {
     "name": "stderr",
     "output_type": "stream",
     "text": [
      "epoch #326|  0%|                                                |ETA:   0:00:58"
     ]
    },
    {
     "name": "stdout",
     "output_type": "stream",
     "text": [
      "---------------------\n",
      "GEN Loss: 7.3056026 5.945752\n",
      "Feature Matching Loss: 0.022945805 0.017237533\n",
      "RECON Loss: 0.010126293 0.010543479\n",
      "DIS Loss: 0.0011990971 0.003966421\n"
     ]
    },
    {
     "name": "stderr",
     "output_type": "stream",
     "text": [
      "epoch #327|  0%|                                                |ETA:   0:00:58"
     ]
    },
    {
     "name": "stdout",
     "output_type": "stream",
     "text": [
      "---------------------\n",
      "GEN Loss: 6.819932 6.078432\n",
      "Feature Matching Loss: 0.019565092 0.017428856\n",
      "RECON Loss: 0.010187383 0.010662533\n",
      "DIS Loss: 0.0031942418 0.0035556832\n"
     ]
    },
    {
     "name": "stderr",
     "output_type": "stream",
     "text": [
      "epoch #328|  0%|                                                |ETA:   0:00:54"
     ]
    },
    {
     "name": "stdout",
     "output_type": "stream",
     "text": [
      "---------------------\n",
      "GEN Loss: 0.70413625 5.9302015\n",
      "Feature Matching Loss: 0.025607105 0.016923785\n",
      "RECON Loss: 0.015760511 0.013326044\n",
      "DIS Loss: 0.8364887 0.0047587766\n"
     ]
    },
    {
     "name": "stderr",
     "output_type": "stream",
     "text": [
      "epoch #329|  0%|                                                |ETA:   0:00:56"
     ]
    },
    {
     "name": "stdout",
     "output_type": "stream",
     "text": [
      "---------------------\n",
      "GEN Loss: 0.7136389 6.156198\n",
      "Feature Matching Loss: 0.0176173 0.017338958\n",
      "RECON Loss: 0.01252047 0.011409802\n",
      "DIS Loss: 0.7414334 0.0037456416\n"
     ]
    },
    {
     "name": "stderr",
     "output_type": "stream",
     "text": [
      "epoch #330|  0%|                                                |ETA:   0:00:55"
     ]
    },
    {
     "name": "stdout",
     "output_type": "stream",
     "text": [
      "---------------------\n",
      "GEN Loss: 0.7265716 6.319356\n",
      "Feature Matching Loss: 0.014979353 0.017555052\n",
      "RECON Loss: 0.011486251 0.01081395\n",
      "DIS Loss: 0.72007436 0.0032026777\n"
     ]
    },
    {
     "name": "stderr",
     "output_type": "stream",
     "text": [
      "epoch #331|  0%|                                                |ETA:   0:00:53"
     ]
    },
    {
     "name": "stdout",
     "output_type": "stream",
     "text": [
      "---------------------\n",
      "GEN Loss: 0.7144808 6.4253426\n",
      "Feature Matching Loss: 0.014627419 0.017736413\n",
      "RECON Loss: 0.010914101 0.010725948\n",
      "DIS Loss: 0.7140434 0.0029338594\n"
     ]
    },
    {
     "name": "stderr",
     "output_type": "stream",
     "text": [
      "epoch #332|  0%|                                                |ETA:   0:00:55"
     ]
    },
    {
     "name": "stdout",
     "output_type": "stream",
     "text": [
      "---------------------\n",
      "GEN Loss: 0.7199873 6.5445814\n",
      "Feature Matching Loss: 0.01772019 0.01789954\n",
      "RECON Loss: 0.010671092 0.01069461\n",
      "DIS Loss: 0.7067249 0.002651678\n"
     ]
    },
    {
     "name": "stderr",
     "output_type": "stream",
     "text": [
      "epoch #333|  0%|                                                |ETA:   0:00:56"
     ]
    },
    {
     "name": "stdout",
     "output_type": "stream",
     "text": [
      "---------------------\n",
      "GEN Loss: 0.71119964 6.657862\n",
      "Feature Matching Loss: 0.023062907 0.018071894\n",
      "RECON Loss: 0.010540275 0.010714078\n",
      "DIS Loss: 0.7079136 0.0024094775\n"
     ]
    },
    {
     "name": "stderr",
     "output_type": "stream",
     "text": [
      "epoch #334|  0%|                                                |ETA:   0:01:02"
     ]
    },
    {
     "name": "stdout",
     "output_type": "stream",
     "text": [
      "---------------------\n",
      "GEN Loss: 0.67976665 6.725853\n",
      "Feature Matching Loss: 0.024140624 0.01822143\n",
      "RECON Loss: 0.010437752 0.010518957\n",
      "DIS Loss: 0.71108085 0.0022472083\n"
     ]
    },
    {
     "name": "stderr",
     "output_type": "stream",
     "text": [
      "epoch #335|  0%|                                                |ETA:   0:00:57"
     ]
    },
    {
     "name": "stdout",
     "output_type": "stream",
     "text": [
      "---------------------\n",
      "GEN Loss: 0.65134066 6.8241405\n",
      "Feature Matching Loss: 0.0118926205 0.018329766\n",
      "RECON Loss: 0.010036828 0.010827325\n",
      "DIS Loss: 0.7161941 0.0020707925\n"
     ]
    },
    {
     "name": "stderr",
     "output_type": "stream",
     "text": [
      "epoch #336|  0%|                                                |ETA:   0:00:55"
     ]
    },
    {
     "name": "stdout",
     "output_type": "stream",
     "text": [
      "---------------------\n",
      "GEN Loss: 0.66987866 6.8807545\n",
      "Feature Matching Loss: 0.014565153 0.018433623\n",
      "RECON Loss: 0.009989697 0.010712283\n",
      "DIS Loss: 0.71234274 0.0019627968\n"
     ]
    },
    {
     "name": "stderr",
     "output_type": "stream",
     "text": [
      "epoch #337|  0%|                                                |ETA:   0:01:06"
     ]
    },
    {
     "name": "stdout",
     "output_type": "stream",
     "text": [
      "---------------------\n",
      "GEN Loss: 0.7200874 6.9715405\n",
      "Feature Matching Loss: 0.011621963 0.018560153\n",
      "RECON Loss: 0.009850609 0.010171767\n",
      "DIS Loss: 0.7054682 0.0018443448\n"
     ]
    },
    {
     "name": "stderr",
     "output_type": "stream",
     "text": [
      "epoch #338|  0%|                                                |ETA:   0:01:01"
     ]
    },
    {
     "name": "stdout",
     "output_type": "stream",
     "text": [
      "---------------------\n",
      "GEN Loss: 0.7216388 7.00907\n",
      "Feature Matching Loss: 0.015028819 0.01860312\n",
      "RECON Loss: 0.009796582 0.0100132665\n",
      "DIS Loss: 0.6987244 0.00176448\n"
     ]
    },
    {
     "name": "stderr",
     "output_type": "stream",
     "text": [
      "epoch #339|  0%|                                                |ETA:   0:00:57"
     ]
    },
    {
     "name": "stdout",
     "output_type": "stream",
     "text": [
      "---------------------\n",
      "GEN Loss: 0.6998267 7.2196655\n",
      "Feature Matching Loss: 0.016131993 0.019043274\n",
      "RECON Loss: 0.009720262 0.010330745\n",
      "DIS Loss: 0.7035123 0.0016134658\n"
     ]
    },
    {
     "name": "stderr",
     "output_type": "stream",
     "text": [
      "epoch #340|  0%|                                                |ETA:   0:00:55"
     ]
    },
    {
     "name": "stdout",
     "output_type": "stream",
     "text": [
      "---------------------\n",
      "GEN Loss: 0.6822784 6.8596506\n",
      "Feature Matching Loss: 0.01544301 0.018161178\n",
      "RECON Loss: 0.009633593 0.010528403\n",
      "DIS Loss: 0.70957834 0.0018566854\n"
     ]
    },
    {
     "name": "stderr",
     "output_type": "stream",
     "text": [
      "epoch #341|  0%|                                                |ETA:   0:01:00"
     ]
    },
    {
     "name": "stdout",
     "output_type": "stream",
     "text": [
      "---------------------\n",
      "GEN Loss: 0.6817124 6.841761\n",
      "Feature Matching Loss: 0.01689654 0.018072762\n",
      "RECON Loss: 0.009631506 0.010252603\n",
      "DIS Loss: 0.70126814 0.001974964\n"
     ]
    },
    {
     "name": "stderr",
     "output_type": "stream",
     "text": [
      "epoch #342|  0%|                                                |ETA:   0:00:59"
     ]
    },
    {
     "name": "stdout",
     "output_type": "stream",
     "text": [
      "---------------------\n",
      "GEN Loss: 0.68406427 7.4544654\n",
      "Feature Matching Loss: 0.016383413 0.019709831\n",
      "RECON Loss: 0.009690627 0.010017391\n",
      "DIS Loss: 0.69194853 0.0025352985\n"
     ]
    },
    {
     "name": "stderr",
     "output_type": "stream",
     "text": [
      "epoch #343|  0%|                                                |ETA:   0:00:58"
     ]
    },
    {
     "name": "stdout",
     "output_type": "stream",
     "text": [
      "---------------------\n",
      "GEN Loss: 0.73107505 0.6749612\n",
      "Feature Matching Loss: 0.012572036 0.037960052\n",
      "RECON Loss: 0.016225275 0.015443383\n",
      "DIS Loss: 0.6835929 0.90804434\n"
     ]
    },
    {
     "name": "stderr",
     "output_type": "stream",
     "text": [
      "epoch #344|  0%|                                                |ETA:   0:00:55"
     ]
    },
    {
     "name": "stdout",
     "output_type": "stream",
     "text": [
      "---------------------\n",
      "GEN Loss: 0.72598565 0.64104307\n",
      "Feature Matching Loss: 0.015000627 0.017850677\n",
      "RECON Loss: 0.011447465 0.012027501\n",
      "DIS Loss: 0.6894117 0.7338582\n"
     ]
    },
    {
     "name": "stderr",
     "output_type": "stream",
     "text": [
      "epoch #345|  0%|                                                |ETA:   0:01:04"
     ]
    },
    {
     "name": "stdout",
     "output_type": "stream",
     "text": [
      "---------------------\n",
      "GEN Loss: 0.69025576 0.683336\n",
      "Feature Matching Loss: 0.016102392 0.015985847\n",
      "RECON Loss: 0.010446164 0.011022715\n",
      "DIS Loss: 0.6932907 0.7057476\n"
     ]
    },
    {
     "name": "stderr",
     "output_type": "stream",
     "text": [
      "epoch #346|  0%|                                                |ETA:   0:00:58"
     ]
    },
    {
     "name": "stdout",
     "output_type": "stream",
     "text": [
      "---------------------\n",
      "GEN Loss: 0.6701684 0.67554164\n",
      "Feature Matching Loss: 0.014111256 0.015059848\n",
      "RECON Loss: 0.009998763 0.0110423155\n",
      "DIS Loss: 0.6897768 0.7051091\n"
     ]
    },
    {
     "name": "stderr",
     "output_type": "stream",
     "text": [
      "epoch #347|  0%|                                                |ETA:   0:00:59"
     ]
    },
    {
     "name": "stdout",
     "output_type": "stream",
     "text": [
      "---------------------\n",
      "GEN Loss: 0.6876647 0.6861731\n",
      "Feature Matching Loss: 0.013718244 0.013722513\n",
      "RECON Loss: 0.009996831 0.0105725555\n",
      "DIS Loss: 0.68010455 0.6988382\n"
     ]
    },
    {
     "name": "stderr",
     "output_type": "stream",
     "text": [
      "epoch #348|  0%|                                                |ETA:   0:01:01"
     ]
    },
    {
     "name": "stdout",
     "output_type": "stream",
     "text": [
      "---------------------\n",
      "GEN Loss: 0.71979654 0.6986885\n",
      "Feature Matching Loss: 0.014057502 0.01267961\n",
      "RECON Loss: 0.009776268 0.010361744\n",
      "DIS Loss: 0.6758932 0.6899599\n"
     ]
    },
    {
     "name": "stderr",
     "output_type": "stream",
     "text": [
      "epoch #349|  0%|                                                |ETA:   0:00:57"
     ]
    },
    {
     "name": "stdout",
     "output_type": "stream",
     "text": [
      "---------------------\n",
      "GEN Loss: 0.6937567 0.7115766\n",
      "Feature Matching Loss: 0.0140781775 0.01317201\n",
      "RECON Loss: 0.009724076 0.010222621\n",
      "DIS Loss: 0.68505424 0.6898064\n"
     ]
    },
    {
     "name": "stderr",
     "output_type": "stream",
     "text": [
      "epoch #350|  0%|                                                |ETA:   0:01:03"
     ]
    },
    {
     "name": "stdout",
     "output_type": "stream",
     "text": [
      "---------------------\n",
      "GEN Loss: 0.6724011 0.70647365\n",
      "Feature Matching Loss: 0.019261578 0.014277464\n",
      "RECON Loss: 0.009878866 0.01037469\n",
      "DIS Loss: 0.688825 0.69912535\n"
     ]
    },
    {
     "name": "stderr",
     "output_type": "stream",
     "text": [
      "epoch #351|  0%|                                                |ETA:   0:01:04"
     ]
    },
    {
     "name": "stdout",
     "output_type": "stream",
     "text": [
      "---------------------\n",
      "GEN Loss: 0.67809457 0.7353068\n",
      "Feature Matching Loss: 0.016078357 0.010328592\n",
      "RECON Loss: 0.009684291 0.010299308\n",
      "DIS Loss: 0.67962515 0.687876\n"
     ]
    },
    {
     "name": "stderr",
     "output_type": "stream",
     "text": [
      "epoch #352|  0%|                                                |ETA:   0:01:06"
     ]
    },
    {
     "name": "stdout",
     "output_type": "stream",
     "text": [
      "---------------------\n",
      "GEN Loss: 0.6945455 0.73307157\n",
      "Feature Matching Loss: 0.015141331 0.011390448\n",
      "RECON Loss: 0.009698921 0.010213911\n",
      "DIS Loss: 0.6791247 0.68283546\n"
     ]
    },
    {
     "name": "stderr",
     "output_type": "stream",
     "text": [
      "epoch #353|  0%|                                                |ETA:   0:01:08"
     ]
    },
    {
     "name": "stdout",
     "output_type": "stream",
     "text": [
      "---------------------\n",
      "GEN Loss: 0.7129227 0.7390298\n",
      "Feature Matching Loss: 0.022206197 0.011614063\n",
      "RECON Loss: 0.009570492 0.01008087\n",
      "DIS Loss: 0.6756077 0.6768185\n"
     ]
    },
    {
     "name": "stderr",
     "output_type": "stream",
     "text": [
      "epoch #354|  0%|                                                |ETA:   0:01:03"
     ]
    },
    {
     "name": "stdout",
     "output_type": "stream",
     "text": [
      "---------------------\n",
      "GEN Loss: 0.7064667 0.7284709\n",
      "Feature Matching Loss: 0.018709794 0.013304375\n",
      "RECON Loss: 0.00967954 0.010293949\n",
      "DIS Loss: 0.6809386 0.6779958\n"
     ]
    },
    {
     "name": "stderr",
     "output_type": "stream",
     "text": [
      "epoch #355|  0%|                                                |ETA:   0:01:06"
     ]
    },
    {
     "name": "stdout",
     "output_type": "stream",
     "text": [
      "---------------------\n",
      "GEN Loss: 0.69578713 0.73340917\n",
      "Feature Matching Loss: 0.014478828 0.010720489\n",
      "RECON Loss: 0.009423509 0.009884594\n",
      "DIS Loss: 0.6882323 0.674109\n"
     ]
    },
    {
     "name": "stderr",
     "output_type": "stream",
     "text": [
      "epoch #356|  0%|                                                |ETA:   0:01:08"
     ]
    },
    {
     "name": "stdout",
     "output_type": "stream",
     "text": [
      "---------------------\n",
      "GEN Loss: 0.6865655 0.7340175\n",
      "Feature Matching Loss: 0.01641225 0.011832907\n",
      "RECON Loss: 0.009452735 0.010022026\n",
      "DIS Loss: 0.6898029 0.67239064\n"
     ]
    },
    {
     "name": "stderr",
     "output_type": "stream",
     "text": [
      "epoch #357|  0%|                                                |ETA:   0:01:09"
     ]
    },
    {
     "name": "stdout",
     "output_type": "stream",
     "text": [
      "---------------------\n",
      "GEN Loss: 0.70268106 0.74325824\n",
      "Feature Matching Loss: 0.014406486 0.011743481\n",
      "RECON Loss: 0.009612876 0.01047048\n",
      "DIS Loss: 0.6834863 0.66829675\n"
     ]
    },
    {
     "name": "stderr",
     "output_type": "stream",
     "text": [
      "epoch #358|  0%|                                                |ETA:   0:01:00"
     ]
    },
    {
     "name": "stdout",
     "output_type": "stream",
     "text": [
      "---------------------\n",
      "GEN Loss: 0.6927922 0.75603116\n",
      "Feature Matching Loss: 0.012597125 0.012497007\n",
      "RECON Loss: 0.009471709 0.009819528\n",
      "DIS Loss: 0.6827288 0.6664587\n"
     ]
    },
    {
     "name": "stderr",
     "output_type": "stream",
     "text": [
      "epoch #359|  0%|                                                |ETA:   0:01:07"
     ]
    },
    {
     "name": "stdout",
     "output_type": "stream",
     "text": [
      "---------------------\n",
      "GEN Loss: 0.69497454 0.791402\n",
      "Feature Matching Loss: 0.013779521 0.011091512\n",
      "RECON Loss: 0.009516416 0.010029303\n",
      "DIS Loss: 0.68176365 0.66463804\n"
     ]
    },
    {
     "name": "stderr",
     "output_type": "stream",
     "text": [
      "epoch #360|  0%|                                                |ETA:   0:01:02"
     ]
    },
    {
     "name": "stdout",
     "output_type": "stream",
     "text": [
      "---------------------\n",
      "GEN Loss: 0.72411895 0.76782477\n",
      "Feature Matching Loss: 0.0126960175 0.013966217\n",
      "RECON Loss: 0.009478699 0.010401079\n",
      "DIS Loss: 0.66369295 0.6597916\n"
     ]
    },
    {
     "name": "stderr",
     "output_type": "stream",
     "text": [
      "epoch #361|  0%|                                                |ETA:   0:00:58"
     ]
    },
    {
     "name": "stdout",
     "output_type": "stream",
     "text": [
      "---------------------\n",
      "GEN Loss: 0.71365094 0.7347578\n",
      "Feature Matching Loss: 0.012389937 0.017899083\n",
      "RECON Loss: 0.009645726 0.0106153935\n",
      "DIS Loss: 0.6600853 0.65349615\n"
     ]
    },
    {
     "name": "stderr",
     "output_type": "stream",
     "text": [
      "epoch #362|  0%|                                                |ETA:   0:01:06"
     ]
    },
    {
     "name": "stdout",
     "output_type": "stream",
     "text": [
      "---------------------\n",
      "GEN Loss: 0.7380421 0.73787034\n",
      "Feature Matching Loss: 0.011069173 0.015716994\n",
      "RECON Loss: 0.009683811 0.010614286\n",
      "DIS Loss: 0.6439885 0.64460725\n"
     ]
    },
    {
     "name": "stderr",
     "output_type": "stream",
     "text": [
      "epoch #363|  0%|                                                |ETA:   0:01:08"
     ]
    },
    {
     "name": "stdout",
     "output_type": "stream",
     "text": [
      "---------------------\n",
      "GEN Loss: 0.74231154 0.73601884\n",
      "Feature Matching Loss: 0.012934313 0.015921965\n",
      "RECON Loss: 0.009886833 0.010975216\n",
      "DIS Loss: 0.62806106 0.6342886\n"
     ]
    },
    {
     "name": "stderr",
     "output_type": "stream",
     "text": [
      "epoch #364|  0%|                                                |ETA:   0:01:03"
     ]
    },
    {
     "name": "stdout",
     "output_type": "stream",
     "text": [
      "---------------------\n",
      "GEN Loss: 1.5661728 0.8617263\n",
      "Feature Matching Loss: 0.024028184 0.016378157\n",
      "RECON Loss: 0.011740521 0.015246356\n",
      "DIS Loss: 0.89089966 0.6054247\n"
     ]
    },
    {
     "name": "stderr",
     "output_type": "stream",
     "text": [
      "epoch #365|  0%|                                                |ETA:   0:00:56"
     ]
    },
    {
     "name": "stdout",
     "output_type": "stream",
     "text": [
      "---------------------\n",
      "GEN Loss: 0.68105257 0.39414036\n",
      "Feature Matching Loss: 0.029209113 0.022568433\n",
      "RECON Loss: 0.013338945 0.014008252\n",
      "DIS Loss: 0.59704995 0.7459947\n"
     ]
    },
    {
     "name": "stderr",
     "output_type": "stream",
     "text": [
      "epoch #366|  0%|                                                |ETA:   0:01:02"
     ]
    },
    {
     "name": "stdout",
     "output_type": "stream",
     "text": [
      "---------------------\n",
      "GEN Loss: 1.2363566 1.329948\n",
      "Feature Matching Loss: 0.04144722 0.032381304\n",
      "RECON Loss: 0.016617605 0.017943662\n",
      "DIS Loss: 0.66218865 0.7114127\n"
     ]
    },
    {
     "name": "stderr",
     "output_type": "stream",
     "text": [
      "epoch #367|  0%|                                                |ETA:   0:01:05"
     ]
    },
    {
     "name": "stdout",
     "output_type": "stream",
     "text": [
      "---------------------\n",
      "GEN Loss: 0.8607823 0.41809863\n",
      "Feature Matching Loss: 0.036415547 0.040256534\n",
      "RECON Loss: 0.017976522 0.017877627\n",
      "DIS Loss: 0.5420673 0.79298735\n"
     ]
    },
    {
     "name": "stderr",
     "output_type": "stream",
     "text": [
      "epoch #368|  0%|                                                |ETA:   0:01:02"
     ]
    },
    {
     "name": "stdout",
     "output_type": "stream",
     "text": [
      "---------------------\n",
      "GEN Loss: 1.7513564 3.0596886\n",
      "Feature Matching Loss: 0.036719743 0.029502306\n",
      "RECON Loss: 0.018360155 0.017746376\n",
      "DIS Loss: 0.4285199 0.90121627\n"
     ]
    },
    {
     "name": "stderr",
     "output_type": "stream",
     "text": [
      "epoch #369|  0%|                                                |ETA:   0:01:08"
     ]
    },
    {
     "name": "stdout",
     "output_type": "stream",
     "text": [
      "---------------------\n",
      "GEN Loss: 1.0297915 0.73214376\n",
      "Feature Matching Loss: 0.033212617 0.03287725\n",
      "RECON Loss: 0.01856996 0.01800812\n",
      "DIS Loss: 0.41419524 0.4999913\n"
     ]
    },
    {
     "name": "stderr",
     "output_type": "stream",
     "text": [
      "epoch #370|  0%|                                                |ETA:   0:01:13"
     ]
    },
    {
     "name": "stdout",
     "output_type": "stream",
     "text": [
      "---------------------\n",
      "GEN Loss: 1.9735832 2.018449\n",
      "Feature Matching Loss: 0.033389628 0.035422258\n",
      "RECON Loss: 0.018945703 0.01842424\n",
      "DIS Loss: 0.33468282 0.39185727\n"
     ]
    },
    {
     "name": "stderr",
     "output_type": "stream",
     "text": [
      "epoch #371|  0%|                                                |ETA:   0:00:56"
     ]
    },
    {
     "name": "stdout",
     "output_type": "stream",
     "text": [
      "---------------------\n",
      "GEN Loss: 1.7581276 1.845494\n",
      "Feature Matching Loss: 0.030636074 0.03203241\n",
      "RECON Loss: 0.018191587 0.017142259\n",
      "DIS Loss: 0.22264676 0.2659319\n"
     ]
    },
    {
     "name": "stderr",
     "output_type": "stream",
     "text": [
      "epoch #372|  0%|                                                |ETA:   0:01:02"
     ]
    },
    {
     "name": "stdout",
     "output_type": "stream",
     "text": [
      "---------------------\n",
      "GEN Loss: 2.7783897 3.0675821\n",
      "Feature Matching Loss: 0.02645301 0.027066749\n",
      "RECON Loss: 0.017735656 0.018901944\n",
      "DIS Loss: 0.19930992 0.22180356\n"
     ]
    },
    {
     "name": "stderr",
     "output_type": "stream",
     "text": [
      "epoch #373|  0%|                                                |ETA:   0:01:04"
     ]
    },
    {
     "name": "stdout",
     "output_type": "stream",
     "text": [
      "---------------------\n",
      "GEN Loss: 2.5296137 2.0931532\n",
      "Feature Matching Loss: 0.023542713 0.023420777\n",
      "RECON Loss: 0.016879 0.01818401\n",
      "DIS Loss: 0.14091776 0.15697864\n"
     ]
    },
    {
     "name": "stderr",
     "output_type": "stream",
     "text": [
      "epoch #374|  0%|                                                |ETA:   0:01:12"
     ]
    },
    {
     "name": "stdout",
     "output_type": "stream",
     "text": [
      "---------------------\n",
      "GEN Loss: 2.7520041 3.113142\n",
      "Feature Matching Loss: 0.01996069 0.019092537\n",
      "RECON Loss: 0.016478727 0.016779443\n",
      "DIS Loss: 0.08937223 0.11039987\n"
     ]
    },
    {
     "name": "stderr",
     "output_type": "stream",
     "text": [
      "epoch #375|N/A%|                                                |ETA:  --:--:--"
     ]
    },
    {
     "name": "stdout",
     "output_type": "stream",
     "text": [
      "---------------------\n"
     ]
    },
    {
     "name": "stderr",
     "output_type": "stream",
     "text": [
      "\r",
      "                                                                               \r",
      "\r",
      "epoch #375|  0%|                                                |ETA:   0:01:52"
     ]
    },
    {
     "name": "stdout",
     "output_type": "stream",
     "text": [
      "GEN Loss: 3.4594088 3.0344868\n",
      "Feature Matching Loss: 0.01823047 0.017070882\n",
      "RECON Loss: 0.015869047 0.015908066\n",
      "DIS Loss: 0.06250009 0.08178693\n"
     ]
    },
    {
     "name": "stderr",
     "output_type": "stream",
     "text": [
      "epoch #376|  0%|                                                |ETA:   0:00:56"
     ]
    },
    {
     "name": "stdout",
     "output_type": "stream",
     "text": [
      "---------------------\n",
      "GEN Loss: 3.9474208 3.8473969\n",
      "Feature Matching Loss: 0.017164828 0.015331433\n",
      "RECON Loss: 0.015149996 0.015391696\n",
      "DIS Loss: 0.0461528 0.0615673\n"
     ]
    },
    {
     "name": "stderr",
     "output_type": "stream",
     "text": [
      "epoch #377|  0%|                                                |ETA:   0:01:07"
     ]
    },
    {
     "name": "stdout",
     "output_type": "stream",
     "text": [
      "---------------------\n",
      "GEN Loss: 3.880297 3.8105454\n",
      "Feature Matching Loss: 0.017371146 0.014753206\n",
      "RECON Loss: 0.014672499 0.015158348\n",
      "DIS Loss: 0.034584716 0.04796444\n"
     ]
    },
    {
     "name": "stderr",
     "output_type": "stream",
     "text": [
      "epoch #378|  0%|                                                |ETA:   0:01:03"
     ]
    },
    {
     "name": "stdout",
     "output_type": "stream",
     "text": [
      "---------------------\n",
      "GEN Loss: 4.0965023 3.5238998\n",
      "Feature Matching Loss: 0.016911633 0.014180188\n",
      "RECON Loss: 0.014196686 0.014585349\n",
      "DIS Loss: 0.026178857 0.035911962\n"
     ]
    },
    {
     "name": "stderr",
     "output_type": "stream",
     "text": [
      "epoch #379|  0%|                                                |ETA:   0:01:00"
     ]
    },
    {
     "name": "stdout",
     "output_type": "stream",
     "text": [
      "---------------------\n",
      "GEN Loss: 4.108532 4.132723\n",
      "Feature Matching Loss: 0.017070882 0.01401043\n",
      "RECON Loss: 0.01373342 0.014092071\n",
      "DIS Loss: 0.02054636 0.025683675\n"
     ]
    },
    {
     "name": "stderr",
     "output_type": "stream",
     "text": [
      "epoch #380|  0%|                                                |ETA:   0:01:08"
     ]
    },
    {
     "name": "stdout",
     "output_type": "stream",
     "text": [
      "---------------------\n",
      "GEN Loss: 4.4916506 4.3417897\n",
      "Feature Matching Loss: 0.017184667 0.014106838\n",
      "RECON Loss: 0.013313338 0.013751265\n",
      "DIS Loss: 0.014679903 0.02046458\n"
     ]
    },
    {
     "name": "stderr",
     "output_type": "stream",
     "text": [
      "epoch #381|  0%|                                                |ETA:   0:01:03"
     ]
    },
    {
     "name": "stdout",
     "output_type": "stream",
     "text": [
      "---------------------\n",
      "GEN Loss: 4.9395056 4.3254366\n",
      "Feature Matching Loss: 0.0175213 0.014325591\n",
      "RECON Loss: 0.012961048 0.013317454\n",
      "DIS Loss: 0.011395766 0.01680487\n"
     ]
    },
    {
     "name": "stderr",
     "output_type": "stream",
     "text": [
      "epoch #382|  0%|                                                |ETA:   0:00:56"
     ]
    },
    {
     "name": "stdout",
     "output_type": "stream",
     "text": [
      "---------------------\n",
      "GEN Loss: 5.2079263 4.514262\n",
      "Feature Matching Loss: 0.017848745 0.014516048\n",
      "RECON Loss: 0.0126714185 0.012957079\n",
      "DIS Loss: 0.009502735 0.013523057\n"
     ]
    },
    {
     "name": "stderr",
     "output_type": "stream",
     "text": [
      "epoch #383|  0%|                                                |ETA:   0:01:03"
     ]
    },
    {
     "name": "stdout",
     "output_type": "stream",
     "text": [
      "---------------------\n",
      "GEN Loss: 5.369232 4.745519\n",
      "Feature Matching Loss: 0.018118415 0.014709664\n",
      "RECON Loss: 0.012425731 0.012675676\n",
      "DIS Loss: 0.008050816 0.011141079\n"
     ]
    },
    {
     "name": "stderr",
     "output_type": "stream",
     "text": [
      "epoch #384|  0%|                                                |ETA:   0:01:15"
     ]
    },
    {
     "name": "stdout",
     "output_type": "stream",
     "text": [
      "---------------------\n",
      "GEN Loss: 5.517941 4.920861\n",
      "Feature Matching Loss: 0.018376935 0.014898907\n",
      "RECON Loss: 0.012209222 0.012440829\n",
      "DIS Loss: 0.006931806 0.009504934\n"
     ]
    },
    {
     "name": "stderr",
     "output_type": "stream",
     "text": [
      "epoch #385|  0%|                                                |ETA:   0:01:02"
     ]
    },
    {
     "name": "stdout",
     "output_type": "stream",
     "text": [
      "---------------------\n",
      "GEN Loss: 5.663929 5.0607295\n",
      "Feature Matching Loss: 0.018623948 0.015089961\n",
      "RECON Loss: 0.012015133 0.012251448\n",
      "DIS Loss: 0.0060616285 0.008246074\n"
     ]
    },
    {
     "name": "stderr",
     "output_type": "stream",
     "text": [
      "epoch #386|  0%|                                                |ETA:   0:01:09"
     ]
    },
    {
     "name": "stdout",
     "output_type": "stream",
     "text": [
      "---------------------\n",
      "GEN Loss: 5.8140936 5.1757593\n",
      "Feature Matching Loss: 0.01889057 0.0152614545\n",
      "RECON Loss: 0.011840329 0.012089763\n",
      "DIS Loss: 0.0053719925 0.0072680367\n"
     ]
    },
    {
     "name": "stderr",
     "output_type": "stream",
     "text": [
      "epoch #387|  0%|                                                |ETA:   0:01:02"
     ]
    },
    {
     "name": "stdout",
     "output_type": "stream",
     "text": [
      "---------------------\n",
      "GEN Loss: 5.9635525 5.282738\n",
      "Feature Matching Loss: 0.01916419 0.01541252\n",
      "RECON Loss: 0.011679436 0.011936702\n",
      "DIS Loss: 0.004805182 0.0064761154\n"
     ]
    },
    {
     "name": "stderr",
     "output_type": "stream",
     "text": [
      "epoch #388|  0%|                                                |ETA:   0:01:04"
     ]
    },
    {
     "name": "stdout",
     "output_type": "stream",
     "text": [
      "---------------------\n",
      "GEN Loss: 6.10583 5.3927765\n",
      "Feature Matching Loss: 0.019422743 0.015556404\n",
      "RECON Loss: 0.011531296 0.011802586\n",
      "DIS Loss: 0.0043345657 0.005800025\n"
     ]
    },
    {
     "name": "stderr",
     "output_type": "stream",
     "text": [
      "epoch #389|N/A%|                                                |ETA:  --:--:--"
     ]
    },
    {
     "name": "stdout",
     "output_type": "stream",
     "text": [
      "---------------------\n"
     ]
    },
    {
     "name": "stderr",
     "output_type": "stream",
     "text": [
      "\r",
      "                                                                               \r",
      "\r",
      "epoch #389|  0%|                                                |ETA:   0:01:27"
     ]
    },
    {
     "name": "stdout",
     "output_type": "stream",
     "text": [
      "GEN Loss: 6.2398367 5.4994373\n",
      "Feature Matching Loss: 0.01966659 0.015685933\n",
      "RECON Loss: 0.011391915 0.011671767\n",
      "DIS Loss: 0.0039366065 0.005236415\n"
     ]
    },
    {
     "name": "stderr",
     "output_type": "stream",
     "text": [
      "epoch #390|  0%|                                                |ETA:   0:01:05"
     ]
    },
    {
     "name": "stdout",
     "output_type": "stream",
     "text": [
      "---------------------\n",
      "GEN Loss: 6.367347 5.6063433\n",
      "Feature Matching Loss: 0.019910043 0.015814217\n",
      "RECON Loss: 0.011262699 0.01155098\n",
      "DIS Loss: 0.0035918592 0.004757694\n"
     ]
    },
    {
     "name": "stderr",
     "output_type": "stream",
     "text": [
      "epoch #391|  0%|                                                |ETA:   0:01:04"
     ]
    },
    {
     "name": "stdout",
     "output_type": "stream",
     "text": [
      "---------------------\n",
      "GEN Loss: 6.4816737 5.711235\n",
      "Feature Matching Loss: 0.020128353 0.015925849\n",
      "RECON Loss: 0.011143616 0.011440657\n",
      "DIS Loss: 0.0032877938 0.004350028\n"
     ]
    },
    {
     "name": "stderr",
     "output_type": "stream",
     "text": [
      "epoch #392|  0%|                                                |ETA:   0:01:10"
     ]
    },
    {
     "name": "stdout",
     "output_type": "stream",
     "text": [
      "---------------------\n",
      "GEN Loss: 6.581599 5.8169894\n",
      "Feature Matching Loss: 0.020328555 0.016037988\n",
      "RECON Loss: 0.011031593 0.011341728\n",
      "DIS Loss: 0.0030203182 0.0039840993\n"
     ]
    },
    {
     "name": "stderr",
     "output_type": "stream",
     "text": [
      "epoch #393|  0%|                                                |ETA:   0:01:06"
     ]
    },
    {
     "name": "stdout",
     "output_type": "stream",
     "text": [
      "---------------------\n",
      "GEN Loss: 6.6653705 5.9175215\n",
      "Feature Matching Loss: 0.020508666 0.01614893\n",
      "RECON Loss: 0.0109241 0.011250659\n",
      "DIS Loss: 0.002789503 0.0036653087\n"
     ]
    },
    {
     "name": "stderr",
     "output_type": "stream",
     "text": [
      "epoch #394|  0%|                                                |ETA:   0:01:15"
     ]
    },
    {
     "name": "stdout",
     "output_type": "stream",
     "text": [
      "---------------------\n",
      "GEN Loss: 6.739582 6.0117755\n",
      "Feature Matching Loss: 0.020679068 0.016259477\n",
      "RECON Loss: 0.010825634 0.011165871\n",
      "DIS Loss: 0.0025843268 0.0033894666\n"
     ]
    },
    {
     "name": "stderr",
     "output_type": "stream",
     "text": [
      "epoch #395|  0%|                                                |ETA:   0:01:02"
     ]
    },
    {
     "name": "stdout",
     "output_type": "stream",
     "text": [
      "---------------------\n",
      "GEN Loss: 6.811223 6.109224\n",
      "Feature Matching Loss: 0.020863598 0.01636109\n",
      "RECON Loss: 0.010730706 0.011085279\n",
      "DIS Loss: 0.0023876852 0.003141556\n"
     ]
    },
    {
     "name": "stderr",
     "output_type": "stream",
     "text": [
      "epoch #396|  0%|                                                |ETA:   0:00:57"
     ]
    },
    {
     "name": "stdout",
     "output_type": "stream",
     "text": [
      "---------------------\n",
      "GEN Loss: 6.866473 6.206307\n",
      "Feature Matching Loss: 0.021014635 0.016460672\n",
      "RECON Loss: 0.010639865 0.011011901\n",
      "DIS Loss: 0.0022259497 0.0029209985\n"
     ]
    },
    {
     "name": "stderr",
     "output_type": "stream",
     "text": [
      "epoch #397|  0%|                                                |ETA:   0:00:56"
     ]
    },
    {
     "name": "stdout",
     "output_type": "stream",
     "text": [
      "---------------------\n",
      "GEN Loss: 6.9163876 6.295871\n",
      "Feature Matching Loss: 0.021160273 0.01655711\n",
      "RECON Loss: 0.010555254 0.010943055\n",
      "DIS Loss: 0.0020759292 0.0027303596\n"
     ]
    },
    {
     "name": "stderr",
     "output_type": "stream",
     "text": [
      "epoch #398|  0%|                                                |ETA:   0:01:07"
     ]
    },
    {
     "name": "stdout",
     "output_type": "stream",
     "text": [
      "---------------------\n",
      "GEN Loss: 6.964615 6.3892803\n",
      "Feature Matching Loss: 0.0212904 0.016660158\n",
      "RECON Loss: 0.010475066 0.010878565\n",
      "DIS Loss: 0.0019471489 0.0025492052\n"
     ]
    },
    {
     "name": "stderr",
     "output_type": "stream",
     "text": [
      "epoch #399|  0%|                                                |ETA:   0:01:10"
     ]
    },
    {
     "name": "stdout",
     "output_type": "stream",
     "text": [
      "---------------------\n",
      "GEN Loss: 7.0078864 6.4841695\n",
      "Feature Matching Loss: 0.02140515 0.016763642\n",
      "RECON Loss: 0.010398243 0.010819834\n",
      "DIS Loss: 0.0018258232 0.002378125\n"
     ]
    },
    {
     "name": "stderr",
     "output_type": "stream",
     "text": [
      "epoch #400|  0%|                                                |ETA:   0:01:08"
     ]
    },
    {
     "name": "stdout",
     "output_type": "stream",
     "text": [
      "---------------------\n",
      "GEN Loss: 7.0491357 6.5768147\n",
      "Feature Matching Loss: 0.021517802 0.016862446\n",
      "RECON Loss: 0.010326419 0.0107629765\n",
      "DIS Loss: 0.0017183879 0.0022270982\n"
     ]
    },
    {
     "name": "stderr",
     "output_type": "stream",
     "text": [
      "epoch #401|  0%|                                                |ETA:   0:01:08"
     ]
    },
    {
     "name": "stdout",
     "output_type": "stream",
     "text": [
      "---------------------\n",
      "GEN Loss: 7.0856295 6.6588387\n",
      "Feature Matching Loss: 0.021631265 0.016957704\n",
      "RECON Loss: 0.010258311 0.010713903\n",
      "DIS Loss: 0.0016230004 0.0020968737\n"
     ]
    },
    {
     "name": "stderr",
     "output_type": "stream",
     "text": [
      "epoch #402|  0%|                                                |ETA:   0:01:05"
     ]
    },
    {
     "name": "stdout",
     "output_type": "stream",
     "text": [
      "---------------------\n",
      "GEN Loss: 7.1265025 6.7489557\n",
      "Feature Matching Loss: 0.021763751 0.01706427\n",
      "RECON Loss: 0.010193791 0.010666485\n",
      "DIS Loss: 0.0015349495 0.0019697824\n"
     ]
    },
    {
     "name": "stderr",
     "output_type": "stream",
     "text": [
      "epoch #403|  0%|                                                |ETA:   0:01:04"
     ]
    },
    {
     "name": "stdout",
     "output_type": "stream",
     "text": [
      "---------------------\n",
      "GEN Loss: 7.168561 6.832502\n",
      "Feature Matching Loss: 0.021895284 0.017156184\n",
      "RECON Loss: 0.010134611 0.010628745\n",
      "DIS Loss: 0.0014525398 0.0018584995\n"
     ]
    },
    {
     "name": "stderr",
     "output_type": "stream",
     "text": [
      "epoch #404|  0%|                                                |ETA:   0:01:05"
     ]
    },
    {
     "name": "stdout",
     "output_type": "stream",
     "text": [
      "---------------------\n",
      "GEN Loss: 7.20682 6.899103\n",
      "Feature Matching Loss: 0.022009928 0.01723428\n",
      "RECON Loss: 0.01007629 0.010592851\n",
      "DIS Loss: 0.001376719 0.0017631701\n"
     ]
    },
    {
     "name": "stderr",
     "output_type": "stream",
     "text": [
      "epoch #405|  0%|                                                |ETA:   0:01:08"
     ]
    },
    {
     "name": "stdout",
     "output_type": "stream",
     "text": [
      "---------------------\n",
      "GEN Loss: 7.2484226 6.979743\n",
      "Feature Matching Loss: 0.02213702 0.017330028\n",
      "RECON Loss: 0.010019312 0.0105616925\n",
      "DIS Loss: 0.0013045096 0.0016627045\n"
     ]
    },
    {
     "name": "stderr",
     "output_type": "stream",
     "text": [
      "epoch #406|  0%|                                                |ETA:   0:01:08"
     ]
    },
    {
     "name": "stdout",
     "output_type": "stream",
     "text": [
      "---------------------\n",
      "GEN Loss: 7.2801113 7.047822\n",
      "Feature Matching Loss: 0.022222128 0.017398069\n",
      "RECON Loss: 0.009973153 0.010523721\n",
      "DIS Loss: 0.0012441218 0.0015733733\n"
     ]
    },
    {
     "name": "stderr",
     "output_type": "stream",
     "text": [
      "epoch #407|  0%|                                                |ETA:   0:01:05"
     ]
    },
    {
     "name": "stdout",
     "output_type": "stream",
     "text": [
      "---------------------\n",
      "GEN Loss: 7.318262 7.116212\n",
      "Feature Matching Loss: 0.022338886 0.017494095\n",
      "RECON Loss: 0.009922234 0.010509361\n",
      "DIS Loss: 0.0011831087 0.0014924455\n"
     ]
    },
    {
     "name": "stderr",
     "output_type": "stream",
     "text": [
      "epoch #408|  0%|                                                |ETA:   0:01:06"
     ]
    },
    {
     "name": "stdout",
     "output_type": "stream",
     "text": [
      "---------------------\n",
      "GEN Loss: 7.368321 7.168086\n",
      "Feature Matching Loss: 0.022502434 0.01754187\n",
      "RECON Loss: 0.00986658 0.01047558\n",
      "DIS Loss: 0.0011224513 0.0014265457\n"
     ]
    },
    {
     "name": "stderr",
     "output_type": "stream",
     "text": [
      "epoch #409|  0%|                                                |ETA:   0:01:06"
     ]
    },
    {
     "name": "stdout",
     "output_type": "stream",
     "text": [
      "---------------------\n",
      "GEN Loss: 7.3854437 7.2472296\n",
      "Feature Matching Loss: 0.022551652 0.01766042\n",
      "RECON Loss: 0.009818951 0.0104731005\n",
      "DIS Loss: 0.001077838 0.0013500729\n"
     ]
    },
    {
     "name": "stderr",
     "output_type": "stream",
     "text": [
      "epoch #410|  0%|                                                |ETA:   0:01:05"
     ]
    },
    {
     "name": "stdout",
     "output_type": "stream",
     "text": [
      "---------------------\n",
      "GEN Loss: 7.420748 7.2852664\n",
      "Feature Matching Loss: 0.022665504 0.017692313\n",
      "RECON Loss: 0.009788932 0.010451771\n",
      "DIS Loss: 0.0010869137 0.0012967029\n"
     ]
    },
    {
     "name": "stderr",
     "output_type": "stream",
     "text": [
      "epoch #411|  0%|                                                |ETA:   0:01:04"
     ]
    },
    {
     "name": "stdout",
     "output_type": "stream",
     "text": [
      "---------------------\n",
      "GEN Loss: 6.8325567 7.3581676\n",
      "Feature Matching Loss: 0.021597352 0.017797813\n",
      "RECON Loss: 0.009763613 0.010391422\n",
      "DIS Loss: 0.0020251065 0.0012345151\n"
     ]
    },
    {
     "name": "stderr",
     "output_type": "stream",
     "text": [
      "epoch #412|  0%|                                                |ETA:   0:01:05"
     ]
    },
    {
     "name": "stdout",
     "output_type": "stream",
     "text": [
      "---------------------\n",
      "GEN Loss: 6.7994385 7.4078236\n",
      "Feature Matching Loss: 0.021148084 0.017917307\n",
      "RECON Loss: 0.009691824 0.0105293095\n",
      "DIS Loss: 0.001562426 0.0011840822\n"
     ]
    },
    {
     "name": "stderr",
     "output_type": "stream",
     "text": [
      "epoch #413|  0%|                                                |ETA:   0:01:04"
     ]
    },
    {
     "name": "stdout",
     "output_type": "stream",
     "text": [
      "---------------------\n",
      "GEN Loss: 6.4533486 7.4374824\n",
      "Feature Matching Loss: 0.019774165 0.017907843\n",
      "RECON Loss: 0.009749596 0.010738863\n",
      "DIS Loss: 0.0032143998 0.0011833103\n"
     ]
    },
    {
     "name": "stderr",
     "output_type": "stream",
     "text": [
      "epoch #414|  0%|                                                |ETA:   0:01:04"
     ]
    },
    {
     "name": "stdout",
     "output_type": "stream",
     "text": [
      "---------------------\n",
      "GEN Loss: 0.8394901 0.67501235\n",
      "Feature Matching Loss: 0.01991244 0.025560375\n",
      "RECON Loss: 0.015648745 0.017153509\n",
      "DIS Loss: 0.7705538 0.7778431\n"
     ]
    },
    {
     "name": "stderr",
     "output_type": "stream",
     "text": [
      "epoch #415|  0%|                                                |ETA:   0:01:07"
     ]
    },
    {
     "name": "stdout",
     "output_type": "stream",
     "text": [
      "---------------------\n",
      "GEN Loss: 0.75311244 0.65188605\n",
      "Feature Matching Loss: 0.014082733 0.0173911\n",
      "RECON Loss: 0.012274532 0.0124169765\n",
      "DIS Loss: 0.71986187 0.70542085\n"
     ]
    },
    {
     "name": "stderr",
     "output_type": "stream",
     "text": [
      "epoch #416|  0%|                                                |ETA:   0:01:07"
     ]
    },
    {
     "name": "stdout",
     "output_type": "stream",
     "text": [
      "---------------------\n",
      "GEN Loss: 0.7427087 0.67182165\n",
      "Feature Matching Loss: 0.011940826 0.015239971\n",
      "RECON Loss: 0.011313526 0.011570765\n",
      "DIS Loss: 0.7018763 0.7073786\n"
     ]
    },
    {
     "name": "stderr",
     "output_type": "stream",
     "text": [
      "epoch #417|  0%|                                                |ETA:   0:01:02"
     ]
    },
    {
     "name": "stdout",
     "output_type": "stream",
     "text": [
      "---------------------\n",
      "GEN Loss: 0.72892535 0.6715611\n",
      "Feature Matching Loss: 0.011837268 0.014024209\n",
      "RECON Loss: 0.0108237285 0.011066712\n",
      "DIS Loss: 0.6997463 0.70075464\n"
     ]
    },
    {
     "name": "stderr",
     "output_type": "stream",
     "text": [
      "epoch #418|  0%|                                                |ETA:   0:01:05"
     ]
    },
    {
     "name": "stdout",
     "output_type": "stream",
     "text": [
      "---------------------\n",
      "GEN Loss: 0.7073207 0.68900824\n",
      "Feature Matching Loss: 0.014004689 0.013904723\n",
      "RECON Loss: 0.010453726 0.01072902\n",
      "DIS Loss: 0.6910069 0.6887505\n"
     ]
    },
    {
     "name": "stderr",
     "output_type": "stream",
     "text": [
      "epoch #419|  0%|                                                |ETA:   0:01:07"
     ]
    },
    {
     "name": "stdout",
     "output_type": "stream",
     "text": [
      "---------------------\n",
      "GEN Loss: 0.68746567 0.70613354\n",
      "Feature Matching Loss: 0.016060919 0.013790672\n",
      "RECON Loss: 0.01029611 0.010560311\n",
      "DIS Loss: 0.69085765 0.67965764\n"
     ]
    },
    {
     "name": "stderr",
     "output_type": "stream",
     "text": [
      "epoch #420|  0%|                                                |ETA:   0:01:04"
     ]
    },
    {
     "name": "stdout",
     "output_type": "stream",
     "text": [
      "---------------------\n",
      "GEN Loss: 0.65850544 0.69313467\n",
      "Feature Matching Loss: 0.013505789 0.016442634\n",
      "RECON Loss: 0.010168085 0.010542723\n",
      "DIS Loss: 0.7035544 0.6844089\n"
     ]
    },
    {
     "name": "stderr",
     "output_type": "stream",
     "text": [
      "epoch #421|  0%|                                                |ETA:   0:01:08"
     ]
    },
    {
     "name": "stdout",
     "output_type": "stream",
     "text": [
      "---------------------\n",
      "GEN Loss: 0.71112525 0.7179564\n",
      "Feature Matching Loss: 0.012579077 0.012973385\n",
      "RECON Loss: 0.010257082 0.010469041\n",
      "DIS Loss: 0.6928447 0.675763\n"
     ]
    },
    {
     "name": "stderr",
     "output_type": "stream",
     "text": [
      "epoch #422|N/A%|                                                |ETA:  --:--:--"
     ]
    },
    {
     "name": "stdout",
     "output_type": "stream",
     "text": [
      "---------------------\n",
      "GEN Loss:"
     ]
    },
    {
     "name": "stderr",
     "output_type": "stream",
     "text": [
      "\r",
      "                                                                               \r",
      "\r",
      "epoch #422|  0%|                                                |ETA:   0:01:25"
     ]
    },
    {
     "name": "stdout",
     "output_type": "stream",
     "text": [
      " 0.74962187 0.74782336\n",
      "Feature Matching Loss: 0.009962962 0.014007726\n",
      "RECON Loss: 0.010095942 0.010383464\n",
      "DIS Loss: 0.6808547 0.67731106\n"
     ]
    },
    {
     "name": "stderr",
     "output_type": "stream",
     "text": [
      "epoch #423|  0%|                                                |ETA:   0:01:06"
     ]
    },
    {
     "name": "stdout",
     "output_type": "stream",
     "text": [
      "---------------------\n",
      "GEN Loss: 0.7566106 0.74570704\n",
      "Feature Matching Loss: 0.01311049 0.015079897\n",
      "RECON Loss: 0.0099838395 0.010397587\n",
      "DIS Loss: 0.6742369 0.6816394\n"
     ]
    },
    {
     "name": "stderr",
     "output_type": "stream",
     "text": [
      "epoch #424|  0%|                                                |ETA:   0:01:03"
     ]
    },
    {
     "name": "stdout",
     "output_type": "stream",
     "text": [
      "---------------------\n",
      "GEN Loss: 0.75293213 0.73337126\n",
      "Feature Matching Loss: 0.014176379 0.014155649\n",
      "RECON Loss: 0.010012655 0.010380825\n",
      "DIS Loss: 0.67380995 0.6806183\n"
     ]
    },
    {
     "name": "stderr",
     "output_type": "stream",
     "text": [
      "epoch #425|  0%|                                                |ETA:   0:01:12"
     ]
    },
    {
     "name": "stdout",
     "output_type": "stream",
     "text": [
      "---------------------\n",
      "GEN Loss: 0.7671788 0.74666995\n",
      "Feature Matching Loss: 0.01258095 0.013134713\n",
      "RECON Loss: 0.0100197885 0.010359264\n",
      "DIS Loss: 0.6736659 0.6611388\n"
     ]
    },
    {
     "name": "stderr",
     "output_type": "stream",
     "text": [
      "epoch #426|  0%|                                                |ETA:   0:01:07"
     ]
    },
    {
     "name": "stdout",
     "output_type": "stream",
     "text": [
      "---------------------\n",
      "GEN Loss: 0.77619404 0.746577\n",
      "Feature Matching Loss: 0.018698547 0.014328297\n",
      "RECON Loss: 0.010144616 0.010496303\n",
      "DIS Loss: 0.6788521 0.64797854\n"
     ]
    },
    {
     "name": "stderr",
     "output_type": "stream",
     "text": [
      "epoch #427|  0%|                                                |ETA:   0:01:05"
     ]
    },
    {
     "name": "stdout",
     "output_type": "stream",
     "text": [
      "---------------------\n",
      "GEN Loss: 0.7768984 0.811667\n",
      "Feature Matching Loss: 0.016470734 0.013929797\n",
      "RECON Loss: 0.010429164 0.010655012\n",
      "DIS Loss: 0.669683 0.6248205\n"
     ]
    },
    {
     "name": "stderr",
     "output_type": "stream",
     "text": [
      "epoch #428|  0%|                                                |ETA:   0:01:06"
     ]
    },
    {
     "name": "stdout",
     "output_type": "stream",
     "text": [
      "---------------------\n",
      "GEN Loss: 0.7993877 0.92226934\n",
      "Feature Matching Loss: 0.012499244 0.018561024\n",
      "RECON Loss: 0.011232771 0.011378063\n",
      "DIS Loss: 0.6470204 0.6248209\n"
     ]
    },
    {
     "name": "stderr",
     "output_type": "stream",
     "text": [
      "epoch #429|  0%|                                                |ETA:   0:01:02"
     ]
    },
    {
     "name": "stdout",
     "output_type": "stream",
     "text": [
      "---------------------\n",
      "GEN Loss: 0.7536371 1.3357574\n",
      "Feature Matching Loss: 0.015014139 0.025592515\n",
      "RECON Loss: 0.012428778 0.012831392\n",
      "DIS Loss: 0.6055619 0.67845356\n"
     ]
    },
    {
     "name": "stderr",
     "output_type": "stream",
     "text": [
      "epoch #430|  0%|                                                |ETA:   0:01:10"
     ]
    },
    {
     "name": "stdout",
     "output_type": "stream",
     "text": [
      "---------------------\n",
      "GEN Loss: 1.0102323 0.46796262\n",
      "Feature Matching Loss: 0.028180748 0.035961937\n",
      "RECON Loss: 0.0155451875 0.015683971\n",
      "DIS Loss: 0.6736384 0.76961446\n"
     ]
    },
    {
     "name": "stderr",
     "output_type": "stream",
     "text": [
      "epoch #431|  0%|                                                |ETA:   0:01:08"
     ]
    },
    {
     "name": "stdout",
     "output_type": "stream",
     "text": [
      "---------------------\n",
      "GEN Loss: 1.8143313 0.6508579\n",
      "Feature Matching Loss: 0.034476385 0.030542497\n",
      "RECON Loss: 0.017990174 0.018296171\n",
      "DIS Loss: 0.5599824 0.5682459\n"
     ]
    },
    {
     "name": "stderr",
     "output_type": "stream",
     "text": [
      "epoch #432|  0%|                                                |ETA:   0:01:10"
     ]
    },
    {
     "name": "stdout",
     "output_type": "stream",
     "text": [
      "---------------------\n",
      "GEN Loss: 0.69291925 2.97351\n",
      "Feature Matching Loss: 0.034656923 0.034411673\n",
      "RECON Loss: 0.017525129 0.018523633\n",
      "DIS Loss: 0.59602046 0.5939207\n"
     ]
    },
    {
     "name": "stderr",
     "output_type": "stream",
     "text": [
      "epoch #433|  0%|                                                |ETA:   0:01:07"
     ]
    },
    {
     "name": "stdout",
     "output_type": "stream",
     "text": [
      "---------------------\n",
      "GEN Loss: 2.3106651 2.4179804\n",
      "Feature Matching Loss: 0.03269416 0.032326587\n",
      "RECON Loss: 0.017687071 0.018779796\n",
      "DIS Loss: 0.3850028 0.2409506\n"
     ]
    },
    {
     "name": "stderr",
     "output_type": "stream",
     "text": [
      "epoch #434|  0%|                                                |ETA:   0:01:21"
     ]
    },
    {
     "name": "stdout",
     "output_type": "stream",
     "text": [
      "---------------------\n",
      "GEN Loss: 2.3092847 1.8176669\n",
      "Feature Matching Loss: 0.03367521 0.029040858\n",
      "RECON Loss: 0.017835576 0.018065061\n",
      "DIS Loss: 0.24979852 0.1984152\n"
     ]
    },
    {
     "name": "stderr",
     "output_type": "stream",
     "text": [
      "epoch #435|  0%|                                                |ETA:   0:01:14"
     ]
    },
    {
     "name": "stdout",
     "output_type": "stream",
     "text": [
      "---------------------\n",
      "GEN Loss: 1.5156661 3.3650825\n",
      "Feature Matching Loss: 0.029628728 0.0224348\n",
      "RECON Loss: 0.017218087 0.018837212\n",
      "DIS Loss: 0.24921156 0.1452737\n"
     ]
    },
    {
     "name": "stderr",
     "output_type": "stream",
     "text": [
      "epoch #436|  0%|                                                |ETA:   0:01:04"
     ]
    },
    {
     "name": "stdout",
     "output_type": "stream",
     "text": [
      "---------------------\n",
      "GEN Loss: 2.4771504 3.5659423\n",
      "Feature Matching Loss: 0.023139412 0.020072324\n",
      "RECON Loss: 0.016545543 0.01859409\n",
      "DIS Loss: 0.11270052 0.09099813\n"
     ]
    },
    {
     "name": "stderr",
     "output_type": "stream",
     "text": [
      "epoch #437|  0%|                                                |ETA:   0:01:11"
     ]
    },
    {
     "name": "stdout",
     "output_type": "stream",
     "text": [
      "---------------------\n",
      "GEN Loss: 2.5200853 3.1585946\n",
      "Feature Matching Loss: 0.019631092 0.017938647\n",
      "RECON Loss: 0.015776742 0.017467743\n",
      "DIS Loss: 0.09165212 0.06762743\n"
     ]
    },
    {
     "name": "stderr",
     "output_type": "stream",
     "text": [
      "epoch #438|  0%|                                                |ETA:   0:01:05"
     ]
    },
    {
     "name": "stdout",
     "output_type": "stream",
     "text": [
      "---------------------\n",
      "GEN Loss: 4.822695 3.5744345\n",
      "Feature Matching Loss: 0.017083358 0.0155468285\n",
      "RECON Loss: 0.015239278 0.016735923\n",
      "DIS Loss: 0.08306209 0.048302945\n"
     ]
    },
    {
     "name": "stderr",
     "output_type": "stream",
     "text": [
      "epoch #439|  0%|                                                |ETA:   0:01:03"
     ]
    },
    {
     "name": "stdout",
     "output_type": "stream",
     "text": [
      "---------------------\n",
      "GEN Loss: 5.4551225 4.13792\n",
      "Feature Matching Loss: 0.017294751 0.014365015\n",
      "RECON Loss: 0.014742392 0.016613422\n",
      "DIS Loss: 0.053104967 0.033633128\n"
     ]
    },
    {
     "name": "stderr",
     "output_type": "stream",
     "text": [
      "epoch #440|  0%|                                                |ETA:   0:01:07"
     ]
    },
    {
     "name": "stdout",
     "output_type": "stream",
     "text": [
      "---------------------\n",
      "GEN Loss: 4.936549 4.683923\n",
      "Feature Matching Loss: 0.017142296 0.014179313\n",
      "RECON Loss: 0.014032796 0.015764415\n",
      "DIS Loss: 0.021306712 0.02718066\n"
     ]
    },
    {
     "name": "stderr",
     "output_type": "stream",
     "text": [
      "epoch #441|  0%|                                                |ETA:   0:01:06"
     ]
    },
    {
     "name": "stdout",
     "output_type": "stream",
     "text": [
      "---------------------\n",
      "GEN Loss: 4.3573565 4.859628\n",
      "Feature Matching Loss: 0.017205734 0.014046993\n",
      "RECON Loss: 0.013548015 0.01525821\n",
      "DIS Loss: 0.01785325 0.02048314\n"
     ]
    },
    {
     "name": "stderr",
     "output_type": "stream",
     "text": [
      "epoch #442|  0%|                                                |ETA:   0:01:07"
     ]
    },
    {
     "name": "stdout",
     "output_type": "stream",
     "text": [
      "---------------------\n",
      "GEN Loss: 4.634574 4.7043614\n",
      "Feature Matching Loss: 0.01726367 0.014286781\n",
      "RECON Loss: 0.013147212 0.01474123\n",
      "DIS Loss: 0.014118674 0.015445104\n"
     ]
    },
    {
     "name": "stderr",
     "output_type": "stream",
     "text": [
      "epoch #443|  0%|                                                |ETA:   0:01:16"
     ]
    },
    {
     "name": "stdout",
     "output_type": "stream",
     "text": [
      "---------------------\n",
      "GEN Loss: 4.906807 4.6791654\n",
      "Feature Matching Loss: 0.017540686 0.014468648\n",
      "RECON Loss: 0.012805871 0.014390508\n",
      "DIS Loss: 0.011197789 0.013028888\n"
     ]
    },
    {
     "name": "stderr",
     "output_type": "stream",
     "text": [
      "epoch #444|  0%|                                                |ETA:   0:01:15"
     ]
    },
    {
     "name": "stdout",
     "output_type": "stream",
     "text": [
      "---------------------\n",
      "GEN Loss: 5.0568705 4.8647523\n",
      "Feature Matching Loss: 0.01779731 0.014635721\n",
      "RECON Loss: 0.012532061 0.014103079\n",
      "DIS Loss: 0.009275483 0.010662039\n"
     ]
    },
    {
     "name": "stderr",
     "output_type": "stream",
     "text": [
      "epoch #445|  0%|                                                |ETA:   0:01:12"
     ]
    },
    {
     "name": "stdout",
     "output_type": "stream",
     "text": [
      "---------------------\n",
      "GEN Loss: 5.225461 5.0591936\n",
      "Feature Matching Loss: 0.01803643 0.0148153305\n",
      "RECON Loss: 0.012296475 0.013832322\n",
      "DIS Loss: 0.0077711004 0.008933364\n"
     ]
    },
    {
     "name": "stderr",
     "output_type": "stream",
     "text": [
      "epoch #446|N/A%|                                                |ETA:  --:--:--"
     ]
    },
    {
     "name": "stdout",
     "output_type": "stream",
     "text": [
      "---------------------\n"
     ]
    },
    {
     "name": "stderr",
     "output_type": "stream",
     "text": [
      "\r",
      "                                                                               \r",
      "\r",
      "epoch #446|  0%|                                                |ETA:   0:01:35"
     ]
    },
    {
     "name": "stdout",
     "output_type": "stream",
     "text": [
      "GEN Loss: 5.417766 5.2400045\n",
      "Feature Matching Loss: 0.018295106 0.01499643\n",
      "RECON Loss: 0.012088115 0.013570162\n",
      "DIS Loss: 0.006632241 0.0076583526\n"
     ]
    },
    {
     "name": "stderr",
     "output_type": "stream",
     "text": [
      "epoch #447|  0%|                                                |ETA:   0:01:05"
     ]
    },
    {
     "name": "stdout",
     "output_type": "stream",
     "text": [
      "---------------------\n",
      "GEN Loss: 5.5939803 5.4167385\n",
      "Feature Matching Loss: 0.018576218 0.015174246\n",
      "RECON Loss: 0.011898349 0.013341683\n",
      "DIS Loss: 0.005786083 0.0066583455\n"
     ]
    },
    {
     "name": "stderr",
     "output_type": "stream",
     "text": [
      "epoch #448|  0%|                                                |ETA:   0:01:13"
     ]
    },
    {
     "name": "stdout",
     "output_type": "stream",
     "text": [
      "---------------------\n",
      "GEN Loss: 5.757594 5.5921936\n",
      "Feature Matching Loss: 0.018860843 0.015352467\n",
      "RECON Loss: 0.011728717 0.013133626\n",
      "DIS Loss: 0.005085705 0.0058416952\n"
     ]
    },
    {
     "name": "stderr",
     "output_type": "stream",
     "text": [
      "epoch #449|  0%|                                                |ETA:   0:01:04"
     ]
    },
    {
     "name": "stdout",
     "output_type": "stream",
     "text": [
      "---------------------\n",
      "GEN Loss: 5.9000163 5.748533\n",
      "Feature Matching Loss: 0.01910085 0.015526352\n",
      "RECON Loss: 0.011574157 0.012951992\n",
      "DIS Loss: 0.0045427885 0.005196092\n"
     ]
    },
    {
     "name": "stderr",
     "output_type": "stream",
     "text": [
      "epoch #450|  0%|                                                |ETA:   0:01:08"
     ]
    },
    {
     "name": "stdout",
     "output_type": "stream",
     "text": [
      "---------------------\n",
      "GEN Loss: 6.0343103 5.888372\n",
      "Feature Matching Loss: 0.019338412 0.01569241\n",
      "RECON Loss: 0.011431312 0.012801824\n",
      "DIS Loss: 0.0040764636 0.0046652975\n"
     ]
    },
    {
     "name": "stderr",
     "output_type": "stream",
     "text": [
      "epoch #451|  0%|                                                |ETA:   0:01:05"
     ]
    },
    {
     "name": "stdout",
     "output_type": "stream",
     "text": [
      "---------------------\n",
      "GEN Loss: 6.1574383 6.026138\n",
      "Feature Matching Loss: 0.01954083 0.015866766\n",
      "RECON Loss: 0.0113016665 0.012672982\n",
      "DIS Loss: 0.0036913888 0.004204102\n"
     ]
    },
    {
     "name": "stderr",
     "output_type": "stream",
     "text": [
      "epoch #452|  0%|                                                |ETA:   0:01:04"
     ]
    },
    {
     "name": "stdout",
     "output_type": "stream",
     "text": [
      "---------------------\n",
      "GEN Loss: 6.276418 6.1517105\n",
      "Feature Matching Loss: 0.019748235 0.016030462\n",
      "RECON Loss: 0.011185473 0.012571174\n",
      "DIS Loss: 0.003353354 0.0038103226\n"
     ]
    },
    {
     "name": "stderr",
     "output_type": "stream",
     "text": [
      "epoch #453|  0%|                                                |ETA:   0:01:06"
     ]
    },
    {
     "name": "stdout",
     "output_type": "stream",
     "text": [
      "---------------------\n",
      "GEN Loss: 6.3807845 6.272873\n",
      "Feature Matching Loss: 0.019935329 0.016200416\n",
      "RECON Loss: 0.01107581 0.012479043\n",
      "DIS Loss: 0.0030666157 0.0034612664\n"
     ]
    },
    {
     "name": "stderr",
     "output_type": "stream",
     "text": [
      "epoch #454|  0%|                                                |ETA:   0:01:12"
     ]
    },
    {
     "name": "stdout",
     "output_type": "stream",
     "text": [
      "---------------------\n",
      "GEN Loss: 6.47442 6.381265\n",
      "Feature Matching Loss: 0.020111583 0.016362803\n",
      "RECON Loss: 0.010971129 0.012392233\n",
      "DIS Loss: 0.0028149448 0.0031639733\n"
     ]
    },
    {
     "name": "stderr",
     "output_type": "stream",
     "text": [
      "epoch #455|  0%|                                                |ETA:   0:01:05"
     ]
    },
    {
     "name": "stdout",
     "output_type": "stream",
     "text": [
      "---------------------\n",
      "GEN Loss: 6.563204 6.482953\n",
      "Feature Matching Loss: 0.020294446 0.01652506\n",
      "RECON Loss: 0.010870548 0.012297484\n",
      "DIS Loss: 0.0025972752 0.0029026615\n"
     ]
    },
    {
     "name": "stderr",
     "output_type": "stream",
     "text": [
      "epoch #456|  0%|                                                |ETA:   0:01:11"
     ]
    },
    {
     "name": "stdout",
     "output_type": "stream",
     "text": [
      "---------------------\n",
      "GEN Loss: 6.6479845 6.5738587\n",
      "Feature Matching Loss: 0.020456241 0.016661113\n",
      "RECON Loss: 0.010777703 0.012189886\n",
      "DIS Loss: 0.0024040544 0.0026803557\n"
     ]
    },
    {
     "name": "stderr",
     "output_type": "stream",
     "text": [
      "epoch #457|  0%|                                                |ETA:   0:01:04"
     ]
    },
    {
     "name": "stdout",
     "output_type": "stream",
     "text": [
      "---------------------\n",
      "GEN Loss: 6.7268524 6.6683626\n",
      "Feature Matching Loss: 0.020615334 0.016801536\n",
      "RECON Loss: 0.010691172 0.012113512\n",
      "DIS Loss: 0.0022366839 0.0024768717\n"
     ]
    },
    {
     "name": "stderr",
     "output_type": "stream",
     "text": [
      "epoch #458|  0%|                                                |ETA:   0:01:16"
     ]
    },
    {
     "name": "stdout",
     "output_type": "stream",
     "text": [
      "---------------------\n",
      "GEN Loss: 6.804012 6.7570033\n",
      "Feature Matching Loss: 0.020766571 0.016934184\n",
      "RECON Loss: 0.01060843 0.012038383\n",
      "DIS Loss: 0.0020828196 0.0022975767\n"
     ]
    },
    {
     "name": "stderr",
     "output_type": "stream",
     "text": [
      "epoch #459|  0%|                                                |ETA:   0:01:05"
     ]
    },
    {
     "name": "stdout",
     "output_type": "stream",
     "text": [
      "---------------------\n",
      "GEN Loss: 6.876488 6.8423533\n",
      "Feature Matching Loss: 0.020908464 0.017054977\n",
      "RECON Loss: 0.010528648 0.011962762\n",
      "DIS Loss: 0.0019505199 0.0021405874\n"
     ]
    },
    {
     "name": "stderr",
     "output_type": "stream",
     "text": [
      "epoch #460|  0%|                                                |ETA:   0:01:05"
     ]
    },
    {
     "name": "stdout",
     "output_type": "stream",
     "text": [
      "---------------------\n",
      "GEN Loss: 6.948372 6.9222918\n",
      "Feature Matching Loss: 0.021036241 0.017173234\n",
      "RECON Loss: 0.010452978 0.011904148\n",
      "DIS Loss: 0.0018281641 0.0019995032\n"
     ]
    },
    {
     "name": "stderr",
     "output_type": "stream",
     "text": [
      "epoch #461|  0%|                                                |ETA:   0:01:08"
     ]
    },
    {
     "name": "stdout",
     "output_type": "stream",
     "text": [
      "---------------------\n",
      "GEN Loss: 7.0187078 7.005539\n",
      "Feature Matching Loss: 0.02116061 0.017302562\n",
      "RECON Loss: 0.01038217 0.011853039\n",
      "DIS Loss: 0.0017163798 0.0018690114\n"
     ]
    },
    {
     "name": "stderr",
     "output_type": "stream",
     "text": [
      "epoch #462|  0%|                                                |ETA:   0:01:14"
     ]
    },
    {
     "name": "stdout",
     "output_type": "stream",
     "text": [
      "---------------------\n",
      "GEN Loss: 7.0927057 7.0880327\n",
      "Feature Matching Loss: 0.021304224 0.017436218\n",
      "RECON Loss: 0.01031726 0.011831212\n",
      "DIS Loss: 0.0016109969 0.001751926\n"
     ]
    },
    {
     "name": "stderr",
     "output_type": "stream",
     "text": [
      "epoch #463|  0%|                                                |ETA:   0:01:08"
     ]
    },
    {
     "name": "stdout",
     "output_type": "stream",
     "text": [
      "---------------------\n",
      "GEN Loss: 7.157978 7.1669436\n",
      "Feature Matching Loss: 0.021421976 0.017559716\n",
      "RECON Loss: 0.010249957 0.011811709\n",
      "DIS Loss: 0.0015176181 0.0016411596\n"
     ]
    },
    {
     "name": "stderr",
     "output_type": "stream",
     "text": [
      "epoch #464|  0%|                                                |ETA:   0:01:04"
     ]
    },
    {
     "name": "stdout",
     "output_type": "stream",
     "text": [
      "---------------------\n",
      "GEN Loss: 7.2285843 7.2376347\n",
      "Feature Matching Loss: 0.02153136 0.017661195\n",
      "RECON Loss: 0.010188268 0.011772162\n",
      "DIS Loss: 0.0014278293 0.001547148\n"
     ]
    },
    {
     "name": "stderr",
     "output_type": "stream",
     "text": [
      "epoch #465|  0%|                                                |ETA:   0:01:05"
     ]
    },
    {
     "name": "stdout",
     "output_type": "stream",
     "text": [
      "---------------------\n",
      "GEN Loss: 7.2874875 7.305904\n",
      "Feature Matching Loss: 0.021613248 0.017755417\n",
      "RECON Loss: 0.010126122 0.011781476\n",
      "DIS Loss: 0.001350766 0.0014609531\n"
     ]
    },
    {
     "name": "stderr",
     "output_type": "stream",
     "text": [
      "epoch #466|  0%|                                                |ETA:   0:01:03"
     ]
    },
    {
     "name": "stdout",
     "output_type": "stream",
     "text": [
      "---------------------\n",
      "GEN Loss: 7.338071 7.3756194\n",
      "Feature Matching Loss: 0.02170111 0.017867804\n",
      "RECON Loss: 0.010067596 0.011814337\n",
      "DIS Loss: 0.0012816096 0.0013818112\n"
     ]
    },
    {
     "name": "stderr",
     "output_type": "stream",
     "text": [
      "epoch #467|  0%|                                                |ETA:   0:01:04"
     ]
    },
    {
     "name": "stdout",
     "output_type": "stream",
     "text": [
      "---------------------\n",
      "GEN Loss: 7.3928595 7.440528\n",
      "Feature Matching Loss: 0.021792863 0.017957665\n",
      "RECON Loss: 0.0100090755 0.011833109\n",
      "DIS Loss: 0.0012162012 0.0013082313\n"
     ]
    },
    {
     "name": "stderr",
     "output_type": "stream",
     "text": [
      "epoch #468|  0%|                                                |ETA:   0:01:11"
     ]
    },
    {
     "name": "stdout",
     "output_type": "stream",
     "text": [
      "---------------------\n",
      "GEN Loss: 7.439782 7.506341\n",
      "Feature Matching Loss: 0.021874834 0.018052423\n",
      "RECON Loss: 0.009953692 0.0118642915\n",
      "DIS Loss: 0.0011587391 0.0012390795\n"
     ]
    },
    {
     "name": "stderr",
     "output_type": "stream",
     "text": [
      "epoch #469|  0%|                                                |ETA:   0:01:05"
     ]
    },
    {
     "name": "stdout",
     "output_type": "stream",
     "text": [
      "---------------------\n",
      "GEN Loss: 7.4824142 7.5600653\n",
      "Feature Matching Loss: 0.021949712 0.018128375\n",
      "RECON Loss: 0.009904574 0.011894053\n",
      "DIS Loss: 0.0011051039 0.0011797043\n"
     ]
    },
    {
     "name": "stderr",
     "output_type": "stream",
     "text": [
      "epoch #470|N/A%|                                                |ETA:  --:--:--"
     ]
    },
    {
     "name": "stdout",
     "output_type": "stream",
     "text": [
      "---------------------\n"
     ]
    },
    {
     "name": "stderr",
     "output_type": "stream",
     "text": [
      "\r",
      "                                                                               \r",
      "\r",
      "epoch #470|  0%|                                                |ETA:   0:01:44"
     ]
    },
    {
     "name": "stdout",
     "output_type": "stream",
     "text": [
      "GEN Loss: 7.5337276 7.6221304\n",
      "Feature Matching Loss: 0.022033395 0.018218543\n",
      "RECON Loss: 0.009865 0.011887316\n",
      "DIS Loss: 0.0010501768 0.0011251641\n"
     ]
    },
    {
     "name": "stderr",
     "output_type": "stream",
     "text": [
      "epoch #471|  0%|                                                |ETA:   0:01:05"
     ]
    },
    {
     "name": "stdout",
     "output_type": "stream",
     "text": [
      "---------------------\n",
      "GEN Loss: 7.572303 7.6849446\n",
      "Feature Matching Loss: 0.022129541 0.018320836\n",
      "RECON Loss: 0.009814275 0.011936623\n",
      "DIS Loss: 0.001001798 0.0010689266\n"
     ]
    },
    {
     "name": "stderr",
     "output_type": "stream",
     "text": [
      "epoch #472|  0%|                                                |ETA:   0:01:04"
     ]
    },
    {
     "name": "stdout",
     "output_type": "stream",
     "text": [
      "---------------------\n",
      "GEN Loss: 7.6017103 7.738331\n",
      "Feature Matching Loss: 0.022203328 0.018393476\n",
      "RECON Loss: 0.009765319 0.01186256\n",
      "DIS Loss: 0.0009541202 0.0010273821\n"
     ]
    },
    {
     "name": "stderr",
     "output_type": "stream",
     "text": [
      "epoch #473|  0%|                                                |ETA:   0:01:06"
     ]
    },
    {
     "name": "stdout",
     "output_type": "stream",
     "text": [
      "---------------------\n",
      "GEN Loss: 7.604123 7.766241\n",
      "Feature Matching Loss: 0.022326931 0.018454699\n",
      "RECON Loss: 0.009720291 0.012014955\n",
      "DIS Loss: 0.0009299386 0.0009816126\n"
     ]
    },
    {
     "name": "stderr",
     "output_type": "stream",
     "text": [
      "epoch #474|  0%|                                                |ETA:   0:01:12"
     ]
    },
    {
     "name": "stdout",
     "output_type": "stream",
     "text": [
      "---------------------\n",
      "GEN Loss: 7.643612 7.787483\n",
      "Feature Matching Loss: 0.022164982 0.018353196\n",
      "RECON Loss: 0.009726502 0.012063438\n",
      "DIS Loss: 0.000972555 0.0009765283\n"
     ]
    },
    {
     "name": "stderr",
     "output_type": "stream",
     "text": [
      "epoch #475|  0%|                                                |ETA:   0:01:09"
     ]
    },
    {
     "name": "stdout",
     "output_type": "stream",
     "text": [
      "---------------------\n",
      "GEN Loss: 7.566132 7.973222\n",
      "Feature Matching Loss: 0.021724293 0.01900015\n",
      "RECON Loss: 0.009660268 0.0122087635\n",
      "DIS Loss: 0.0012017644 0.0009668054\n"
     ]
    },
    {
     "name": "stderr",
     "output_type": "stream",
     "text": [
      "epoch #476|  0%|                                                |ETA:   0:01:05"
     ]
    },
    {
     "name": "stdout",
     "output_type": "stream",
     "text": [
      "---------------------\n",
      "GEN Loss: 0.4373402 0.7920518\n",
      "Feature Matching Loss: 0.030354027 0.027616391\n",
      "RECON Loss: 0.026210895 0.025632933\n",
      "DIS Loss: 0.85351187 0.79719406\n"
     ]
    },
    {
     "name": "stderr",
     "output_type": "stream",
     "text": [
      "epoch #477|  0%|                                                |ETA:   0:01:03"
     ]
    },
    {
     "name": "stdout",
     "output_type": "stream",
     "text": [
      "---------------------\n",
      "GEN Loss: 0.7025514 0.67513335\n",
      "Feature Matching Loss: 0.0154946735 0.017744202\n",
      "RECON Loss: 0.013549428 0.013316188\n",
      "DIS Loss: 0.7424092 0.68061733\n"
     ]
    },
    {
     "name": "stderr",
     "output_type": "stream",
     "text": [
      "epoch #478|  0%|                                                |ETA:   0:01:03"
     ]
    },
    {
     "name": "stdout",
     "output_type": "stream",
     "text": [
      "---------------------\n",
      "GEN Loss: 0.73194313 0.69641745\n",
      "Feature Matching Loss: 0.013450138 0.015287297\n",
      "RECON Loss: 0.012048952 0.012008472\n",
      "DIS Loss: 0.7048007 0.672912\n"
     ]
    },
    {
     "name": "stderr",
     "output_type": "stream",
     "text": [
      "epoch #479|  0%|                                                |ETA:   0:01:03"
     ]
    },
    {
     "name": "stdout",
     "output_type": "stream",
     "text": [
      "---------------------\n",
      "GEN Loss: 0.7356683 0.70126706\n",
      "Feature Matching Loss: 0.012738323 0.014499513\n",
      "RECON Loss: 0.011546146 0.011439176\n",
      "DIS Loss: 0.69001687 0.6626168\n"
     ]
    },
    {
     "name": "stderr",
     "output_type": "stream",
     "text": [
      "epoch #480|  0%|                                                |ETA:   0:01:06"
     ]
    },
    {
     "name": "stdout",
     "output_type": "stream",
     "text": [
      "---------------------\n",
      "GEN Loss: 0.7390942 0.75330687\n",
      "Feature Matching Loss: 0.011954907 0.014665238\n",
      "RECON Loss: 0.011503048 0.01126926\n",
      "DIS Loss: 0.6755918 0.62580717\n"
     ]
    },
    {
     "name": "stderr",
     "output_type": "stream",
     "text": [
      "epoch #481|  0%|                                                |ETA:   0:01:08"
     ]
    },
    {
     "name": "stdout",
     "output_type": "stream",
     "text": [
      "---------------------\n",
      "GEN Loss: 0.7436824 0.24811526\n",
      "Feature Matching Loss: 0.012500595 0.02687852\n",
      "RECON Loss: 0.013230103 0.013019177\n",
      "DIS Loss: 0.6619741 1.0450946\n"
     ]
    },
    {
     "name": "stderr",
     "output_type": "stream",
     "text": [
      "epoch #482|  0%|                                                |ETA:   0:01:09"
     ]
    },
    {
     "name": "stdout",
     "output_type": "stream",
     "text": [
      "---------------------\n",
      "GEN Loss: 0.75085294 2.0479987\n",
      "Feature Matching Loss: 0.01218781 0.03731963\n",
      "RECON Loss: 0.014270174 0.013473807\n",
      "DIS Loss: 0.64966714 0.84600043\n"
     ]
    },
    {
     "name": "stderr",
     "output_type": "stream",
     "text": [
      "epoch #483|  0%|                                                |ETA:   0:01:03"
     ]
    },
    {
     "name": "stdout",
     "output_type": "stream",
     "text": [
      "---------------------\n",
      "GEN Loss: 0.5827002 0.89082503\n",
      "Feature Matching Loss: 0.025883723 0.034269437\n",
      "RECON Loss: 0.015706018 0.020301145\n",
      "DIS Loss: 0.6973529 0.47840938\n"
     ]
    },
    {
     "name": "stderr",
     "output_type": "stream",
     "text": [
      "epoch #484|  0%|                                                |ETA:   0:01:07"
     ]
    },
    {
     "name": "stdout",
     "output_type": "stream",
     "text": [
      "---------------------\n",
      "GEN Loss: 0.5473893 3.969261\n",
      "Feature Matching Loss: 0.034900352 0.0351844\n",
      "RECON Loss: 0.018185996 0.020093262\n",
      "DIS Loss: 0.66256773 0.5646547\n"
     ]
    },
    {
     "name": "stderr",
     "output_type": "stream",
     "text": [
      "epoch #485|  0%|                                                |ETA:   0:01:05"
     ]
    },
    {
     "name": "stdout",
     "output_type": "stream",
     "text": [
      "---------------------\n",
      "GEN Loss: 3.4000936 1.4970038\n",
      "Feature Matching Loss: 0.033967525 0.029712716\n",
      "RECON Loss: 0.019065715 0.020989157\n",
      "DIS Loss: 0.64400697 0.2712668\n"
     ]
    },
    {
     "name": "stderr",
     "output_type": "stream",
     "text": [
      "epoch #486|  0%|                                                |ETA:   0:01:11"
     ]
    },
    {
     "name": "stdout",
     "output_type": "stream",
     "text": [
      "---------------------\n",
      "GEN Loss: 1.4127879 3.734671\n",
      "Feature Matching Loss: 0.03265869 0.03151358\n",
      "RECON Loss: 0.017942851 0.020475082\n",
      "DIS Loss: 0.27389482 0.22013707\n"
     ]
    },
    {
     "name": "stderr",
     "output_type": "stream",
     "text": [
      "epoch #487|  0%|                                                |ETA:   0:01:05"
     ]
    },
    {
     "name": "stdout",
     "output_type": "stream",
     "text": [
      "---------------------\n",
      "GEN Loss: 2.2955217 3.3754084\n",
      "Feature Matching Loss: 0.027167296 0.025230099\n",
      "RECON Loss: 0.017527051 0.02209732\n",
      "DIS Loss: 0.16812977 0.073100045\n"
     ]
    },
    {
     "name": "stderr",
     "output_type": "stream",
     "text": [
      "epoch #488|  0%|                                                |ETA:   0:01:06"
     ]
    },
    {
     "name": "stdout",
     "output_type": "stream",
     "text": [
      "---------------------\n",
      "GEN Loss: 4.4846697 3.6213048\n",
      "Feature Matching Loss: 0.023492496 0.020129621\n",
      "RECON Loss: 0.017031386 0.021256082\n",
      "DIS Loss: 0.16532603 0.054824658\n"
     ]
    },
    {
     "name": "stderr",
     "output_type": "stream",
     "text": [
      "epoch #489|  0%|                                                |ETA:   0:01:07"
     ]
    },
    {
     "name": "stdout",
     "output_type": "stream",
     "text": [
      "---------------------\n",
      "GEN Loss: 4.073901 3.5281746\n",
      "Feature Matching Loss: 0.021290138 0.01722255\n",
      "RECON Loss: 0.016171115 0.021779448\n",
      "DIS Loss: 0.057150222 0.046193972\n"
     ]
    },
    {
     "name": "stderr",
     "output_type": "stream",
     "text": [
      "epoch #490|  0%|                                                |ETA:   0:01:06"
     ]
    },
    {
     "name": "stdout",
     "output_type": "stream",
     "text": [
      "---------------------\n",
      "GEN Loss: 3.877984 4.2433996\n",
      "Feature Matching Loss: 0.01873344 0.015232831\n",
      "RECON Loss: 0.015366556 0.018389486\n",
      "DIS Loss: 0.040386148 0.030331612\n"
     ]
    },
    {
     "name": "stderr",
     "output_type": "stream",
     "text": [
      "epoch #491|  0%|                                                |ETA:   0:01:03"
     ]
    },
    {
     "name": "stdout",
     "output_type": "stream",
     "text": [
      "---------------------\n",
      "GEN Loss: 4.4633274 4.684245\n",
      "Feature Matching Loss: 0.017407507 0.014151147\n",
      "RECON Loss: 0.014640942 0.018975686\n",
      "DIS Loss: 0.02507782 0.021709463\n"
     ]
    },
    {
     "name": "stderr",
     "output_type": "stream",
     "text": [
      "epoch #492|  0%|                                                |ETA:   0:01:04"
     ]
    },
    {
     "name": "stdout",
     "output_type": "stream",
     "text": [
      "---------------------\n",
      "GEN Loss: 4.422682 4.907582\n",
      "Feature Matching Loss: 0.016690554 0.013929769\n",
      "RECON Loss: 0.013997912 0.01833942\n",
      "DIS Loss: 0.019197155 0.016762186\n"
     ]
    },
    {
     "name": "stderr",
     "output_type": "stream",
     "text": [
      "epoch #493|  0%|                                                |ETA:   0:01:06"
     ]
    },
    {
     "name": "stdout",
     "output_type": "stream",
     "text": [
      "---------------------\n",
      "GEN Loss: 4.7471046 4.8376546\n",
      "Feature Matching Loss: 0.01653765 0.014010823\n",
      "RECON Loss: 0.013551994 0.01681534\n",
      "DIS Loss: 0.014016317 0.013150089\n"
     ]
    },
    {
     "name": "stderr",
     "output_type": "stream",
     "text": [
      "epoch #494|  0%|                                                |ETA:   0:01:09"
     ]
    },
    {
     "name": "stdout",
     "output_type": "stream",
     "text": [
      "---------------------\n",
      "GEN Loss: 5.074151 4.9165373\n",
      "Feature Matching Loss: 0.016676504 0.014074322\n",
      "RECON Loss: 0.013190985 0.015992342\n",
      "DIS Loss: 0.010440607 0.010808416\n"
     ]
    },
    {
     "name": "stderr",
     "output_type": "stream",
     "text": [
      "epoch #495|  0%|                                                |ETA:   0:01:06"
     ]
    },
    {
     "name": "stdout",
     "output_type": "stream",
     "text": [
      "---------------------\n",
      "GEN Loss: 5.3722253 5.119552\n",
      "Feature Matching Loss: 0.016943287 0.014166065\n",
      "RECON Loss: 0.012887724 0.015380311\n",
      "DIS Loss: 0.008297322 0.008847503\n"
     ]
    },
    {
     "name": "stderr",
     "output_type": "stream",
     "text": [
      "epoch #496|  0%|                                                |ETA:   0:01:06"
     ]
    },
    {
     "name": "stdout",
     "output_type": "stream",
     "text": [
      "---------------------\n",
      "GEN Loss: 5.6283026 5.3103604\n",
      "Feature Matching Loss: 0.017252747 0.014283286\n",
      "RECON Loss: 0.012621254 0.014825906\n",
      "DIS Loss: 0.0069137122 0.0075328015\n"
     ]
    },
    {
     "name": "stderr",
     "output_type": "stream",
     "text": [
      "epoch #497|  0%|                                                |ETA:   0:01:03"
     ]
    },
    {
     "name": "stdout",
     "output_type": "stream",
     "text": [
      "---------------------\n",
      "GEN Loss: 5.8286786 5.484904\n",
      "Feature Matching Loss: 0.017594347 0.014407377\n",
      "RECON Loss: 0.012392087 0.0143729\n",
      "DIS Loss: 0.005936076 0.0065536224\n"
     ]
    },
    {
     "name": "stderr",
     "output_type": "stream",
     "text": [
      "epoch #498|  0%|                                                |ETA:   0:01:06"
     ]
    },
    {
     "name": "stdout",
     "output_type": "stream",
     "text": [
      "---------------------\n",
      "GEN Loss: 6.001075 5.6359167\n",
      "Feature Matching Loss: 0.017897852 0.014543474\n",
      "RECON Loss: 0.012189267 0.013999837\n",
      "DIS Loss: 0.005190833 0.0057722908\n"
     ]
    },
    {
     "name": "stderr",
     "output_type": "stream",
     "text": [
      "epoch #499|  0%|                                                |ETA:   0:01:07"
     ]
    },
    {
     "name": "stdout",
     "output_type": "stream",
     "text": [
      "---------------------\n",
      "GEN Loss: 6.160552 5.765913\n",
      "Feature Matching Loss: 0.018165303 0.014688373\n",
      "RECON Loss: 0.012008897 0.013705378\n",
      "DIS Loss: 0.0045953323 0.0051472727\n"
     ]
    },
    {
     "name": "stderr",
     "output_type": "stream",
     "text": [
      "epoch #500|  0%|                                                |ETA:   0:01:04"
     ]
    },
    {
     "name": "stdout",
     "output_type": "stream",
     "text": [
      "---------------------\n",
      "GEN Loss: 6.307293 5.8865137\n",
      "Feature Matching Loss: 0.018442223 0.014832534\n",
      "RECON Loss: 0.011842645 0.013475439\n",
      "DIS Loss: 0.004115817 0.0046283836\n"
     ]
    },
    {
     "name": "stderr",
     "output_type": "stream",
     "text": [
      "epoch #501|  0%|                                                |ETA:   0:01:04"
     ]
    },
    {
     "name": "stdout",
     "output_type": "stream",
     "text": [
      "---------------------\n",
      "GEN Loss: 6.437951 5.995573\n",
      "Feature Matching Loss: 0.018698769 0.014962202\n",
      "RECON Loss: 0.011690063 0.013306193\n",
      "DIS Loss: 0.003726939 0.0042005456\n"
     ]
    },
    {
     "name": "stderr",
     "output_type": "stream",
     "text": [
      "epoch #502|  0%|                                                |ETA:   0:01:12"
     ]
    },
    {
     "name": "stdout",
     "output_type": "stream",
     "text": [
      "---------------------\n",
      "GEN Loss: 6.5534453 6.099412\n",
      "Feature Matching Loss: 0.01894147 0.01508908\n",
      "RECON Loss: 0.011550586 0.013110953\n",
      "DIS Loss: 0.0033979984 0.0038293453\n"
     ]
    },
    {
     "name": "stderr",
     "output_type": "stream",
     "text": [
      "epoch #503|  0%|                                                |ETA:   0:01:05"
     ]
    },
    {
     "name": "stdout",
     "output_type": "stream",
     "text": [
      "---------------------\n",
      "GEN Loss: 6.6603928 6.200705\n",
      "Feature Matching Loss: 0.019187968 0.015212778\n",
      "RECON Loss: 0.011421024 0.012878886\n",
      "DIS Loss: 0.0031057852 0.0035175409\n"
     ]
    },
    {
     "name": "stderr",
     "output_type": "stream",
     "text": [
      "epoch #504|  0%|                                                |ETA:   0:01:06"
     ]
    },
    {
     "name": "stdout",
     "output_type": "stream",
     "text": [
      "---------------------\n",
      "GEN Loss: 6.7597513 6.2916994\n",
      "Feature Matching Loss: 0.01941077 0.015332206\n",
      "RECON Loss: 0.011300023 0.012709006\n",
      "DIS Loss: 0.0028527214 0.0032420056\n"
     ]
    },
    {
     "name": "stderr",
     "output_type": "stream",
     "text": [
      "epoch #505|  0%|                                                |ETA:   0:01:05"
     ]
    },
    {
     "name": "stdout",
     "output_type": "stream",
     "text": [
      "---------------------\n",
      "GEN Loss: 6.853426 6.380136\n",
      "Feature Matching Loss: 0.01961656 0.015450615\n",
      "RECON Loss: 0.011189274 0.012583202\n",
      "DIS Loss: 0.0026287972 0.0029970447\n"
     ]
    },
    {
     "name": "stderr",
     "output_type": "stream",
     "text": [
      "epoch #506|  0%|                                                |ETA:   0:01:09"
     ]
    },
    {
     "name": "stdout",
     "output_type": "stream",
     "text": [
      "---------------------\n",
      "GEN Loss: 6.935726 6.475155\n",
      "Feature Matching Loss: 0.019825578 0.015577132\n",
      "RECON Loss: 0.011085446 0.012404133\n",
      "DIS Loss: 0.002424914 0.0027776523\n"
     ]
    },
    {
     "name": "stderr",
     "output_type": "stream",
     "text": [
      "epoch #507|  0%|                                                |ETA:   0:01:23"
     ]
    },
    {
     "name": "stdout",
     "output_type": "stream",
     "text": [
      "---------------------\n",
      "GEN Loss: 7.014222 6.5702868\n",
      "Feature Matching Loss: 0.020029074 0.015707701\n",
      "RECON Loss: 0.010986502 0.012272413\n",
      "DIS Loss: 0.0022456858 0.0025784136\n"
     ]
    },
    {
     "name": "stderr",
     "output_type": "stream",
     "text": [
      "epoch #508|  0%|                                                |ETA:   0:01:14"
     ]
    },
    {
     "name": "stdout",
     "output_type": "stream",
     "text": [
      "---------------------\n",
      "GEN Loss: 7.0886364 6.6639686\n",
      "Feature Matching Loss: 0.020230744 0.015834682\n",
      "RECON Loss: 0.010893533 0.01213754\n",
      "DIS Loss: 0.0020819244 0.0024044274\n"
     ]
    },
    {
     "name": "stderr",
     "output_type": "stream",
     "text": [
      "epoch #509|  0%|                                                |ETA:   0:01:07"
     ]
    },
    {
     "name": "stdout",
     "output_type": "stream",
     "text": [
      "---------------------\n",
      "GEN Loss: 7.160885 6.753807\n",
      "Feature Matching Loss: 0.020436589 0.015963564\n",
      "RECON Loss: 0.0108062755 0.0120037105\n",
      "DIS Loss: 0.0019334316 0.0022455356\n"
     ]
    },
    {
     "name": "stderr",
     "output_type": "stream",
     "text": [
      "epoch #510|  0%|                                                |ETA:   0:01:09"
     ]
    },
    {
     "name": "stdout",
     "output_type": "stream",
     "text": [
      "---------------------\n",
      "GEN Loss: 7.2230577 6.84422\n",
      "Feature Matching Loss: 0.020638207 0.016081791\n",
      "RECON Loss: 0.0107227815 0.011916414\n",
      "DIS Loss: 0.0018029223 0.0020976772\n"
     ]
    },
    {
     "name": "stderr",
     "output_type": "stream",
     "text": [
      "epoch #511|  0%|                                                |ETA:   0:01:07"
     ]
    },
    {
     "name": "stdout",
     "output_type": "stream",
     "text": [
      "---------------------\n",
      "GEN Loss: 7.2866955 6.9322357\n",
      "Feature Matching Loss: 0.020815458 0.016213467\n",
      "RECON Loss: 0.01064461 0.01181075\n",
      "DIS Loss: 0.0016804615 0.0019617635\n"
     ]
    },
    {
     "name": "stderr",
     "output_type": "stream",
     "text": [
      "epoch #512|  0%|                                                |ETA:   0:01:03"
     ]
    },
    {
     "name": "stdout",
     "output_type": "stream",
     "text": [
      "---------------------\n",
      "GEN Loss: 7.3466187 7.0194397\n",
      "Feature Matching Loss: 0.020989647 0.016331533\n",
      "RECON Loss: 0.010570385 0.011735525\n",
      "DIS Loss: 0.0015720464 0.0018409523\n"
     ]
    },
    {
     "name": "stderr",
     "output_type": "stream",
     "text": [
      "epoch #513|  0%|                                                |ETA:   0:01:05"
     ]
    },
    {
     "name": "stdout",
     "output_type": "stream",
     "text": [
      "---------------------\n",
      "GEN Loss: 7.408179 7.106598\n",
      "Feature Matching Loss: 0.021153903 0.0164482\n",
      "RECON Loss: 0.010499492 0.01167763\n",
      "DIS Loss: 0.0014727863 0.0017304368\n"
     ]
    },
    {
     "name": "stderr",
     "output_type": "stream",
     "text": [
      "epoch #514|  0%|                                                |ETA:   0:01:11"
     ]
    },
    {
     "name": "stdout",
     "output_type": "stream",
     "text": [
      "---------------------\n",
      "GEN Loss: 7.4634733 7.186851\n",
      "Feature Matching Loss: 0.021304172 0.016564429\n",
      "RECON Loss: 0.010430354 0.01159885\n",
      "DIS Loss: 0.0013825013 0.0016279886\n"
     ]
    },
    {
     "name": "stderr",
     "output_type": "stream",
     "text": [
      "epoch #515|  0%|                                                |ETA:   0:01:06"
     ]
    },
    {
     "name": "stdout",
     "output_type": "stream",
     "text": [
      "---------------------\n",
      "GEN Loss: 7.5183935 7.2648363\n",
      "Feature Matching Loss: 0.021452663 0.016688708\n",
      "RECON Loss: 0.010362624 0.011545475\n",
      "DIS Loss: 0.0012992328 0.001533149\n"
     ]
    },
    {
     "name": "stderr",
     "output_type": "stream",
     "text": [
      "epoch #516|  0%|                                                |ETA:   0:01:08"
     ]
    },
    {
     "name": "stdout",
     "output_type": "stream",
     "text": [
      "---------------------\n",
      "GEN Loss: 7.5775437 7.342903\n",
      "Feature Matching Loss: 0.02159258 0.016805993\n",
      "RECON Loss: 0.0103008095 0.011466304\n",
      "DIS Loss: 0.0012211958 0.0014461468\n"
     ]
    },
    {
     "name": "stderr",
     "output_type": "stream",
     "text": [
      "epoch #517|  0%|                                                |ETA:   0:01:06"
     ]
    },
    {
     "name": "stdout",
     "output_type": "stream",
     "text": [
      "---------------------\n",
      "GEN Loss: 7.637706 7.4194307\n",
      "Feature Matching Loss: 0.021734595 0.016932862\n",
      "RECON Loss: 0.010238808 0.011420105\n",
      "DIS Loss: 0.0011507233 0.0013652026\n"
     ]
    },
    {
     "name": "stderr",
     "output_type": "stream",
     "text": [
      "epoch #518|  0%|                                                |ETA:   0:01:19"
     ]
    },
    {
     "name": "stdout",
     "output_type": "stream",
     "text": [
      "---------------------\n",
      "GEN Loss: 7.695429 7.4887366\n",
      "Feature Matching Loss: 0.021890193 0.017047837\n",
      "RECON Loss: 0.010181211 0.011393122\n",
      "DIS Loss: 0.0010844907 0.001293517\n"
     ]
    },
    {
     "name": "stderr",
     "output_type": "stream",
     "text": [
      "epoch #519|  0%|                                                |ETA:   0:01:09"
     ]
    },
    {
     "name": "stdout",
     "output_type": "stream",
     "text": [
      "---------------------\n",
      "GEN Loss: 7.754802 7.557088\n",
      "Feature Matching Loss: 0.022049125 0.017158004\n",
      "RECON Loss: 0.010128994 0.011315962\n",
      "DIS Loss: 0.0010221069 0.0012233648\n"
     ]
    },
    {
     "name": "stderr",
     "output_type": "stream",
     "text": [
      "epoch #520|  0%|                                                |ETA:   0:01:05"
     ]
    },
    {
     "name": "stdout",
     "output_type": "stream",
     "text": [
      "---------------------\n",
      "GEN Loss: 7.811166 7.6268225\n",
      "Feature Matching Loss: 0.022215597 0.017265204\n",
      "RECON Loss: 0.010073917 0.011285992\n",
      "DIS Loss: 0.0009654192 0.0011589612\n"
     ]
    },
    {
     "name": "stderr",
     "output_type": "stream",
     "text": [
      "epoch #521|  0%|                                                |ETA:   0:01:03"
     ]
    },
    {
     "name": "stdout",
     "output_type": "stream",
     "text": [
      "---------------------\n",
      "GEN Loss: 7.8718534 7.6901217\n",
      "Feature Matching Loss: 0.022352742 0.017370902\n",
      "RECON Loss: 0.010022141 0.011198869\n",
      "DIS Loss: 0.0009145634 0.0010977874\n"
     ]
    },
    {
     "name": "stderr",
     "output_type": "stream",
     "text": [
      "epoch #522|  0%|                                                |ETA:   0:01:10"
     ]
    },
    {
     "name": "stdout",
     "output_type": "stream",
     "text": [
      "---------------------\n",
      "GEN Loss: 7.93412 7.7491097\n",
      "Feature Matching Loss: 0.022492502 0.017489634\n",
      "RECON Loss: 0.009982852 0.011171341\n",
      "DIS Loss: 0.0008650176 0.0010418316\n"
     ]
    },
    {
     "name": "stderr",
     "output_type": "stream",
     "text": [
      "epoch #523|  0%|                                                |ETA:   0:01:06"
     ]
    },
    {
     "name": "stdout",
     "output_type": "stream",
     "text": [
      "---------------------\n",
      "GEN Loss: 7.984748 7.805333\n",
      "Feature Matching Loss: 0.022600945 0.017597612\n",
      "RECON Loss: 0.00993045 0.0111934645\n",
      "DIS Loss: 0.00082150864 0.000993196\n"
     ]
    },
    {
     "name": "stderr",
     "output_type": "stream",
     "text": [
      "epoch #524|  0%|                                                |ETA:   0:01:06"
     ]
    },
    {
     "name": "stdout",
     "output_type": "stream",
     "text": [
      "---------------------\n",
      "GEN Loss: 8.034889 7.8643494\n",
      "Feature Matching Loss: 0.022759994 0.017729647\n",
      "RECON Loss: 0.009898074 0.011201663\n",
      "DIS Loss: 0.0007819319 0.0009415187\n"
     ]
    },
    {
     "name": "stderr",
     "output_type": "stream",
     "text": [
      "epoch #525|  0%|                                                |ETA:   0:01:04"
     ]
    },
    {
     "name": "stdout",
     "output_type": "stream",
     "text": [
      "---------------------\n",
      "GEN Loss: 8.082915 7.913463\n",
      "Feature Matching Loss: 0.022894438 0.017818779\n",
      "RECON Loss: 0.009841535 0.011091225\n",
      "DIS Loss: 0.00074597367 0.00089838856\n"
     ]
    },
    {
     "name": "stderr",
     "output_type": "stream",
     "text": [
      "epoch #526|  0%|                                                |ETA:   0:01:04"
     ]
    },
    {
     "name": "stdout",
     "output_type": "stream",
     "text": [
      "---------------------\n",
      "GEN Loss: 8.112648 7.9595265\n",
      "Feature Matching Loss: 0.022951122 0.017918434\n",
      "RECON Loss: 0.009800199 0.011091153\n",
      "DIS Loss: 0.00071523595 0.0008569409\n"
     ]
    },
    {
     "name": "stderr",
     "output_type": "stream",
     "text": [
      "epoch #527|  0%|                                                |ETA:   0:01:04"
     ]
    },
    {
     "name": "stdout",
     "output_type": "stream",
     "text": [
      "---------------------\n",
      "GEN Loss: 8.154615 8.02597\n",
      "Feature Matching Loss: 0.023163343 0.018092308\n",
      "RECON Loss: 0.009771207 0.011195692\n",
      "DIS Loss: 0.0006839077 0.00081271806\n"
     ]
    },
    {
     "name": "stderr",
     "output_type": "stream",
     "text": [
      "epoch #528|  0%|                                                |ETA:   0:01:04"
     ]
    },
    {
     "name": "stdout",
     "output_type": "stream",
     "text": [
      "---------------------\n",
      "GEN Loss: 8.198595 8.031279\n",
      "Feature Matching Loss: 0.023369228 0.017982336\n",
      "RECON Loss: 0.009745183 0.0113861915\n",
      "DIS Loss: 0.000653954 0.0008042375\n"
     ]
    },
    {
     "name": "stderr",
     "output_type": "stream",
     "text": [
      "epoch #529|  0%|                                                |ETA:   0:01:16"
     ]
    },
    {
     "name": "stdout",
     "output_type": "stream",
     "text": [
      "---------------------\n",
      "GEN Loss: 8.183672 8.078885\n",
      "Feature Matching Loss: 0.022982106 0.018270567\n",
      "RECON Loss: 0.009671531 0.010996893\n",
      "DIS Loss: 0.0006526413 0.0007710173\n"
     ]
    },
    {
     "name": "stderr",
     "output_type": "stream",
     "text": [
      "epoch #530|  0%|                                                |ETA:   0:01:08"
     ]
    },
    {
     "name": "stdout",
     "output_type": "stream",
     "text": [
      "---------------------\n",
      "GEN Loss: 8.134197 8.035118\n",
      "Feature Matching Loss: 0.023001075 0.017890174\n",
      "RECON Loss: 0.009729946 0.011465876\n",
      "DIS Loss: 0.0007408735 0.00088229636\n"
     ]
    },
    {
     "name": "stderr",
     "output_type": "stream",
     "text": [
      "epoch #531|  0%|                                                |ETA:   0:01:18"
     ]
    },
    {
     "name": "stdout",
     "output_type": "stream",
     "text": [
      "---------------------\n",
      "GEN Loss: 0.73067105 0.6000887\n",
      "Feature Matching Loss: 0.02055633 0.021390496\n",
      "RECON Loss: 0.015620099 0.016039593\n",
      "DIS Loss: 0.78772974 0.77119696\n"
     ]
    },
    {
     "name": "stderr",
     "output_type": "stream",
     "text": [
      "epoch #532|  0%|                                                |ETA:   0:01:04"
     ]
    },
    {
     "name": "stdout",
     "output_type": "stream",
     "text": [
      "---------------------\n",
      "GEN Loss: 0.7785883 0.66052306\n",
      "Feature Matching Loss: 0.014041435 0.016425036\n",
      "RECON Loss: 0.012143309 0.012998099\n",
      "DIS Loss: 0.71250534 0.7063598\n"
     ]
    },
    {
     "name": "stderr",
     "output_type": "stream",
     "text": [
      "epoch #533|  0%|                                                |ETA:   0:01:05"
     ]
    },
    {
     "name": "stdout",
     "output_type": "stream",
     "text": [
      "---------------------\n",
      "GEN Loss: 0.7565937 0.685421\n",
      "Feature Matching Loss: 0.013596379 0.014602656\n",
      "RECON Loss: 0.011165193 0.011458153\n",
      "DIS Loss: 0.6866594 0.69128776\n"
     ]
    },
    {
     "name": "stderr",
     "output_type": "stream",
     "text": [
      "epoch #534|  0%|                                                |ETA:   0:01:08"
     ]
    },
    {
     "name": "stdout",
     "output_type": "stream",
     "text": [
      "---------------------\n",
      "GEN Loss: 0.75200385 0.6922065\n",
      "Feature Matching Loss: 0.014188546 0.01325107\n",
      "RECON Loss: 0.010681833 0.011269598\n",
      "DIS Loss: 0.6782265 0.679283\n"
     ]
    },
    {
     "name": "stderr",
     "output_type": "stream",
     "text": [
      "epoch #535|  0%|                                                |ETA:   0:01:07"
     ]
    },
    {
     "name": "stdout",
     "output_type": "stream",
     "text": [
      "---------------------\n",
      "GEN Loss: 0.7437103 0.69426847\n",
      "Feature Matching Loss: 0.012987152 0.014670992\n",
      "RECON Loss: 0.010503754 0.011423158\n",
      "DIS Loss: 0.6669984 0.67743176\n"
     ]
    },
    {
     "name": "stderr",
     "output_type": "stream",
     "text": [
      "epoch #536|  0%|                                                |ETA:   0:01:04"
     ]
    },
    {
     "name": "stdout",
     "output_type": "stream",
     "text": [
      "---------------------\n",
      "GEN Loss: 0.8432892 0.7150365\n",
      "Feature Matching Loss: 0.015140317 0.015067089\n",
      "RECON Loss: 0.010726741 0.012705147\n",
      "DIS Loss: 0.6214771 0.6687113\n"
     ]
    },
    {
     "name": "stderr",
     "output_type": "stream",
     "text": [
      "epoch #537|  0%|                                                |ETA:   0:01:09"
     ]
    },
    {
     "name": "stdout",
     "output_type": "stream",
     "text": [
      "---------------------\n",
      "GEN Loss: 1.9752843 0.7015467\n",
      "Feature Matching Loss: 0.04622657 0.012658034\n",
      "RECON Loss: 0.013684778 0.018391576\n",
      "DIS Loss: 0.8623064 0.6680913\n"
     ]
    },
    {
     "name": "stderr",
     "output_type": "stream",
     "text": [
      "epoch #538|  0%|                                                |ETA:   0:01:06"
     ]
    },
    {
     "name": "stdout",
     "output_type": "stream",
     "text": [
      "---------------------\n",
      "GEN Loss: 1.9562182 0.6768348\n",
      "Feature Matching Loss: 0.03113196 0.017266857\n",
      "RECON Loss: 0.013405081 0.015754055\n",
      "DIS Loss: 0.40664873 0.6801246\n"
     ]
    },
    {
     "name": "stderr",
     "output_type": "stream",
     "text": [
      "epoch #539|  0%|                                                |ETA:   0:01:06"
     ]
    },
    {
     "name": "stdout",
     "output_type": "stream",
     "text": [
      "---------------------\n",
      "GEN Loss: 1.4190454 0.7124783\n",
      "Feature Matching Loss: 0.03571322 0.015153173\n",
      "RECON Loss: 0.013694936 0.016599346\n",
      "DIS Loss: 0.30363312 0.6747036\n"
     ]
    },
    {
     "name": "stderr",
     "output_type": "stream",
     "text": [
      "epoch #540|  0%|                                                |ETA:   0:01:01"
     ]
    },
    {
     "name": "stdout",
     "output_type": "stream",
     "text": [
      "---------------------\n",
      "GEN Loss: 2.50101 0.75753814\n",
      "Feature Matching Loss: 0.03233684 0.013069477\n",
      "RECON Loss: 0.013321522 0.01574737\n",
      "DIS Loss: 0.15586899 0.66187406\n"
     ]
    },
    {
     "name": "stderr",
     "output_type": "stream",
     "text": [
      "epoch #541|  0%|                                                |ETA:   0:01:08"
     ]
    },
    {
     "name": "stdout",
     "output_type": "stream",
     "text": [
      "---------------------\n",
      "GEN Loss: 3.681595 0.72466254\n",
      "Feature Matching Loss: 0.026403466 0.015964445\n",
      "RECON Loss: 0.01321579 0.01586822\n",
      "DIS Loss: 0.10937146 0.65736246\n"
     ]
    },
    {
     "name": "stderr",
     "output_type": "stream",
     "text": [
      "epoch #542|  0%|                                                |ETA:   0:01:02"
     ]
    },
    {
     "name": "stdout",
     "output_type": "stream",
     "text": [
      "---------------------\n",
      "GEN Loss: 3.465197 0.69848514\n",
      "Feature Matching Loss: 0.021048088 0.014515456\n",
      "RECON Loss: 0.013387367 0.01563305\n",
      "DIS Loss: 0.055343565 0.6434641\n"
     ]
    },
    {
     "name": "stderr",
     "output_type": "stream",
     "text": [
      "epoch #543|  0%|                                                |ETA:   0:01:02"
     ]
    },
    {
     "name": "stdout",
     "output_type": "stream",
     "text": [
      "---------------------\n",
      "GEN Loss: 4.620613 0.9233413\n",
      "Feature Matching Loss: 0.018092554 0.015224516\n",
      "RECON Loss: 0.013416938 0.015013827\n",
      "DIS Loss: 0.042576984 0.60440636\n"
     ]
    },
    {
     "name": "stderr",
     "output_type": "stream",
     "text": [
      "epoch #544|  0%|                                                |ETA:   0:01:08"
     ]
    },
    {
     "name": "stdout",
     "output_type": "stream",
     "text": [
      "---------------------\n",
      "GEN Loss: 4.903118 0.4984346\n",
      "Feature Matching Loss: 0.016844481 0.024169788\n",
      "RECON Loss: 0.014338325 0.015238954\n",
      "DIS Loss: 0.024128303 0.7237486\n"
     ]
    },
    {
     "name": "stderr",
     "output_type": "stream",
     "text": [
      "epoch #545|  0%|                                                |ETA:   0:01:02"
     ]
    },
    {
     "name": "stdout",
     "output_type": "stream",
     "text": [
      "---------------------\n",
      "GEN Loss: 4.2723536 1.8443311\n",
      "Feature Matching Loss: 0.016009606 0.030642666\n",
      "RECON Loss: 0.015667606 0.015807506\n",
      "DIS Loss: 0.018638011 0.74654514\n"
     ]
    },
    {
     "name": "stderr",
     "output_type": "stream",
     "text": [
      "epoch #546|  0%|                                                |ETA:   0:01:08"
     ]
    },
    {
     "name": "stdout",
     "output_type": "stream",
     "text": [
      "---------------------\n",
      "GEN Loss: 4.792893 1.8927293\n",
      "Feature Matching Loss: 0.015737845 0.033158503\n",
      "RECON Loss: 0.01724351 0.01600394\n",
      "DIS Loss: 0.012013996 0.45082292\n"
     ]
    },
    {
     "name": "stderr",
     "output_type": "stream",
     "text": [
      "epoch #547|  0%|                                                |ETA:   0:01:02"
     ]
    },
    {
     "name": "stdout",
     "output_type": "stream",
     "text": [
      "---------------------\n",
      "GEN Loss: 5.1586804 1.0591917\n",
      "Feature Matching Loss: 0.016231157 0.03478733\n",
      "RECON Loss: 0.016209986 0.015892582\n",
      "DIS Loss: 0.009044357 0.40306878\n"
     ]
    },
    {
     "name": "stderr",
     "output_type": "stream",
     "text": [
      "epoch #548|  0%|                                                |ETA:   0:01:04"
     ]
    },
    {
     "name": "stdout",
     "output_type": "stream",
     "text": [
      "---------------------\n",
      "GEN Loss: 5.461609 2.093892\n",
      "Feature Matching Loss: 0.016246822 0.03391698\n",
      "RECON Loss: 0.016188608 0.015108392\n",
      "DIS Loss: 0.0072618816 0.22143835\n"
     ]
    },
    {
     "name": "stderr",
     "output_type": "stream",
     "text": [
      "epoch #549|  0%|                                                |ETA:   0:01:04"
     ]
    },
    {
     "name": "stdout",
     "output_type": "stream",
     "text": [
      "---------------------\n",
      "GEN Loss: 5.653182 3.0153363\n",
      "Feature Matching Loss: 0.016593607 0.031345118\n",
      "RECON Loss: 0.015998691 0.014753187\n",
      "DIS Loss: 0.0061466796 0.19528794\n"
     ]
    },
    {
     "name": "stderr",
     "output_type": "stream",
     "text": [
      "epoch #550|  0%|                                                |ETA:   0:01:02"
     ]
    },
    {
     "name": "stdout",
     "output_type": "stream",
     "text": [
      "---------------------\n",
      "GEN Loss: 5.8347025 2.7112129\n",
      "Feature Matching Loss: 0.01667915 0.0269137\n",
      "RECON Loss: 0.015842404 0.014516693\n",
      "DIS Loss: 0.005269495 0.11533962\n"
     ]
    },
    {
     "name": "stderr",
     "output_type": "stream",
     "text": [
      "epoch #551|  0%|                                                |ETA:   0:01:03"
     ]
    },
    {
     "name": "stdout",
     "output_type": "stream",
     "text": [
      "---------------------\n",
      "GEN Loss: 5.9937096 3.562868\n",
      "Feature Matching Loss: 0.017004745 0.019952472\n",
      "RECON Loss: 0.015208169 0.013908027\n",
      "DIS Loss: 0.004646534 0.07916193\n"
     ]
    },
    {
     "name": "stderr",
     "output_type": "stream",
     "text": [
      "epoch #552|  0%|                                                |ETA:   0:01:15"
     ]
    },
    {
     "name": "stdout",
     "output_type": "stream",
     "text": [
      "---------------------\n",
      "GEN Loss: 6.1211615 3.7608676\n",
      "Feature Matching Loss: 0.017199593 0.017299172\n",
      "RECON Loss: 0.014719642 0.01363538\n",
      "DIS Loss: 0.004146011 0.05239314\n"
     ]
    },
    {
     "name": "stderr",
     "output_type": "stream",
     "text": [
      "epoch #553|  0%|                                                |ETA:   0:01:12"
     ]
    },
    {
     "name": "stdout",
     "output_type": "stream",
     "text": [
      "---------------------\n",
      "GEN Loss: 6.2551813 4.1936007\n",
      "Feature Matching Loss: 0.017420156 0.015791718\n",
      "RECON Loss: 0.014119856 0.013296112\n",
      "DIS Loss: 0.003731881 0.035719577\n"
     ]
    },
    {
     "name": "stderr",
     "output_type": "stream",
     "text": [
      "epoch #554|  0%|                                                |ETA:   0:01:00"
     ]
    },
    {
     "name": "stdout",
     "output_type": "stream",
     "text": [
      "---------------------\n",
      "GEN Loss: 6.3880196 4.318904\n",
      "Feature Matching Loss: 0.017661568 0.014418901\n",
      "RECON Loss: 0.013544819 0.012982192\n",
      "DIS Loss: 0.0033592687 0.023931453\n"
     ]
    },
    {
     "name": "stderr",
     "output_type": "stream",
     "text": [
      "epoch #555|  0%|                                                |ETA:   0:01:02"
     ]
    },
    {
     "name": "stdout",
     "output_type": "stream",
     "text": [
      "---------------------\n",
      "GEN Loss: 6.514876 4.933978\n",
      "Feature Matching Loss: 0.017851036 0.014111411\n",
      "RECON Loss: 0.013101615 0.012705359\n",
      "DIS Loss: 0.0030446108 0.017353859\n"
     ]
    },
    {
     "name": "stderr",
     "output_type": "stream",
     "text": [
      "epoch #556|  0%|                                                |ETA:   0:01:15"
     ]
    },
    {
     "name": "stdout",
     "output_type": "stream",
     "text": [
      "---------------------\n",
      "GEN Loss: 6.625593 5.0098433\n",
      "Feature Matching Loss: 0.018049907 0.014002685\n",
      "RECON Loss: 0.012718796 0.012478517\n",
      "DIS Loss: 0.0027710274 0.0133895725\n"
     ]
    },
    {
     "name": "stderr",
     "output_type": "stream",
     "text": [
      "epoch #557|  0%|                                                |ETA:   0:01:04"
     ]
    },
    {
     "name": "stdout",
     "output_type": "stream",
     "text": [
      "---------------------\n",
      "GEN Loss: 6.7281847 4.9450035\n",
      "Feature Matching Loss: 0.018264942 0.0140736\n",
      "RECON Loss: 0.012414617 0.012296382\n",
      "DIS Loss: 0.002534955 0.011044035\n"
     ]
    },
    {
     "name": "stderr",
     "output_type": "stream",
     "text": [
      "epoch #558|  0%|                                                |ETA:   0:01:06"
     ]
    },
    {
     "name": "stdout",
     "output_type": "stream",
     "text": [
      "---------------------\n",
      "GEN Loss: 6.8217907 5.054842\n",
      "Feature Matching Loss: 0.018465549 0.014135959\n",
      "RECON Loss: 0.012173956 0.012126594\n",
      "DIS Loss: 0.0023256252 0.009290426\n"
     ]
    },
    {
     "name": "stderr",
     "output_type": "stream",
     "text": [
      "epoch #559|  0%|                                                |ETA:   0:01:10"
     ]
    },
    {
     "name": "stdout",
     "output_type": "stream",
     "text": [
      "---------------------\n",
      "GEN Loss: 6.906029 5.1934805\n",
      "Feature Matching Loss: 0.01866013 0.014233707\n",
      "RECON Loss: 0.011967419 0.011975786\n",
      "DIS Loss: 0.0021460988 0.007907832\n"
     ]
    },
    {
     "name": "stderr",
     "output_type": "stream",
     "text": [
      "epoch #560|  0%|                                                |ETA:   0:01:03"
     ]
    },
    {
     "name": "stdout",
     "output_type": "stream",
     "text": [
      "---------------------\n",
      "GEN Loss: 6.98658 5.3089952\n",
      "Feature Matching Loss: 0.01884817 0.014325596\n",
      "RECON Loss: 0.011784321 0.011836532\n",
      "DIS Loss: 0.0019826326 0.006893685\n"
     ]
    },
    {
     "name": "stderr",
     "output_type": "stream",
     "text": [
      "epoch #561|  0%|                                                |ETA:   0:01:02"
     ]
    },
    {
     "name": "stdout",
     "output_type": "stream",
     "text": [
      "---------------------\n",
      "GEN Loss: 7.062723 5.4063044\n",
      "Feature Matching Loss: 0.019029334 0.014420333\n",
      "RECON Loss: 0.01161994 0.011715117\n",
      "DIS Loss: 0.0018376829 0.0061040446\n"
     ]
    },
    {
     "name": "stderr",
     "output_type": "stream",
     "text": [
      "epoch #562|  0%|                                                |ETA:   0:01:02"
     ]
    },
    {
     "name": "stdout",
     "output_type": "stream",
     "text": [
      "---------------------\n",
      "GEN Loss: 7.1403294 5.5098886\n",
      "Feature Matching Loss: 0.019204881 0.0145376865\n",
      "RECON Loss: 0.011473837 0.011602109\n",
      "DIS Loss: 0.0017047737 0.0054269936\n"
     ]
    },
    {
     "name": "stderr",
     "output_type": "stream",
     "text": [
      "epoch #563|  0%|                                                |ETA:   0:01:03"
     ]
    },
    {
     "name": "stdout",
     "output_type": "stream",
     "text": [
      "---------------------\n",
      "GEN Loss: 7.2084 5.625717\n",
      "Feature Matching Loss: 0.019374987 0.014656628\n",
      "RECON Loss: 0.011340138 0.011495999\n",
      "DIS Loss: 0.0015854554 0.0048332443\n"
     ]
    },
    {
     "name": "stderr",
     "output_type": "stream",
     "text": [
      "epoch #564|  0%|                                                |ETA:   0:01:07"
     ]
    },
    {
     "name": "stdout",
     "output_type": "stream",
     "text": [
      "---------------------\n",
      "GEN Loss: 7.275666 5.744884\n",
      "Feature Matching Loss: 0.01953459 0.014771301\n",
      "RECON Loss: 0.011215369 0.011394985\n",
      "DIS Loss: 0.0014798245 0.0043351417\n"
     ]
    },
    {
     "name": "stderr",
     "output_type": "stream",
     "text": [
      "epoch #565|  0%|                                                |ETA:   0:01:01"
     ]
    },
    {
     "name": "stdout",
     "output_type": "stream",
     "text": [
      "---------------------\n",
      "GEN Loss: 7.3397145 5.861291\n",
      "Feature Matching Loss: 0.019681958 0.014881421\n",
      "RECON Loss: 0.011102954 0.011298224\n",
      "DIS Loss: 0.0013844349 0.00391721\n"
     ]
    },
    {
     "name": "stderr",
     "output_type": "stream",
     "text": [
      "epoch #566|  0%|                                                |ETA:   0:01:00"
     ]
    },
    {
     "name": "stdout",
     "output_type": "stream",
     "text": [
      "---------------------\n",
      "GEN Loss: 7.4041266 5.9804068\n",
      "Feature Matching Loss: 0.019859115 0.014990584\n",
      "RECON Loss: 0.010995558 0.011210937\n",
      "DIS Loss: 0.001296161 0.0035588616\n"
     ]
    },
    {
     "name": "stderr",
     "output_type": "stream",
     "text": [
      "epoch #567|  0%|                                                |ETA:   0:01:08"
     ]
    },
    {
     "name": "stdout",
     "output_type": "stream",
     "text": [
      "---------------------\n",
      "GEN Loss: 7.463148 6.088887\n",
      "Feature Matching Loss: 0.02001169 0.0151013415\n",
      "RECON Loss: 0.010895949 0.011129534\n",
      "DIS Loss: 0.0012204099 0.003256756\n"
     ]
    },
    {
     "name": "stderr",
     "output_type": "stream",
     "text": [
      "epoch #568|  0%|                                                |ETA:   0:01:01"
     ]
    },
    {
     "name": "stdout",
     "output_type": "stream",
     "text": [
      "---------------------\n",
      "GEN Loss: 7.521984 6.192963\n",
      "Feature Matching Loss: 0.020159468 0.015203178\n",
      "RECON Loss: 0.010800495 0.01105133\n",
      "DIS Loss: 0.0011474652 0.00299684\n"
     ]
    },
    {
     "name": "stderr",
     "output_type": "stream",
     "text": [
      "epoch #569|  0%|                                                |ETA:   0:01:02"
     ]
    },
    {
     "name": "stdout",
     "output_type": "stream",
     "text": [
      "---------------------\n",
      "GEN Loss: 7.580388 6.294855\n",
      "Feature Matching Loss: 0.020310482 0.015305384\n",
      "RECON Loss: 0.010712407 0.010979898\n",
      "DIS Loss: 0.0010806445 0.0027699044\n"
     ]
    },
    {
     "name": "stderr",
     "output_type": "stream",
     "text": [
      "epoch #570|  0%|                                                |ETA:   0:01:10"
     ]
    },
    {
     "name": "stdout",
     "output_type": "stream",
     "text": [
      "---------------------\n",
      "GEN Loss: 7.6409087 6.3845897\n",
      "Feature Matching Loss: 0.020466466 0.01539004\n",
      "RECON Loss: 0.010628736 0.01091028\n",
      "DIS Loss: 0.0010180897 0.0025770967\n"
     ]
    },
    {
     "name": "stderr",
     "output_type": "stream",
     "text": [
      "epoch #571|  0%|                                                |ETA:   0:01:01"
     ]
    },
    {
     "name": "stdout",
     "output_type": "stream",
     "text": [
      "---------------------\n",
      "GEN Loss: 7.6978793 6.472485\n",
      "Feature Matching Loss: 0.020616505 0.015482271\n",
      "RECON Loss: 0.010549698 0.010845784\n",
      "DIS Loss: 0.0009604429 0.0024027398\n"
     ]
    },
    {
     "name": "stderr",
     "output_type": "stream",
     "text": [
      "epoch #572|  0%|                                                |ETA:   0:01:03"
     ]
    },
    {
     "name": "stdout",
     "output_type": "stream",
     "text": [
      "---------------------\n",
      "GEN Loss: 7.75502 6.5552435\n",
      "Feature Matching Loss: 0.020743437 0.015570479\n",
      "RECON Loss: 0.010474568 0.010782803\n",
      "DIS Loss: 0.0009079634 0.0022469806\n"
     ]
    },
    {
     "name": "stderr",
     "output_type": "stream",
     "text": [
      "epoch #573|  0%|                                                |ETA:   0:01:00"
     ]
    },
    {
     "name": "stdout",
     "output_type": "stream",
     "text": [
      "---------------------\n",
      "GEN Loss: 7.810262 6.630375\n",
      "Feature Matching Loss: 0.020881526 0.015658207\n",
      "RECON Loss: 0.010404847 0.010722491\n",
      "DIS Loss: 0.00085954287 0.0021051536\n"
     ]
    },
    {
     "name": "stderr",
     "output_type": "stream",
     "text": [
      "epoch #574|  0%|                                                |ETA:   0:00:57"
     ]
    },
    {
     "name": "stdout",
     "output_type": "stream",
     "text": [
      "---------------------\n",
      "GEN Loss: 7.867245 6.7041974\n",
      "Feature Matching Loss: 0.02102852 0.01574158\n",
      "RECON Loss: 0.010337563 0.010664414\n",
      "DIS Loss: 0.00081542856 0.0019717973\n"
     ]
    },
    {
     "name": "stderr",
     "output_type": "stream",
     "text": [
      "epoch #575|  0%|                                                |ETA:   0:01:02"
     ]
    },
    {
     "name": "stdout",
     "output_type": "stream",
     "text": [
      "---------------------\n",
      "GEN Loss: 7.9161425 6.7747\n",
      "Feature Matching Loss: 0.021155056 0.015816217\n",
      "RECON Loss: 0.010272349 0.010611281\n",
      "DIS Loss: 0.0007762966 0.0018571954\n"
     ]
    },
    {
     "name": "stderr",
     "output_type": "stream",
     "text": [
      "epoch #576|  0%|                                                |ETA:   0:01:06"
     ]
    },
    {
     "name": "stdout",
     "output_type": "stream",
     "text": [
      "---------------------\n",
      "GEN Loss: 7.9741044 6.8393598\n",
      "Feature Matching Loss: 0.021276603 0.015886027\n",
      "RECON Loss: 0.010211121 0.010558295\n",
      "DIS Loss: 0.00073939626 0.0017562113\n"
     ]
    },
    {
     "name": "stderr",
     "output_type": "stream",
     "text": [
      "epoch #577|  0%|                                                |ETA:   0:01:04"
     ]
    },
    {
     "name": "stdout",
     "output_type": "stream",
     "text": [
      "---------------------\n",
      "GEN Loss: 8.034808 6.9006248\n",
      "Feature Matching Loss: 0.02142417 0.015952587\n",
      "RECON Loss: 0.0101530235 0.010511592\n",
      "DIS Loss: 0.0007021401 0.0016650273\n"
     ]
    },
    {
     "name": "stderr",
     "output_type": "stream",
     "text": [
      "epoch #578|  0%|                                                |ETA:   0:01:02"
     ]
    },
    {
     "name": "stdout",
     "output_type": "stream",
     "text": [
      "---------------------\n",
      "GEN Loss: 8.09444 6.964595\n",
      "Feature Matching Loss: 0.021567892 0.016013812\n",
      "RECON Loss: 0.010096169 0.010457321\n",
      "DIS Loss: 0.0006658137 0.001577056\n"
     ]
    },
    {
     "name": "stderr",
     "output_type": "stream",
     "text": [
      "epoch #579|  0%|                                                |ETA:   0:00:55"
     ]
    },
    {
     "name": "stdout",
     "output_type": "stream",
     "text": [
      "---------------------\n",
      "GEN Loss: 8.148454 7.022167\n",
      "Feature Matching Loss: 0.02170992 0.016078575\n",
      "RECON Loss: 0.0100399535 0.01041306\n",
      "DIS Loss: 0.0006347248 0.0015007097\n"
     ]
    },
    {
     "name": "stderr",
     "output_type": "stream",
     "text": [
      "epoch #580|  0%|                                                |ETA:   0:00:55"
     ]
    },
    {
     "name": "stdout",
     "output_type": "stream",
     "text": [
      "---------------------\n",
      "GEN Loss: 8.191287 7.0859795\n",
      "Feature Matching Loss: 0.021834593 0.016146813\n",
      "RECON Loss: 0.009986658 0.010370378\n",
      "DIS Loss: 0.0006053819 0.00142254\n"
     ]
    },
    {
     "name": "stderr",
     "output_type": "stream",
     "text": [
      "epoch #581|  0%|                                                |ETA:   0:00:57"
     ]
    },
    {
     "name": "stdout",
     "output_type": "stream",
     "text": [
      "---------------------\n",
      "GEN Loss: 8.235553 7.1451607\n",
      "Feature Matching Loss: 0.021954805 0.01621607\n",
      "RECON Loss: 0.009935571 0.010336968\n",
      "DIS Loss: 0.00057804683 0.0013532845\n"
     ]
    },
    {
     "name": "stderr",
     "output_type": "stream",
     "text": [
      "epoch #582|N/A%|                                                |ETA:  --:--:--"
     ]
    },
    {
     "name": "stdout",
     "output_type": "stream",
     "text": [
      "---------------------\n"
     ]
    },
    {
     "name": "stderr",
     "output_type": "stream",
     "text": [
      "\r",
      "                                                                               \r",
      "\r",
      "epoch #582|  0%|                                                |ETA:   0:01:52"
     ]
    },
    {
     "name": "stdout",
     "output_type": "stream",
     "text": [
      "GEN Loss: 8.297913 7.2082524\n",
      "Feature Matching Loss: 0.022087064 0.016279213\n",
      "RECON Loss: 0.009885251 0.010289452\n",
      "DIS Loss: 0.0005514723 0.0012824514\n"
     ]
    },
    {
     "name": "stderr",
     "output_type": "stream",
     "text": [
      "epoch #583|  0%|                                                |ETA:   0:00:58"
     ]
    },
    {
     "name": "stdout",
     "output_type": "stream",
     "text": [
      "---------------------\n",
      "GEN Loss: 8.339755 7.269349\n",
      "Feature Matching Loss: 0.022186913 0.016348941\n",
      "RECON Loss: 0.009838383 0.010249844\n",
      "DIS Loss: 0.00052682316 0.0012175902\n"
     ]
    },
    {
     "name": "stderr",
     "output_type": "stream",
     "text": [
      "epoch #584|  0%|                                                |ETA:   0:00:57"
     ]
    },
    {
     "name": "stdout",
     "output_type": "stream",
     "text": [
      "---------------------\n",
      "GEN Loss: 8.396143 7.325646\n",
      "Feature Matching Loss: 0.022309702 0.016404118\n",
      "RECON Loss: 0.009789436 0.010203475\n",
      "DIS Loss: 0.0005057332 0.0011577037\n"
     ]
    },
    {
     "name": "stderr",
     "output_type": "stream",
     "text": [
      "epoch #585|  0%|                                                |ETA:   0:00:54"
     ]
    },
    {
     "name": "stdout",
     "output_type": "stream",
     "text": [
      "---------------------\n",
      "GEN Loss: 8.47134 7.3731036\n",
      "Feature Matching Loss: 0.022499518 0.016457208\n",
      "RECON Loss: 0.009741565 0.010179544\n",
      "DIS Loss: 0.0004819178 0.0011016205\n"
     ]
    },
    {
     "name": "stderr",
     "output_type": "stream",
     "text": [
      "epoch #586|  0%|                                                |ETA:   0:00:55"
     ]
    },
    {
     "name": "stdout",
     "output_type": "stream",
     "text": [
      "---------------------\n",
      "GEN Loss: 8.430342 7.420343\n",
      "Feature Matching Loss: 0.022457357 0.01653041\n",
      "RECON Loss: 0.009775283 0.010227809\n",
      "DIS Loss: 0.00048512366 0.0010536786\n"
     ]
    },
    {
     "name": "stderr",
     "output_type": "stream",
     "text": [
      "epoch #587|  0%|                                                |ETA:   0:00:55"
     ]
    },
    {
     "name": "stdout",
     "output_type": "stream",
     "text": [
      "---------------------\n",
      "GEN Loss: 8.284265 7.4659457\n",
      "Feature Matching Loss: 0.02192422 0.01654336\n",
      "RECON Loss: 0.009710674 0.010159753\n",
      "DIS Loss: 0.0006065633 0.0010072724\n"
     ]
    },
    {
     "name": "stderr",
     "output_type": "stream",
     "text": [
      "epoch #588|  0%|                                                |ETA:   0:00:58"
     ]
    },
    {
     "name": "stdout",
     "output_type": "stream",
     "text": [
      "---------------------\n",
      "GEN Loss: 0.8276821 6.1673617\n",
      "Feature Matching Loss: 0.03757912 0.014832795\n",
      "RECON Loss: 0.018290302 0.017335393\n",
      "DIS Loss: 1.0318404 0.004290028\n"
     ]
    },
    {
     "name": "stderr",
     "output_type": "stream",
     "text": [
      "epoch #589|  0%|                                                |ETA:   0:01:05"
     ]
    },
    {
     "name": "stdout",
     "output_type": "stream",
     "text": [
      "---------------------\n",
      "GEN Loss: 0.7851081 0.6654844\n",
      "Feature Matching Loss: 0.017164126 0.020176431\n",
      "RECON Loss: 0.013209431 0.014487179\n",
      "DIS Loss: 0.70539546 0.761825\n"
     ]
    },
    {
     "name": "stderr",
     "output_type": "stream",
     "text": [
      "epoch #590|  0%|                                                |ETA:   0:01:02"
     ]
    },
    {
     "name": "stdout",
     "output_type": "stream",
     "text": [
      "---------------------\n",
      "GEN Loss: 0.7286911 0.65655947\n",
      "Feature Matching Loss: 0.01643435 0.01389507\n",
      "RECON Loss: 0.012073065 0.013141347\n",
      "DIS Loss: 0.6797117 0.6870239\n"
     ]
    },
    {
     "name": "stderr",
     "output_type": "stream",
     "text": [
      "epoch #591|  0%|                                                |ETA:   0:00:56"
     ]
    },
    {
     "name": "stdout",
     "output_type": "stream",
     "text": [
      "---------------------\n",
      "GEN Loss: 0.64182717 0.6934835\n",
      "Feature Matching Loss: 0.032079022 0.013080133\n",
      "RECON Loss: 0.013176784 0.014259726\n",
      "DIS Loss: 0.7127079 0.6792426\n"
     ]
    },
    {
     "name": "stderr",
     "output_type": "stream",
     "text": [
      "epoch #592|  0%|                                                |ETA:   0:00:59"
     ]
    },
    {
     "name": "stdout",
     "output_type": "stream",
     "text": [
      "---------------------\n",
      "GEN Loss: 0.9546689 0.7267347\n",
      "Feature Matching Loss: 0.04098624 0.013729059\n",
      "RECON Loss: 0.013396764 0.014631055\n",
      "DIS Loss: 0.58850265 0.6564075\n"
     ]
    },
    {
     "name": "stderr",
     "output_type": "stream",
     "text": [
      "epoch #593|  0%|                                                |ETA:   0:00:59"
     ]
    },
    {
     "name": "stdout",
     "output_type": "stream",
     "text": [
      "---------------------\n",
      "GEN Loss: 3.2711592 0.705232\n",
      "Feature Matching Loss: 0.032506004 0.015324887\n",
      "RECON Loss: 0.01370918 0.015521569\n",
      "DIS Loss: 0.37171358 0.65522814\n"
     ]
    },
    {
     "name": "stderr",
     "output_type": "stream",
     "text": [
      "epoch #594|  0%|                                                |ETA:   0:01:00"
     ]
    },
    {
     "name": "stdout",
     "output_type": "stream",
     "text": [
      "---------------------\n",
      "GEN Loss: 2.7464066 0.84348077\n",
      "Feature Matching Loss: 0.035050362 0.017422924\n",
      "RECON Loss: 0.013869765 0.015477629\n",
      "DIS Loss: 0.14730683 0.62314457\n"
     ]
    },
    {
     "name": "stderr",
     "output_type": "stream",
     "text": [
      "epoch #595|N/A%|                                                |ETA:  --:--:--"
     ]
    },
    {
     "name": "stdout",
     "output_type": "stream",
     "text": [
      "---------------------\n"
     ]
    },
    {
     "name": "stderr",
     "output_type": "stream",
     "text": [
      "\r",
      "                                                                               \r",
      "\r",
      "epoch #595|  0%|                                                |ETA:   0:01:55"
     ]
    },
    {
     "name": "stdout",
     "output_type": "stream",
     "text": [
      "GEN Loss: 3.476764 1.0997047\n",
      "Feature Matching Loss: 0.028949277 0.031981394\n",
      "RECON Loss: 0.01625701 0.016921489\n",
      "DIS Loss: 0.07936012 0.5895919\n"
     ]
    },
    {
     "name": "stderr",
     "output_type": "stream",
     "text": [
      "epoch #596|  0%|                                                |ETA:   0:00:56"
     ]
    },
    {
     "name": "stdout",
     "output_type": "stream",
     "text": [
      "---------------------\n",
      "GEN Loss: 4.2152333 0.67829156\n",
      "Feature Matching Loss: 0.024901021 0.038338568\n",
      "RECON Loss: 0.01854955 0.01777957\n",
      "DIS Loss: 0.061265975 0.60528463\n"
     ]
    },
    {
     "name": "stderr",
     "output_type": "stream",
     "text": [
      "epoch #597|  0%|                                                |ETA:   0:00:57"
     ]
    },
    {
     "name": "stdout",
     "output_type": "stream",
     "text": [
      "---------------------\n",
      "GEN Loss: 3.876598 3.5210133\n",
      "Feature Matching Loss: 0.01977411 0.030571528\n",
      "RECON Loss: 0.018332941 0.017580919\n",
      "DIS Loss: 0.033327013 0.40031865\n"
     ]
    },
    {
     "name": "stderr",
     "output_type": "stream",
     "text": [
      "epoch #598|  0%|                                                |ETA:   0:00:58"
     ]
    },
    {
     "name": "stdout",
     "output_type": "stream",
     "text": [
      "---------------------\n",
      "GEN Loss: 4.1276855 2.8582463\n",
      "Feature Matching Loss: 0.016823923 0.036262587\n",
      "RECON Loss: 0.018051367 0.017131027\n",
      "DIS Loss: 0.024802485 0.15608856\n"
     ]
    },
    {
     "name": "stderr",
     "output_type": "stream",
     "text": [
      "epoch #599|  0%|                                                |ETA:   0:00:59"
     ]
    },
    {
     "name": "stdout",
     "output_type": "stream",
     "text": [
      "---------------------\n",
      "GEN Loss: 4.899083 1.7340024\n",
      "Feature Matching Loss: 0.01643623 0.03312306\n",
      "RECON Loss: 0.017203068 0.016181737\n",
      "DIS Loss: 0.014797097 0.19106252\n"
     ]
    },
    {
     "name": "stderr",
     "output_type": "stream",
     "text": [
      "epoch #600|  0%|                                                |ETA:   0:01:01"
     ]
    },
    {
     "name": "stdout",
     "output_type": "stream",
     "text": [
      "---------------------\n",
      "GEN Loss: 5.1795607 3.1836736\n",
      "Feature Matching Loss: 0.016651362 0.023684252\n",
      "RECON Loss: 0.016609084 0.015405964\n",
      "DIS Loss: 0.010693299 0.08640262\n"
     ]
    },
    {
     "name": "stderr",
     "output_type": "stream",
     "text": [
      "epoch #601|  0%|                                                |ETA:   0:00:54"
     ]
    },
    {
     "name": "stdout",
     "output_type": "stream",
     "text": [
      "---------------------\n",
      "GEN Loss: 5.4200497 3.8850741\n",
      "Feature Matching Loss: 0.016842727 0.02031653\n",
      "RECON Loss: 0.016063897 0.014752211\n",
      "DIS Loss: 0.008336183 0.05598992\n"
     ]
    },
    {
     "name": "stderr",
     "output_type": "stream",
     "text": [
      "epoch #602|  0%|                                                |ETA:   0:00:59"
     ]
    },
    {
     "name": "stdout",
     "output_type": "stream",
     "text": [
      "---------------------\n",
      "GEN Loss: 5.6570625 3.8744905\n",
      "Feature Matching Loss: 0.017191112 0.016242566\n",
      "RECON Loss: 0.015281979 0.014281355\n",
      "DIS Loss: 0.006769198 0.033778623\n"
     ]
    },
    {
     "name": "stderr",
     "output_type": "stream",
     "text": [
      "epoch #603|  0%|                                                |ETA:   0:00:57"
     ]
    },
    {
     "name": "stdout",
     "output_type": "stream",
     "text": [
      "---------------------\n",
      "GEN Loss: 5.8893075 4.6123085\n",
      "Feature Matching Loss: 0.017393295 0.013988678\n",
      "RECON Loss: 0.014558084 0.013737756\n",
      "DIS Loss: 0.00571425 0.024029639\n"
     ]
    },
    {
     "name": "stderr",
     "output_type": "stream",
     "text": [
      "epoch #604|  0%|                                                |ETA:   0:00:56"
     ]
    },
    {
     "name": "stdout",
     "output_type": "stream",
     "text": [
      "---------------------\n",
      "GEN Loss: 6.1135507 4.9726562\n",
      "Feature Matching Loss: 0.017656913 0.013441569\n",
      "RECON Loss: 0.014013219 0.013339753\n",
      "DIS Loss: 0.0049577537 0.018595826\n"
     ]
    },
    {
     "name": "stderr",
     "output_type": "stream",
     "text": [
      "epoch #605|N/A%|                                                |ETA:  --:--:--"
     ]
    },
    {
     "name": "stdout",
     "output_type": "stream",
     "text": [
      "---------------------\n"
     ]
    },
    {
     "name": "stderr",
     "output_type": "stream",
     "text": [
      "\r",
      "                                                                               \r",
      "\r",
      "epoch #605|  0%|                                                |ETA:   0:01:37"
     ]
    },
    {
     "name": "stdout",
     "output_type": "stream",
     "text": [
      "GEN Loss: 6.3168573 4.998882\n",
      "Feature Matching Loss: 0.017915282 0.013405361\n",
      "RECON Loss: 0.013536211 0.013036039\n",
      "DIS Loss: 0.0043795304 0.013511434\n"
     ]
    },
    {
     "name": "stderr",
     "output_type": "stream",
     "text": [
      "epoch #606|  0%|                                                |ETA:   0:00:56"
     ]
    },
    {
     "name": "stdout",
     "output_type": "stream",
     "text": [
      "---------------------\n",
      "GEN Loss: 6.4890933 5.093344\n",
      "Feature Matching Loss: 0.0181881 0.013383044\n",
      "RECON Loss: 0.013156807 0.012785554\n",
      "DIS Loss: 0.0038990965 0.010448276\n"
     ]
    },
    {
     "name": "stderr",
     "output_type": "stream",
     "text": [
      "epoch #607|  0%|                                                |ETA:   0:00:55"
     ]
    },
    {
     "name": "stdout",
     "output_type": "stream",
     "text": [
      "---------------------\n",
      "GEN Loss: 6.643796 5.210111\n",
      "Feature Matching Loss: 0.018454928 0.0134372655\n",
      "RECON Loss: 0.01283922 0.01256785\n",
      "DIS Loss: 0.0034883455 0.008531526\n"
     ]
    },
    {
     "name": "stderr",
     "output_type": "stream",
     "text": [
      "epoch #608|  0%|                                                |ETA:   0:00:54"
     ]
    },
    {
     "name": "stdout",
     "output_type": "stream",
     "text": [
      "---------------------\n",
      "GEN Loss: 6.7772484 5.337426\n",
      "Feature Matching Loss: 0.018714499 0.0135795055\n",
      "RECON Loss: 0.012567384 0.012371878\n",
      "DIS Loss: 0.0031360819 0.00720064\n"
     ]
    },
    {
     "name": "stderr",
     "output_type": "stream",
     "text": [
      "epoch #609|  0%|                                                |ETA:   0:00:55"
     ]
    },
    {
     "name": "stdout",
     "output_type": "stream",
     "text": [
      "---------------------\n",
      "GEN Loss: 6.893245 5.467574\n",
      "Feature Matching Loss: 0.018959 0.013715675\n",
      "RECON Loss: 0.012337039 0.012196705\n",
      "DIS Loss: 0.002828383 0.0062152036\n"
     ]
    },
    {
     "name": "stderr",
     "output_type": "stream",
     "text": [
      "epoch #610|  0%|                                                |ETA:   0:00:56"
     ]
    },
    {
     "name": "stdout",
     "output_type": "stream",
     "text": [
      "---------------------\n",
      "GEN Loss: 6.991159 5.6117315\n",
      "Feature Matching Loss: 0.019186037 0.0138488645\n",
      "RECON Loss: 0.012133914 0.012033815\n",
      "DIS Loss: 0.002564515 0.0054309606\n"
     ]
    },
    {
     "name": "stderr",
     "output_type": "stream",
     "text": [
      "epoch #611|  0%|                                                |ETA:   0:00:55"
     ]
    },
    {
     "name": "stdout",
     "output_type": "stream",
     "text": [
      "---------------------\n",
      "GEN Loss: 7.0832763 5.753835\n",
      "Feature Matching Loss: 0.019390948 0.013977701\n",
      "RECON Loss: 0.011947672 0.011888377\n",
      "DIS Loss: 0.002338107 0.0048034023\n"
     ]
    },
    {
     "name": "stderr",
     "output_type": "stream",
     "text": [
      "epoch #612|  0%|                                                |ETA:   0:00:57"
     ]
    },
    {
     "name": "stdout",
     "output_type": "stream",
     "text": [
      "---------------------\n",
      "GEN Loss: 7.170187 5.884857\n",
      "Feature Matching Loss: 0.019587673 0.014114168\n",
      "RECON Loss: 0.011778476 0.011753405\n",
      "DIS Loss: 0.002135499 0.004298862\n"
     ]
    },
    {
     "name": "stderr",
     "output_type": "stream",
     "text": [
      "epoch #613|  0%|                                                |ETA:   0:00:57"
     ]
    },
    {
     "name": "stdout",
     "output_type": "stream",
     "text": [
      "---------------------\n",
      "GEN Loss: 7.252595 6.0015607\n",
      "Feature Matching Loss: 0.019776149 0.014268942\n",
      "RECON Loss: 0.011625006 0.0116261495\n",
      "DIS Loss: 0.0019598068 0.0038674548\n"
     ]
    },
    {
     "name": "stderr",
     "output_type": "stream",
     "text": [
      "epoch #614|  0%|                                                |ETA:   0:00:56"
     ]
    },
    {
     "name": "stdout",
     "output_type": "stream",
     "text": [
      "---------------------\n",
      "GEN Loss: 7.3310947 6.107249\n",
      "Feature Matching Loss: 0.019950952 0.014413189\n",
      "RECON Loss: 0.011484213 0.011510201\n",
      "DIS Loss: 0.0018071046 0.0035114428\n"
     ]
    },
    {
     "name": "stderr",
     "output_type": "stream",
     "text": [
      "epoch #615|  0%|                                                |ETA:   0:00:59"
     ]
    },
    {
     "name": "stdout",
     "output_type": "stream",
     "text": [
      "---------------------\n",
      "GEN Loss: 7.4006543 6.201452\n",
      "Feature Matching Loss: 0.020103898 0.01455093\n",
      "RECON Loss: 0.011354804 0.011400627\n",
      "DIS Loss: 0.001674704 0.0032090466\n"
     ]
    },
    {
     "name": "stderr",
     "output_type": "stream",
     "text": [
      "epoch #616|  0%|                                                |ETA:   0:00:56"
     ]
    },
    {
     "name": "stdout",
     "output_type": "stream",
     "text": [
      "---------------------\n",
      "GEN Loss: 7.4690623 6.2958355\n",
      "Feature Matching Loss: 0.020266946 0.01468708\n",
      "RECON Loss: 0.011234994 0.011299118\n",
      "DIS Loss: 0.0015538421 0.0029387143\n"
     ]
    },
    {
     "name": "stderr",
     "output_type": "stream",
     "text": [
      "epoch #617|  0%|                                                |ETA:   0:00:57"
     ]
    },
    {
     "name": "stdout",
     "output_type": "stream",
     "text": [
      "---------------------\n",
      "GEN Loss: 7.54072 6.380756\n",
      "Feature Matching Loss: 0.020411227 0.014805305\n",
      "RECON Loss: 0.0111235855 0.011206674\n",
      "DIS Loss: 0.0014449153 0.0027109324\n"
     ]
    },
    {
     "name": "stderr",
     "output_type": "stream",
     "text": [
      "epoch #618|  0%|                                                |ETA:   0:00:56"
     ]
    },
    {
     "name": "stdout",
     "output_type": "stream",
     "text": [
      "---------------------\n",
      "GEN Loss: 7.609788 6.461311\n",
      "Feature Matching Loss: 0.020570844 0.014927687\n",
      "RECON Loss: 0.011017386 0.011117461\n",
      "DIS Loss: 0.001345996 0.0024999334\n"
     ]
    },
    {
     "name": "stderr",
     "output_type": "stream",
     "text": [
      "epoch #619|  0%|                                                |ETA:   0:00:59"
     ]
    },
    {
     "name": "stdout",
     "output_type": "stream",
     "text": [
      "---------------------\n",
      "GEN Loss: 7.6760883 6.5394053\n",
      "Feature Matching Loss: 0.020717213 0.0150418\n",
      "RECON Loss: 0.010920694 0.011029584\n",
      "DIS Loss: 0.0012542005 0.0023160349\n"
     ]
    },
    {
     "name": "stderr",
     "output_type": "stream",
     "text": [
      "epoch #620|  0%|                                                |ETA:   0:00:58"
     ]
    },
    {
     "name": "stdout",
     "output_type": "stream",
     "text": [
      "---------------------\n",
      "GEN Loss: 7.7335563 6.610133\n",
      "Feature Matching Loss: 0.020850124 0.015157585\n",
      "RECON Loss: 0.010828977 0.010947898\n",
      "DIS Loss: 0.0011758059 0.0021577217\n"
     ]
    },
    {
     "name": "stderr",
     "output_type": "stream",
     "text": [
      "epoch #621|  0%|                                                |ETA:   0:00:58"
     ]
    },
    {
     "name": "stdout",
     "output_type": "stream",
     "text": [
      "---------------------\n",
      "GEN Loss: 7.791474 6.680212\n",
      "Feature Matching Loss: 0.02097999 0.0152664725\n",
      "RECON Loss: 0.010743827 0.010870351\n",
      "DIS Loss: 0.0011039203 0.0020194016\n"
     ]
    },
    {
     "name": "stderr",
     "output_type": "stream",
     "text": [
      "epoch #622|  0%|                                                |ETA:   0:00:57"
     ]
    },
    {
     "name": "stdout",
     "output_type": "stream",
     "text": [
      "---------------------\n",
      "GEN Loss: 7.8487005 6.748289\n",
      "Feature Matching Loss: 0.021114193 0.015370814\n",
      "RECON Loss: 0.010660606 0.010795331\n",
      "DIS Loss: 0.0010399192 0.0018952283\n"
     ]
    },
    {
     "name": "stderr",
     "output_type": "stream",
     "text": [
      "epoch #623|  0%|                                                |ETA:   0:00:57"
     ]
    },
    {
     "name": "stdout",
     "output_type": "stream",
     "text": [
      "---------------------\n",
      "GEN Loss: 7.913462 6.8166437\n",
      "Feature Matching Loss: 0.021242552 0.015474718\n",
      "RECON Loss: 0.010583045 0.01072433\n",
      "DIS Loss: 0.0009792678 0.0017807207\n"
     ]
    },
    {
     "name": "stderr",
     "output_type": "stream",
     "text": [
      "epoch #624|  0%|                                                |ETA:   0:00:56"
     ]
    },
    {
     "name": "stdout",
     "output_type": "stream",
     "text": [
      "---------------------\n",
      "GEN Loss: 7.9772167 6.884174\n",
      "Feature Matching Loss: 0.021374542 0.015577212\n",
      "RECON Loss: 0.010507708 0.010657024\n",
      "DIS Loss: 0.00092564774 0.001675454\n"
     ]
    },
    {
     "name": "stderr",
     "output_type": "stream",
     "text": [
      "epoch #625|  0%|                                                |ETA:   0:00:55"
     ]
    },
    {
     "name": "stdout",
     "output_type": "stream",
     "text": [
      "---------------------\n",
      "GEN Loss: 8.030322 6.954413\n",
      "Feature Matching Loss: 0.021489805 0.015689489\n",
      "RECON Loss: 0.010437606 0.010595944\n",
      "DIS Loss: 0.00087629474 0.0015763442\n"
     ]
    },
    {
     "name": "stderr",
     "output_type": "stream",
     "text": [
      "epoch #626|  0%|                                                |ETA:   0:00:58"
     ]
    },
    {
     "name": "stdout",
     "output_type": "stream",
     "text": [
      "---------------------\n",
      "GEN Loss: 8.080137 7.0244436\n",
      "Feature Matching Loss: 0.021614816 0.015802104\n",
      "RECON Loss: 0.01036912 0.010536715\n",
      "DIS Loss: 0.0008311739 0.0014867124\n"
     ]
    },
    {
     "name": "stderr",
     "output_type": "stream",
     "text": [
      "epoch #627|  0%|                                                |ETA:   0:00:59"
     ]
    },
    {
     "name": "stdout",
     "output_type": "stream",
     "text": [
      "---------------------\n",
      "GEN Loss: 8.13608 7.089674\n",
      "Feature Matching Loss: 0.021719804 0.01590044\n",
      "RECON Loss: 0.010305833 0.010479333\n",
      "DIS Loss: 0.00078896375 0.001406623\n"
     ]
    },
    {
     "name": "stderr",
     "output_type": "stream",
     "text": [
      "epoch #628|  0%|                                                |ETA:   0:00:55"
     ]
    },
    {
     "name": "stdout",
     "output_type": "stream",
     "text": [
      "---------------------\n",
      "GEN Loss: 8.182087 7.153586\n",
      "Feature Matching Loss: 0.021843698 0.016005386\n",
      "RECON Loss: 0.010247021 0.01042502\n",
      "DIS Loss: 0.0007501361 0.0013318604\n"
     ]
    },
    {
     "name": "stderr",
     "output_type": "stream",
     "text": [
      "epoch #629|  0%|                                                |ETA:   0:00:54"
     ]
    },
    {
     "name": "stdout",
     "output_type": "stream",
     "text": [
      "---------------------\n",
      "GEN Loss: 8.235832 7.214774\n",
      "Feature Matching Loss: 0.021938499 0.016104292\n",
      "RECON Loss: 0.010184982 0.0103779845\n",
      "DIS Loss: 0.0007136847 0.0012627237\n"
     ]
    },
    {
     "name": "stderr",
     "output_type": "stream",
     "text": [
      "epoch #630|  0%|                                                |ETA:   0:00:57"
     ]
    },
    {
     "name": "stdout",
     "output_type": "stream",
     "text": [
      "---------------------\n",
      "GEN Loss: 8.287911 7.272732\n",
      "Feature Matching Loss: 0.02206035 0.016200766\n",
      "RECON Loss: 0.01012646 0.010319349\n",
      "DIS Loss: 0.00067825615 0.0012000449\n"
     ]
    },
    {
     "name": "stderr",
     "output_type": "stream",
     "text": [
      "epoch #631|  0%|                                                |ETA:   0:00:57"
     ]
    },
    {
     "name": "stdout",
     "output_type": "stream",
     "text": [
      "---------------------\n",
      "GEN Loss: 8.333685 7.3287487\n",
      "Feature Matching Loss: 0.022148116 0.016297784\n",
      "RECON Loss: 0.010072634 0.0102681955\n",
      "DIS Loss: 0.0006479917 0.0011425416\n"
     ]
    },
    {
     "name": "stderr",
     "output_type": "stream",
     "text": [
      "epoch #632|N/A%|                                                |ETA:  --:--:--"
     ]
    },
    {
     "name": "stdout",
     "output_type": "stream",
     "text": [
      "---------------------\n",
      "GEN Loss:"
     ]
    },
    {
     "name": "stderr",
     "output_type": "stream",
     "text": [
      "\r",
      "                                                                               \r",
      "\r",
      "epoch #632|  0%|                                                |ETA:   0:01:18"
     ]
    },
    {
     "name": "stdout",
     "output_type": "stream",
     "text": [
      " 8.381847 7.384076\n",
      "Feature Matching Loss: 0.022274232 0.016388245\n",
      "RECON Loss: 0.010023572 0.010221172\n",
      "DIS Loss: 0.0006157812 0.0010889443\n"
     ]
    },
    {
     "name": "stderr",
     "output_type": "stream",
     "text": [
      "epoch #633|  0%|                                                |ETA:   0:00:55"
     ]
    },
    {
     "name": "stdout",
     "output_type": "stream",
     "text": [
      "---------------------\n",
      "GEN Loss: 8.429123 7.435123\n",
      "Feature Matching Loss: 0.02239643 0.016468013\n",
      "RECON Loss: 0.009976624 0.010186281\n",
      "DIS Loss: 0.0005889508 0.0010410004\n"
     ]
    },
    {
     "name": "stderr",
     "output_type": "stream",
     "text": [
      "epoch #634|  0%|                                                |ETA:   0:00:54"
     ]
    },
    {
     "name": "stdout",
     "output_type": "stream",
     "text": [
      "---------------------\n",
      "GEN Loss: 8.476836 7.4895897\n",
      "Feature Matching Loss: 0.022512332 0.016553793\n",
      "RECON Loss: 0.009931693 0.010153766\n",
      "DIS Loss: 0.00056164525 0.0009926443\n"
     ]
    },
    {
     "name": "stderr",
     "output_type": "stream",
     "text": [
      "epoch #635|  0%|                                                |ETA:   0:00:54"
     ]
    },
    {
     "name": "stdout",
     "output_type": "stream",
     "text": [
      "---------------------\n",
      "GEN Loss: 8.516262 7.548314\n",
      "Feature Matching Loss: 0.022501241 0.016661135\n",
      "RECON Loss: 0.009881817 0.010089204\n",
      "DIS Loss: 0.00054158055 0.0009434044\n"
     ]
    },
    {
     "name": "stderr",
     "output_type": "stream",
     "text": [
      "epoch #636|  0%|                                                |ETA:   0:00:54"
     ]
    },
    {
     "name": "stdout",
     "output_type": "stream",
     "text": [
      "---------------------\n",
      "GEN Loss: 8.546379 7.595036\n",
      "Feature Matching Loss: 0.022681037 0.016744502\n",
      "RECON Loss: 0.00985218 0.010063635\n",
      "DIS Loss: 0.0005185149 0.00090275245\n"
     ]
    },
    {
     "name": "stderr",
     "output_type": "stream",
     "text": [
      "epoch #637|  0%|                                                |ETA:   0:00:54"
     ]
    },
    {
     "name": "stdout",
     "output_type": "stream",
     "text": [
      "---------------------\n",
      "GEN Loss: 8.613809 7.6482315\n",
      "Feature Matching Loss: 0.022920238 0.016832044\n",
      "RECON Loss: 0.00980122 0.010014348\n",
      "DIS Loss: 0.00049561297 0.0008609332\n"
     ]
    },
    {
     "name": "stderr",
     "output_type": "stream",
     "text": [
      "epoch #638|  0%|                                                |ETA:   0:00:58"
     ]
    },
    {
     "name": "stdout",
     "output_type": "stream",
     "text": [
      "---------------------\n",
      "GEN Loss: 8.307276 7.691532\n",
      "Feature Matching Loss: 0.021884827 0.016906971\n",
      "RECON Loss: 0.009753916 0.00998836\n",
      "DIS Loss: 0.0006422352 0.0008291969\n"
     ]
    },
    {
     "name": "stderr",
     "output_type": "stream",
     "text": [
      "epoch #639|  0%|                                                |ETA:   0:01:03"
     ]
    },
    {
     "name": "stdout",
     "output_type": "stream",
     "text": [
      "---------------------\n",
      "GEN Loss: 0.5577293 0.74358505\n",
      "Feature Matching Loss: 0.020760506 0.024612244\n",
      "RECON Loss: 0.021538636 0.01854073\n",
      "DIS Loss: 0.870373 0.887083\n"
     ]
    },
    {
     "name": "stderr",
     "output_type": "stream",
     "text": [
      "epoch #640|  0%|                                                |ETA:   0:01:02"
     ]
    },
    {
     "name": "stdout",
     "output_type": "stream",
     "text": [
      "---------------------\n",
      "GEN Loss: 0.7451621 0.71088475\n",
      "Feature Matching Loss: 0.013968505 0.013951085\n",
      "RECON Loss: 0.013385398 0.013139526\n",
      "DIS Loss: 0.6938875 0.6891011\n"
     ]
    },
    {
     "name": "stderr",
     "output_type": "stream",
     "text": [
      "epoch #641|  0%|                                                |ETA:   0:01:01"
     ]
    },
    {
     "name": "stdout",
     "output_type": "stream",
     "text": [
      "---------------------\n",
      "GEN Loss: 0.7098832 0.71885186\n",
      "Feature Matching Loss: 0.012726316 0.014283206\n",
      "RECON Loss: 0.011897005 0.012059442\n",
      "DIS Loss: 0.68801385 0.670641\n"
     ]
    },
    {
     "name": "stderr",
     "output_type": "stream",
     "text": [
      "epoch #642|  0%|                                                |ETA:   0:00:54"
     ]
    },
    {
     "name": "stdout",
     "output_type": "stream",
     "text": [
      "---------------------\n",
      "GEN Loss: 0.7556784 0.7470365\n",
      "Feature Matching Loss: 0.012150829 0.013489731\n",
      "RECON Loss: 0.011529232 0.011702007\n",
      "DIS Loss: 0.6686752 0.64574766\n"
     ]
    },
    {
     "name": "stderr",
     "output_type": "stream",
     "text": [
      "epoch #643|  0%|                                                |ETA:   0:00:56"
     ]
    },
    {
     "name": "stdout",
     "output_type": "stream",
     "text": [
      "---------------------\n",
      "GEN Loss: 0.86583984 0.78201807\n",
      "Feature Matching Loss: 0.014826074 0.014742894\n",
      "RECON Loss: 0.011631923 0.012011158\n",
      "DIS Loss: 0.63062596 0.6435457\n"
     ]
    },
    {
     "name": "stderr",
     "output_type": "stream",
     "text": [
      "epoch #644|  0%|                                                |ETA:   0:00:59"
     ]
    },
    {
     "name": "stdout",
     "output_type": "stream",
     "text": [
      "---------------------\n",
      "GEN Loss: 3.4447486 1.0561819\n",
      "Feature Matching Loss: 0.032607533 0.0185048\n",
      "RECON Loss: 0.015896384 0.016561095\n",
      "DIS Loss: 1.0240347 0.619128\n"
     ]
    },
    {
     "name": "stderr",
     "output_type": "stream",
     "text": [
      "epoch #645|  0%|                                                |ETA:   0:00:55"
     ]
    },
    {
     "name": "stdout",
     "output_type": "stream",
     "text": [
      "---------------------\n",
      "GEN Loss: 1.8730173 0.4354037\n",
      "Feature Matching Loss: 0.03480241 0.031702444\n",
      "RECON Loss: 0.016843602 0.016823608\n",
      "DIS Loss: 0.2611555 0.785183\n"
     ]
    },
    {
     "name": "stderr",
     "output_type": "stream",
     "text": [
      "epoch #646|  0%|                                                |ETA:   0:00:53"
     ]
    },
    {
     "name": "stdout",
     "output_type": "stream",
     "text": [
      "---------------------\n",
      "GEN Loss: 1.3548063 2.738721\n",
      "Feature Matching Loss: 0.02909646 0.033627834\n",
      "RECON Loss: 0.0191761 0.01772463\n",
      "DIS Loss: 0.28045925 0.5152194\n"
     ]
    },
    {
     "name": "stderr",
     "output_type": "stream",
     "text": [
      "epoch #647|  0%|                                                |ETA:   0:00:52"
     ]
    },
    {
     "name": "stdout",
     "output_type": "stream",
     "text": [
      "---------------------\n",
      "GEN Loss: 4.417529 1.8642375\n",
      "Feature Matching Loss: 0.027805585 0.038864464\n",
      "RECON Loss: 0.01917494 0.018296514\n",
      "DIS Loss: 0.17899702 0.29566807\n"
     ]
    },
    {
     "name": "stderr",
     "output_type": "stream",
     "text": [
      "epoch #648|  0%|                                                |ETA:   0:01:45"
     ]
    },
    {
     "name": "stdout",
     "output_type": "stream",
     "text": [
      "---------------------\n",
      "GEN Loss: 3.4993057 2.6586246\n",
      "Feature Matching Loss: 0.021853808 0.031458262\n",
      "RECON Loss: 0.018387076 0.0182975\n",
      "DIS Loss: 0.055037916 0.1319238\n"
     ]
    },
    {
     "name": "stderr",
     "output_type": "stream",
     "text": [
      "epoch #649|  0%|                                                |ETA:   0:00:53"
     ]
    },
    {
     "name": "stdout",
     "output_type": "stream",
     "text": [
      "---------------------\n",
      "GEN Loss: 4.3169065 2.8650753\n",
      "Feature Matching Loss: 0.018557668 0.02633781\n",
      "RECON Loss: 0.017281387 0.017388582\n",
      "DIS Loss: 0.036604732 0.089716\n"
     ]
    },
    {
     "name": "stderr",
     "output_type": "stream",
     "text": [
      "epoch #650|  0%|                                                |ETA:   0:00:54"
     ]
    },
    {
     "name": "stdout",
     "output_type": "stream",
     "text": [
      "---------------------\n",
      "GEN Loss: 4.7888937 3.8719244\n",
      "Feature Matching Loss: 0.016003694 0.021155111\n",
      "RECON Loss: 0.017002853 0.01638124\n",
      "DIS Loss: 0.020707538 0.058826953\n"
     ]
    },
    {
     "name": "stderr",
     "output_type": "stream",
     "text": [
      "epoch #651|  0%|                                                |ETA:   0:00:56"
     ]
    },
    {
     "name": "stdout",
     "output_type": "stream",
     "text": [
      "---------------------\n",
      "GEN Loss: 5.063903 4.1841774\n",
      "Feature Matching Loss: 0.0155370645 0.01824212\n",
      "RECON Loss: 0.015954599 0.015442116\n",
      "DIS Loss: 0.01401603 0.03833524\n"
     ]
    },
    {
     "name": "stderr",
     "output_type": "stream",
     "text": [
      "epoch #652|  0%|                                                |ETA:   0:00:55"
     ]
    },
    {
     "name": "stdout",
     "output_type": "stream",
     "text": [
      "---------------------\n",
      "GEN Loss: 5.1810837 4.727992\n",
      "Feature Matching Loss: 0.015740572 0.015359109\n",
      "RECON Loss: 0.015191751 0.01472014\n",
      "DIS Loss: 0.010108984 0.025738455\n"
     ]
    },
    {
     "name": "stderr",
     "output_type": "stream",
     "text": [
      "epoch #653|  0%|                                                |ETA:   0:00:58"
     ]
    },
    {
     "name": "stdout",
     "output_type": "stream",
     "text": [
      "---------------------\n",
      "GEN Loss: 5.350047 5.035846\n",
      "Feature Matching Loss: 0.01597828 0.013914583\n",
      "RECON Loss: 0.0143526625 0.014140504\n",
      "DIS Loss: 0.007922695 0.017877087\n"
     ]
    },
    {
     "name": "stderr",
     "output_type": "stream",
     "text": [
      "epoch #654|  0%|                                                |ETA:   0:00:56"
     ]
    },
    {
     "name": "stdout",
     "output_type": "stream",
     "text": [
      "---------------------\n",
      "GEN Loss: 5.610385 5.0481496\n",
      "Feature Matching Loss: 0.016252264 0.013533671\n",
      "RECON Loss: 0.01374128 0.013700306\n",
      "DIS Loss: 0.0064218044 0.012963702\n"
     ]
    },
    {
     "name": "stderr",
     "output_type": "stream",
     "text": [
      "epoch #655|  0%|                                                |ETA:   0:01:04"
     ]
    },
    {
     "name": "stdout",
     "output_type": "stream",
     "text": [
      "---------------------\n",
      "GEN Loss: 5.875402 5.1757746\n",
      "Feature Matching Loss: 0.01653659 0.013578446\n",
      "RECON Loss: 0.013286859 0.013327952\n",
      "DIS Loss: 0.005418905 0.010031637\n"
     ]
    },
    {
     "name": "stderr",
     "output_type": "stream",
     "text": [
      "epoch #656|  0%|                                                |ETA:   0:00:57"
     ]
    },
    {
     "name": "stdout",
     "output_type": "stream",
     "text": [
      "---------------------\n",
      "GEN Loss: 6.1310472 5.4137106\n",
      "Feature Matching Loss: 0.016841697 0.013717633\n",
      "RECON Loss: 0.012925131 0.013027351\n",
      "DIS Loss: 0.0047013513 0.008033331\n"
     ]
    },
    {
     "name": "stderr",
     "output_type": "stream",
     "text": [
      "epoch #657|  0%|                                                |ETA:   0:00:58"
     ]
    },
    {
     "name": "stdout",
     "output_type": "stream",
     "text": [
      "---------------------\n",
      "GEN Loss: 6.3385353 5.603612\n",
      "Feature Matching Loss: 0.017145917 0.0138327405\n",
      "RECON Loss: 0.012624821 0.012763615\n",
      "DIS Loss: 0.0041531343 0.0067001954\n"
     ]
    },
    {
     "name": "stderr",
     "output_type": "stream",
     "text": [
      "epoch #658|  0%|                                                |ETA:   0:00:55"
     ]
    },
    {
     "name": "stdout",
     "output_type": "stream",
     "text": [
      "---------------------\n",
      "GEN Loss: 6.499462 5.7496376\n",
      "Feature Matching Loss: 0.017427975 0.013948523\n",
      "RECON Loss: 0.012370947 0.012540257\n",
      "DIS Loss: 0.0037139887 0.00570759\n"
     ]
    },
    {
     "name": "stderr",
     "output_type": "stream",
     "text": [
      "epoch #659|  0%|                                                |ETA:   0:00:57"
     ]
    },
    {
     "name": "stdout",
     "output_type": "stream",
     "text": [
      "---------------------\n",
      "GEN Loss: 6.6325283 5.870846\n",
      "Feature Matching Loss: 0.017695464 0.014059412\n",
      "RECON Loss: 0.012151971 0.01233857\n",
      "DIS Loss: 0.00332454 0.0049673337\n"
     ]
    },
    {
     "name": "stderr",
     "output_type": "stream",
     "text": [
      "epoch #660|  0%|                                                |ETA:   0:00:59"
     ]
    },
    {
     "name": "stdout",
     "output_type": "stream",
     "text": [
      "---------------------\n",
      "GEN Loss: 6.7426314 5.9857893\n",
      "Feature Matching Loss: 0.017948613 0.014172927\n",
      "RECON Loss: 0.011962159 0.012158915\n",
      "DIS Loss: 0.0029922447 0.004362021\n"
     ]
    },
    {
     "name": "stderr",
     "output_type": "stream",
     "text": [
      "epoch #661|  0%|                                                |ETA:   0:00:59"
     ]
    },
    {
     "name": "stdout",
     "output_type": "stream",
     "text": [
      "---------------------\n",
      "GEN Loss: 6.835778 6.085043\n",
      "Feature Matching Loss: 0.018167246 0.014276056\n",
      "RECON Loss: 0.011791406 0.011993365\n",
      "DIS Loss: 0.0027019498 0.0038767597\n"
     ]
    },
    {
     "name": "stderr",
     "output_type": "stream",
     "text": [
      "epoch #662|  0%|                                                |ETA:   0:00:58"
     ]
    },
    {
     "name": "stdout",
     "output_type": "stream",
     "text": [
      "---------------------\n",
      "GEN Loss: 6.9216413 6.170533\n",
      "Feature Matching Loss: 0.018383015 0.014377799\n",
      "RECON Loss: 0.011639121 0.011846791\n",
      "DIS Loss: 0.0024438053 0.0035004155\n"
     ]
    },
    {
     "name": "stderr",
     "output_type": "stream",
     "text": [
      "epoch #663|N/A%|                                                |ETA:  --:--:--"
     ]
    },
    {
     "name": "stdout",
     "output_type": "stream",
     "text": [
      "---------------------\n"
     ]
    },
    {
     "name": "stderr",
     "output_type": "stream",
     "text": [
      "\r",
      "                                                                               \r",
      "\r",
      "epoch #663|  0%|                                                |ETA:   0:02:07"
     ]
    },
    {
     "name": "stdout",
     "output_type": "stream",
     "text": [
      "GEN Loss: 7.006174 6.2547708\n",
      "Feature Matching Loss: 0.01857632 0.014476385\n",
      "RECON Loss: 0.011498816 0.011710319\n",
      "DIS Loss: 0.0022233971 0.0031783544\n"
     ]
    },
    {
     "name": "stderr",
     "output_type": "stream",
     "text": [
      "epoch #664|  0%|                                                |ETA:   0:00:57"
     ]
    },
    {
     "name": "stdout",
     "output_type": "stream",
     "text": [
      "---------------------\n",
      "GEN Loss: 7.0842476 6.3333316\n",
      "Feature Matching Loss: 0.01873443 0.014573208\n",
      "RECON Loss: 0.011368948 0.011585242\n",
      "DIS Loss: 0.0020401608 0.0029210625\n"
     ]
    },
    {
     "name": "stderr",
     "output_type": "stream",
     "text": [
      "epoch #665|  0%|                                                |ETA:   0:00:55"
     ]
    },
    {
     "name": "stdout",
     "output_type": "stream",
     "text": [
      "---------------------\n",
      "GEN Loss: 7.156963 6.412373\n",
      "Feature Matching Loss: 0.018896176 0.01467284\n",
      "RECON Loss: 0.011247946 0.011466811\n",
      "DIS Loss: 0.001880655 0.0026885327\n"
     ]
    },
    {
     "name": "stderr",
     "output_type": "stream",
     "text": [
      "epoch #666|  0%|                                                |ETA:   0:01:04"
     ]
    },
    {
     "name": "stdout",
     "output_type": "stream",
     "text": [
      "---------------------\n",
      "GEN Loss: 7.221375 6.4863467\n",
      "Feature Matching Loss: 0.019054592 0.014765717\n",
      "RECON Loss: 0.0111375805 0.011359277\n",
      "DIS Loss: 0.0017413512 0.0024866003\n"
     ]
    },
    {
     "name": "stderr",
     "output_type": "stream",
     "text": [
      "epoch #667|  0%|                                                |ETA:   0:00:56"
     ]
    },
    {
     "name": "stdout",
     "output_type": "stream",
     "text": [
      "---------------------\n",
      "GEN Loss: 7.2860556 6.5589485\n",
      "Feature Matching Loss: 0.019202143 0.014850019\n",
      "RECON Loss: 0.011033118 0.011254994\n",
      "DIS Loss: 0.0016151068 0.002304127\n"
     ]
    },
    {
     "name": "stderr",
     "output_type": "stream",
     "text": [
      "epoch #668|  0%|                                                |ETA:   0:00:59"
     ]
    },
    {
     "name": "stdout",
     "output_type": "stream",
     "text": [
      "---------------------\n",
      "GEN Loss: 7.344888 6.630832\n",
      "Feature Matching Loss: 0.019349795 0.014936434\n",
      "RECON Loss: 0.010935209 0.011159135\n",
      "DIS Loss: 0.0015044215 0.0021439837\n"
     ]
    },
    {
     "name": "stderr",
     "output_type": "stream",
     "text": [
      "epoch #669|  0%|                                                |ETA:   0:00:55"
     ]
    },
    {
     "name": "stdout",
     "output_type": "stream",
     "text": [
      "---------------------\n",
      "GEN Loss: 7.4050264 6.699031\n",
      "Feature Matching Loss: 0.019477764 0.015027773\n",
      "RECON Loss: 0.010845244 0.01106911\n",
      "DIS Loss: 0.0014070221 0.0020064318\n"
     ]
    },
    {
     "name": "stderr",
     "output_type": "stream",
     "text": [
      "epoch #670|  0%|                                                |ETA:   0:00:54"
     ]
    },
    {
     "name": "stdout",
     "output_type": "stream",
     "text": [
      "---------------------\n",
      "GEN Loss: 7.4670553 6.767025\n",
      "Feature Matching Loss: 0.019609079 0.015103835\n",
      "RECON Loss: 0.010759718 0.010984324\n",
      "DIS Loss: 0.0013132351 0.0018766108\n"
     ]
    },
    {
     "name": "stderr",
     "output_type": "stream",
     "text": [
      "epoch #671|  0%|                                                |ETA:   0:00:54"
     ]
    },
    {
     "name": "stdout",
     "output_type": "stream",
     "text": [
      "---------------------\n",
      "GEN Loss: 7.5184793 6.834717\n",
      "Feature Matching Loss: 0.019739602 0.015181931\n",
      "RECON Loss: 0.01068023 0.010904408\n",
      "DIS Loss: 0.0012333049 0.0017597883\n"
     ]
    },
    {
     "name": "stderr",
     "output_type": "stream",
     "text": [
      "epoch #672|  0%|                                                |ETA:   0:01:01"
     ]
    },
    {
     "name": "stdout",
     "output_type": "stream",
     "text": [
      "---------------------\n",
      "GEN Loss: 7.57695 6.896637\n",
      "Feature Matching Loss: 0.019859398 0.015261483\n",
      "RECON Loss: 0.010605279 0.010827354\n",
      "DIS Loss: 0.0011610237 0.001654374\n"
     ]
    },
    {
     "name": "stderr",
     "output_type": "stream",
     "text": [
      "epoch #673|  0%|                                                |ETA:   0:00:54"
     ]
    },
    {
     "name": "stdout",
     "output_type": "stream",
     "text": [
      "---------------------\n",
      "GEN Loss: 7.6301403 6.954672\n",
      "Feature Matching Loss: 0.019985527 0.015337735\n",
      "RECON Loss: 0.010533266 0.010754099\n",
      "DIS Loss: 0.0010958312 0.0015639877\n"
     ]
    },
    {
     "name": "stderr",
     "output_type": "stream",
     "text": [
      "epoch #674|  0%|                                                |ETA:   0:00:55"
     ]
    },
    {
     "name": "stdout",
     "output_type": "stream",
     "text": [
      "---------------------\n",
      "GEN Loss: 7.6890855 7.0155144\n",
      "Feature Matching Loss: 0.020114213 0.01541526\n",
      "RECON Loss: 0.010463661 0.01068143\n",
      "DIS Loss: 0.001035732 0.0014758154\n"
     ]
    },
    {
     "name": "stderr",
     "output_type": "stream",
     "text": [
      "epoch #675|  0%|                                                |ETA:   0:00:55"
     ]
    },
    {
     "name": "stdout",
     "output_type": "stream",
     "text": [
      "---------------------\n",
      "GEN Loss: 7.7461295 7.0727005\n",
      "Feature Matching Loss: 0.02024008 0.015489787\n",
      "RECON Loss: 0.01039813 0.010613724\n",
      "DIS Loss: 0.0009800722 0.0013968452\n"
     ]
    },
    {
     "name": "stderr",
     "output_type": "stream",
     "text": [
      "epoch #676|  0%|                                                |ETA:   0:00:57"
     ]
    },
    {
     "name": "stdout",
     "output_type": "stream",
     "text": [
      "---------------------\n",
      "GEN Loss: 7.8047514 7.127\n",
      "Feature Matching Loss: 0.020363497 0.015556905\n",
      "RECON Loss: 0.010335237 0.010548122\n",
      "DIS Loss: 0.00092734676 0.0013252101\n"
     ]
    },
    {
     "name": "stderr",
     "output_type": "stream",
     "text": [
      "epoch #677|  0%|                                                |ETA:   0:01:04"
     ]
    },
    {
     "name": "stdout",
     "output_type": "stream",
     "text": [
      "---------------------\n",
      "GEN Loss: 7.8600016 7.183585\n",
      "Feature Matching Loss: 0.020494321 0.01562773\n",
      "RECON Loss: 0.010274871 0.010483837\n",
      "DIS Loss: 0.0008774721 0.0012555523\n"
     ]
    },
    {
     "name": "stderr",
     "output_type": "stream",
     "text": [
      "epoch #678|  0%|                                                |ETA:   0:00:58"
     ]
    },
    {
     "name": "stdout",
     "output_type": "stream",
     "text": [
      "---------------------\n",
      "GEN Loss: 7.9156184 7.2366505\n",
      "Feature Matching Loss: 0.02062144 0.015690964\n",
      "RECON Loss: 0.0102172075 0.010427268\n",
      "DIS Loss: 0.00083498773 0.0011934775\n"
     ]
    },
    {
     "name": "stderr",
     "output_type": "stream",
     "text": [
      "epoch #679|  0%|                                                |ETA:   0:00:58"
     ]
    },
    {
     "name": "stdout",
     "output_type": "stream",
     "text": [
      "---------------------\n",
      "GEN Loss: 7.9720855 7.2963867\n",
      "Feature Matching Loss: 0.020736817 0.015755944\n",
      "RECON Loss: 0.0101618925 0.010372381\n",
      "DIS Loss: 0.00079396693 0.0011323455\n"
     ]
    },
    {
     "name": "stderr",
     "output_type": "stream",
     "text": [
      "epoch #680|  0%|                                                |ETA:   0:01:04"
     ]
    },
    {
     "name": "stdout",
     "output_type": "stream",
     "text": [
      "---------------------\n",
      "GEN Loss: 8.025604 7.3494987\n",
      "Feature Matching Loss: 0.020845331 0.015820567\n",
      "RECON Loss: 0.010108833 0.010321587\n",
      "DIS Loss: 0.00075684674 0.0010796667\n"
     ]
    },
    {
     "name": "stderr",
     "output_type": "stream",
     "text": [
      "epoch #681|N/A%|                                                |ETA:  --:--:--"
     ]
    },
    {
     "name": "stdout",
     "output_type": "stream",
     "text": [
      "---------------------\n"
     ]
    },
    {
     "name": "stderr",
     "output_type": "stream",
     "text": [
      "\r",
      "                                                                               \r",
      "\r",
      "epoch #681|  0%|                                                |ETA:   0:01:32"
     ]
    },
    {
     "name": "stdout",
     "output_type": "stream",
     "text": [
      "GEN Loss: 8.076757 7.406279\n",
      "Feature Matching Loss: 0.020955853 0.015874065\n",
      "RECON Loss: 0.0100573655 0.010275969\n",
      "DIS Loss: 0.0007232954 0.0010286784\n"
     ]
    },
    {
     "name": "stderr",
     "output_type": "stream",
     "text": [
      "epoch #682|  0%|                                                |ETA:   0:00:55"
     ]
    },
    {
     "name": "stdout",
     "output_type": "stream",
     "text": [
      "---------------------\n",
      "GEN Loss: 8.1319 7.463563\n",
      "Feature Matching Loss: 0.021071404 0.01594131\n",
      "RECON Loss: 0.010006773 0.010249532\n",
      "DIS Loss: 0.0006913172 0.0009810035\n"
     ]
    },
    {
     "name": "stderr",
     "output_type": "stream",
     "text": [
      "epoch #683|  0%|                                                |ETA:   0:00:58"
     ]
    },
    {
     "name": "stdout",
     "output_type": "stream",
     "text": [
      "---------------------\n",
      "GEN Loss: 8.176727 7.523031\n",
      "Feature Matching Loss: 0.021149222 0.016015513\n",
      "RECON Loss: 0.009959446 0.010176122\n",
      "DIS Loss: 0.00066230295 0.0009347108\n"
     ]
    },
    {
     "name": "stderr",
     "output_type": "stream",
     "text": [
      "epoch #684|  0%|                                                |ETA:   0:00:55"
     ]
    },
    {
     "name": "stdout",
     "output_type": "stream",
     "text": [
      "---------------------\n",
      "GEN Loss: 8.222412 7.5771875\n",
      "Feature Matching Loss: 0.021242192 0.016082065\n",
      "RECON Loss: 0.009912049 0.010135588\n",
      "DIS Loss: 0.0006349994 0.0008924386\n"
     ]
    },
    {
     "name": "stderr",
     "output_type": "stream",
     "text": [
      "epoch #685|  0%|                                                |ETA:   0:00:55"
     ]
    },
    {
     "name": "stdout",
     "output_type": "stream",
     "text": [
      "---------------------\n",
      "GEN Loss: 8.276355 7.6292486\n",
      "Feature Matching Loss: 0.021368284 0.016134031\n",
      "RECON Loss: 0.009866547 0.010094024\n",
      "DIS Loss: 0.00060758466 0.0008544965\n"
     ]
    },
    {
     "name": "stderr",
     "output_type": "stream",
     "text": [
      "epoch #686|  0%|                                                |ETA:   0:00:55"
     ]
    },
    {
     "name": "stdout",
     "output_type": "stream",
     "text": [
      "---------------------\n",
      "GEN Loss: 8.321304 7.6806107\n",
      "Feature Matching Loss: 0.021461401 0.016191537\n",
      "RECON Loss: 0.009824229 0.010076169\n",
      "DIS Loss: 0.0005837519 0.0008180733\n"
     ]
    },
    {
     "name": "stderr",
     "output_type": "stream",
     "text": [
      "epoch #687|  0%|                                                |ETA:   0:01:03"
     ]
    },
    {
     "name": "stdout",
     "output_type": "stream",
     "text": [
      "---------------------\n",
      "GEN Loss: 8.365067 7.7414417\n",
      "Feature Matching Loss: 0.02152545 0.016263513\n",
      "RECON Loss: 0.009785925 0.010018158\n",
      "DIS Loss: 0.0005622066 0.000779967\n"
     ]
    },
    {
     "name": "stderr",
     "output_type": "stream",
     "text": [
      "epoch #688|  0%|                                                |ETA:   0:00:54"
     ]
    },
    {
     "name": "stdout",
     "output_type": "stream",
     "text": [
      "---------------------\n",
      "GEN Loss: 8.410821 7.792\n",
      "Feature Matching Loss: 0.021612123 0.016336756\n",
      "RECON Loss: 0.009745991 0.009980487\n",
      "DIS Loss: 0.0005445705 0.00074879953\n"
     ]
    },
    {
     "name": "stderr",
     "output_type": "stream",
     "text": [
      "epoch #689|  0%|                                                |ETA:   0:01:20"
     ]
    },
    {
     "name": "stdout",
     "output_type": "stream",
     "text": [
      "---------------------\n",
      "GEN Loss: 8.471621 7.8413286\n",
      "Feature Matching Loss: 0.021836314 0.016393246\n",
      "RECON Loss: 0.009705205 0.009931251\n",
      "DIS Loss: 0.0005215869 0.00071997\n"
     ]
    },
    {
     "name": "stderr",
     "output_type": "stream",
     "text": [
      "epoch #690|  0%|                                                |ETA:   0:00:58"
     ]
    },
    {
     "name": "stdout",
     "output_type": "stream",
     "text": [
      "---------------------\n",
      "GEN Loss: 8.497806 7.896753\n",
      "Feature Matching Loss: 0.02177186 0.016480882\n",
      "RECON Loss: 0.00966928 0.009896444\n",
      "DIS Loss: 0.00050670863 0.00069054065\n"
     ]
    },
    {
     "name": "stderr",
     "output_type": "stream",
     "text": [
      "epoch #691|  0%|                                                |ETA:   0:00:56"
     ]
    },
    {
     "name": "stdout",
     "output_type": "stream",
     "text": [
      "---------------------\n",
      "GEN Loss: 8.464317 7.9511595\n",
      "Feature Matching Loss: 0.02146215 0.016553309\n",
      "RECON Loss: 0.009725424 0.009917239\n",
      "DIS Loss: 0.00050605385 0.0006639218\n"
     ]
    },
    {
     "name": "stderr",
     "output_type": "stream",
     "text": [
      "epoch #692|  0%|                                                |ETA:   0:01:01"
     ]
    },
    {
     "name": "stdout",
     "output_type": "stream",
     "text": [
      "---------------------\n",
      "GEN Loss: 8.645651 7.999123\n",
      "Feature Matching Loss: 0.022599015 0.016617486\n",
      "RECON Loss: 0.009615821 0.009860793\n",
      "DIS Loss: 0.0004736936 0.0006467756\n"
     ]
    },
    {
     "name": "stderr",
     "output_type": "stream",
     "text": [
      "epoch #693|  0%|                                                |ETA:   0:01:04"
     ]
    },
    {
     "name": "stdout",
     "output_type": "stream",
     "text": [
      "---------------------\n",
      "GEN Loss: 8.24047 8.030446\n",
      "Feature Matching Loss: 0.020183861 0.016659569\n",
      "RECON Loss: 0.0095719565 0.0098364875\n",
      "DIS Loss: 0.00062215864 0.0006198884\n"
     ]
    },
    {
     "name": "stderr",
     "output_type": "stream",
     "text": [
      "epoch #694|  0%|                                                |ETA:   0:00:55"
     ]
    },
    {
     "name": "stdout",
     "output_type": "stream",
     "text": [
      "---------------------\n",
      "GEN Loss: 0.8559649 0.70777375\n",
      "Feature Matching Loss: 0.029851295 0.061429814\n",
      "RECON Loss: 0.033097673 0.026164308\n",
      "DIS Loss: 0.97590786 1.1946721\n"
     ]
    },
    {
     "name": "stderr",
     "output_type": "stream",
     "text": [
      "epoch #695|  0%|                                                |ETA:   0:00:54"
     ]
    },
    {
     "name": "stdout",
     "output_type": "stream",
     "text": [
      "---------------------\n",
      "GEN Loss: 0.75145286 0.68050736\n",
      "Feature Matching Loss: 0.015245333 0.020783436\n",
      "RECON Loss: 0.015443738 0.01482741\n",
      "DIS Loss: 0.73385763 0.73390245\n"
     ]
    },
    {
     "name": "stderr",
     "output_type": "stream",
     "text": [
      "epoch #696|  0%|                                                |ETA:   0:00:57"
     ]
    },
    {
     "name": "stdout",
     "output_type": "stream",
     "text": [
      "---------------------\n",
      "GEN Loss: 0.71809995 0.8167111\n",
      "Feature Matching Loss: 0.012843205 0.019589867\n",
      "RECON Loss: 0.013367231 0.013062018\n",
      "DIS Loss: 0.69877416 0.63054204\n"
     ]
    },
    {
     "name": "stderr",
     "output_type": "stream",
     "text": [
      "epoch #697|  0%|                                                |ETA:   0:00:54"
     ]
    },
    {
     "name": "stdout",
     "output_type": "stream",
     "text": [
      "---------------------\n",
      "GEN Loss: 0.72839427 0.50933945\n",
      "Feature Matching Loss: 0.011597681 0.033955187\n",
      "RECON Loss: 0.015075948 0.013659507\n",
      "DIS Loss: 0.6888484 0.73449856\n"
     ]
    },
    {
     "name": "stderr",
     "output_type": "stream",
     "text": [
      "epoch #698|  0%|                                                |ETA:   0:00:55"
     ]
    },
    {
     "name": "stdout",
     "output_type": "stream",
     "text": [
      "---------------------\n",
      "GEN Loss: 0.72223824 0.89182794\n",
      "Feature Matching Loss: 0.013485391 0.06417444\n",
      "RECON Loss: 0.0164938 0.01430889\n",
      "DIS Loss: 0.6920331 0.6292448\n"
     ]
    },
    {
     "name": "stderr",
     "output_type": "stream",
     "text": [
      "epoch #699|  0%|                                                |ETA:   0:01:24"
     ]
    },
    {
     "name": "stdout",
     "output_type": "stream",
     "text": [
      "---------------------\n",
      "GEN Loss: 0.73175985 1.3745556\n",
      "Feature Matching Loss: 0.0121511165 0.054620855\n",
      "RECON Loss: 0.016887495 0.014477722\n",
      "DIS Loss: 0.6811725 0.40903816\n"
     ]
    },
    {
     "name": "stderr",
     "output_type": "stream",
     "text": [
      "epoch #700|N/A%|                                                |ETA:  --:--:--"
     ]
    },
    {
     "name": "stdout",
     "output_type": "stream",
     "text": [
      "---------------------\n"
     ]
    },
    {
     "name": "stderr",
     "output_type": "stream",
     "text": [
      "\r",
      "                                                                               \r",
      "\r",
      "epoch #700|  0%|                                                |ETA:   0:01:50"
     ]
    },
    {
     "name": "stdout",
     "output_type": "stream",
     "text": [
      "GEN Loss: 0.7448526 2.0096264\n",
      "Feature Matching Loss: 0.015130089 0.04244735\n",
      "RECON Loss: 0.016405348 0.014194085\n",
      "DIS Loss: 0.6714748 0.21037564\n"
     ]
    },
    {
     "name": "stderr",
     "output_type": "stream",
     "text": [
      "epoch #701|  0%|                                                |ETA:   0:00:55"
     ]
    },
    {
     "name": "stdout",
     "output_type": "stream",
     "text": [
      "---------------------\n",
      "GEN Loss: 0.8148968 3.4532657\n",
      "Feature Matching Loss: 0.017304271 0.034925923\n",
      "RECON Loss: 0.01617119 0.014275366\n",
      "DIS Loss: 0.6528202 0.11764527\n"
     ]
    },
    {
     "name": "stderr",
     "output_type": "stream",
     "text": [
      "epoch #702|  0%|                                                |ETA:   0:00:59"
     ]
    },
    {
     "name": "stdout",
     "output_type": "stream",
     "text": [
      "---------------------\n",
      "GEN Loss: 0.3867859 3.920058\n",
      "Feature Matching Loss: 0.038726535 0.029665029\n",
      "RECON Loss: 0.019453919 0.017465806\n",
      "DIS Loss: 0.8616855 0.063823685\n"
     ]
    },
    {
     "name": "stderr",
     "output_type": "stream",
     "text": [
      "epoch #703|  0%|                                                |ETA:   0:00:53"
     ]
    },
    {
     "name": "stdout",
     "output_type": "stream",
     "text": [
      "---------------------\n",
      "GEN Loss: 0.76100504 3.95124\n",
      "Feature Matching Loss: 0.04442931 0.023524206\n",
      "RECON Loss: 0.019953499 0.018063787\n",
      "DIS Loss: 0.5851909 0.050227102\n"
     ]
    },
    {
     "name": "stderr",
     "output_type": "stream",
     "text": [
      "epoch #704|  0%|                                                |ETA:   0:00:58"
     ]
    },
    {
     "name": "stdout",
     "output_type": "stream",
     "text": [
      "---------------------\n",
      "GEN Loss: 2.021896 4.6285315\n",
      "Feature Matching Loss: 0.035381064 0.017976794\n",
      "RECON Loss: 0.018716946 0.019421257\n",
      "DIS Loss: 0.2901035 0.038817205\n"
     ]
    },
    {
     "name": "stderr",
     "output_type": "stream",
     "text": [
      "epoch #705|  0%|                                                |ETA:   0:00:53"
     ]
    },
    {
     "name": "stdout",
     "output_type": "stream",
     "text": [
      "---------------------\n",
      "GEN Loss: 3.2092698 4.8652744\n",
      "Feature Matching Loss: 0.03199461 0.015321409\n",
      "RECON Loss: 0.018051859 0.018265095\n",
      "DIS Loss: 0.11885196 0.022054562\n"
     ]
    },
    {
     "name": "stderr",
     "output_type": "stream",
     "text": [
      "epoch #706|  0%|                                                |ETA:   0:00:56"
     ]
    },
    {
     "name": "stdout",
     "output_type": "stream",
     "text": [
      "---------------------\n",
      "GEN Loss: 3.8399029 4.5835037\n",
      "Feature Matching Loss: 0.02701524 0.01440005\n",
      "RECON Loss: 0.016639393 0.01681058\n",
      "DIS Loss: 0.06511639 0.017362587\n"
     ]
    },
    {
     "name": "stderr",
     "output_type": "stream",
     "text": [
      "epoch #707|  0%|                                                |ETA:   0:00:54"
     ]
    },
    {
     "name": "stdout",
     "output_type": "stream",
     "text": [
      "---------------------\n",
      "GEN Loss: 4.243024 4.5583096\n",
      "Feature Matching Loss: 0.02046049 0.01414337\n",
      "RECON Loss: 0.016063653 0.016247354\n",
      "DIS Loss: 0.039170306 0.01564316\n"
     ]
    },
    {
     "name": "stderr",
     "output_type": "stream",
     "text": [
      "epoch #708|  0%|                                                |ETA:   0:00:58"
     ]
    },
    {
     "name": "stdout",
     "output_type": "stream",
     "text": [
      "---------------------\n",
      "GEN Loss: 4.6936803 4.8477583\n",
      "Feature Matching Loss: 0.018387616 0.014151821\n",
      "RECON Loss: 0.015207982 0.015828317\n",
      "DIS Loss: 0.02329046 0.011805198\n"
     ]
    },
    {
     "name": "stderr",
     "output_type": "stream",
     "text": [
      "epoch #709|  0%|                                                |ETA:   0:00:54"
     ]
    },
    {
     "name": "stdout",
     "output_type": "stream",
     "text": [
      "---------------------\n",
      "GEN Loss: 4.9893975 5.1809974\n",
      "Feature Matching Loss: 0.01672271 0.014254975\n",
      "RECON Loss: 0.014578303 0.015298511\n",
      "DIS Loss: 0.016410304 0.009000042\n"
     ]
    },
    {
     "name": "stderr",
     "output_type": "stream",
     "text": [
      "epoch #710|  0%|                                                |ETA:   0:00:54"
     ]
    },
    {
     "name": "stdout",
     "output_type": "stream",
     "text": [
      "---------------------\n",
      "GEN Loss: 4.983599 5.441913\n",
      "Feature Matching Loss: 0.016481476 0.014329579\n",
      "RECON Loss: 0.014049757 0.01472365\n",
      "DIS Loss: 0.012281114 0.0073985565\n"
     ]
    },
    {
     "name": "stderr",
     "output_type": "stream",
     "text": [
      "epoch #711|  0%|                                                |ETA:   0:00:54"
     ]
    },
    {
     "name": "stdout",
     "output_type": "stream",
     "text": [
      "---------------------\n",
      "GEN Loss: 5.3154974 5.6718636\n",
      "Feature Matching Loss: 0.01635217 0.014426794\n",
      "RECON Loss: 0.01363728 0.01421102\n",
      "DIS Loss: 0.00863815 0.006267069\n"
     ]
    },
    {
     "name": "stderr",
     "output_type": "stream",
     "text": [
      "epoch #712|  0%|                                                |ETA:   0:00:52"
     ]
    },
    {
     "name": "stdout",
     "output_type": "stream",
     "text": [
      "---------------------\n",
      "GEN Loss: 5.6952 5.8758926\n",
      "Feature Matching Loss: 0.01658012 0.014539173\n",
      "RECON Loss: 0.013293604 0.0137768295\n",
      "DIS Loss: 0.0067180227 0.005416243\n"
     ]
    },
    {
     "name": "stderr",
     "output_type": "stream",
     "text": [
      "epoch #713|  0%|                                                |ETA:   0:00:59"
     ]
    },
    {
     "name": "stdout",
     "output_type": "stream",
     "text": [
      "---------------------\n",
      "GEN Loss: 6.000701 6.0418043\n",
      "Feature Matching Loss: 0.01694181 0.0146308765\n",
      "RECON Loss: 0.012996978 0.013421735\n",
      "DIS Loss: 0.0055992426 0.004782332\n"
     ]
    },
    {
     "name": "stderr",
     "output_type": "stream",
     "text": [
      "epoch #714|  0%|                                                |ETA:   0:00:55"
     ]
    },
    {
     "name": "stdout",
     "output_type": "stream",
     "text": [
      "---------------------\n",
      "GEN Loss: 6.229861 6.1857467\n",
      "Feature Matching Loss: 0.017289551 0.014709687\n",
      "RECON Loss: 0.012740651 0.013131748\n",
      "DIS Loss: 0.004796736 0.0042788195\n"
     ]
    },
    {
     "name": "stderr",
     "output_type": "stream",
     "text": [
      "epoch #715|  0%|                                                |ETA:   0:00:54"
     ]
    },
    {
     "name": "stdout",
     "output_type": "stream",
     "text": [
      "---------------------\n",
      "GEN Loss: 6.424736 6.30844\n",
      "Feature Matching Loss: 0.017614271 0.014788862\n",
      "RECON Loss: 0.012512481 0.012875537\n",
      "DIS Loss: 0.0041776923 0.0038507513\n"
     ]
    },
    {
     "name": "stderr",
     "output_type": "stream",
     "text": [
      "epoch #716|  0%|                                                |ETA:   0:00:55"
     ]
    },
    {
     "name": "stdout",
     "output_type": "stream",
     "text": [
      "---------------------\n",
      "GEN Loss: 6.6031356 6.409398\n",
      "Feature Matching Loss: 0.01792442 0.014869673\n",
      "RECON Loss: 0.012306008 0.012645358\n",
      "DIS Loss: 0.0036826066 0.00349254\n"
     ]
    },
    {
     "name": "stderr",
     "output_type": "stream",
     "text": [
      "epoch #717|  0%|                                                |ETA:   0:00:53"
     ]
    },
    {
     "name": "stdout",
     "output_type": "stream",
     "text": [
      "---------------------\n",
      "GEN Loss: 6.7529593 6.4954596\n",
      "Feature Matching Loss: 0.018226542 0.014936174\n",
      "RECON Loss: 0.012118447 0.012437227\n",
      "DIS Loss: 0.0032793381 0.0032022176\n"
     ]
    },
    {
     "name": "stderr",
     "output_type": "stream",
     "text": [
      "epoch #718|  0%|                                                |ETA:   0:00:59"
     ]
    },
    {
     "name": "stdout",
     "output_type": "stream",
     "text": [
      "---------------------\n",
      "GEN Loss: 6.8905473 6.5785694\n",
      "Feature Matching Loss: 0.018504612 0.015005498\n",
      "RECON Loss: 0.011950426 0.0122568365\n",
      "DIS Loss: 0.0029444774 0.0029419716\n"
     ]
    },
    {
     "name": "stderr",
     "output_type": "stream",
     "text": [
      "epoch #719|  0%|                                                |ETA:   0:00:58"
     ]
    },
    {
     "name": "stdout",
     "output_type": "stream",
     "text": [
      "---------------------\n",
      "GEN Loss: 7.013302 6.6474237\n",
      "Feature Matching Loss: 0.018767597 0.015072694\n",
      "RECON Loss: 0.011798322 0.012088342\n",
      "DIS Loss: 0.002662513 0.002724797\n"
     ]
    },
    {
     "name": "stderr",
     "output_type": "stream",
     "text": [
      "epoch #720|  0%|                                                |ETA:   0:01:03"
     ]
    },
    {
     "name": "stdout",
     "output_type": "stream",
     "text": [
      "---------------------\n",
      "GEN Loss: 7.122099 6.7115498\n",
      "Feature Matching Loss: 0.0190326 0.015141765\n",
      "RECON Loss: 0.011658659 0.011935592\n",
      "DIS Loss: 0.0024149055 0.0025277091\n"
     ]
    },
    {
     "name": "stderr",
     "output_type": "stream",
     "text": [
      "epoch #721|  0%|                                                |ETA:   0:00:53"
     ]
    },
    {
     "name": "stdout",
     "output_type": "stream",
     "text": [
      "---------------------\n",
      "GEN Loss: 7.2218375 6.7713737\n",
      "Feature Matching Loss: 0.019299172 0.01520724\n",
      "RECON Loss: 0.011527742 0.011795936\n",
      "DIS Loss: 0.002200781 0.0023597614\n"
     ]
    },
    {
     "name": "stderr",
     "output_type": "stream",
     "text": [
      "epoch #722|  0%|                                                |ETA:   0:00:53"
     ]
    },
    {
     "name": "stdout",
     "output_type": "stream",
     "text": [
      "---------------------\n",
      "GEN Loss: 7.3130302 6.8281975\n",
      "Feature Matching Loss: 0.01955478 0.015266721\n",
      "RECON Loss: 0.011404917 0.011664811\n",
      "DIS Loss: 0.002018324 0.0022077765\n"
     ]
    },
    {
     "name": "stderr",
     "output_type": "stream",
     "text": [
      "epoch #723|  0%|                                                |ETA:   0:00:57"
     ]
    },
    {
     "name": "stdout",
     "output_type": "stream",
     "text": [
      "---------------------\n",
      "GEN Loss: 7.3910575 6.878666\n",
      "Feature Matching Loss: 0.019793551 0.015314816\n",
      "RECON Loss: 0.0112929 0.011546294\n",
      "DIS Loss: 0.0018549046 0.0020767183\n"
     ]
    },
    {
     "name": "stderr",
     "output_type": "stream",
     "text": [
      "epoch #724|  0%|                                                |ETA:   0:00:55"
     ]
    },
    {
     "name": "stdout",
     "output_type": "stream",
     "text": [
      "---------------------\n",
      "GEN Loss: 7.458063 6.9281545\n",
      "Feature Matching Loss: 0.02001815 0.015370293\n",
      "RECON Loss: 0.011186953 0.011434748\n",
      "DIS Loss: 0.0017104109 0.0019589453\n"
     ]
    },
    {
     "name": "stderr",
     "output_type": "stream",
     "text": [
      "epoch #725|  0%|                                                |ETA:   0:00:52"
     ]
    },
    {
     "name": "stdout",
     "output_type": "stream",
     "text": [
      "---------------------\n",
      "GEN Loss: 7.522686 6.976672\n",
      "Feature Matching Loss: 0.020237006 0.015422476\n",
      "RECON Loss: 0.011083895 0.011333386\n",
      "DIS Loss: 0.0015813353 0.0018469811\n"
     ]
    },
    {
     "name": "stderr",
     "output_type": "stream",
     "text": [
      "epoch #726|  0%|                                                |ETA:   0:00:54"
     ]
    },
    {
     "name": "stdout",
     "output_type": "stream",
     "text": [
      "---------------------\n",
      "GEN Loss: 7.581012 7.022008\n",
      "Feature Matching Loss: 0.020426426 0.015462915\n",
      "RECON Loss: 0.010987575 0.011237557\n",
      "DIS Loss: 0.0014695635 0.0017479076\n"
     ]
    },
    {
     "name": "stderr",
     "output_type": "stream",
     "text": [
      "epoch #727|  0%|                                                |ETA:   0:00:58"
     ]
    },
    {
     "name": "stdout",
     "output_type": "stream",
     "text": [
      "---------------------\n",
      "GEN Loss: 7.6342564 7.0639434\n",
      "Feature Matching Loss: 0.020602593 0.015504549\n",
      "RECON Loss: 0.010895027 0.011154592\n",
      "DIS Loss: 0.0013671664 0.0016599742\n"
     ]
    },
    {
     "name": "stderr",
     "output_type": "stream",
     "text": [
      "epoch #728|  0%|                                                |ETA:   0:00:55"
     ]
    },
    {
     "name": "stdout",
     "output_type": "stream",
     "text": [
      "---------------------\n",
      "GEN Loss: 7.6873956 7.1087756\n",
      "Feature Matching Loss: 0.020780211 0.015542682\n",
      "RECON Loss: 0.010808136 0.011070049\n",
      "DIS Loss: 0.0012743794 0.0015788638\n"
     ]
    },
    {
     "name": "stderr",
     "output_type": "stream",
     "text": [
      "epoch #729|  0%|                                                |ETA:   0:00:52"
     ]
    },
    {
     "name": "stdout",
     "output_type": "stream",
     "text": [
      "---------------------\n",
      "GEN Loss: 7.7404203 7.1577263\n",
      "Feature Matching Loss: 0.020945981 0.0155790765\n",
      "RECON Loss: 0.010726882 0.010995723\n",
      "DIS Loss: 0.0011946219 0.0015036447\n"
     ]
    },
    {
     "name": "stderr",
     "output_type": "stream",
     "text": [
      "epoch #730|  0%|                                                |ETA:   0:00:54"
     ]
    },
    {
     "name": "stdout",
     "output_type": "stream",
     "text": [
      "---------------------\n",
      "GEN Loss: 7.789966 7.207196\n",
      "Feature Matching Loss: 0.021124508 0.015623147\n",
      "RECON Loss: 0.010647712 0.010919528\n",
      "DIS Loss: 0.0011194821 0.0014333525\n"
     ]
    },
    {
     "name": "stderr",
     "output_type": "stream",
     "text": [
      "epoch #731|  0%|                                                |ETA:   0:00:54"
     ]
    },
    {
     "name": "stdout",
     "output_type": "stream",
     "text": [
      "---------------------\n",
      "GEN Loss: 7.8320727 7.254216\n",
      "Feature Matching Loss: 0.02130102 0.015673669\n",
      "RECON Loss: 0.010572663 0.010847315\n",
      "DIS Loss: 0.0010521648 0.0013672982\n"
     ]
    },
    {
     "name": "stderr",
     "output_type": "stream",
     "text": [
      "epoch #732|  0%|                                                |ETA:   0:01:23"
     ]
    },
    {
     "name": "stdout",
     "output_type": "stream",
     "text": [
      "---------------------\n",
      "GEN Loss: 7.876306 7.301412\n",
      "Feature Matching Loss: 0.021471577 0.01572447\n",
      "RECON Loss: 0.010500763 0.01077579\n",
      "DIS Loss: 0.0009930896 0.0013052509\n"
     ]
    },
    {
     "name": "stderr",
     "output_type": "stream",
     "text": [
      "epoch #733|  0%|                                                |ETA:   0:01:25"
     ]
    },
    {
     "name": "stdout",
     "output_type": "stream",
     "text": [
      "---------------------\n",
      "GEN Loss: 7.9155073 7.353192\n",
      "Feature Matching Loss: 0.021639805 0.01578568\n",
      "RECON Loss: 0.01043142 0.010720238\n",
      "DIS Loss: 0.0009401615 0.0012425883\n"
     ]
    },
    {
     "name": "stderr",
     "output_type": "stream",
     "text": [
      "epoch #734|  0%|                                                |ETA:   0:00:52"
     ]
    },
    {
     "name": "stdout",
     "output_type": "stream",
     "text": [
      "---------------------\n",
      "GEN Loss: 7.9579945 7.400807\n",
      "Feature Matching Loss: 0.021790577 0.01584234\n",
      "RECON Loss: 0.010366749 0.01065268\n",
      "DIS Loss: 0.00089042785 0.0011864344\n"
     ]
    },
    {
     "name": "stderr",
     "output_type": "stream",
     "text": [
      "epoch #735|  0%|                                                |ETA:   0:00:52"
     ]
    },
    {
     "name": "stdout",
     "output_type": "stream",
     "text": [
      "---------------------\n",
      "GEN Loss: 8.000376 7.448616\n",
      "Feature Matching Loss: 0.021932751 0.01588642\n",
      "RECON Loss: 0.010305792 0.010585548\n",
      "DIS Loss: 0.00084558566 0.0011326696\n"
     ]
    },
    {
     "name": "stderr",
     "output_type": "stream",
     "text": [
      "epoch #736|  0%|                                                |ETA:   0:00:53"
     ]
    },
    {
     "name": "stdout",
     "output_type": "stream",
     "text": [
      "---------------------\n",
      "GEN Loss: 8.040979 7.496283\n",
      "Feature Matching Loss: 0.022043964 0.015940547\n",
      "RECON Loss: 0.010246314 0.010543923\n",
      "DIS Loss: 0.00080471067 0.0010817966\n"
     ]
    },
    {
     "name": "stderr",
     "output_type": "stream",
     "text": [
      "epoch #737|  0%|                                                |ETA:   0:00:54"
     ]
    },
    {
     "name": "stdout",
     "output_type": "stream",
     "text": [
      "---------------------\n",
      "GEN Loss: 8.081905 7.5468163\n",
      "Feature Matching Loss: 0.022160562 0.01600291\n",
      "RECON Loss: 0.010191897 0.01049157\n",
      "DIS Loss: 0.0007676707 0.0010339711\n"
     ]
    },
    {
     "name": "stderr",
     "output_type": "stream",
     "text": [
      "epoch #738|  0%|                                                |ETA:   0:00:57"
     ]
    },
    {
     "name": "stdout",
     "output_type": "stream",
     "text": [
      "---------------------\n",
      "GEN Loss: 8.118572 7.602193\n",
      "Feature Matching Loss: 0.022258883 0.016059548\n",
      "RECON Loss: 0.010136577 0.010438256\n",
      "DIS Loss: 0.00073453446 0.0009891222\n"
     ]
    },
    {
     "name": "stderr",
     "output_type": "stream",
     "text": [
      "epoch #739|  0%|                                                |ETA:   0:00:52"
     ]
    },
    {
     "name": "stdout",
     "output_type": "stream",
     "text": [
      "---------------------\n",
      "GEN Loss: 8.161238 7.650097\n",
      "Feature Matching Loss: 0.02236693 0.016106658\n",
      "RECON Loss: 0.010081003 0.010385226\n",
      "DIS Loss: 0.00070258894 0.0009492837\n"
     ]
    },
    {
     "name": "stderr",
     "output_type": "stream",
     "text": [
      "epoch #740|  0%|                                                |ETA:   0:00:53"
     ]
    },
    {
     "name": "stdout",
     "output_type": "stream",
     "text": [
      "---------------------\n",
      "GEN Loss: 8.202537 7.7006645\n",
      "Feature Matching Loss: 0.022465862 0.016179556\n",
      "RECON Loss: 0.010029223 0.010397953\n",
      "DIS Loss: 0.0006717625 0.00090986915\n"
     ]
    },
    {
     "name": "stderr",
     "output_type": "stream",
     "text": [
      "epoch #741|  0%|                                                |ETA:   0:00:55"
     ]
    },
    {
     "name": "stdout",
     "output_type": "stream",
     "text": [
      "---------------------\n",
      "GEN Loss: 8.246773 7.7437477\n",
      "Feature Matching Loss: 0.022591844 0.01623971\n",
      "RECON Loss: 0.009978527 0.010285972\n",
      "DIS Loss: 0.00064384914 0.0008730928\n"
     ]
    },
    {
     "name": "stderr",
     "output_type": "stream",
     "text": [
      "epoch #742|  0%|                                                |ETA:   0:00:56"
     ]
    },
    {
     "name": "stdout",
     "output_type": "stream",
     "text": [
      "---------------------\n",
      "GEN Loss: 8.286992 7.7950478\n",
      "Feature Matching Loss: 0.022695208 0.01629501\n",
      "RECON Loss: 0.0099342475 0.010383898\n",
      "DIS Loss: 0.00061773194 0.0008375363\n"
     ]
    },
    {
     "name": "stderr",
     "output_type": "stream",
     "text": [
      "epoch #743|  0%|                                                |ETA:   0:00:57"
     ]
    },
    {
     "name": "stdout",
     "output_type": "stream",
     "text": [
      "---------------------\n",
      "GEN Loss: 8.331561 7.843109\n",
      "Feature Matching Loss: 0.022797909 0.01635255\n",
      "RECON Loss: 0.009875834 0.010209998\n",
      "DIS Loss: 0.0005907273 0.0008037576\n"
     ]
    },
    {
     "name": "stderr",
     "output_type": "stream",
     "text": [
      "epoch #744|  0%|                                                |ETA:   0:00:56"
     ]
    },
    {
     "name": "stdout",
     "output_type": "stream",
     "text": [
      "---------------------\n",
      "GEN Loss: 8.375988 7.8968515\n",
      "Feature Matching Loss: 0.022948328 0.016420152\n",
      "RECON Loss: 0.009835108 0.010161213\n",
      "DIS Loss: 0.00056658295 0.0007713098\n"
     ]
    },
    {
     "name": "stderr",
     "output_type": "stream",
     "text": [
      "epoch #745|  0%|                                                |ETA:   0:00:52"
     ]
    },
    {
     "name": "stdout",
     "output_type": "stream",
     "text": [
      "---------------------\n",
      "GEN Loss: 8.420501 7.954028\n",
      "Feature Matching Loss: 0.023088936 0.016494352\n",
      "RECON Loss: 0.009792883 0.010113441\n",
      "DIS Loss: 0.0005460204 0.0007393869\n"
     ]
    },
    {
     "name": "stderr",
     "output_type": "stream",
     "text": [
      "epoch #746|  0%|                                                |ETA:   0:00:53"
     ]
    },
    {
     "name": "stdout",
     "output_type": "stream",
     "text": [
      "---------------------\n",
      "GEN Loss: 8.459444 8.013565\n",
      "Feature Matching Loss: 0.023182148 0.016577374\n",
      "RECON Loss: 0.009764416 0.010138486\n",
      "DIS Loss: 0.00052663154 0.00071417144\n"
     ]
    },
    {
     "name": "stderr",
     "output_type": "stream",
     "text": [
      "epoch #747|  0%|                                                |ETA:   0:00:53"
     ]
    },
    {
     "name": "stdout",
     "output_type": "stream",
     "text": [
      "---------------------\n",
      "GEN Loss: 8.481545 8.065149\n",
      "Feature Matching Loss: 0.023029711 0.016629554\n",
      "RECON Loss: 0.00970529 0.01005279\n",
      "DIS Loss: 0.0005129138 0.0006941392\n"
     ]
    },
    {
     "name": "stderr",
     "output_type": "stream",
     "text": [
      "epoch #748|  0%|                                                |ETA:   0:00:55"
     ]
    },
    {
     "name": "stdout",
     "output_type": "stream",
     "text": [
      "---------------------\n",
      "GEN Loss: 8.581312 7.9782553\n",
      "Feature Matching Loss: 0.023865296 0.016459929\n",
      "RECON Loss: 0.009766756 0.010166135\n",
      "DIS Loss: 0.0004909354 0.0007270803\n"
     ]
    },
    {
     "name": "stderr",
     "output_type": "stream",
     "text": [
      "epoch #749|  0%|                                                |ETA:   0:00:52"
     ]
    },
    {
     "name": "stdout",
     "output_type": "stream",
     "text": [
      "---------------------\n",
      "GEN Loss: 8.376293 8.060404\n",
      "Feature Matching Loss: 0.02188443 0.016693177\n",
      "RECON Loss: 0.009656692 0.010053876\n",
      "DIS Loss: 0.0005951165 0.000702834\n"
     ]
    },
    {
     "name": "stderr",
     "output_type": "stream",
     "text": [
      "epoch #750|  0%|                                                |ETA:   0:00:55"
     ]
    },
    {
     "name": "stdout",
     "output_type": "stream",
     "text": [
      "---------------------\n",
      "GEN Loss: 7.9664516 8.0239105\n",
      "Feature Matching Loss: 0.019688217 0.016544417\n",
      "RECON Loss: 0.009810014 0.01029147\n",
      "DIS Loss: 0.0028068353 0.000713423\n"
     ]
    },
    {
     "name": "stderr",
     "output_type": "stream",
     "text": [
      "epoch #751|  0%|                                                |ETA:   0:00:57"
     ]
    },
    {
     "name": "stdout",
     "output_type": "stream",
     "text": [
      "---------------------\n",
      "GEN Loss: 0.7807823 0.6589394\n",
      "Feature Matching Loss: 0.030878186 0.043053735\n",
      "RECON Loss: 0.02431633 0.023830418\n",
      "DIS Loss: 0.91049594 1.0251201\n"
     ]
    },
    {
     "name": "stderr",
     "output_type": "stream",
     "text": [
      "epoch #752|  0%|                                                |ETA:   0:00:53"
     ]
    },
    {
     "name": "stdout",
     "output_type": "stream",
     "text": [
      "---------------------\n",
      "GEN Loss: 0.73738533 0.7122944\n",
      "Feature Matching Loss: 0.012699822 0.01908506\n",
      "RECON Loss: 0.01375919 0.014710656\n",
      "DIS Loss: 0.71035427 0.6806964\n"
     ]
    },
    {
     "name": "stderr",
     "output_type": "stream",
     "text": [
      "epoch #753|  0%|                                                |ETA:   0:00:58"
     ]
    },
    {
     "name": "stdout",
     "output_type": "stream",
     "text": [
      "---------------------\n",
      "GEN Loss: 0.7566468 0.7624237\n",
      "Feature Matching Loss: 0.012263399 0.016131027\n",
      "RECON Loss: 0.012327848 0.013089832\n",
      "DIS Loss: 0.68866456 0.64921397\n"
     ]
    },
    {
     "name": "stderr",
     "output_type": "stream",
     "text": [
      "epoch #754|  0%|                                                |ETA:   0:00:52"
     ]
    },
    {
     "name": "stdout",
     "output_type": "stream",
     "text": [
      "---------------------\n",
      "GEN Loss: 0.7435793 0.7967058\n",
      "Feature Matching Loss: 0.0123215085 0.016816985\n",
      "RECON Loss: 0.012124559 0.013702286\n",
      "DIS Loss: 0.6887531 0.643309\n"
     ]
    },
    {
     "name": "stderr",
     "output_type": "stream",
     "text": [
      "epoch #755|  0%|                                                |ETA:   0:00:56"
     ]
    },
    {
     "name": "stdout",
     "output_type": "stream",
     "text": [
      "---------------------\n",
      "GEN Loss: 0.76921976 1.5622848\n",
      "Feature Matching Loss: 0.012834166 0.027485885\n",
      "RECON Loss: 0.014694533 0.014752073\n",
      "DIS Loss: 0.66634244 0.71772194\n"
     ]
    },
    {
     "name": "stderr",
     "output_type": "stream",
     "text": [
      "epoch #756|  0%|                                                |ETA:   0:00:54"
     ]
    },
    {
     "name": "stdout",
     "output_type": "stream",
     "text": [
      "---------------------\n",
      "GEN Loss: 0.9123012 3.301414\n",
      "Feature Matching Loss: 0.01693432 0.034723055\n",
      "RECON Loss: 0.0161118 0.016277067\n",
      "DIS Loss: 0.6270144 0.73907816\n"
     ]
    },
    {
     "name": "stderr",
     "output_type": "stream",
     "text": [
      "epoch #757|  0%|                                                |ETA:   0:01:01"
     ]
    },
    {
     "name": "stdout",
     "output_type": "stream",
     "text": [
      "---------------------\n",
      "GEN Loss: 1.2258912 1.0860746\n",
      "Feature Matching Loss: 0.044669643 0.04893022\n",
      "RECON Loss: 0.020242907 0.018956535\n",
      "DIS Loss: 0.48350734 0.41955078\n"
     ]
    },
    {
     "name": "stderr",
     "output_type": "stream",
     "text": [
      "epoch #758|  0%|                                                |ETA:   0:00:53"
     ]
    },
    {
     "name": "stdout",
     "output_type": "stream",
     "text": [
      "---------------------\n",
      "GEN Loss: 2.728098 1.7098337\n",
      "Feature Matching Loss: 0.03543689 0.052601226\n",
      "RECON Loss: 0.021118239 0.02133688\n",
      "DIS Loss: 0.36292854 0.28327677\n"
     ]
    },
    {
     "name": "stderr",
     "output_type": "stream",
     "text": [
      "epoch #759|  0%|                                                |ETA:   0:00:55"
     ]
    },
    {
     "name": "stdout",
     "output_type": "stream",
     "text": [
      "---------------------\n",
      "GEN Loss: 3.316319 3.8783038\n",
      "Feature Matching Loss: 0.030860417 0.041398488\n",
      "RECON Loss: 0.020789973 0.020747548\n",
      "DIS Loss: 0.12234698 0.17482425\n"
     ]
    },
    {
     "name": "stderr",
     "output_type": "stream",
     "text": [
      "epoch #760|  0%|                                                |ETA:   0:00:56"
     ]
    },
    {
     "name": "stdout",
     "output_type": "stream",
     "text": [
      "---------------------\n",
      "GEN Loss: 2.4133244 4.041127\n",
      "Feature Matching Loss: 0.031975433 0.035166122\n",
      "RECON Loss: 0.019821499 0.021821415\n",
      "DIS Loss: 0.11681976 0.07081738\n"
     ]
    },
    {
     "name": "stderr",
     "output_type": "stream",
     "text": [
      "epoch #761|  0%|                                                |ETA:   0:00:54"
     ]
    },
    {
     "name": "stdout",
     "output_type": "stream",
     "text": [
      "---------------------\n",
      "GEN Loss: 3.9097962 3.8555663\n",
      "Feature Matching Loss: 0.024835367 0.03215641\n",
      "RECON Loss: 0.019496948 0.019756857\n",
      "DIS Loss: 0.04989723 0.05987483\n"
     ]
    },
    {
     "name": "stderr",
     "output_type": "stream",
     "text": [
      "epoch #762|  0%|                                                |ETA:   0:00:54"
     ]
    },
    {
     "name": "stdout",
     "output_type": "stream",
     "text": [
      "---------------------\n",
      "GEN Loss: 4.2214413 3.972932\n",
      "Feature Matching Loss: 0.020291245 0.02593517\n",
      "RECON Loss: 0.019226363 0.019573051\n",
      "DIS Loss: 0.030732997 0.048804365\n"
     ]
    },
    {
     "name": "stderr",
     "output_type": "stream",
     "text": [
      "epoch #763|N/A%|                                                |ETA:  --:--:--"
     ]
    },
    {
     "name": "stdout",
     "output_type": "stream",
     "text": [
      "---------------------\n",
      "GEN Loss:"
     ]
    },
    {
     "name": "stderr",
     "output_type": "stream",
     "text": [
      "\r",
      "                                                                               \r",
      "\r",
      "epoch #763|  0%|                                                |ETA:   0:01:22"
     ]
    },
    {
     "name": "stdout",
     "output_type": "stream",
     "text": [
      " 4.8165007 4.0474358\n",
      "Feature Matching Loss: 0.017679341 0.020514347\n",
      "RECON Loss: 0.01871048 0.01788793\n",
      "DIS Loss: 0.02394047 0.042886525\n"
     ]
    },
    {
     "name": "stderr",
     "output_type": "stream",
     "text": [
      "epoch #764|  0%|                                                |ETA:   0:00:54"
     ]
    },
    {
     "name": "stdout",
     "output_type": "stream",
     "text": [
      "---------------------\n",
      "GEN Loss: 4.9148164 4.4264708\n",
      "Feature Matching Loss: 0.015952501 0.01701883\n",
      "RECON Loss: 0.017761216 0.016901806\n",
      "DIS Loss: 0.01589233 0.030261587\n"
     ]
    },
    {
     "name": "stderr",
     "output_type": "stream",
     "text": [
      "epoch #765|  0%|                                                |ETA:   0:00:54"
     ]
    },
    {
     "name": "stdout",
     "output_type": "stream",
     "text": [
      "---------------------\n",
      "GEN Loss: 5.021428 4.7539253\n",
      "Feature Matching Loss: 0.015506185 0.015254021\n",
      "RECON Loss: 0.0168105 0.016118564\n",
      "DIS Loss: 0.0115192635 0.02190113\n"
     ]
    },
    {
     "name": "stderr",
     "output_type": "stream",
     "text": [
      "epoch #766|  0%|                                                |ETA:   0:00:53"
     ]
    },
    {
     "name": "stdout",
     "output_type": "stream",
     "text": [
      "---------------------\n",
      "GEN Loss: 5.382449 4.7885156\n",
      "Feature Matching Loss: 0.015910733 0.014469214\n",
      "RECON Loss: 0.016018037 0.015456088\n",
      "DIS Loss: 0.007904368 0.016307358\n"
     ]
    },
    {
     "name": "stderr",
     "output_type": "stream",
     "text": [
      "epoch #767|  0%|                                                |ETA:   0:00:56"
     ]
    },
    {
     "name": "stdout",
     "output_type": "stream",
     "text": [
      "---------------------\n",
      "GEN Loss: 5.680929 4.9334636\n",
      "Feature Matching Loss: 0.016436826 0.014118417\n",
      "RECON Loss: 0.015394561 0.014865136\n",
      "DIS Loss: 0.0061519984 0.012682227\n"
     ]
    },
    {
     "name": "stderr",
     "output_type": "stream",
     "text": [
      "epoch #768|  0%|                                                |ETA:   0:00:56"
     ]
    },
    {
     "name": "stdout",
     "output_type": "stream",
     "text": [
      "---------------------\n",
      "GEN Loss: 5.9210615 5.2081785\n",
      "Feature Matching Loss: 0.016867716 0.013988867\n",
      "RECON Loss: 0.014889158 0.014390278\n",
      "DIS Loss: 0.0049769017 0.009980852\n"
     ]
    },
    {
     "name": "stderr",
     "output_type": "stream",
     "text": [
      "epoch #769|  0%|                                                |ETA:   0:00:53"
     ]
    },
    {
     "name": "stdout",
     "output_type": "stream",
     "text": [
      "---------------------\n",
      "GEN Loss: 6.123747 5.4215527\n",
      "Feature Matching Loss: 0.01726262 0.013925736\n",
      "RECON Loss: 0.014502868 0.014013301\n",
      "DIS Loss: 0.004165571 0.008220546\n"
     ]
    },
    {
     "name": "stderr",
     "output_type": "stream",
     "text": [
      "epoch #770|  0%|                                                |ETA:   0:00:56"
     ]
    },
    {
     "name": "stdout",
     "output_type": "stream",
     "text": [
      "---------------------\n",
      "GEN Loss: 6.3183885 5.6008463\n",
      "Feature Matching Loss: 0.017636223 0.013967723\n",
      "RECON Loss: 0.0141624985 0.013714006\n",
      "DIS Loss: 0.0035808017 0.0070069996\n"
     ]
    },
    {
     "name": "stderr",
     "output_type": "stream",
     "text": [
      "epoch #771|  0%|                                                |ETA:   0:00:56"
     ]
    },
    {
     "name": "stdout",
     "output_type": "stream",
     "text": [
      "---------------------\n",
      "GEN Loss: 6.485483 5.7625184\n",
      "Feature Matching Loss: 0.017986568 0.014006015\n",
      "RECON Loss: 0.013864972 0.013449813\n",
      "DIS Loss: 0.003144477 0.006095483\n"
     ]
    },
    {
     "name": "stderr",
     "output_type": "stream",
     "text": [
      "epoch #772|  0%|                                                |ETA:   0:00:52"
     ]
    },
    {
     "name": "stdout",
     "output_type": "stream",
     "text": [
      "---------------------\n",
      "GEN Loss: 6.6349306 5.9043016\n",
      "Feature Matching Loss: 0.018328305 0.014070102\n",
      "RECON Loss: 0.013600553 0.013213092\n",
      "DIS Loss: 0.002807546 0.00541697\n"
     ]
    },
    {
     "name": "stderr",
     "output_type": "stream",
     "text": [
      "epoch #773|  0%|                                                |ETA:   0:00:57"
     ]
    },
    {
     "name": "stdout",
     "output_type": "stream",
     "text": [
      "---------------------\n",
      "GEN Loss: 6.7677956 6.0318065\n",
      "Feature Matching Loss: 0.018672258 0.014109285\n",
      "RECON Loss: 0.013363183 0.013004425\n",
      "DIS Loss: 0.0025362163 0.0048869536\n"
     ]
    },
    {
     "name": "stderr",
     "output_type": "stream",
     "text": [
      "epoch #774|  0%|                                                |ETA:   0:00:52"
     ]
    },
    {
     "name": "stdout",
     "output_type": "stream",
     "text": [
      "---------------------\n",
      "GEN Loss: 6.8891687 6.1532607\n",
      "Feature Matching Loss: 0.018994829 0.014157776\n",
      "RECON Loss: 0.013141963 0.012815861\n",
      "DIS Loss: 0.002308011 0.0044370797\n"
     ]
    },
    {
     "name": "stderr",
     "output_type": "stream",
     "text": [
      "epoch #775|  0%|                                                |ETA:   0:00:55"
     ]
    },
    {
     "name": "stdout",
     "output_type": "stream",
     "text": [
      "---------------------\n",
      "GEN Loss: 6.9921865 6.2683735\n",
      "Feature Matching Loss: 0.019289918 0.014197219\n",
      "RECON Loss: 0.012930493 0.012636333\n",
      "DIS Loss: 0.0021182783 0.0040440904\n"
     ]
    },
    {
     "name": "stderr",
     "output_type": "stream",
     "text": [
      "epoch #776|  0%|                                                |ETA:   0:00:57"
     ]
    },
    {
     "name": "stdout",
     "output_type": "stream",
     "text": [
      "---------------------\n",
      "GEN Loss: 7.08988 6.3776464\n",
      "Feature Matching Loss: 0.019549169 0.014257288\n",
      "RECON Loss: 0.01273662 0.012478608\n",
      "DIS Loss: 0.0019538188 0.0037117673\n"
     ]
    },
    {
     "name": "stderr",
     "output_type": "stream",
     "text": [
      "epoch #777|  0%|                                                |ETA:   0:00:53"
     ]
    },
    {
     "name": "stdout",
     "output_type": "stream",
     "text": [
      "---------------------\n",
      "GEN Loss: 7.1733627 6.4760213\n",
      "Feature Matching Loss: 0.019797267 0.014307292\n",
      "RECON Loss: 0.012559077 0.01232655\n",
      "DIS Loss: 0.0018079977 0.003427183\n"
     ]
    },
    {
     "name": "stderr",
     "output_type": "stream",
     "text": [
      "epoch #778|  0%|                                                |ETA:   0:00:53"
     ]
    },
    {
     "name": "stdout",
     "output_type": "stream",
     "text": [
      "---------------------\n",
      "GEN Loss: 7.2492647 6.568515\n",
      "Feature Matching Loss: 0.020024993 0.014365155\n",
      "RECON Loss: 0.012388384 0.012186766\n",
      "DIS Loss: 0.0016772539 0.0031672353\n"
     ]
    },
    {
     "name": "stderr",
     "output_type": "stream",
     "text": [
      "epoch #779|  0%|                                                |ETA:   0:00:52"
     ]
    },
    {
     "name": "stdout",
     "output_type": "stream",
     "text": [
      "---------------------\n",
      "GEN Loss: 7.3153715 6.653377\n",
      "Feature Matching Loss: 0.020235304 0.01442307\n",
      "RECON Loss: 0.01222629 0.01205204\n",
      "DIS Loss: 0.0015600617 0.0029391448\n"
     ]
    },
    {
     "name": "stderr",
     "output_type": "stream",
     "text": [
      "epoch #780|  0%|                                                |ETA:   0:00:56"
     ]
    },
    {
     "name": "stdout",
     "output_type": "stream",
     "text": [
      "---------------------\n",
      "GEN Loss: 7.3745356 6.73227\n",
      "Feature Matching Loss: 0.020424526 0.014491452\n",
      "RECON Loss: 0.012074528 0.01192846\n",
      "DIS Loss: 0.0014559372 0.0027325982\n"
     ]
    },
    {
     "name": "stderr",
     "output_type": "stream",
     "text": [
      "epoch #781|  0%|                                                |ETA:   0:00:54"
     ]
    },
    {
     "name": "stdout",
     "output_type": "stream",
     "text": [
      "---------------------\n",
      "GEN Loss: 7.4304223 6.8026543\n",
      "Feature Matching Loss: 0.020604823 0.014556646\n",
      "RECON Loss: 0.011931518 0.011801033\n",
      "DIS Loss: 0.0013629717 0.0025590595\n"
     ]
    },
    {
     "name": "stderr",
     "output_type": "stream",
     "text": [
      "epoch #782|  0%|                                                |ETA:   0:00:57"
     ]
    },
    {
     "name": "stdout",
     "output_type": "stream",
     "text": [
      "---------------------\n",
      "GEN Loss: 7.487386 6.8678503\n",
      "Feature Matching Loss: 0.020786205 0.01462313\n",
      "RECON Loss: 0.011797409 0.011697538\n",
      "DIS Loss: 0.0012778125 0.0023965964\n"
     ]
    },
    {
     "name": "stderr",
     "output_type": "stream",
     "text": [
      "epoch #783|  0%|                                                |ETA:   0:00:55"
     ]
    },
    {
     "name": "stdout",
     "output_type": "stream",
     "text": [
      "---------------------\n",
      "GEN Loss: 7.5452595 6.9383087\n",
      "Feature Matching Loss: 0.020965064 0.014690882\n",
      "RECON Loss: 0.011672502 0.011590163\n",
      "DIS Loss: 0.0011996969 0.002248779\n"
     ]
    },
    {
     "name": "stderr",
     "output_type": "stream",
     "text": [
      "epoch #784|  0%|                                                |ETA:   0:00:52"
     ]
    },
    {
     "name": "stdout",
     "output_type": "stream",
     "text": [
      "---------------------\n",
      "GEN Loss: 7.6035533 6.999511\n",
      "Feature Matching Loss: 0.021159425 0.014764726\n",
      "RECON Loss: 0.011553099 0.011486663\n",
      "DIS Loss: 0.0011278528 0.0021157367\n"
     ]
    },
    {
     "name": "stderr",
     "output_type": "stream",
     "text": [
      "epoch #785|  0%|                                                |ETA:   0:00:54"
     ]
    },
    {
     "name": "stdout",
     "output_type": "stream",
     "text": [
      "---------------------\n",
      "GEN Loss: 7.6609683 7.0621104\n",
      "Feature Matching Loss: 0.021348415 0.014835692\n",
      "RECON Loss: 0.01144081 0.011393325\n",
      "DIS Loss: 0.0010618845 0.0019921116\n"
     ]
    },
    {
     "name": "stderr",
     "output_type": "stream",
     "text": [
      "epoch #786|  0%|                                                |ETA:   0:00:56"
     ]
    },
    {
     "name": "stdout",
     "output_type": "stream",
     "text": [
      "---------------------\n",
      "GEN Loss: 7.719843 7.117383\n",
      "Feature Matching Loss: 0.021521954 0.014907743\n",
      "RECON Loss: 0.0113368705 0.011303957\n",
      "DIS Loss: 0.0010021578 0.0018844113\n"
     ]
    },
    {
     "name": "stderr",
     "output_type": "stream",
     "text": [
      "epoch #787|  0%|                                                |ETA:   0:00:57"
     ]
    },
    {
     "name": "stdout",
     "output_type": "stream",
     "text": [
      "---------------------\n",
      "GEN Loss: 7.7739882 7.174782\n",
      "Feature Matching Loss: 0.021688761 0.014982697\n",
      "RECON Loss: 0.011238299 0.011214577\n",
      "DIS Loss: 0.0009490631 0.0017876278\n"
     ]
    },
    {
     "name": "stderr",
     "output_type": "stream",
     "text": [
      "epoch #788|  0%|                                                |ETA:   0:00:56"
     ]
    },
    {
     "name": "stdout",
     "output_type": "stream",
     "text": [
      "---------------------\n",
      "GEN Loss: 7.8306837 7.2299795\n",
      "Feature Matching Loss: 0.021867473 0.015067458\n",
      "RECON Loss: 0.011142219 0.011119595\n",
      "DIS Loss: 0.000897565 0.0016975515\n"
     ]
    },
    {
     "name": "stderr",
     "output_type": "stream",
     "text": [
      "epoch #789|  0%|                                                |ETA:   0:00:53"
     ]
    },
    {
     "name": "stdout",
     "output_type": "stream",
     "text": [
      "---------------------\n",
      "GEN Loss: 7.8840876 7.281843\n",
      "Feature Matching Loss: 0.022031989 0.015145337\n",
      "RECON Loss: 0.011050562 0.01102561\n",
      "DIS Loss: 0.0008542462 0.0016125854\n"
     ]
    },
    {
     "name": "stderr",
     "output_type": "stream",
     "text": [
      "epoch #790|  0%|                                                |ETA:   0:00:53"
     ]
    },
    {
     "name": "stdout",
     "output_type": "stream",
     "text": [
      "---------------------\n",
      "GEN Loss: 7.9369144 7.336006\n",
      "Feature Matching Loss: 0.02218274 0.0152283115\n",
      "RECON Loss: 0.010961285 0.010961389\n",
      "DIS Loss: 0.00081311713 0.001530492\n"
     ]
    },
    {
     "name": "stderr",
     "output_type": "stream",
     "text": [
      "epoch #791|  0%|                                                |ETA:   0:00:55"
     ]
    },
    {
     "name": "stdout",
     "output_type": "stream",
     "text": [
      "---------------------\n",
      "GEN Loss: 7.984153 7.3868566\n",
      "Feature Matching Loss: 0.022326201 0.015306532\n",
      "RECON Loss: 0.010876628 0.010893403\n",
      "DIS Loss: 0.0007768721 0.0014570678\n"
     ]
    },
    {
     "name": "stderr",
     "output_type": "stream",
     "text": [
      "epoch #792|  0%|                                                |ETA:   0:00:53"
     ]
    },
    {
     "name": "stdout",
     "output_type": "stream",
     "text": [
      "---------------------\n",
      "GEN Loss: 8.031897 7.4375896\n",
      "Feature Matching Loss: 0.022477053 0.01538823\n",
      "RECON Loss: 0.010793178 0.010814384\n",
      "DIS Loss: 0.0007413341 0.0013866355\n"
     ]
    },
    {
     "name": "stderr",
     "output_type": "stream",
     "text": [
      "epoch #793|  0%|                                                |ETA:   0:00:57"
     ]
    },
    {
     "name": "stdout",
     "output_type": "stream",
     "text": [
      "---------------------\n",
      "GEN Loss: 8.0797415 7.4912853\n",
      "Feature Matching Loss: 0.022617608 0.015468697\n",
      "RECON Loss: 0.01071539 0.010739694\n",
      "DIS Loss: 0.00070777663 0.0013195991\n"
     ]
    },
    {
     "name": "stderr",
     "output_type": "stream",
     "text": [
      "epoch #794|  0%|                                                |ETA:   0:00:53"
     ]
    },
    {
     "name": "stdout",
     "output_type": "stream",
     "text": [
      "---------------------\n",
      "GEN Loss: 8.127352 7.543134\n",
      "Feature Matching Loss: 0.022740105 0.015553062\n",
      "RECON Loss: 0.0106400475 0.0106659895\n",
      "DIS Loss: 0.0006747511 0.0012564834\n"
     ]
    },
    {
     "name": "stderr",
     "output_type": "stream",
     "text": [
      "epoch #795|  0%|                                                |ETA:   0:00:54"
     ]
    },
    {
     "name": "stdout",
     "output_type": "stream",
     "text": [
      "---------------------\n",
      "GEN Loss: 8.18741 7.5948486\n",
      "Feature Matching Loss: 0.02289943 0.015642514\n",
      "RECON Loss: 0.010571964 0.010607045\n",
      "DIS Loss: 0.00064179546 0.0011988889\n"
     ]
    },
    {
     "name": "stderr",
     "output_type": "stream",
     "text": [
      "epoch #796|  0%|                                                |ETA:   0:00:55"
     ]
    },
    {
     "name": "stdout",
     "output_type": "stream",
     "text": [
      "---------------------\n",
      "GEN Loss: 8.247213 7.642888\n",
      "Feature Matching Loss: 0.023057677 0.0157173\n",
      "RECON Loss: 0.010502408 0.010529526\n",
      "DIS Loss: 0.0006120699 0.0011465955\n"
     ]
    },
    {
     "name": "stderr",
     "output_type": "stream",
     "text": [
      "epoch #797|  0%|                                                |ETA:   0:00:54"
     ]
    },
    {
     "name": "stdout",
     "output_type": "stream",
     "text": [
      "---------------------\n",
      "GEN Loss: 8.29785 7.6951284\n",
      "Feature Matching Loss: 0.02317403 0.015803056\n",
      "RECON Loss: 0.010435081 0.010479237\n",
      "DIS Loss: 0.0005871775 0.0010935869\n"
     ]
    },
    {
     "name": "stderr",
     "output_type": "stream",
     "text": [
      "epoch #798|  0%|                                                |ETA:   0:00:56"
     ]
    },
    {
     "name": "stdout",
     "output_type": "stream",
     "text": [
      "---------------------\n",
      "GEN Loss: 8.343236 7.744982\n",
      "Feature Matching Loss: 0.02323878 0.01588123\n",
      "RECON Loss: 0.010372767 0.010434854\n",
      "DIS Loss: 0.0005646189 0.0010451078\n"
     ]
    },
    {
     "name": "stderr",
     "output_type": "stream",
     "text": [
      "epoch #799|  0%|                                                |ETA:   0:00:58"
     ]
    },
    {
     "name": "stdout",
     "output_type": "stream",
     "text": [
      "---------------------\n",
      "GEN Loss: 8.400592 7.798799\n",
      "Feature Matching Loss: 0.023444694 0.015967451\n",
      "RECON Loss: 0.010311824 0.010389969\n",
      "DIS Loss: 0.0005395828 0.0009982714\n"
     ]
    },
    {
     "name": "stderr",
     "output_type": "stream",
     "text": [
      "epoch #800|  0%|                                                |ETA:   0:00:53"
     ]
    },
    {
     "name": "stdout",
     "output_type": "stream",
     "text": [
      "---------------------\n",
      "GEN Loss: 8.453533 7.8559995\n",
      "Feature Matching Loss: 0.023558605 0.016043857\n",
      "RECON Loss: 0.0102553265 0.010350512\n",
      "DIS Loss: 0.0005190342 0.00095337734\n"
     ]
    },
    {
     "name": "stderr",
     "output_type": "stream",
     "text": [
      "epoch #801|  0%|                                                |ETA:   0:01:27"
     ]
    },
    {
     "name": "stdout",
     "output_type": "stream",
     "text": [
      "---------------------\n",
      "GEN Loss: 8.4923725 7.90909\n",
      "Feature Matching Loss: 0.023580778 0.016102193\n",
      "RECON Loss: 0.01019366 0.010348575\n",
      "DIS Loss: 0.0005002994 0.00091339735\n"
     ]
    },
    {
     "name": "stderr",
     "output_type": "stream",
     "text": [
      "epoch #802|  0%|                                                |ETA:   0:00:56"
     ]
    },
    {
     "name": "stdout",
     "output_type": "stream",
     "text": [
      "---------------------\n",
      "GEN Loss: 8.564938 7.975704\n",
      "Feature Matching Loss: 0.023858678 0.016185699\n",
      "RECON Loss: 0.010134342 0.010266665\n",
      "DIS Loss: 0.00047718335 0.0008684078\n"
     ]
    },
    {
     "name": "stderr",
     "output_type": "stream",
     "text": [
      "epoch #803|  0%|                                                |ETA:   0:00:53"
     ]
    },
    {
     "name": "stdout",
     "output_type": "stream",
     "text": [
      "---------------------\n",
      "GEN Loss: 8.606244 8.034085\n",
      "Feature Matching Loss: 0.023909237 0.016272746\n",
      "RECON Loss: 0.010085114 0.01013338\n",
      "DIS Loss: 0.0004741066 0.00082812714\n"
     ]
    },
    {
     "name": "stderr",
     "output_type": "stream",
     "text": [
      "epoch #804|  0%|                                                |ETA:   0:00:55"
     ]
    },
    {
     "name": "stdout",
     "output_type": "stream",
     "text": [
      "---------------------\n",
      "GEN Loss: 8.430163 8.085909\n",
      "Feature Matching Loss: 0.023216568 0.016302492\n",
      "RECON Loss: 0.010036198 0.010171257\n",
      "DIS Loss: 0.0005274535 0.00079521403\n"
     ]
    },
    {
     "name": "stderr",
     "output_type": "stream",
     "text": [
      "epoch #805|  0%|                                                |ETA:   0:00:55"
     ]
    },
    {
     "name": "stdout",
     "output_type": "stream",
     "text": [
      "---------------------\n",
      "GEN Loss: 0.63316894 1.0700347\n",
      "Feature Matching Loss: 0.028668122 0.030202221\n",
      "RECON Loss: 0.01961632 0.01901277\n",
      "DIS Loss: 0.8398798 0.89557403\n"
     ]
    },
    {
     "name": "stderr",
     "output_type": "stream",
     "text": [
      "epoch #806|  0%|                                                |ETA:   0:00:55"
     ]
    },
    {
     "name": "stdout",
     "output_type": "stream",
     "text": [
      "---------------------\n",
      "GEN Loss: 0.79667443 0.91910994\n",
      "Feature Matching Loss: 0.01965282 0.027064878\n",
      "RECON Loss: 0.015141363 0.014104455\n",
      "DIS Loss: 0.6861218 0.62895006\n"
     ]
    },
    {
     "name": "stderr",
     "output_type": "stream",
     "text": [
      "epoch #807|  0%|                                                |ETA:   0:00:55"
     ]
    },
    {
     "name": "stdout",
     "output_type": "stream",
     "text": [
      "---------------------\n",
      "GEN Loss: 1.6730275 2.4362257\n",
      "Feature Matching Loss: 0.0305667 0.03965785\n",
      "RECON Loss: 0.017646022 0.017476028\n",
      "DIS Loss: 0.6090827 0.54166067\n"
     ]
    },
    {
     "name": "stderr",
     "output_type": "stream",
     "text": [
      "epoch #808|  0%|                                                |ETA:   0:00:58"
     ]
    },
    {
     "name": "stdout",
     "output_type": "stream",
     "text": [
      "---------------------\n",
      "GEN Loss: 0.792569 1.0398575\n",
      "Feature Matching Loss: 0.03894358 0.047312193\n",
      "RECON Loss: 0.019911867 0.017725378\n",
      "DIS Loss: 0.49170095 0.4877446\n"
     ]
    },
    {
     "name": "stderr",
     "output_type": "stream",
     "text": [
      "epoch #809|  0%|                                                |ETA:   0:01:00"
     ]
    },
    {
     "name": "stdout",
     "output_type": "stream",
     "text": [
      "---------------------\n",
      "GEN Loss: 2.0060453 2.7685351\n",
      "Feature Matching Loss: 0.03512076 0.03905081\n",
      "RECON Loss: 0.01985193 0.018118337\n",
      "DIS Loss: 0.22053462 0.14685534\n"
     ]
    },
    {
     "name": "stderr",
     "output_type": "stream",
     "text": [
      "epoch #810|  0%|                                                |ETA:   0:00:56"
     ]
    },
    {
     "name": "stdout",
     "output_type": "stream",
     "text": [
      "---------------------\n",
      "GEN Loss: 2.892458 3.836461\n",
      "Feature Matching Loss: 0.030551933 0.029819679\n",
      "RECON Loss: 0.019049231 0.018668342\n",
      "DIS Loss: 0.12407575 0.06718482\n"
     ]
    },
    {
     "name": "stderr",
     "output_type": "stream",
     "text": [
      "epoch #811|  0%|                                                |ETA:   0:00:55"
     ]
    },
    {
     "name": "stdout",
     "output_type": "stream",
     "text": [
      "---------------------\n",
      "GEN Loss: 4.116569 3.4927206\n",
      "Feature Matching Loss: 0.021291476 0.025272973\n",
      "RECON Loss: 0.018557053 0.01803229\n",
      "DIS Loss: 0.049385957 0.056182895\n"
     ]
    },
    {
     "name": "stderr",
     "output_type": "stream",
     "text": [
      "epoch #812|  0%|                                                |ETA:   0:00:59"
     ]
    },
    {
     "name": "stdout",
     "output_type": "stream",
     "text": [
      "---------------------\n",
      "GEN Loss: 4.7591233 4.254866\n",
      "Feature Matching Loss: 0.016929304 0.019561127\n",
      "RECON Loss: 0.01822675 0.017417599\n",
      "DIS Loss: 0.030066898 0.03888383\n"
     ]
    },
    {
     "name": "stderr",
     "output_type": "stream",
     "text": [
      "epoch #813|  0%|                                                |ETA:   0:00:56"
     ]
    },
    {
     "name": "stdout",
     "output_type": "stream",
     "text": [
      "---------------------\n",
      "GEN Loss: 5.391641 4.937112\n",
      "Feature Matching Loss: 0.015943468 0.016608821\n",
      "RECON Loss: 0.01712909 0.016281396\n",
      "DIS Loss: 0.022291044 0.023749568\n"
     ]
    },
    {
     "name": "stderr",
     "output_type": "stream",
     "text": [
      "epoch #814|  0%|                                                |ETA:   0:00:58"
     ]
    },
    {
     "name": "stdout",
     "output_type": "stream",
     "text": [
      "---------------------\n",
      "GEN Loss: 5.1958036 5.103081\n",
      "Feature Matching Loss: 0.015903987 0.015296806\n",
      "RECON Loss: 0.016234268 0.015503886\n",
      "DIS Loss: 0.014245952 0.019300105\n"
     ]
    },
    {
     "name": "stderr",
     "output_type": "stream",
     "text": [
      "epoch #815|  0%|                                                |ETA:   0:00:55"
     ]
    },
    {
     "name": "stdout",
     "output_type": "stream",
     "text": [
      "---------------------\n",
      "GEN Loss: 5.170436 5.2554636\n",
      "Feature Matching Loss: 0.015888972 0.014390862\n",
      "RECON Loss: 0.015346423 0.01477184\n",
      "DIS Loss: 0.010595728 0.012453997\n"
     ]
    },
    {
     "name": "stderr",
     "output_type": "stream",
     "text": [
      "epoch #816|  0%|                                                |ETA:   0:00:56"
     ]
    },
    {
     "name": "stdout",
     "output_type": "stream",
     "text": [
      "---------------------\n",
      "GEN Loss: 5.7704773 5.4889965\n",
      "Feature Matching Loss: 0.016261406 0.014185755\n",
      "RECON Loss: 0.014679494 0.014170261\n",
      "DIS Loss: 0.0067233145 0.009157192\n"
     ]
    },
    {
     "name": "stderr",
     "output_type": "stream",
     "text": [
      "epoch #817|  0%|                                                |ETA:   0:00:57"
     ]
    },
    {
     "name": "stdout",
     "output_type": "stream",
     "text": [
      "---------------------\n",
      "GEN Loss: 6.0746403 5.719273\n",
      "Feature Matching Loss: 0.016907638 0.014179298\n",
      "RECON Loss: 0.014180886 0.013719606\n",
      "DIS Loss: 0.0053333244 0.007282016\n"
     ]
    },
    {
     "name": "stderr",
     "output_type": "stream",
     "text": [
      "epoch #818|  0%|                                                |ETA:   0:00:56"
     ]
    },
    {
     "name": "stdout",
     "output_type": "stream",
     "text": [
      "---------------------\n",
      "GEN Loss: 6.295727 5.9180794\n",
      "Feature Matching Loss: 0.017411135 0.014200244\n",
      "RECON Loss: 0.013783745 0.013352486\n",
      "DIS Loss: 0.0044533815 0.005939343\n"
     ]
    },
    {
     "name": "stderr",
     "output_type": "stream",
     "text": [
      "epoch #819|  0%|                                                |ETA:   0:00:53"
     ]
    },
    {
     "name": "stdout",
     "output_type": "stream",
     "text": [
      "---------------------\n",
      "GEN Loss: 6.488414 6.0980163\n",
      "Feature Matching Loss: 0.017787982 0.014232785\n",
      "RECON Loss: 0.013449597 0.013048813\n",
      "DIS Loss: 0.0038326574 0.0050045606\n"
     ]
    },
    {
     "name": "stderr",
     "output_type": "stream",
     "text": [
      "epoch #820|  0%|                                                |ETA:   0:01:02"
     ]
    },
    {
     "name": "stdout",
     "output_type": "stream",
     "text": [
      "---------------------\n",
      "GEN Loss: 6.6637435 6.2543454\n",
      "Feature Matching Loss: 0.018126069 0.01428544\n",
      "RECON Loss: 0.013162173 0.012780744\n",
      "DIS Loss: 0.0033615462 0.004335129\n"
     ]
    },
    {
     "name": "stderr",
     "output_type": "stream",
     "text": [
      "epoch #821|  0%|                                                |ETA:   0:00:55"
     ]
    },
    {
     "name": "stdout",
     "output_type": "stream",
     "text": [
      "---------------------\n",
      "GEN Loss: 6.802793 6.3942537\n",
      "Feature Matching Loss: 0.018433467 0.014340455\n",
      "RECON Loss: 0.012904133 0.012546095\n",
      "DIS Loss: 0.0030044725 0.003826829\n"
     ]
    },
    {
     "name": "stderr",
     "output_type": "stream",
     "text": [
      "epoch #822|  0%|                                                |ETA:   0:00:55"
     ]
    },
    {
     "name": "stdout",
     "output_type": "stream",
     "text": [
      "---------------------\n",
      "GEN Loss: 6.930011 6.514513\n",
      "Feature Matching Loss: 0.018745285 0.0144123025\n",
      "RECON Loss: 0.012669837 0.012337539\n",
      "DIS Loss: 0.0027106889 0.0034193043\n"
     ]
    },
    {
     "name": "stderr",
     "output_type": "stream",
     "text": [
      "epoch #823|  0%|                                                |ETA:   0:00:59"
     ]
    },
    {
     "name": "stdout",
     "output_type": "stream",
     "text": [
      "---------------------\n",
      "GEN Loss: 7.0404205 6.6219487\n",
      "Feature Matching Loss: 0.019043168 0.014464032\n",
      "RECON Loss: 0.012456587 0.012148316\n",
      "DIS Loss: 0.002455444 0.003093795\n"
     ]
    },
    {
     "name": "stderr",
     "output_type": "stream",
     "text": [
      "epoch #824|  0%|                                                |ETA:   0:01:00"
     ]
    },
    {
     "name": "stdout",
     "output_type": "stream",
     "text": [
      "---------------------\n",
      "GEN Loss: 7.1394434 6.72528\n",
      "Feature Matching Loss: 0.019330326 0.014535371\n",
      "RECON Loss: 0.012262074 0.011976866\n",
      "DIS Loss: 0.0022424322 0.0028133688\n"
     ]
    },
    {
     "name": "stderr",
     "output_type": "stream",
     "text": [
      "epoch #825|N/A%|                                                |ETA:  --:--:--"
     ]
    },
    {
     "name": "stdout",
     "output_type": "stream",
     "text": [
      "---------------------\n",
      "GEN Loss: 7.228614 6.812172\n",
      "Feature Matching Loss:"
     ]
    },
    {
     "name": "stderr",
     "output_type": "stream",
     "text": [
      "\r",
      "                                                                               \r",
      "\r",
      "epoch #825|  0%|                                                |ETA:   0:01:29"
     ]
    },
    {
     "name": "stdout",
     "output_type": "stream",
     "text": [
      " 0.019603072 0.014609053\n",
      "RECON Loss: 0.012086382 0.01182206\n",
      "DIS Loss: 0.0020516205 0.0025881627\n"
     ]
    },
    {
     "name": "stderr",
     "output_type": "stream",
     "text": [
      "epoch #826|  0%|                                                |ETA:   0:01:00"
     ]
    },
    {
     "name": "stdout",
     "output_type": "stream",
     "text": [
      "---------------------\n",
      "GEN Loss: 7.3172126 6.8928595\n",
      "Feature Matching Loss: 0.019867193 0.014664199\n",
      "RECON Loss: 0.011927511 0.011680393\n",
      "DIS Loss: 0.0018768806 0.0023873001\n"
     ]
    },
    {
     "name": "stderr",
     "output_type": "stream",
     "text": [
      "epoch #827|  0%|                                                |ETA:   0:00:54"
     ]
    },
    {
     "name": "stdout",
     "output_type": "stream",
     "text": [
      "---------------------\n",
      "GEN Loss: 7.3994894 6.9665813\n",
      "Feature Matching Loss: 0.02010331 0.0147285\n",
      "RECON Loss: 0.01177845 0.011552103\n",
      "DIS Loss: 0.0017283809 0.0022155698\n"
     ]
    },
    {
     "name": "stderr",
     "output_type": "stream",
     "text": [
      "epoch #828|  0%|                                                |ETA:   0:00:55"
     ]
    },
    {
     "name": "stdout",
     "output_type": "stream",
     "text": [
      "---------------------\n",
      "GEN Loss: 7.4735394 7.0349607\n",
      "Feature Matching Loss: 0.020307168 0.014792044\n",
      "RECON Loss: 0.011640306 0.01143346\n",
      "DIS Loss: 0.0016014262 0.002064207\n"
     ]
    },
    {
     "name": "stderr",
     "output_type": "stream",
     "text": [
      "epoch #829|  0%|                                                |ETA:   0:00:55"
     ]
    },
    {
     "name": "stdout",
     "output_type": "stream",
     "text": [
      "---------------------\n",
      "GEN Loss: 7.548176 7.1065207\n",
      "Feature Matching Loss: 0.020509291 0.014850801\n",
      "RECON Loss: 0.011510122 0.011322285\n",
      "DIS Loss: 0.00147699 0.0019302649\n"
     ]
    },
    {
     "name": "stderr",
     "output_type": "stream",
     "text": [
      "epoch #830|  0%|                                                |ETA:   0:00:58"
     ]
    },
    {
     "name": "stdout",
     "output_type": "stream",
     "text": [
      "---------------------\n",
      "GEN Loss: 7.6156597 7.176941\n",
      "Feature Matching Loss: 0.020692533 0.014920515\n",
      "RECON Loss: 0.011388607 0.011218613\n",
      "DIS Loss: 0.0013672078 0.0018065664\n"
     ]
    },
    {
     "name": "stderr",
     "output_type": "stream",
     "text": [
      "epoch #831|  0%|                                                |ETA:   0:00:58"
     ]
    },
    {
     "name": "stdout",
     "output_type": "stream",
     "text": [
      "---------------------\n",
      "GEN Loss: 7.680032 7.2416525\n",
      "Feature Matching Loss: 0.02086262 0.0149904415\n",
      "RECON Loss: 0.011275965 0.011117764\n",
      "DIS Loss: 0.0012704853 0.0016975286\n"
     ]
    },
    {
     "name": "stderr",
     "output_type": "stream",
     "text": [
      "epoch #832|  0%|                                                |ETA:   0:00:56"
     ]
    },
    {
     "name": "stdout",
     "output_type": "stream",
     "text": [
      "---------------------\n",
      "GEN Loss: 7.738678 7.306691\n",
      "Feature Matching Loss: 0.021021543 0.015064171\n",
      "RECON Loss: 0.011167487 0.011028275\n",
      "DIS Loss: 0.0011882216 0.001594618\n"
     ]
    },
    {
     "name": "stderr",
     "output_type": "stream",
     "text": [
      "epoch #833|  0%|                                                |ETA:   0:01:42"
     ]
    },
    {
     "name": "stdout",
     "output_type": "stream",
     "text": [
      "---------------------\n",
      "GEN Loss: 7.7956166 7.371133\n",
      "Feature Matching Loss: 0.02118193 0.015138742\n",
      "RECON Loss: 0.011065404 0.0109452065\n",
      "DIS Loss: 0.0011113987 0.0015016203\n"
     ]
    },
    {
     "name": "stderr",
     "output_type": "stream",
     "text": [
      "epoch #834|  0%|                                                |ETA:   0:00:58"
     ]
    },
    {
     "name": "stdout",
     "output_type": "stream",
     "text": [
      "---------------------\n",
      "GEN Loss: 7.850531 7.4371433\n",
      "Feature Matching Loss: 0.021346018 0.015203981\n",
      "RECON Loss: 0.010968833 0.010865949\n",
      "DIS Loss: 0.0010416189 0.0014190313\n"
     ]
    },
    {
     "name": "stderr",
     "output_type": "stream",
     "text": [
      "epoch #835|  0%|                                                |ETA:   0:01:00"
     ]
    },
    {
     "name": "stdout",
     "output_type": "stream",
     "text": [
      "---------------------\n",
      "GEN Loss: 7.902477 7.499259\n",
      "Feature Matching Loss: 0.021514468 0.015267892\n",
      "RECON Loss: 0.01087766 0.010789263\n",
      "DIS Loss: 0.0009780881 0.0013444667\n"
     ]
    },
    {
     "name": "stderr",
     "output_type": "stream",
     "text": [
      "epoch #836|  0%|                                                |ETA:   0:01:03"
     ]
    },
    {
     "name": "stdout",
     "output_type": "stream",
     "text": [
      "---------------------\n",
      "GEN Loss: 7.9459968 7.5596066\n",
      "Feature Matching Loss: 0.021659862 0.015332531\n",
      "RECON Loss: 0.010789487 0.010715457\n",
      "DIS Loss: 0.0009201691 0.0012756092\n"
     ]
    },
    {
     "name": "stderr",
     "output_type": "stream",
     "text": [
      "epoch #837|N/A%|                                                |ETA:  --:--:--"
     ]
    },
    {
     "name": "stdout",
     "output_type": "stream",
     "text": [
      "---------------------\n"
     ]
    },
    {
     "name": "stderr",
     "output_type": "stream",
     "text": [
      "\r",
      "                                                                               \r",
      "\r",
      "epoch #837|  0%|                                                |ETA:   0:02:52"
     ]
    },
    {
     "name": "stdout",
     "output_type": "stream",
     "text": [
      "GEN Loss: 7.993307 7.6161394\n",
      "Feature Matching Loss: 0.02181601 0.0154007\n",
      "RECON Loss: 0.010705283 0.010647256\n",
      "DIS Loss: 0.00086621 0.0012128596\n"
     ]
    },
    {
     "name": "stderr",
     "output_type": "stream",
     "text": [
      "epoch #838|  0%|                                                |ETA:   0:01:04"
     ]
    },
    {
     "name": "stdout",
     "output_type": "stream",
     "text": [
      "---------------------\n",
      "GEN Loss: 8.038891 7.677432\n",
      "Feature Matching Loss: 0.021972906 0.015472978\n",
      "RECON Loss: 0.010625373 0.010580394\n",
      "DIS Loss: 0.0008172433 0.0011512672\n"
     ]
    },
    {
     "name": "stderr",
     "output_type": "stream",
     "text": [
      "epoch #839|  0%|                                                |ETA:   0:01:03"
     ]
    },
    {
     "name": "stdout",
     "output_type": "stream",
     "text": [
      "---------------------\n",
      "GEN Loss: 8.092958 7.736597\n",
      "Feature Matching Loss: 0.022125095 0.015539824\n",
      "RECON Loss: 0.010551269 0.010513882\n",
      "DIS Loss: 0.0007725681 0.0010942963\n"
     ]
    },
    {
     "name": "stderr",
     "output_type": "stream",
     "text": [
      "epoch #840|  0%|                                                |ETA:   0:01:01"
     ]
    },
    {
     "name": "stdout",
     "output_type": "stream",
     "text": [
      "---------------------\n",
      "GEN Loss: 8.134125 7.7968044\n",
      "Feature Matching Loss: 0.022230776 0.0156139415\n",
      "RECON Loss: 0.010477248 0.010457623\n",
      "DIS Loss: 0.00073530886 0.0010395341\n"
     ]
    },
    {
     "name": "stderr",
     "output_type": "stream",
     "text": [
      "epoch #841|  0%|                                                |ETA:   0:00:57"
     ]
    },
    {
     "name": "stdout",
     "output_type": "stream",
     "text": [
      "---------------------\n",
      "GEN Loss: 8.180346 7.8570137\n",
      "Feature Matching Loss: 0.022358105 0.015688077\n",
      "RECON Loss: 0.010403847 0.010398554\n",
      "DIS Loss: 0.0006984551 0.0009894612\n"
     ]
    },
    {
     "name": "stderr",
     "output_type": "stream",
     "text": [
      "epoch #842|  0%|                                                |ETA:   0:01:04"
     ]
    },
    {
     "name": "stdout",
     "output_type": "stream",
     "text": [
      "---------------------\n",
      "GEN Loss: 8.2314 7.9112577\n",
      "Feature Matching Loss: 0.022498306 0.015752751\n",
      "RECON Loss: 0.01033455 0.010345936\n",
      "DIS Loss: 0.0006637904 0.0009427454\n"
     ]
    },
    {
     "name": "stderr",
     "output_type": "stream",
     "text": [
      "epoch #843|  0%|                                                |ETA:   0:01:00"
     ]
    },
    {
     "name": "stdout",
     "output_type": "stream",
     "text": [
      "---------------------\n",
      "GEN Loss: 8.289247 7.9622765\n",
      "Feature Matching Loss: 0.022694774 0.0158258\n",
      "RECON Loss: 0.010270432 0.010289709\n",
      "DIS Loss: 0.0006301719 0.00089889637\n"
     ]
    },
    {
     "name": "stderr",
     "output_type": "stream",
     "text": [
      "epoch #844|  0%|                                                |ETA:   0:00:57"
     ]
    },
    {
     "name": "stdout",
     "output_type": "stream",
     "text": [
      "---------------------\n",
      "GEN Loss: 8.345379 8.015852\n",
      "Feature Matching Loss: 0.022846496 0.015901633\n",
      "RECON Loss: 0.010208449 0.010246142\n",
      "DIS Loss: 0.0006012826 0.0008590725\n"
     ]
    },
    {
     "name": "stderr",
     "output_type": "stream",
     "text": [
      "epoch #845|  0%|                                                |ETA:   0:00:56"
     ]
    },
    {
     "name": "stdout",
     "output_type": "stream",
     "text": [
      "---------------------\n",
      "GEN Loss: 8.39858 8.061398\n",
      "Feature Matching Loss: 0.02299906 0.015968086\n",
      "RECON Loss: 0.010147742 0.010197904\n",
      "DIS Loss: 0.00057224074 0.0008219603\n"
     ]
    },
    {
     "name": "stderr",
     "output_type": "stream",
     "text": [
      "epoch #846|  0%|                                                |ETA:   0:01:02"
     ]
    },
    {
     "name": "stdout",
     "output_type": "stream",
     "text": [
      "---------------------\n",
      "GEN Loss: 8.446947 8.112621\n",
      "Feature Matching Loss: 0.023142176 0.0160334\n",
      "RECON Loss: 0.010092436 0.010147881\n",
      "DIS Loss: 0.0005477447 0.0007893827\n"
     ]
    },
    {
     "name": "stderr",
     "output_type": "stream",
     "text": [
      "epoch #847|  0%|                                                |ETA:   0:00:55"
     ]
    },
    {
     "name": "stdout",
     "output_type": "stream",
     "text": [
      "---------------------\n",
      "GEN Loss: 8.504069 8.170176\n",
      "Feature Matching Loss: 0.023266606 0.016113374\n",
      "RECON Loss: 0.010040884 0.010114409\n",
      "DIS Loss: 0.0005232012 0.00075469515\n"
     ]
    },
    {
     "name": "stderr",
     "output_type": "stream",
     "text": [
      "epoch #848|  0%|                                                |ETA:   0:00:56"
     ]
    },
    {
     "name": "stdout",
     "output_type": "stream",
     "text": [
      "---------------------\n",
      "GEN Loss: 8.557425 8.22369\n",
      "Feature Matching Loss: 0.023432413 0.016183399\n",
      "RECON Loss: 0.009991126 0.010045832\n",
      "DIS Loss: 0.00050156144 0.0007243341\n"
     ]
    },
    {
     "name": "stderr",
     "output_type": "stream",
     "text": [
      "epoch #849|  0%|                                                |ETA:   0:00:59"
     ]
    },
    {
     "name": "stdout",
     "output_type": "stream",
     "text": [
      "---------------------\n",
      "GEN Loss: 8.621405 8.270042\n",
      "Feature Matching Loss: 0.023702513 0.01623321\n",
      "RECON Loss: 0.009933829 0.010010048\n",
      "DIS Loss: 0.00048005747 0.00069610536\n"
     ]
    },
    {
     "name": "stderr",
     "output_type": "stream",
     "text": [
      "epoch #850|  0%|                                                |ETA:   0:01:03"
     ]
    },
    {
     "name": "stdout",
     "output_type": "stream",
     "text": [
      "---------------------\n",
      "GEN Loss: 8.628455 8.326914\n",
      "Feature Matching Loss: 0.023474699 0.016300851\n",
      "RECON Loss: 0.00989545 0.009980947\n",
      "DIS Loss: 0.0004680426 0.00066724676\n"
     ]
    },
    {
     "name": "stderr",
     "output_type": "stream",
     "text": [
      "epoch #851|  0%|                                                |ETA:   0:01:01"
     ]
    },
    {
     "name": "stdout",
     "output_type": "stream",
     "text": [
      "---------------------\n",
      "GEN Loss: 8.707653 8.380441\n",
      "Feature Matching Loss: 0.023644347 0.016364386\n",
      "RECON Loss: 0.0098431725 0.009967592\n",
      "DIS Loss: 0.00044882306 0.0006397042\n"
     ]
    },
    {
     "name": "stderr",
     "output_type": "stream",
     "text": [
      "epoch #852|  0%|                                                |ETA:   0:01:33"
     ]
    },
    {
     "name": "stdout",
     "output_type": "stream",
     "text": [
      "---------------------\n",
      "GEN Loss: 8.851297 8.430229\n",
      "Feature Matching Loss: 0.024828767 0.016412824\n",
      "RECON Loss: 0.009806722 0.009890908\n",
      "DIS Loss: 0.0004134343 0.00061500433\n"
     ]
    },
    {
     "name": "stderr",
     "output_type": "stream",
     "text": [
      "epoch #853|  0%|                                                |ETA:   0:00:58"
     ]
    },
    {
     "name": "stdout",
     "output_type": "stream",
     "text": [
      "---------------------\n",
      "GEN Loss: 8.430832 8.466194\n",
      "Feature Matching Loss: 0.021591498 0.016433278\n",
      "RECON Loss: 0.009775258 0.009905646\n",
      "DIS Loss: 0.00050233136 0.00059647823\n"
     ]
    },
    {
     "name": "stderr",
     "output_type": "stream",
     "text": [
      "epoch #854|  0%|                                                |ETA:   0:00:57"
     ]
    },
    {
     "name": "stdout",
     "output_type": "stream",
     "text": [
      "---------------------\n",
      "GEN Loss: 8.81553 8.513805\n",
      "Feature Matching Loss: 0.025590632 0.016534796\n",
      "RECON Loss: 0.009743473 0.009981651\n",
      "DIS Loss: 0.0005603147 0.00057898695\n"
     ]
    },
    {
     "name": "stderr",
     "output_type": "stream",
     "text": [
      "epoch #855|  0%|                                                |ETA:   0:01:00"
     ]
    },
    {
     "name": "stdout",
     "output_type": "stream",
     "text": [
      "---------------------\n",
      "GEN Loss: 0.60276014 8.059635\n",
      "Feature Matching Loss: 0.030474767 0.015664387\n",
      "RECON Loss: 0.013453565 0.012993274\n",
      "DIS Loss: 0.87657726 0.0009265678\n"
     ]
    },
    {
     "name": "stderr",
     "output_type": "stream",
     "text": [
      "epoch #856|  0%|                                                |ETA:   0:00:58"
     ]
    },
    {
     "name": "stdout",
     "output_type": "stream",
     "text": [
      "---------------------\n",
      "GEN Loss: 0.8939247 8.489155\n",
      "Feature Matching Loss: 0.029525802 0.016559558\n",
      "RECON Loss: 0.011716459 0.0124759\n",
      "DIS Loss: 0.54050857 0.0006252914\n"
     ]
    },
    {
     "name": "stderr",
     "output_type": "stream",
     "text": [
      "epoch #857|  0%|                                                |ETA:   0:00:57"
     ]
    },
    {
     "name": "stdout",
     "output_type": "stream",
     "text": [
      "---------------------\n",
      "GEN Loss: 3.0051088 8.403336\n",
      "Feature Matching Loss: 0.037404157 0.01632172\n",
      "RECON Loss: 0.013411439 0.015317166\n",
      "DIS Loss: 0.43969288 0.00068632746\n"
     ]
    },
    {
     "name": "stderr",
     "output_type": "stream",
     "text": [
      "epoch #858|  0%|                                                |ETA:   0:00:56"
     ]
    },
    {
     "name": "stdout",
     "output_type": "stream",
     "text": [
      "---------------------\n",
      "GEN Loss: 3.7367768 8.4976225\n",
      "Feature Matching Loss: 0.03443475 0.016529094\n",
      "RECON Loss: 0.012760865 0.014923541\n",
      "DIS Loss: 0.21089318 0.0006359517\n"
     ]
    },
    {
     "name": "stderr",
     "output_type": "stream",
     "text": [
      "epoch #859|  0%|                                                |ETA:   0:00:57"
     ]
    },
    {
     "name": "stdout",
     "output_type": "stream",
     "text": [
      "---------------------\n",
      "GEN Loss: 2.4962997 6.637668\n",
      "Feature Matching Loss: 0.034784306 0.015038706\n",
      "RECON Loss: 0.013316434 0.014791591\n",
      "DIS Loss: 0.110473186 0.0043662293\n"
     ]
    },
    {
     "name": "stderr",
     "output_type": "stream",
     "text": [
      "epoch #860|  0%|                                                |ETA:   0:00:59"
     ]
    },
    {
     "name": "stdout",
     "output_type": "stream",
     "text": [
      "---------------------\n",
      "GEN Loss: 4.411603 0.6564821\n",
      "Feature Matching Loss: 0.02212411 0.019230941\n",
      "RECON Loss: 0.01521273 0.018597154\n",
      "DIS Loss: 0.039363824 0.67633736\n"
     ]
    },
    {
     "name": "stderr",
     "output_type": "stream",
     "text": [
      "epoch #861|  0%|                                                |ETA:   0:01:04"
     ]
    },
    {
     "name": "stdout",
     "output_type": "stream",
     "text": [
      "---------------------\n",
      "GEN Loss: 4.5805783 0.7928472\n",
      "Feature Matching Loss: 0.019194795 0.019177247\n",
      "RECON Loss: 0.0142956 0.016421137\n",
      "DIS Loss: 0.027719345 0.63458765\n"
     ]
    },
    {
     "name": "stderr",
     "output_type": "stream",
     "text": [
      "epoch #862|  0%|                                                |ETA:   0:01:02"
     ]
    },
    {
     "name": "stdout",
     "output_type": "stream",
     "text": [
      "---------------------\n",
      "GEN Loss: 4.9635134 2.6214254\n",
      "Feature Matching Loss: 0.016436229 0.03942614\n",
      "RECON Loss: 0.017688992 0.01762877\n",
      "DIS Loss: 0.018533153 0.7339636\n"
     ]
    },
    {
     "name": "stderr",
     "output_type": "stream",
     "text": [
      "epoch #863|  0%|                                                |ETA:   0:00:56"
     ]
    },
    {
     "name": "stdout",
     "output_type": "stream",
     "text": [
      "---------------------\n",
      "GEN Loss: 5.34992 2.0749855\n",
      "Feature Matching Loss: 0.015928125 0.04348427\n",
      "RECON Loss: 0.018127328 0.017811198\n",
      "DIS Loss: 0.013207568 0.38767833\n"
     ]
    },
    {
     "name": "stderr",
     "output_type": "stream",
     "text": [
      "epoch #864|  0%|                                                |ETA:   0:00:56"
     ]
    },
    {
     "name": "stdout",
     "output_type": "stream",
     "text": [
      "---------------------\n",
      "GEN Loss: 5.6079044 1.6413336\n",
      "Feature Matching Loss: 0.01644804 0.045339\n",
      "RECON Loss: 0.017536318 0.016540647\n",
      "DIS Loss: 0.009138788 0.26540208\n"
     ]
    },
    {
     "name": "stderr",
     "output_type": "stream",
     "text": [
      "epoch #865|  0%|                                                |ETA:   0:00:53"
     ]
    },
    {
     "name": "stdout",
     "output_type": "stream",
     "text": [
      "---------------------\n",
      "GEN Loss: 5.9046755 3.2090437\n",
      "Feature Matching Loss: 0.017123451 0.03649895\n",
      "RECON Loss: 0.01699546 0.015879478\n",
      "DIS Loss: 0.0062334547 0.09806138\n"
     ]
    },
    {
     "name": "stderr",
     "output_type": "stream",
     "text": [
      "epoch #866|  0%|                                                |ETA:   0:00:59"
     ]
    },
    {
     "name": "stdout",
     "output_type": "stream",
     "text": [
      "---------------------\n",
      "GEN Loss: 6.1526914 3.6572657\n",
      "Feature Matching Loss: 0.017873462 0.035374366\n",
      "RECON Loss: 0.017006671 0.015528469\n",
      "DIS Loss: 0.0049075233 0.068213075\n"
     ]
    },
    {
     "name": "stderr",
     "output_type": "stream",
     "text": [
      "epoch #867|  0%|                                                |ETA:   0:00:56"
     ]
    },
    {
     "name": "stdout",
     "output_type": "stream",
     "text": [
      "---------------------\n",
      "GEN Loss: 6.4130917 4.0302763\n",
      "Feature Matching Loss: 0.018336602 0.02664883\n",
      "RECON Loss: 0.016404578 0.014822466\n",
      "DIS Loss: 0.0040808064 0.057286423\n"
     ]
    },
    {
     "name": "stderr",
     "output_type": "stream",
     "text": [
      "epoch #868|  0%|                                                |ETA:   0:00:55"
     ]
    },
    {
     "name": "stdout",
     "output_type": "stream",
     "text": [
      "---------------------\n",
      "GEN Loss: 6.656675 4.151597\n",
      "Feature Matching Loss: 0.01872778 0.022080723\n",
      "RECON Loss: 0.016714886 0.014476126\n",
      "DIS Loss: 0.0034031365 0.039466463\n"
     ]
    },
    {
     "name": "stderr",
     "output_type": "stream",
     "text": [
      "epoch #869|  0%|                                                |ETA:   0:00:57"
     ]
    },
    {
     "name": "stdout",
     "output_type": "stream",
     "text": [
      "---------------------\n",
      "GEN Loss: 6.8638525 4.892225\n",
      "Feature Matching Loss: 0.019303251 0.017300919\n",
      "RECON Loss: 0.015896369 0.014107604\n",
      "DIS Loss: 0.0029764595 0.027593337\n"
     ]
    },
    {
     "name": "stderr",
     "output_type": "stream",
     "text": [
      "epoch #870|  0%|                                                |ETA:   0:00:56"
     ]
    },
    {
     "name": "stdout",
     "output_type": "stream",
     "text": [
      "---------------------\n",
      "GEN Loss: 7.007268 5.0669103\n",
      "Feature Matching Loss: 0.01976651 0.015553448\n",
      "RECON Loss: 0.015238918 0.013703905\n",
      "DIS Loss: 0.0026355437 0.018873766\n"
     ]
    },
    {
     "name": "stderr",
     "output_type": "stream",
     "text": [
      "epoch #871|  0%|                                                |ETA:   0:00:54"
     ]
    },
    {
     "name": "stdout",
     "output_type": "stream",
     "text": [
      "---------------------\n",
      "GEN Loss: 7.115576 5.3291416\n",
      "Feature Matching Loss: 0.020122766 0.0148206\n",
      "RECON Loss: 0.014686181 0.013407109\n",
      "DIS Loss: 0.0023771035 0.013833826\n"
     ]
    },
    {
     "name": "stderr",
     "output_type": "stream",
     "text": [
      "epoch #872|  0%|                                                |ETA:   0:01:34"
     ]
    },
    {
     "name": "stdout",
     "output_type": "stream",
     "text": [
      "---------------------\n",
      "GEN Loss: 7.201991 5.35622\n",
      "Feature Matching Loss: 0.020406712 0.014189117\n",
      "RECON Loss: 0.01419848 0.013122164\n",
      "DIS Loss: 0.0022000193 0.010635719\n"
     ]
    },
    {
     "name": "stderr",
     "output_type": "stream",
     "text": [
      "epoch #873|  0%|                                                |ETA:   0:00:54"
     ]
    },
    {
     "name": "stdout",
     "output_type": "stream",
     "text": [
      "---------------------\n",
      "GEN Loss: 7.26952 5.5884247\n",
      "Feature Matching Loss: 0.02067852 0.01387025\n",
      "RECON Loss: 0.013749323 0.012871763\n",
      "DIS Loss: 0.0020732547 0.008208257\n"
     ]
    },
    {
     "name": "stderr",
     "output_type": "stream",
     "text": [
      "epoch #874|  0%|                                                |ETA:   0:00:58"
     ]
    },
    {
     "name": "stdout",
     "output_type": "stream",
     "text": [
      "---------------------\n",
      "GEN Loss: 7.315122 5.834174\n",
      "Feature Matching Loss: 0.020858567 0.013715606\n",
      "RECON Loss: 0.013387475 0.012645364\n",
      "DIS Loss: 0.002001181 0.006774742\n"
     ]
    },
    {
     "name": "stderr",
     "output_type": "stream",
     "text": [
      "epoch #875|  0%|                                                |ETA:   0:00:54"
     ]
    },
    {
     "name": "stdout",
     "output_type": "stream",
     "text": [
      "---------------------\n",
      "GEN Loss: 7.384713 6.0511627\n",
      "Feature Matching Loss: 0.021089543 0.013698962\n",
      "RECON Loss: 0.013080083 0.012437105\n",
      "DIS Loss: 0.0019046508 0.005767749\n"
     ]
    },
    {
     "name": "stderr",
     "output_type": "stream",
     "text": [
      "epoch #876|  0%|                                                |ETA:   0:00:54"
     ]
    },
    {
     "name": "stdout",
     "output_type": "stream",
     "text": [
      "---------------------\n",
      "GEN Loss: 7.463663 6.2359037\n",
      "Feature Matching Loss: 0.021362266 0.013720289\n",
      "RECON Loss: 0.012809612 0.012249507\n",
      "DIS Loss: 0.001822669 0.005025259\n"
     ]
    },
    {
     "name": "stderr",
     "output_type": "stream",
     "text": [
      "epoch #877|  0%|                                                |ETA:   0:00:57"
     ]
    },
    {
     "name": "stdout",
     "output_type": "stream",
     "text": [
      "---------------------\n",
      "GEN Loss: 7.536289 6.3762865\n",
      "Feature Matching Loss: 0.021628432 0.013763206\n",
      "RECON Loss: 0.012573224 0.012082279\n",
      "DIS Loss: 0.0017092894 0.004444969\n"
     ]
    },
    {
     "name": "stderr",
     "output_type": "stream",
     "text": [
      "epoch #878|  0%|                                                |ETA:   0:00:56"
     ]
    },
    {
     "name": "stdout",
     "output_type": "stream",
     "text": [
      "---------------------\n",
      "GEN Loss: 7.6215973 6.510372\n",
      "Feature Matching Loss: 0.021892462 0.01382128\n",
      "RECON Loss: 0.012358526 0.01192461\n",
      "DIS Loss: 0.0015516444 0.0039496114\n"
     ]
    },
    {
     "name": "stderr",
     "output_type": "stream",
     "text": [
      "epoch #879|  0%|                                                |ETA:   0:01:30"
     ]
    },
    {
     "name": "stdout",
     "output_type": "stream",
     "text": [
      "---------------------\n",
      "GEN Loss: 7.711643 6.6303105\n",
      "Feature Matching Loss: 0.022161555 0.013892502\n",
      "RECON Loss: 0.012164852 0.01178137\n",
      "DIS Loss: 0.0014065835 0.0035460275\n"
     ]
    },
    {
     "name": "stderr",
     "output_type": "stream",
     "text": [
      "epoch #880|  0%|                                                |ETA:   0:00:55"
     ]
    },
    {
     "name": "stdout",
     "output_type": "stream",
     "text": [
      "---------------------\n",
      "GEN Loss: 7.787116 6.744193\n",
      "Feature Matching Loss: 0.022403788 0.013953168\n",
      "RECON Loss: 0.011989472 0.011651735\n",
      "DIS Loss: 0.0012915971 0.0032029208\n"
     ]
    },
    {
     "name": "stderr",
     "output_type": "stream",
     "text": [
      "epoch #881|  0%|                                                |ETA:   0:00:56"
     ]
    },
    {
     "name": "stdout",
     "output_type": "stream",
     "text": [
      "---------------------\n",
      "GEN Loss: 7.8538427 6.85213\n",
      "Feature Matching Loss: 0.022626504 0.014025118\n",
      "RECON Loss: 0.011828888 0.0115328785\n",
      "DIS Loss: 0.0011954353 0.0029153987\n"
     ]
    },
    {
     "name": "stderr",
     "output_type": "stream",
     "text": [
      "epoch #882|  0%|                                                |ETA:   0:00:54"
     ]
    },
    {
     "name": "stdout",
     "output_type": "stream",
     "text": [
      "---------------------\n",
      "GEN Loss: 7.9158506 6.9511533\n",
      "Feature Matching Loss: 0.022848729 0.014112279\n",
      "RECON Loss: 0.011679001 0.011422801\n",
      "DIS Loss: 0.001108135 0.0026654117\n"
     ]
    },
    {
     "name": "stderr",
     "output_type": "stream",
     "text": [
      "epoch #883|  0%|                                                |ETA:   0:01:05"
     ]
    },
    {
     "name": "stdout",
     "output_type": "stream",
     "text": [
      "---------------------\n",
      "GEN Loss: 7.979776 7.04388\n",
      "Feature Matching Loss: 0.023041071 0.014196163\n",
      "RECON Loss: 0.0115406625 0.01132004\n",
      "DIS Loss: 0.0010307581 0.002452728\n"
     ]
    },
    {
     "name": "stderr",
     "output_type": "stream",
     "text": [
      "epoch #884|  0%|                                                |ETA:   0:00:52"
     ]
    },
    {
     "name": "stdout",
     "output_type": "stream",
     "text": [
      "---------------------\n",
      "GEN Loss: 8.050061 7.127877\n",
      "Feature Matching Loss: 0.023240529 0.014277805\n",
      "RECON Loss: 0.0114110485 0.01122096\n",
      "DIS Loss: 0.00095623557 0.0022734627\n"
     ]
    },
    {
     "name": "stderr",
     "output_type": "stream",
     "text": [
      "epoch #885|  0%|                                                |ETA:   0:00:53"
     ]
    },
    {
     "name": "stdout",
     "output_type": "stream",
     "text": [
      "---------------------\n",
      "GEN Loss: 8.117827 7.2068806\n",
      "Feature Matching Loss: 0.023432877 0.014360877\n",
      "RECON Loss: 0.0112872375 0.011131468\n",
      "DIS Loss: 0.00089040527 0.0021094913\n"
     ]
    },
    {
     "name": "stderr",
     "output_type": "stream",
     "text": [
      "epoch #886|  0%|                                                |ETA:   0:00:52"
     ]
    },
    {
     "name": "stdout",
     "output_type": "stream",
     "text": [
      "---------------------\n",
      "GEN Loss: 8.181994 7.2858863\n",
      "Feature Matching Loss: 0.023623649 0.014451262\n",
      "RECON Loss: 0.011173701 0.011046614\n",
      "DIS Loss: 0.00083157665 0.0019637411\n"
     ]
    },
    {
     "name": "stderr",
     "output_type": "stream",
     "text": [
      "epoch #887|  0%|                                                |ETA:   0:00:53"
     ]
    },
    {
     "name": "stdout",
     "output_type": "stream",
     "text": [
      "---------------------\n",
      "GEN Loss: 8.248021 7.3578095\n",
      "Feature Matching Loss: 0.023790738 0.014535086\n",
      "RECON Loss: 0.011068216 0.010965261\n",
      "DIS Loss: 0.0007799843 0.0018336812\n"
     ]
    },
    {
     "name": "stderr",
     "output_type": "stream",
     "text": [
      "epoch #888|  0%|                                                |ETA:   0:00:58"
     ]
    },
    {
     "name": "stdout",
     "output_type": "stream",
     "text": [
      "---------------------\n",
      "GEN Loss: 8.306091 7.4219627\n",
      "Feature Matching Loss: 0.023931747 0.014611439\n",
      "RECON Loss: 0.010968517 0.01088948\n",
      "DIS Loss: 0.0007341964 0.001718655\n"
     ]
    },
    {
     "name": "stderr",
     "output_type": "stream",
     "text": [
      "epoch #889|  0%|                                                |ETA:   0:01:02"
     ]
    },
    {
     "name": "stdout",
     "output_type": "stream",
     "text": [
      "---------------------\n",
      "GEN Loss: 8.369226 7.4854803\n",
      "Feature Matching Loss: 0.02409226 0.014693722\n",
      "RECON Loss: 0.010874284 0.0108179925\n",
      "DIS Loss: 0.0006906645 0.001607927\n"
     ]
    },
    {
     "name": "stderr",
     "output_type": "stream",
     "text": [
      "epoch #890|  0%|                                                |ETA:   0:00:55"
     ]
    },
    {
     "name": "stdout",
     "output_type": "stream",
     "text": [
      "---------------------\n",
      "GEN Loss: 8.432426 7.544097\n",
      "Feature Matching Loss: 0.024242675 0.014780284\n",
      "RECON Loss: 0.010789144 0.0107496185\n",
      "DIS Loss: 0.0006500507 0.0015054906\n"
     ]
    },
    {
     "name": "stderr",
     "output_type": "stream",
     "text": [
      "epoch #891|  0%|                                                |ETA:   0:00:54"
     ]
    },
    {
     "name": "stdout",
     "output_type": "stream",
     "text": [
      "---------------------\n",
      "GEN Loss: 8.492393 7.5962257\n",
      "Feature Matching Loss: 0.024398688 0.014853058\n",
      "RECON Loss: 0.010703523 0.010690532\n",
      "DIS Loss: 0.00061449123 0.0014167473\n"
     ]
    },
    {
     "name": "stderr",
     "output_type": "stream",
     "text": [
      "epoch #892|  0%|                                                |ETA:   0:00:58"
     ]
    },
    {
     "name": "stdout",
     "output_type": "stream",
     "text": [
      "---------------------\n",
      "GEN Loss: 8.554825 7.642949\n",
      "Feature Matching Loss: 0.024546638 0.014925819\n",
      "RECON Loss: 0.010622159 0.010635171\n",
      "DIS Loss: 0.00058242027 0.0013375817\n"
     ]
    },
    {
     "name": "stderr",
     "output_type": "stream",
     "text": [
      "epoch #893|  0%|                                                |ETA:   0:00:52"
     ]
    },
    {
     "name": "stdout",
     "output_type": "stream",
     "text": [
      "---------------------\n",
      "GEN Loss: 8.608112 7.6890635\n",
      "Feature Matching Loss: 0.024673896 0.014998075\n",
      "RECON Loss: 0.010546541 0.010579219\n",
      "DIS Loss: 0.0005525653 0.0012623641\n"
     ]
    },
    {
     "name": "stderr",
     "output_type": "stream",
     "text": [
      "epoch #894|  0%|                                                |ETA:   0:00:52"
     ]
    },
    {
     "name": "stdout",
     "output_type": "stream",
     "text": [
      "---------------------\n",
      "GEN Loss: 8.662775 7.736308\n",
      "Feature Matching Loss: 0.024812754 0.015069649\n",
      "RECON Loss: 0.0104737375 0.010525855\n",
      "DIS Loss: 0.0005245566 0.0011946168\n"
     ]
    },
    {
     "name": "stderr",
     "output_type": "stream",
     "text": [
      "epoch #895|  0%|                                                |ETA:   0:00:53"
     ]
    },
    {
     "name": "stdout",
     "output_type": "stream",
     "text": [
      "---------------------\n",
      "GEN Loss: 8.713334 7.7818336\n",
      "Feature Matching Loss: 0.02491273 0.015150421\n",
      "RECON Loss: 0.010399262 0.010468863\n",
      "DIS Loss: 0.00050245726 0.0011295483\n"
     ]
    },
    {
     "name": "stderr",
     "output_type": "stream",
     "text": [
      "epoch #896|  0%|                                                |ETA:   0:00:58"
     ]
    },
    {
     "name": "stdout",
     "output_type": "stream",
     "text": [
      "---------------------\n",
      "GEN Loss: 8.770867 7.822351\n",
      "Feature Matching Loss: 0.02500064 0.015234586\n",
      "RECON Loss: 0.010346942 0.010414163\n",
      "DIS Loss: 0.00047930196 0.0010725047\n"
     ]
    },
    {
     "name": "stderr",
     "output_type": "stream",
     "text": [
      "epoch #897|  0%|                                                |ETA:   0:00:55"
     ]
    },
    {
     "name": "stdout",
     "output_type": "stream",
     "text": [
      "---------------------\n",
      "GEN Loss: 8.845444 7.8653855\n",
      "Feature Matching Loss: 0.025219018 0.015312209\n",
      "RECON Loss: 0.010282412 0.010397904\n",
      "DIS Loss: 0.0004588698 0.0010213212\n"
     ]
    },
    {
     "name": "stderr",
     "output_type": "stream",
     "text": [
      "epoch #898|  0%|                                                |ETA:   0:00:53"
     ]
    },
    {
     "name": "stdout",
     "output_type": "stream",
     "text": [
      "---------------------\n",
      "GEN Loss: 8.86245 7.9087615\n",
      "Feature Matching Loss: 0.024979789 0.0153947715\n",
      "RECON Loss: 0.010218291 0.010338386\n",
      "DIS Loss: 0.0004464764 0.00097304326\n"
     ]
    },
    {
     "name": "stderr",
     "output_type": "stream",
     "text": [
      "epoch #899|  0%|                                                |ETA:   0:00:53"
     ]
    },
    {
     "name": "stdout",
     "output_type": "stream",
     "text": [
      "---------------------\n",
      "GEN Loss: 9.002986 7.95401\n",
      "Feature Matching Loss: 0.025736727 0.015478181\n",
      "RECON Loss: 0.0101592615 0.01028103\n",
      "DIS Loss: 0.0004108844 0.0009278958\n"
     ]
    },
    {
     "name": "stderr",
     "output_type": "stream",
     "text": [
      "epoch #900|  0%|                                                |ETA:   0:00:52"
     ]
    },
    {
     "name": "stdout",
     "output_type": "stream",
     "text": [
      "---------------------\n",
      "GEN Loss: 9.119947 7.997131\n",
      "Feature Matching Loss: 0.0264819 0.015564799\n",
      "RECON Loss: 0.010107547 0.0102396\n",
      "DIS Loss: 0.00040302819 0.00088614307\n"
     ]
    },
    {
     "name": "stderr",
     "output_type": "stream",
     "text": [
      "epoch #901|  0%|                                                |ETA:   0:00:54"
     ]
    },
    {
     "name": "stdout",
     "output_type": "stream",
     "text": [
      "---------------------\n",
      "GEN Loss: 8.247419 8.034933\n",
      "Feature Matching Loss: 0.021059867 0.015599449\n",
      "RECON Loss: 0.010060137 0.010328343\n",
      "DIS Loss: 0.0006701158 0.0008443187\n"
     ]
    },
    {
     "name": "stderr",
     "output_type": "stream",
     "text": [
      "epoch #902|  0%|                                                |ETA:   0:00:56"
     ]
    },
    {
     "name": "stdout",
     "output_type": "stream",
     "text": [
      "---------------------\n",
      "GEN Loss: 0.31544727 8.039549\n",
      "Feature Matching Loss: 0.034350324 0.01565618\n",
      "RECON Loss: 0.019336578 0.015631903\n",
      "DIS Loss: 1.02523 0.00083239307\n"
     ]
    },
    {
     "name": "stderr",
     "output_type": "stream",
     "text": [
      "epoch #903|  0%|                                                |ETA:   0:00:51"
     ]
    },
    {
     "name": "stdout",
     "output_type": "stream",
     "text": [
      "---------------------\n",
      "GEN Loss: 0.9166804 8.120955\n",
      "Feature Matching Loss: 0.014896547 0.015574725\n",
      "RECON Loss: 0.011388613 0.011547819\n",
      "DIS Loss: 0.6724347 0.00083459326\n"
     ]
    },
    {
     "name": "stderr",
     "output_type": "stream",
     "text": [
      "epoch #904|  0%|                                                |ETA:   0:00:54"
     ]
    },
    {
     "name": "stdout",
     "output_type": "stream",
     "text": [
      "---------------------\n",
      "GEN Loss: 4.016337 8.2548485\n",
      "Feature Matching Loss: 0.03401428 0.01588618\n",
      "RECON Loss: 0.0131885065 0.014415219\n",
      "DIS Loss: 0.8145163 0.0007485504\n"
     ]
    },
    {
     "name": "stderr",
     "output_type": "stream",
     "text": [
      "epoch #905|  0%|                                                |ETA:   0:00:53"
     ]
    },
    {
     "name": "stdout",
     "output_type": "stream",
     "text": [
      "---------------------\n",
      "GEN Loss: 1.2068914 8.146744\n",
      "Feature Matching Loss: 0.050842214 0.015967138\n",
      "RECON Loss: 0.013081858 0.015655302\n",
      "DIS Loss: 0.38037014 0.0007981544\n"
     ]
    },
    {
     "name": "stderr",
     "output_type": "stream",
     "text": [
      "epoch #906|  0%|                                                |ETA:   0:00:56"
     ]
    },
    {
     "name": "stdout",
     "output_type": "stream",
     "text": [
      "---------------------\n",
      "GEN Loss: 3.4873345 8.198838\n",
      "Feature Matching Loss: 0.035543323 0.01584832\n",
      "RECON Loss: 0.012871593 0.015708415\n",
      "DIS Loss: 0.103821844 0.00076376786\n"
     ]
    },
    {
     "name": "stderr",
     "output_type": "stream",
     "text": [
      "epoch #907|  0%|                                                |ETA:   0:00:53"
     ]
    },
    {
     "name": "stdout",
     "output_type": "stream",
     "text": [
      "---------------------\n",
      "GEN Loss: 3.2966557 8.2685795\n",
      "Feature Matching Loss: 0.026155002 0.016094979\n",
      "RECON Loss: 0.012464752 0.015173651\n",
      "DIS Loss: 0.06223853 0.00073173374\n"
     ]
    },
    {
     "name": "stderr",
     "output_type": "stream",
     "text": [
      "epoch #908|  0%|                                                |ETA:   0:00:53"
     ]
    },
    {
     "name": "stdout",
     "output_type": "stream",
     "text": [
      "---------------------\n",
      "GEN Loss: 3.9337764 8.304604\n",
      "Feature Matching Loss: 0.018247746 0.016165216\n",
      "RECON Loss: 0.011999752 0.0149190705\n",
      "DIS Loss: 0.0438407 0.0006914634\n"
     ]
    },
    {
     "name": "stderr",
     "output_type": "stream",
     "text": [
      "epoch #909|  0%|                                                |ETA:   0:00:53"
     ]
    },
    {
     "name": "stdout",
     "output_type": "stream",
     "text": [
      "---------------------\n",
      "GEN Loss: 4.995927 8.365143\n",
      "Feature Matching Loss: 0.016411021 0.016340852\n",
      "RECON Loss: 0.0115647195 0.014088523\n",
      "DIS Loss: 0.017760498 0.0006569484\n"
     ]
    },
    {
     "name": "stderr",
     "output_type": "stream",
     "text": [
      "epoch #910|  0%|                                                |ETA:   0:00:57"
     ]
    },
    {
     "name": "stdout",
     "output_type": "stream",
     "text": [
      "---------------------\n",
      "GEN Loss: 5.8487453 8.4459505\n",
      "Feature Matching Loss: 0.015482921 0.016399166\n",
      "RECON Loss: 0.011359284 0.013638703\n",
      "DIS Loss: 0.014077295 0.00062530313\n"
     ]
    },
    {
     "name": "stderr",
     "output_type": "stream",
     "text": [
      "epoch #911|  0%|                                                |ETA:   0:00:53"
     ]
    },
    {
     "name": "stdout",
     "output_type": "stream",
     "text": [
      "---------------------\n",
      "GEN Loss: 6.083867 8.525556\n",
      "Feature Matching Loss: 0.01579788 0.01653664\n",
      "RECON Loss: 0.011162592 0.013044953\n",
      "DIS Loss: 0.010330429 0.00058640586\n"
     ]
    },
    {
     "name": "stderr",
     "output_type": "stream",
     "text": [
      "epoch #912|  0%|                                                |ETA:   0:00:59"
     ]
    },
    {
     "name": "stdout",
     "output_type": "stream",
     "text": [
      "---------------------\n",
      "GEN Loss: 6.442785 8.562101\n",
      "Feature Matching Loss: 0.016284527 0.016588733\n",
      "RECON Loss: 0.01100255 0.012512702\n",
      "DIS Loss: 0.007437504 0.00056578114\n"
     ]
    },
    {
     "name": "stderr",
     "output_type": "stream",
     "text": [
      "epoch #913|  0%|                                                |ETA:   0:01:09"
     ]
    },
    {
     "name": "stdout",
     "output_type": "stream",
     "text": [
      "---------------------\n",
      "GEN Loss: 6.7866826 8.624983\n",
      "Feature Matching Loss: 0.017056582 0.016684989\n",
      "RECON Loss: 0.010870062 0.012146397\n",
      "DIS Loss: 0.0060204663 0.00053677923\n"
     ]
    },
    {
     "name": "stderr",
     "output_type": "stream",
     "text": [
      "epoch #914|  0%|                                                |ETA:   0:00:56"
     ]
    },
    {
     "name": "stdout",
     "output_type": "stream",
     "text": [
      "---------------------\n",
      "GEN Loss: 7.0463867 8.674917\n",
      "Feature Matching Loss: 0.01768537 0.016740479\n",
      "RECON Loss: 0.010757881 0.011862671\n",
      "DIS Loss: 0.0048369262 0.0005182007\n"
     ]
    },
    {
     "name": "stderr",
     "output_type": "stream",
     "text": [
      "epoch #915|  0%|                                                |ETA:   0:00:55"
     ]
    },
    {
     "name": "stdout",
     "output_type": "stream",
     "text": [
      "---------------------\n",
      "GEN Loss: 7.259867 8.72901\n",
      "Feature Matching Loss: 0.018315114 0.01680879\n",
      "RECON Loss: 0.010650506 0.011608064\n",
      "DIS Loss: 0.0038888897 0.00049601105\n"
     ]
    },
    {
     "name": "stderr",
     "output_type": "stream",
     "text": [
      "epoch #916|  0%|                                                |ETA:   0:00:54"
     ]
    },
    {
     "name": "stdout",
     "output_type": "stream",
     "text": [
      "---------------------\n",
      "GEN Loss: 7.426631 8.7718525\n",
      "Feature Matching Loss: 0.018855702 0.016883086\n",
      "RECON Loss: 0.010558244 0.011411486\n",
      "DIS Loss: 0.0032255515 0.00047779782\n"
     ]
    },
    {
     "name": "stderr",
     "output_type": "stream",
     "text": [
      "epoch #917|  0%|                                                |ETA:   0:00:55"
     ]
    },
    {
     "name": "stdout",
     "output_type": "stream",
     "text": [
      "---------------------\n",
      "GEN Loss: 7.569607 8.805666\n",
      "Feature Matching Loss: 0.019327948 0.016966823\n",
      "RECON Loss: 0.010475225 0.011246453\n",
      "DIS Loss: 0.0027174798 0.00045975263\n"
     ]
    },
    {
     "name": "stderr",
     "output_type": "stream",
     "text": [
      "epoch #918|  0%|                                                |ETA:   0:00:57"
     ]
    },
    {
     "name": "stdout",
     "output_type": "stream",
     "text": [
      "---------------------\n",
      "GEN Loss: 7.6855626 8.836834\n",
      "Feature Matching Loss: 0.01972299 0.017000882\n",
      "RECON Loss: 0.010394568 0.011098139\n",
      "DIS Loss: 0.0023598848 0.0004455442\n"
     ]
    },
    {
     "name": "stderr",
     "output_type": "stream",
     "text": [
      "epoch #919|  0%|                                                |ETA:   0:00:54"
     ]
    },
    {
     "name": "stdout",
     "output_type": "stream",
     "text": [
      "---------------------\n",
      "GEN Loss: 7.7800984 8.8801155\n",
      "Feature Matching Loss: 0.020087857 0.017077034\n",
      "RECON Loss: 0.010314838 0.010966286\n",
      "DIS Loss: 0.0020972677 0.0004361376\n"
     ]
    },
    {
     "name": "stderr",
     "output_type": "stream",
     "text": [
      "epoch #920|  0%|                                                |ETA:   0:00:57"
     ]
    },
    {
     "name": "stdout",
     "output_type": "stream",
     "text": [
      "---------------------\n",
      "GEN Loss: 7.8610306 8.911259\n",
      "Feature Matching Loss: 0.020453464 0.017118473\n",
      "RECON Loss: 0.010267148 0.0108680045\n",
      "DIS Loss: 0.0018857119 0.00041927875\n"
     ]
    },
    {
     "name": "stderr",
     "output_type": "stream",
     "text": [
      "epoch #921|  0%|                                                |ETA:   0:00:57"
     ]
    },
    {
     "name": "stdout",
     "output_type": "stream",
     "text": [
      "---------------------\n",
      "GEN Loss: 7.935646 8.925814\n",
      "Feature Matching Loss: 0.02076632 0.017185625\n",
      "RECON Loss: 0.010227527 0.01078904\n",
      "DIS Loss: 0.001708444 0.00041092694\n"
     ]
    },
    {
     "name": "stderr",
     "output_type": "stream",
     "text": [
      "epoch #922|  0%|                                                |ETA:   0:00:56"
     ]
    },
    {
     "name": "stdout",
     "output_type": "stream",
     "text": [
      "---------------------\n",
      "GEN Loss: 7.9995594 8.972446\n",
      "Feature Matching Loss: 0.021038238 0.017276222\n",
      "RECON Loss: 0.010158686 0.010665407\n",
      "DIS Loss: 0.0015656846 0.0004000765\n"
     ]
    },
    {
     "name": "stderr",
     "output_type": "stream",
     "text": [
      "epoch #923|  0%|                                                |ETA:   0:00:54"
     ]
    },
    {
     "name": "stdout",
     "output_type": "stream",
     "text": [
      "---------------------\n",
      "GEN Loss: 7.9404697 0.75654584\n",
      "Feature Matching Loss: 0.020272091 0.018125966\n",
      "RECON Loss: 0.013754303 0.014058676\n",
      "DIS Loss: 0.0015312467 0.7679175\n"
     ]
    },
    {
     "name": "stderr",
     "output_type": "stream",
     "text": [
      "epoch #924|  0%|                                                |ETA:   0:00:55"
     ]
    },
    {
     "name": "stdout",
     "output_type": "stream",
     "text": [
      "---------------------\n",
      "GEN Loss: 7.95547 0.6946654\n",
      "Feature Matching Loss: 0.02075905 0.018130008\n",
      "RECON Loss: 0.011869542 0.012426702\n",
      "DIS Loss: 0.0015111526 0.7109164\n"
     ]
    },
    {
     "name": "stderr",
     "output_type": "stream",
     "text": [
      "epoch #925|  0%|                                                |ETA:   0:00:54"
     ]
    },
    {
     "name": "stdout",
     "output_type": "stream",
     "text": [
      "---------------------\n",
      "GEN Loss: 7.9345756 0.7208424\n",
      "Feature Matching Loss: 0.021045595 0.015296437\n",
      "RECON Loss: 0.011276513 0.011673061\n",
      "DIS Loss: 0.0014992459 0.6701057\n"
     ]
    },
    {
     "name": "stderr",
     "output_type": "stream",
     "text": [
      "epoch #926|  0%|                                                |ETA:   0:00:54"
     ]
    },
    {
     "name": "stdout",
     "output_type": "stream",
     "text": [
      "---------------------\n",
      "GEN Loss: 7.9946623 0.7253753\n",
      "Feature Matching Loss: 0.021395573 0.015055897\n",
      "RECON Loss: 0.011109462 0.011421303\n",
      "DIS Loss: 0.001429304 0.6733778\n"
     ]
    },
    {
     "name": "stderr",
     "output_type": "stream",
     "text": [
      "epoch #927|  0%|                                                |ETA:   0:00:57"
     ]
    },
    {
     "name": "stdout",
     "output_type": "stream",
     "text": [
      "---------------------\n",
      "GEN Loss: 8.063921 0.705969\n",
      "Feature Matching Loss: 0.021672707 0.013842468\n",
      "RECON Loss: 0.010908752 0.011185754\n",
      "DIS Loss: 0.0013280624 0.6669009\n"
     ]
    },
    {
     "name": "stderr",
     "output_type": "stream",
     "text": [
      "epoch #928|  0%|                                                |ETA:   0:00:53"
     ]
    },
    {
     "name": "stdout",
     "output_type": "stream",
     "text": [
      "---------------------\n",
      "GEN Loss: 8.1746645 0.70085746\n",
      "Feature Matching Loss: 0.021943115 0.013942792\n",
      "RECON Loss: 0.010888604 0.01103831\n",
      "DIS Loss: 0.0012077542 0.6492815\n"
     ]
    },
    {
     "name": "stderr",
     "output_type": "stream",
     "text": [
      "epoch #929|  0%|                                                |ETA:   0:00:55"
     ]
    },
    {
     "name": "stdout",
     "output_type": "stream",
     "text": [
      "---------------------\n",
      "GEN Loss: 8.277636 0.79568267\n",
      "Feature Matching Loss: 0.022218246 0.014803592\n",
      "RECON Loss: 0.011188045 0.011012062\n",
      "DIS Loss: 0.0011007152 0.6361963\n"
     ]
    },
    {
     "name": "stderr",
     "output_type": "stream",
     "text": [
      "epoch #930|  0%|                                                |ETA:   0:00:58"
     ]
    },
    {
     "name": "stdout",
     "output_type": "stream",
     "text": [
      "---------------------\n",
      "GEN Loss: 8.368146 0.83067167\n",
      "Feature Matching Loss: 0.022454606 0.019340288\n",
      "RECON Loss: 0.012079748 0.011187262\n",
      "DIS Loss: 0.0010142302 0.6164066\n"
     ]
    },
    {
     "name": "stderr",
     "output_type": "stream",
     "text": [
      "epoch #931|  0%|                                                |ETA:   0:00:54"
     ]
    },
    {
     "name": "stdout",
     "output_type": "stream",
     "text": [
      "---------------------\n",
      "GEN Loss: 8.408646 0.916265\n",
      "Feature Matching Loss: 0.02252493 0.043677725\n",
      "RECON Loss: 0.014916575 0.01278277\n",
      "DIS Loss: 0.00094624725 0.6147735\n"
     ]
    },
    {
     "name": "stderr",
     "output_type": "stream",
     "text": [
      "epoch #932|  0%|                                                |ETA:   0:00:54"
     ]
    },
    {
     "name": "stdout",
     "output_type": "stream",
     "text": [
      "---------------------\n",
      "GEN Loss: 8.486735 1.1188341\n",
      "Feature Matching Loss: 0.022404958 0.044493094\n",
      "RECON Loss: 0.015865598 0.013157698\n",
      "DIS Loss: 0.0009081003 0.4175248\n"
     ]
    },
    {
     "name": "stderr",
     "output_type": "stream",
     "text": [
      "epoch #933|  0%|                                                |ETA:   0:00:51"
     ]
    },
    {
     "name": "stdout",
     "output_type": "stream",
     "text": [
      "---------------------\n",
      "GEN Loss: 8.584421 2.3600502\n",
      "Feature Matching Loss: 0.022906262 0.051307805\n",
      "RECON Loss: 0.016335959 0.012783672\n",
      "DIS Loss: 0.00083110144 0.23735422\n"
     ]
    },
    {
     "name": "stderr",
     "output_type": "stream",
     "text": [
      "epoch #934|  0%|                                                |ETA:   0:00:56"
     ]
    },
    {
     "name": "stdout",
     "output_type": "stream",
     "text": [
      "---------------------\n",
      "GEN Loss: 8.571972 3.1431124\n",
      "Feature Matching Loss: 0.022960816 0.04944527\n",
      "RECON Loss: 0.015541021 0.012778334\n",
      "DIS Loss: 0.000807858 0.15235692\n"
     ]
    },
    {
     "name": "stderr",
     "output_type": "stream",
     "text": [
      "epoch #935|  0%|                                                |ETA:   0:01:30"
     ]
    },
    {
     "name": "stdout",
     "output_type": "stream",
     "text": [
      "---------------------\n",
      "GEN Loss: 8.610704 3.4145947\n",
      "Feature Matching Loss: 0.022887208 0.034330018\n",
      "RECON Loss: 0.016114289 0.012674961\n",
      "DIS Loss: 0.00077102485 0.081025705\n"
     ]
    },
    {
     "name": "stderr",
     "output_type": "stream",
     "text": [
      "epoch #936|  0%|                                                |ETA:   0:00:55"
     ]
    },
    {
     "name": "stdout",
     "output_type": "stream",
     "text": [
      "---------------------\n",
      "GEN Loss: 8.756979 3.5016425\n",
      "Feature Matching Loss: 0.023602188 0.030771725\n",
      "RECON Loss: 0.01569791 0.012418154\n",
      "DIS Loss: 0.0007233778 0.07472131\n"
     ]
    },
    {
     "name": "stderr",
     "output_type": "stream",
     "text": [
      "epoch #937|  0%|                                                |ETA:   0:00:55"
     ]
    },
    {
     "name": "stdout",
     "output_type": "stream",
     "text": [
      "---------------------\n",
      "GEN Loss: 8.88911 4.0435724\n",
      "Feature Matching Loss: 0.024237629 0.025413817\n",
      "RECON Loss: 0.015375324 0.01229238\n",
      "DIS Loss: 0.0006546322 0.052271754\n"
     ]
    },
    {
     "name": "stderr",
     "output_type": "stream",
     "text": [
      "epoch #938|  0%|                                                |ETA:   0:00:53"
     ]
    },
    {
     "name": "stdout",
     "output_type": "stream",
     "text": [
      "---------------------\n",
      "GEN Loss: 8.967323 4.0238595\n",
      "Feature Matching Loss: 0.024378676 0.020418564\n",
      "RECON Loss: 0.015103782 0.012051547\n",
      "DIS Loss: 0.00064103445 0.042364217\n"
     ]
    },
    {
     "name": "stderr",
     "output_type": "stream",
     "text": [
      "epoch #939|  0%|                                                |ETA:   0:00:52"
     ]
    },
    {
     "name": "stdout",
     "output_type": "stream",
     "text": [
      "---------------------\n",
      "GEN Loss: 8.87648 4.3065305\n",
      "Feature Matching Loss: 0.023342207 0.017333694\n",
      "RECON Loss: 0.014909906 0.011929299\n",
      "DIS Loss: 0.00078576675 0.030340359\n"
     ]
    },
    {
     "name": "stderr",
     "output_type": "stream",
     "text": [
      "epoch #940|  0%|                                                |ETA:   0:00:53"
     ]
    },
    {
     "name": "stdout",
     "output_type": "stream",
     "text": [
      "---------------------\n",
      "GEN Loss: 9.051821 4.7972937\n",
      "Feature Matching Loss: 0.024371251 0.015642744\n",
      "RECON Loss: 0.014186743 0.011671136\n",
      "DIS Loss: 0.00054445805 0.020238053\n"
     ]
    },
    {
     "name": "stderr",
     "output_type": "stream",
     "text": [
      "epoch #941|  0%|                                                |ETA:   0:00:53"
     ]
    },
    {
     "name": "stdout",
     "output_type": "stream",
     "text": [
      "---------------------\n",
      "GEN Loss: 8.963217 5.189102\n",
      "Feature Matching Loss: 0.022791492 0.014316847\n",
      "RECON Loss: 0.013717356 0.011544129\n",
      "DIS Loss: 0.0005508699 0.01447702\n"
     ]
    },
    {
     "name": "stderr",
     "output_type": "stream",
     "text": [
      "epoch #942|  0%|                                                |ETA:   0:00:52"
     ]
    },
    {
     "name": "stdout",
     "output_type": "stream",
     "text": [
      "---------------------\n",
      "GEN Loss: 8.942037 5.282132\n",
      "Feature Matching Loss: 0.022602715 0.013676452\n",
      "RECON Loss: 0.013190871 0.011394906\n",
      "DIS Loss: 0.0005412282 0.011227159\n"
     ]
    },
    {
     "name": "stderr",
     "output_type": "stream",
     "text": [
      "epoch #943|  0%|                                                |ETA:   0:00:57"
     ]
    },
    {
     "name": "stdout",
     "output_type": "stream",
     "text": [
      "---------------------\n",
      "GEN Loss: 9.857627 5.4221888\n",
      "Feature Matching Loss: 0.032133482 0.013504551\n",
      "RECON Loss: 0.012869922 0.011169877\n",
      "DIS Loss: 0.0003827603 0.009056054\n"
     ]
    },
    {
     "name": "stderr",
     "output_type": "stream",
     "text": [
      "epoch #944|  0%|                                                |ETA:   0:00:54"
     ]
    },
    {
     "name": "stdout",
     "output_type": "stream",
     "text": [
      "---------------------\n",
      "GEN Loss: 9.471874 5.580956\n",
      "Feature Matching Loss: 0.026873257 0.013456151\n",
      "RECON Loss: 0.012545532 0.0110899955\n",
      "DIS Loss: 0.0004386466 0.007443606\n"
     ]
    },
    {
     "name": "stderr",
     "output_type": "stream",
     "text": [
      "epoch #945|  0%|                                                |ETA:   0:00:53"
     ]
    },
    {
     "name": "stdout",
     "output_type": "stream",
     "text": [
      "---------------------\n",
      "GEN Loss: 9.130072 5.67755\n",
      "Feature Matching Loss: 0.023060095 0.013471733\n",
      "RECON Loss: 0.012323181 0.011041461\n",
      "DIS Loss: 0.00056104036 0.00679687\n"
     ]
    },
    {
     "name": "stderr",
     "output_type": "stream",
     "text": [
      "epoch #946|  0%|                                                |ETA:   0:00:53"
     ]
    },
    {
     "name": "stdout",
     "output_type": "stream",
     "text": [
      "---------------------\n",
      "GEN Loss: 8.887858 5.854535\n",
      "Feature Matching Loss: 0.02273907 0.013506837\n",
      "RECON Loss: 0.01208068 0.011156829\n",
      "DIS Loss: 0.00058229663 0.005761735\n"
     ]
    },
    {
     "name": "stderr",
     "output_type": "stream",
     "text": [
      "epoch #947|  0%|                                                |ETA:   0:00:54"
     ]
    },
    {
     "name": "stdout",
     "output_type": "stream",
     "text": [
      "---------------------\n",
      "GEN Loss: 8.956036 6.0247626\n",
      "Feature Matching Loss: 0.025767233 0.013556059\n",
      "RECON Loss: 0.011903686 0.011031407\n",
      "DIS Loss: 0.0006681738 0.0049630646\n"
     ]
    },
    {
     "name": "stderr",
     "output_type": "stream",
     "text": [
      "epoch #948|  0%|                                                |ETA:   0:00:56"
     ]
    },
    {
     "name": "stdout",
     "output_type": "stream",
     "text": [
      "---------------------\n",
      "GEN Loss: 0.7573199 6.1933756\n",
      "Feature Matching Loss: 0.014793668 0.013667429\n",
      "RECON Loss: 0.013238585 0.01211278\n",
      "DIS Loss: 0.72482073 0.004322148\n"
     ]
    },
    {
     "name": "stderr",
     "output_type": "stream",
     "text": [
      "epoch #949|  0%|                                                |ETA:   0:00:52"
     ]
    },
    {
     "name": "stdout",
     "output_type": "stream",
     "text": [
      "---------------------\n",
      "GEN Loss: 0.7911488 6.308357\n",
      "Feature Matching Loss: 0.015380401 0.013675106\n",
      "RECON Loss: 0.012585986 0.011875953\n",
      "DIS Loss: 0.65409636 0.0038939535\n"
     ]
    },
    {
     "name": "stderr",
     "output_type": "stream",
     "text": [
      "epoch #950|  0%|                                                |ETA:   0:00:55"
     ]
    },
    {
     "name": "stdout",
     "output_type": "stream",
     "text": [
      "---------------------\n",
      "GEN Loss: 3.517854 6.4695206\n",
      "Feature Matching Loss: 0.04414048 0.013833038\n",
      "RECON Loss: 0.015606269 0.015059757\n",
      "DIS Loss: 0.67864513 0.0034210035\n"
     ]
    },
    {
     "name": "stderr",
     "output_type": "stream",
     "text": [
      "epoch #951|  0%|                                                |ETA:   0:00:54"
     ]
    },
    {
     "name": "stdout",
     "output_type": "stream",
     "text": [
      "---------------------\n",
      "GEN Loss: 3.8196476 6.5743303\n",
      "Feature Matching Loss: 0.03533963 0.013989711\n",
      "RECON Loss: 0.015065934 0.015971458\n",
      "DIS Loss: 0.25061768 0.0031096993\n"
     ]
    },
    {
     "name": "stderr",
     "output_type": "stream",
     "text": [
      "epoch #952|  0%|                                                |ETA:   0:00:53"
     ]
    },
    {
     "name": "stdout",
     "output_type": "stream",
     "text": [
      "---------------------\n",
      "GEN Loss: 2.7148705 6.6287203\n",
      "Feature Matching Loss: 0.029363168 0.014018227\n",
      "RECON Loss: 0.014120555 0.01617094\n",
      "DIS Loss: 0.0917307 0.0029371916\n"
     ]
    },
    {
     "name": "stderr",
     "output_type": "stream",
     "text": [
      "epoch #953|  0%|                                                |ETA:   0:00:53"
     ]
    },
    {
     "name": "stdout",
     "output_type": "stream",
     "text": [
      "---------------------\n",
      "GEN Loss: 3.9792957 6.7096024\n",
      "Feature Matching Loss: 0.021294884 0.014115501\n",
      "RECON Loss: 0.013443525 0.016088735\n",
      "DIS Loss: 0.035060067 0.0027310215\n"
     ]
    },
    {
     "name": "stderr",
     "output_type": "stream",
     "text": [
      "epoch #954|N/A%|                                                |ETA:  --:--:--"
     ]
    },
    {
     "name": "stdout",
     "output_type": "stream",
     "text": [
      "---------------------\n"
     ]
    },
    {
     "name": "stderr",
     "output_type": "stream",
     "text": [
      "\r",
      "                                                                               \r",
      "\r",
      "epoch #954|  0%|                                                |ETA:   0:01:46"
     ]
    },
    {
     "name": "stdout",
     "output_type": "stream",
     "text": [
      "GEN Loss: 5.2094917 6.8090425\n",
      "Feature Matching Loss: 0.017804304 0.014189538\n",
      "RECON Loss: 0.013084556 0.01492382\n",
      "DIS Loss: 0.015355765 0.0025409805\n"
     ]
    },
    {
     "name": "stderr",
     "output_type": "stream",
     "text": [
      "epoch #955|  0%|                                                |ETA:   0:00:52"
     ]
    },
    {
     "name": "stdout",
     "output_type": "stream",
     "text": [
      "---------------------\n",
      "GEN Loss: 5.705112 6.893789\n",
      "Feature Matching Loss: 0.01689002 0.014247917\n",
      "RECON Loss: 0.012655567 0.01388631\n",
      "DIS Loss: 0.009889927 0.002381917\n"
     ]
    },
    {
     "name": "stderr",
     "output_type": "stream",
     "text": [
      "epoch #956|  0%|                                                |ETA:   0:00:54"
     ]
    },
    {
     "name": "stdout",
     "output_type": "stream",
     "text": [
      "---------------------\n",
      "GEN Loss: 6.006613 6.9794393\n",
      "Feature Matching Loss: 0.016684543 0.01428458\n",
      "RECON Loss: 0.012332825 0.013185616\n",
      "DIS Loss: 0.007864039 0.002215314\n"
     ]
    },
    {
     "name": "stderr",
     "output_type": "stream",
     "text": [
      "epoch #957|  0%|                                                |ETA:   0:00:52"
     ]
    },
    {
     "name": "stdout",
     "output_type": "stream",
     "text": [
      "---------------------\n",
      "GEN Loss: 6.4737406 7.0524216\n",
      "Feature Matching Loss: 0.016681358 0.014342214\n",
      "RECON Loss: 0.012069716 0.012775209\n",
      "DIS Loss: 0.006418342 0.0020714228\n"
     ]
    },
    {
     "name": "stderr",
     "output_type": "stream",
     "text": [
      "epoch #958|  0%|                                                |ETA:   0:00:53"
     ]
    },
    {
     "name": "stdout",
     "output_type": "stream",
     "text": [
      "---------------------\n",
      "GEN Loss: 6.888008 7.119149\n",
      "Feature Matching Loss: 0.018241337 0.014398878\n",
      "RECON Loss: 0.011838209 0.012354705\n",
      "DIS Loss: 0.004551947 0.0019430046\n"
     ]
    },
    {
     "name": "stderr",
     "output_type": "stream",
     "text": [
      "epoch #959|  0%|                                                |ETA:   0:00:54"
     ]
    },
    {
     "name": "stdout",
     "output_type": "stream",
     "text": [
      "---------------------\n",
      "GEN Loss: 7.092668 7.183213\n",
      "Feature Matching Loss: 0.019229334 0.014466839\n",
      "RECON Loss: 0.01165742 0.0120860515\n",
      "DIS Loss: 0.0034212498 0.0018256742\n"
     ]
    },
    {
     "name": "stderr",
     "output_type": "stream",
     "text": [
      "epoch #960|  0%|                                                |ETA:   0:00:56"
     ]
    },
    {
     "name": "stdout",
     "output_type": "stream",
     "text": [
      "---------------------\n",
      "GEN Loss: 7.2380543 7.250017\n",
      "Feature Matching Loss: 0.019873483 0.014533844\n",
      "RECON Loss: 0.011498953 0.011854302\n",
      "DIS Loss: 0.0026619972 0.0017226082\n"
     ]
    },
    {
     "name": "stderr",
     "output_type": "stream",
     "text": [
      "epoch #961|  0%|                                                |ETA:   0:00:54"
     ]
    },
    {
     "name": "stdout",
     "output_type": "stream",
     "text": [
      "---------------------\n",
      "GEN Loss: 7.385022 7.311376\n",
      "Feature Matching Loss: 0.020413348 0.014605211\n",
      "RECON Loss: 0.011359471 0.011656898\n",
      "DIS Loss: 0.0022097027 0.0016292671\n"
     ]
    },
    {
     "name": "stderr",
     "output_type": "stream",
     "text": [
      "epoch #962|  0%|                                                |ETA:   0:00:53"
     ]
    },
    {
     "name": "stdout",
     "output_type": "stream",
     "text": [
      "---------------------\n",
      "GEN Loss: 7.5236855 7.3710155\n",
      "Feature Matching Loss: 0.02087374 0.014669159\n",
      "RECON Loss: 0.011237319 0.011489573\n",
      "DIS Loss: 0.0018794581 0.0015444357\n"
     ]
    },
    {
     "name": "stderr",
     "output_type": "stream",
     "text": [
      "epoch #963|  0%|                                                |ETA:   0:00:53"
     ]
    },
    {
     "name": "stdout",
     "output_type": "stream",
     "text": [
      "---------------------\n",
      "GEN Loss: 7.6507506 7.430433\n",
      "Feature Matching Loss: 0.021265551 0.0147257075\n",
      "RECON Loss: 0.011123851 0.011343166\n",
      "DIS Loss: 0.0016289563 0.001468037\n"
     ]
    },
    {
     "name": "stderr",
     "output_type": "stream",
     "text": [
      "epoch #964|  0%|                                                |ETA:   0:00:52"
     ]
    },
    {
     "name": "stdout",
     "output_type": "stream",
     "text": [
      "---------------------\n",
      "GEN Loss: 7.761178 7.4885874\n",
      "Feature Matching Loss: 0.021658259 0.014785931\n",
      "RECON Loss: 0.011026567 0.011217872\n",
      "DIS Loss: 0.0014427032 0.0013942134\n"
     ]
    },
    {
     "name": "stderr",
     "output_type": "stream",
     "text": [
      "epoch #965|  0%|                                                |ETA:   0:00:54"
     ]
    },
    {
     "name": "stdout",
     "output_type": "stream",
     "text": [
      "---------------------\n",
      "GEN Loss: 7.858773 7.54654\n",
      "Feature Matching Loss: 0.022000488 0.014846968\n",
      "RECON Loss: 0.010935104 0.0111002205\n",
      "DIS Loss: 0.0012937096 0.0013270583\n"
     ]
    },
    {
     "name": "stderr",
     "output_type": "stream",
     "text": [
      "epoch #966|  0%|                                                |ETA:   0:00:53"
     ]
    },
    {
     "name": "stdout",
     "output_type": "stream",
     "text": [
      "---------------------\n",
      "GEN Loss: 7.947217 7.5991135\n",
      "Feature Matching Loss: 0.022317687 0.014912746\n",
      "RECON Loss: 0.010849759 0.010996899\n",
      "DIS Loss: 0.0011708649 0.0012655959\n"
     ]
    },
    {
     "name": "stderr",
     "output_type": "stream",
     "text": [
      "epoch #967|  0%|                                                |ETA:   0:00:52"
     ]
    },
    {
     "name": "stdout",
     "output_type": "stream",
     "text": [
      "---------------------\n",
      "GEN Loss: 8.027051 7.6536503\n",
      "Feature Matching Loss: 0.022571385 0.014985153\n",
      "RECON Loss: 0.010768456 0.010896224\n",
      "DIS Loss: 0.0010693441 0.0012078122\n"
     ]
    },
    {
     "name": "stderr",
     "output_type": "stream",
     "text": [
      "epoch #968|  0%|                                                |ETA:   0:00:55"
     ]
    },
    {
     "name": "stdout",
     "output_type": "stream",
     "text": [
      "---------------------\n",
      "GEN Loss: 8.1020155 7.6998916\n",
      "Feature Matching Loss: 0.02279295 0.01504812\n",
      "RECON Loss: 0.010690907 0.01080524\n",
      "DIS Loss: 0.0009818639 0.0011556958\n"
     ]
    },
    {
     "name": "stderr",
     "output_type": "stream",
     "text": [
      "epoch #969|  0%|                                                |ETA:   0:01:37"
     ]
    },
    {
     "name": "stdout",
     "output_type": "stream",
     "text": [
      "---------------------\n",
      "GEN Loss: 8.1707735 7.746755\n",
      "Feature Matching Loss: 0.023031402 0.015122008\n",
      "RECON Loss: 0.010618842 0.010729898\n",
      "DIS Loss: 0.0009039877 0.0011063556\n"
     ]
    },
    {
     "name": "stderr",
     "output_type": "stream",
     "text": [
      "epoch #970|  0%|                                                |ETA:   0:00:53"
     ]
    },
    {
     "name": "stdout",
     "output_type": "stream",
     "text": [
      "---------------------\n",
      "GEN Loss: 8.235422 7.785761\n",
      "Feature Matching Loss: 0.023227135 0.015176555\n",
      "RECON Loss: 0.010549327 0.0106580015\n",
      "DIS Loss: 0.0008401378 0.0010608938\n"
     ]
    },
    {
     "name": "stderr",
     "output_type": "stream",
     "text": [
      "epoch #971|  0%|                                                |ETA:   0:00:54"
     ]
    },
    {
     "name": "stdout",
     "output_type": "stream",
     "text": [
      "---------------------\n",
      "GEN Loss: 8.291745 7.8272047\n",
      "Feature Matching Loss: 0.023408486 0.015239697\n",
      "RECON Loss: 0.010484727 0.01058072\n",
      "DIS Loss: 0.0007828111 0.0010188201\n"
     ]
    },
    {
     "name": "stderr",
     "output_type": "stream",
     "text": [
      "epoch #972|  0%|                                                |ETA:   0:00:54"
     ]
    },
    {
     "name": "stdout",
     "output_type": "stream",
     "text": [
      "---------------------\n",
      "GEN Loss: 8.346289 7.8728147\n",
      "Feature Matching Loss: 0.023555659 0.015306933\n",
      "RECON Loss: 0.010422476 0.0105138775\n",
      "DIS Loss: 0.00073268195 0.0009768447\n"
     ]
    },
    {
     "name": "stderr",
     "output_type": "stream",
     "text": [
      "epoch #973|  0%|                                                |ETA:   0:00:55"
     ]
    },
    {
     "name": "stdout",
     "output_type": "stream",
     "text": [
      "---------------------\n",
      "GEN Loss: 8.399084 7.907069\n",
      "Feature Matching Loss: 0.023724012 0.015372669\n",
      "RECON Loss: 0.010361783 0.01045095\n",
      "DIS Loss: 0.00068903784 0.0009387447\n"
     ]
    },
    {
     "name": "stderr",
     "output_type": "stream",
     "text": [
      "epoch #974|  0%|                                                |ETA:   0:00:56"
     ]
    },
    {
     "name": "stdout",
     "output_type": "stream",
     "text": [
      "---------------------\n",
      "GEN Loss: 8.449921 7.9567795\n",
      "Feature Matching Loss: 0.02388151 0.015433209\n",
      "RECON Loss: 0.0103032105 0.010384064\n",
      "DIS Loss: 0.0006483168 0.00090051186\n"
     ]
    },
    {
     "name": "stderr",
     "output_type": "stream",
     "text": [
      "epoch #975|  0%|                                                |ETA:   0:00:53"
     ]
    },
    {
     "name": "stdout",
     "output_type": "stream",
     "text": [
      "---------------------\n",
      "GEN Loss: 8.502751 8.009991\n",
      "Feature Matching Loss: 0.024031337 0.015499283\n",
      "RECON Loss: 0.010246097 0.010330899\n",
      "DIS Loss: 0.0006112779 0.00086415076\n"
     ]
    },
    {
     "name": "stderr",
     "output_type": "stream",
     "text": [
      "epoch #976|  0%|                                                |ETA:   0:00:53"
     ]
    },
    {
     "name": "stdout",
     "output_type": "stream",
     "text": [
      "---------------------\n",
      "GEN Loss: 8.55425 8.0597315\n",
      "Feature Matching Loss: 0.024178699 0.015559787\n",
      "RECON Loss: 0.010191446 0.010297103\n",
      "DIS Loss: 0.0005783592 0.0008290186\n"
     ]
    },
    {
     "name": "stderr",
     "output_type": "stream",
     "text": [
      "epoch #977|  0%|                                                |ETA:   0:00:55"
     ]
    },
    {
     "name": "stdout",
     "output_type": "stream",
     "text": [
      "---------------------\n",
      "GEN Loss: 8.603046 8.105921\n",
      "Feature Matching Loss: 0.024295827 0.015605686\n",
      "RECON Loss: 0.010140229 0.010234115\n",
      "DIS Loss: 0.00054769404 0.00079663884\n"
     ]
    },
    {
     "name": "stderr",
     "output_type": "stream",
     "text": [
      "epoch #978|  0%|                                                |ETA:   0:00:53"
     ]
    },
    {
     "name": "stdout",
     "output_type": "stream",
     "text": [
      "---------------------\n",
      "GEN Loss: 8.659221 8.147474\n",
      "Feature Matching Loss: 0.024415756 0.015647957\n",
      "RECON Loss: 0.0100835115 0.010176379\n",
      "DIS Loss: 0.0005197024 0.00076585286\n"
     ]
    },
    {
     "name": "stderr",
     "output_type": "stream",
     "text": [
      "epoch #979|  0%|                                                |ETA:   0:00:53"
     ]
    },
    {
     "name": "stdout",
     "output_type": "stream",
     "text": [
      "---------------------\n",
      "GEN Loss: 8.705887 8.188565\n",
      "Feature Matching Loss: 0.024503186 0.015700035\n",
      "RECON Loss: 0.010029708 0.010127075\n",
      "DIS Loss: 0.0004950133 0.0007345873\n"
     ]
    },
    {
     "name": "stderr",
     "output_type": "stream",
     "text": [
      "epoch #980|  0%|                                                |ETA:   0:00:52"
     ]
    },
    {
     "name": "stdout",
     "output_type": "stream",
     "text": [
      "---------------------\n",
      "GEN Loss: 8.756585 8.234265\n",
      "Feature Matching Loss: 0.024609607 0.01576511\n",
      "RECON Loss: 0.009983964 0.010090761\n",
      "DIS Loss: 0.0004701995 0.00070447754\n"
     ]
    },
    {
     "name": "stderr",
     "output_type": "stream",
     "text": [
      "epoch #981|  0%|                                                |ETA:   0:00:54"
     ]
    },
    {
     "name": "stdout",
     "output_type": "stream",
     "text": [
      "---------------------\n",
      "GEN Loss: 8.807135 8.2525625\n",
      "Feature Matching Loss: 0.024720736 0.015816033\n",
      "RECON Loss: 0.009936322 0.010066841\n",
      "DIS Loss: 0.00044922298 0.00067768915\n"
     ]
    },
    {
     "name": "stderr",
     "output_type": "stream",
     "text": [
      "epoch #982|  0%|                                                |ETA:   0:00:53"
     ]
    },
    {
     "name": "stdout",
     "output_type": "stream",
     "text": [
      "---------------------\n",
      "GEN Loss: 8.861109 8.252238\n",
      "Feature Matching Loss: 0.02482923 0.015768383\n",
      "RECON Loss: 0.009901445 0.010001602\n",
      "DIS Loss: 0.00042772945 0.0006952506\n"
     ]
    },
    {
     "name": "stderr",
     "output_type": "stream",
     "text": [
      "epoch #983|  0%|                                                |ETA:   0:00:52"
     ]
    },
    {
     "name": "stdout",
     "output_type": "stream",
     "text": [
      "---------------------\n",
      "GEN Loss: 8.930715 1.4429325\n",
      "Feature Matching Loss: 0.024316609 0.033116058\n",
      "RECON Loss: 0.015787993 0.0150385415\n",
      "DIS Loss: 0.00041458933 0.98700935\n"
     ]
    },
    {
     "name": "stderr",
     "output_type": "stream",
     "text": [
      "epoch #984|  0%|                                                |ETA:   0:00:54"
     ]
    },
    {
     "name": "stdout",
     "output_type": "stream",
     "text": [
      "---------------------\n",
      "GEN Loss: 8.863831 0.9276019\n",
      "Feature Matching Loss: 0.024566926 0.027335104\n",
      "RECON Loss: 0.012767713 0.012044727\n",
      "DIS Loss: 0.0004182732 0.68905413\n"
     ]
    },
    {
     "name": "stderr",
     "output_type": "stream",
     "text": [
      "epoch #985|  0%|                                                |ETA:   0:00:53"
     ]
    },
    {
     "name": "stdout",
     "output_type": "stream",
     "text": [
      "---------------------\n",
      "GEN Loss: 8.825283 0.7210214\n",
      "Feature Matching Loss: 0.023028167 0.0502728\n",
      "RECON Loss: 0.01468493 0.012539707\n",
      "DIS Loss: 0.00043991877 0.6129207\n"
     ]
    },
    {
     "name": "stderr",
     "output_type": "stream",
     "text": [
      "epoch #986|  0%|                                                |ETA:   0:00:54"
     ]
    },
    {
     "name": "stdout",
     "output_type": "stream",
     "text": [
      "---------------------\n",
      "GEN Loss: 8.927568 2.4126616\n",
      "Feature Matching Loss: 0.023737336 0.051736925\n",
      "RECON Loss: 0.015721863 0.012851367\n",
      "DIS Loss: 0.00039771292 0.25256294\n"
     ]
    },
    {
     "name": "stderr",
     "output_type": "stream",
     "text": [
      "epoch #987|  0%|                                                |ETA:   0:00:53"
     ]
    },
    {
     "name": "stdout",
     "output_type": "stream",
     "text": [
      "---------------------\n",
      "GEN Loss: 9.069158 2.0424683\n",
      "Feature Matching Loss: 0.025985736 0.056514777\n",
      "RECON Loss: 0.016111048 0.012986752\n",
      "DIS Loss: 0.0005170775 0.20740607\n"
     ]
    },
    {
     "name": "stderr",
     "output_type": "stream",
     "text": [
      "epoch #988|N/A%|                                                |ETA:  --:--:--"
     ]
    },
    {
     "name": "stdout",
     "output_type": "stream",
     "text": [
      "---------------------\n"
     ]
    },
    {
     "name": "stderr",
     "output_type": "stream",
     "text": [
      "\r",
      "                                                                               \r",
      "\r",
      "epoch #988|  0%|                                                |ETA:   0:01:56"
     ]
    },
    {
     "name": "stdout",
     "output_type": "stream",
     "text": [
      "GEN Loss: 8.905611 2.147167\n",
      "Feature Matching Loss: 0.024089403 0.04231534\n",
      "RECON Loss: 0.016468573 0.01289246\n",
      "DIS Loss: 0.0004883872 0.19965015\n"
     ]
    },
    {
     "name": "stderr",
     "output_type": "stream",
     "text": [
      "epoch #989|  0%|                                                |ETA:   0:00:56"
     ]
    },
    {
     "name": "stdout",
     "output_type": "stream",
     "text": [
      "---------------------\n",
      "GEN Loss: 8.413765 3.6739466\n",
      "Feature Matching Loss: 0.021084767 0.05567283\n",
      "RECON Loss: 0.016134216 0.012781056\n",
      "DIS Loss: 0.0005937463 0.12145825\n"
     ]
    },
    {
     "name": "stderr",
     "output_type": "stream",
     "text": [
      "epoch #990|  0%|                                                |ETA:   0:00:53"
     ]
    },
    {
     "name": "stdout",
     "output_type": "stream",
     "text": [
      "---------------------\n",
      "GEN Loss: 1.0166826 3.6099002\n",
      "Feature Matching Loss: 0.042463835 0.048265204\n",
      "RECON Loss: 0.024117326 0.019260664\n",
      "DIS Loss: 1.0579607 0.07582506\n"
     ]
    },
    {
     "name": "stderr",
     "output_type": "stream",
     "text": [
      "epoch #991|  0%|                                                |ETA:   0:00:53"
     ]
    },
    {
     "name": "stdout",
     "output_type": "stream",
     "text": [
      "---------------------\n",
      "GEN Loss: 1.6371114 3.7784562\n",
      "Feature Matching Loss: 0.037357874 0.031481907\n",
      "RECON Loss: 0.01952304 0.015791556\n",
      "DIS Loss: 0.6543677 0.060483772\n"
     ]
    },
    {
     "name": "stderr",
     "output_type": "stream",
     "text": [
      "epoch #992|  0%|                                                |ETA:   0:00:56"
     ]
    },
    {
     "name": "stdout",
     "output_type": "stream",
     "text": [
      "---------------------\n",
      "GEN Loss: 1.4926859 3.495183\n",
      "Feature Matching Loss: 0.04429823 0.026504243\n",
      "RECON Loss: 0.020001274 0.018180264\n",
      "DIS Loss: 0.3298576 0.06401705\n"
     ]
    },
    {
     "name": "stderr",
     "output_type": "stream",
     "text": [
      "epoch #993|  0%|                                                |ETA:   0:00:54"
     ]
    },
    {
     "name": "stdout",
     "output_type": "stream",
     "text": [
      "---------------------\n",
      "GEN Loss: 2.6954381 4.082325\n",
      "Feature Matching Loss: 0.029452203 0.022238567\n",
      "RECON Loss: 0.020098845 0.01878598\n",
      "DIS Loss: 0.10761817 0.047090646\n"
     ]
    },
    {
     "name": "stderr",
     "output_type": "stream",
     "text": [
      "epoch #994|  0%|                                                |ETA:   0:00:53"
     ]
    },
    {
     "name": "stdout",
     "output_type": "stream",
     "text": [
      "---------------------\n",
      "GEN Loss: 4.3879585 5.1287136\n",
      "Feature Matching Loss: 0.022244517 0.020457946\n",
      "RECON Loss: 0.019141745 0.018366558\n",
      "DIS Loss: 0.04536904 0.03466358\n"
     ]
    },
    {
     "name": "stderr",
     "output_type": "stream",
     "text": [
      "epoch #995|  0%|                                                |ETA:   0:00:53"
     ]
    },
    {
     "name": "stdout",
     "output_type": "stream",
     "text": [
      "---------------------\n",
      "GEN Loss: 5.232333 5.4170876\n",
      "Feature Matching Loss: 0.016435033 0.01712887\n",
      "RECON Loss: 0.018199168 0.016974304\n",
      "DIS Loss: 0.02197644 0.029765956\n"
     ]
    },
    {
     "name": "stderr",
     "output_type": "stream",
     "text": [
      "epoch #996|  0%|                                                |ETA:   0:00:53"
     ]
    },
    {
     "name": "stdout",
     "output_type": "stream",
     "text": [
      "---------------------\n",
      "GEN Loss: 5.7468305 5.553083\n",
      "Feature Matching Loss: 0.015879707 0.015821708\n",
      "RECON Loss: 0.017532099 0.015798328\n",
      "DIS Loss: 0.01128291 0.02283176\n"
     ]
    },
    {
     "name": "stderr",
     "output_type": "stream",
     "text": [
      "epoch #997|  0%|                                                |ETA:   0:00:53"
     ]
    },
    {
     "name": "stdout",
     "output_type": "stream",
     "text": [
      "---------------------\n",
      "GEN Loss: 6.1752424 5.8894176\n",
      "Feature Matching Loss: 0.016072016 0.015496298\n",
      "RECON Loss: 0.016788272 0.014780405\n",
      "DIS Loss: 0.0071601574 0.018471053\n"
     ]
    },
    {
     "name": "stderr",
     "output_type": "stream",
     "text": [
      "epoch #998|  0%|                                                |ETA:   0:00:52"
     ]
    },
    {
     "name": "stdout",
     "output_type": "stream",
     "text": [
      "---------------------\n",
      "GEN Loss: 6.573288 5.8552175\n",
      "Feature Matching Loss: 0.017353646 0.015097278\n",
      "RECON Loss: 0.01618284 0.014064379\n",
      "DIS Loss: 0.004474528 0.013345217\n"
     ]
    },
    {
     "name": "stderr",
     "output_type": "stream",
     "text": [
      "epoch #999|  0%|                                                |ETA:   0:00:54"
     ]
    },
    {
     "name": "stdout",
     "output_type": "stream",
     "text": [
      "---------------------\n",
      "GEN Loss: 6.866289 5.6940103\n",
      "Feature Matching Loss: 0.018245157 0.014616625\n",
      "RECON Loss: 0.015689246 0.013574613\n",
      "DIS Loss: 0.0032857093 0.011683319\n"
     ]
    },
    {
     "name": "stderr",
     "output_type": "stream",
     "text": [
      "epoch #999| 99%|############################################### |ETA:   0:00:00"
     ]
    }
   ],
   "source": [
    "image_translation(args)"
   ]
  },
  {
   "cell_type": "code",
   "execution_count": null,
   "metadata": {
    "colab": {},
    "colab_type": "code",
    "collapsed": true,
    "id": "AYHbd_mo1tWN"
   },
   "outputs": [],
   "source": []
  }
 ],
 "metadata": {
  "accelerator": "GPU",
  "colab": {
   "collapsed_sections": [],
   "name": "Ruchaa_CelebA_pt2 (1).ipynb",
   "provenance": []
  },
  "kernelspec": {
   "display_name": "Python [conda env:pytorch]",
   "language": "python",
   "name": "conda-env-pytorch-py"
  },
  "language_info": {
   "codemirror_mode": {
    "name": "ipython",
    "version": 3
   },
   "file_extension": ".py",
   "mimetype": "text/x-python",
   "name": "python",
   "nbconvert_exporter": "python",
   "pygments_lexer": "ipython3",
   "version": "3.7.7"
  }
 },
 "nbformat": 4,
 "nbformat_minor": 0
}
